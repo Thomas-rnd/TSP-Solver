{
 "cells": [
  {
   "cell_type": "code",
   "execution_count": null,
   "metadata": {},
   "outputs": [],
   "source": [
    "from geneticAlgorithm import main,affichage\n",
    "from testData import data_TSPLIB,tour_optimal\n",
    "from distance import matrice_distance\n",
    "\n",
    "# Initialisation du data frame avec TSPLIB\n",
    "# data = dataTSPLIB('data/att48.txt')\n",
    "data = data_TSPLIB()\n",
    "\n",
    "# Initialisation de la matrice des distances relatives\n",
    "matDistance = matrice_distance(data)\n",
    "\n",
    "# Chemin le plus court\n",
    "chemin = tour_optimal()\n",
    "#Lancement de l'algorithme génétique\n",
    "res=main(data,matDistance,chemin)\n",
    "affichage(res,data)"
   ]
  },
  {
   "cell_type": "code",
   "execution_count": null,
   "metadata": {},
   "outputs": [],
   "source": [
    "from testData import trajet_en_df\n",
    "from graph import representation_itineraire\n",
    "from plusProcheVoisin import plus_proche_voisin\n",
    "from randomData import init_random_df\n",
    "from distance import matrice_distance\n",
    "\n",
    "#data = dataTSPLIB()\n",
    "data=init_random_df(1000)\n",
    "\n",
    "# Initialisation de la matrice des distances relatives\n",
    "matDistance = matrice_distance(data)\n",
    "itineraire=plus_proche_voisin(data,matDistance)\n",
    "representation_itineraire(trajet_en_df(itineraire, data))"
   ]
  },
  {
   "cell_type": "code",
   "execution_count": null,
   "metadata": {},
   "outputs": [],
   "source": [
    "import random\n",
    "from algo2Opt import main\n",
    "from testData import data_TSPLIB, tour_optimal, trajet_en_df\n",
    "from graph import affichage, representation_itineraire\n",
    "from randomData import init_random_df\n",
    "from distance import matrice_distance,distance_trajet\n",
    "from plusProcheVoisin import plus_proche_voisin \n",
    "\n",
    "# Initialisation du data frame avec TSPLIB\n",
    "data = data_TSPLIB('../data/tsp225.txt')\n",
    "#data = data_TSPLIB()\n",
    "#data=init_random_df(100)\n",
    "\n",
    "# Initialisation de la matrice des distances relatives\n",
    "mat_distance = matrice_distance(data)\n",
    "\n",
    "# Chemin le plus court\n",
    "chemin = tour_optimal('../data/tsp225_opt_tour.txt')\n",
    "#chemin = tour_optimal()\n",
    "\n",
    "#Affichage du trajet optimal\n",
    "#representation_itineraire(trajet_en_df(chemin,data))\n",
    "#print(distance_trajet(chemin,mat_distance))\n",
    "\n",
    "#Initialisation d'un chemin aléatoire\n",
    "#cheminInitial=random.sample(range(0, len(mat_distance)),len(mat_distance))\n",
    "#cheminInitial.append(cheminInitial[0])\n",
    "# On prend un chemin initial meilleur qu'un chemin aléatoire\n",
    "cheminInitial=plus_proche_voisin(data,mat_distance)\n",
    "\n",
    "#Lancement de l'algorithme 2-opt\n",
    "res=main(mat_distance,cheminInitial,chemin)\n",
    "affichage(res,data)\n",
    "#print(distance_trajet(res['Chemins'][-1],mat_distance))"
   ]
  },
  {
   "cell_type": "code",
   "execution_count": null,
   "metadata": {},
   "outputs": [],
   "source": [
    "# Test algorithmes\n",
    "\n",
    "from testTSPLIB import test_global_plus_proche_voisin, test_global_2_opt\n",
    "\n",
    "resultats_test_2_opt=test_global_2_opt()\n",
    "resultats_test_plus_proche_voisin=test_global_plus_proche_voisin()"
   ]
  },
  {
   "cell_type": "code",
   "execution_count": null,
   "metadata": {},
   "outputs": [],
   "source": [
    "from py2opt.routefinder import RouteFinder\n",
    "from distance import matrice_distance\n",
    "from randomData import init_random_df\n",
    "from graph import representation_itineraire\n",
    "from testData import trajet_en_df\n",
    "\n",
    "cities_names=[i for i in range(200)]\n",
    "data=init_random_df(200)\n",
    "\n",
    "# Initialisation de la matrice des distances relatives\n",
    "matDistance = matrice_distance(data)\n",
    "route_finder = RouteFinder(matDistance, cities_names, iterations=5)\n",
    "best_distance, best_route = route_finder.solve()\n",
    "\n",
    "print(best_distance)\n",
    "representation_itineraire(trajet_en_df(best_route, data))"
   ]
  }
 ],
 "metadata": {
  "kernelspec": {
   "display_name": "TSP",
   "language": "python",
   "name": "python3"
  },
  "language_info": {
   "codemirror_mode": {
    "name": "ipython",
    "version": 3
   },
   "file_extension": ".py",
   "mimetype": "text/x-python",
   "name": "python",
   "nbconvert_exporter": "python",
   "pygments_lexer": "ipython3",
   "version": "3.9.13"
  },
  "orig_nbformat": 4,
  "vscode": {
   "interpreter": {
    "hash": "d667af14c94c865b46724da933a850b3d564154870f60130309ecd5dd505f9ea"
   }
  }
 },
 "nbformat": 4,
 "nbformat_minor": 2
}
