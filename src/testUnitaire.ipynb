{
 "cells": [
  {
   "cell_type": "code",
   "execution_count": null,
   "metadata": {},
   "outputs": [],
   "source": [
    "from geneticAlgorithm import main,affichage\n",
    "from testData import data_TSPLIB,tour_optimal\n",
    "from distance import matrice_distance\n",
    "from graph import affichage\n",
    "\n",
    "# Initialisation du data frame avec TSPLIB\n",
    "# data = dataTSPLIB('data/att48.txt')\n",
    "data = data_TSPLIB()\n",
    "\n",
    "# Initialisation de la matrice des distances relatives\n",
    "matDistance = matrice_distance(data)\n",
    "\n",
    "# Chemin le plus court\n",
    "chemin = tour_optimal()\n",
    "#Lancement de l'algorithme génétique\n",
    "res=main(data,matDistance,chemin)\n",
    "affichage(res,data)"
   ]
  },
  {
   "cell_type": "code",
   "execution_count": null,
   "metadata": {},
   "outputs": [],
   "source": [
    "from testData import trajet_en_df\n",
    "from graph import representation_itineraire\n",
    "from plusProcheVoisin import plus_proche_voisin\n",
    "from randomData import init_random_df\n",
    "from distance import matrice_distance\n",
    "\n",
    "#data = dataTSPLIB()\n",
    "data=init_random_df(1000)\n",
    "\n",
    "# Initialisation de la matrice des distances relatives\n",
    "matDistance = matrice_distance(data)\n",
    "itineraire=plus_proche_voisin(data,matDistance)\n",
    "representation_itineraire(trajet_en_df(itineraire, data))"
   ]
  },
  {
   "cell_type": "code",
   "execution_count": null,
   "metadata": {},
   "outputs": [],
   "source": [
    "import random\n",
    "from algo2Opt import main\n",
    "from testData import data_TSPLIB, tour_optimal, trajet_en_df\n",
    "from graph import affichage, representation_itineraire\n",
    "from randomData import init_random_df\n",
    "from distance import matrice_distance,distance_trajet\n",
    "from plusProcheVoisin import plus_proche_voisin \n",
    "\n",
    "# Initialisation du data frame avec TSPLIB\n",
    "data = data_TSPLIB('../data/tsp225.txt')\n",
    "#data = data_TSPLIB()\n",
    "#data=init_random_df(100)\n",
    "\n",
    "# Initialisation de la matrice des distances relatives\n",
    "mat_distance = matrice_distance(data)\n",
    "\n",
    "# Chemin le plus court\n",
    "chemin_optimal = tour_optimal('../data/tsp225_opt_tour.txt')\n",
    "#chemin = tour_optimal()\n",
    "\n",
    "#Affichage du trajet optimal\n",
    "#representation_itineraire(trajet_en_df(chemin,data))\n",
    "#print(distance_trajet(chemin,mat_distance))\n",
    "\n",
    "#Initialisation d'un chemin aléatoire\n",
    "#cheminInitial=random.sample(range(0, len(mat_distance)),len(mat_distance))\n",
    "#cheminInitial.append(cheminInitial[0])\n",
    "# On prend un chemin initial meilleur qu'un chemin aléatoire\n",
    "cheminInitial=plus_proche_voisin(data,mat_distance)\n",
    "\n",
    "#Lancement de l'algorithme 2-opt\n",
    "res=main(mat_distance,cheminInitial,chemin_optimal)\n",
    "affichage(res,data)\n",
    "#print(distance_trajet(res['Chemins'][-1],mat_distance))"
   ]
  },
  {
   "cell_type": "code",
   "execution_count": null,
   "metadata": {},
   "outputs": [],
   "source": [
    "# Test algorithmes\n",
    "\n",
    "from testTSPLIB import test_global_plus_proche_voisin, test_global_2_opt, test_global_algo_genetique\n",
    "\n",
    "resultats_test_2_opt=test_global_2_opt()\n",
    "#resultats_test_plus_proche_voisin=test_global_plus_proche_voisin()\n",
    "#resultats_test_algo_genetique=test_global_algo_genetique()"
   ]
  },
  {
   "cell_type": "code",
   "execution_count": 7,
   "metadata": {},
   "outputs": [
    {
     "ename": "IndexError",
     "evalue": "list index out of range",
     "output_type": "error",
     "traceback": [
      "\u001b[0;31m---------------------------------------------------------------------------\u001b[0m",
      "\u001b[0;31mIndexError\u001b[0m                                Traceback (most recent call last)",
      "Cell \u001b[0;32mIn[7], line 59\u001b[0m\n\u001b[1;32m     43\u001b[0m         villes \u001b[39m=\u001b[39m pd\u001b[39m.\u001b[39mread_csv(\n\u001b[1;32m     44\u001b[0m             f,\n\u001b[1;32m     45\u001b[0m             \u001b[39m# On commence la lecture du fichier au bon endroit\u001b[39;00m\n\u001b[0;32m   (...)\u001b[0m\n\u001b[1;32m     54\u001b[0m             nrows\u001b[39m=\u001b[39mdimension\n\u001b[1;32m     55\u001b[0m         )\n\u001b[1;32m     57\u001b[0m         \u001b[39mreturn\u001b[39;00m villes\n\u001b[0;32m---> 59\u001b[0m data \u001b[39m=\u001b[39m data_TSPLIB(\u001b[39m'\u001b[39;49m\u001b[39m../data/dj38.tsp\u001b[39;49m\u001b[39m'\u001b[39;49m)\n",
      "Cell \u001b[0;32mIn[7], line 32\u001b[0m, in \u001b[0;36mdata_TSPLIB\u001b[0;34m(fichier)\u001b[0m\n\u001b[1;32m     30\u001b[0m i \u001b[39m=\u001b[39m \u001b[39m0\u001b[39m\n\u001b[1;32m     31\u001b[0m \u001b[39mwhile\u001b[39;00m \u001b[39mnot\u001b[39;00m dimension \u001b[39mor\u001b[39;00m \u001b[39mnot\u001b[39;00m noeud_coord_debut:\n\u001b[0;32m---> 32\u001b[0m     ligne \u001b[39m=\u001b[39m lignes[i]\n\u001b[1;32m     33\u001b[0m     \u001b[39mif\u001b[39;00m ligne\u001b[39m.\u001b[39mstartswith(\u001b[39m'\u001b[39m\u001b[39mDIMENSION :\u001b[39m\u001b[39m'\u001b[39m):\n\u001b[1;32m     34\u001b[0m         dimension \u001b[39m=\u001b[39m \u001b[39mint\u001b[39m(ligne\u001b[39m.\u001b[39msplit()[\u001b[39m-\u001b[39m\u001b[39m1\u001b[39m])\n",
      "\u001b[0;31mIndexError\u001b[0m: list index out of range"
     ]
    }
   ],
   "source": [
    "import numpy as np\n",
    "import pandas as pd\n",
    "from scipy.spatial import distance\n",
    "\n",
    "def matrice_distance(villes: pd.DataFrame) -> pd.DataFrame:\n",
    "    \"\"\"\n",
    "    Retourne un dataframe stockant les distances inter villes. C'est un dataframe qui renseigne\n",
    "    sur la distance entre la ville X et la ville Y à la position (X,Y).\n",
    "    \"\"\"\n",
    "    dist_matrice = distance.cdist(\n",
    "        villes[['x', 'y']], villes[['x', 'y']], 'euclidean')\n",
    "\n",
    "    # On remplace les zéros des diagonales\n",
    "    dist_matrice = np.where(dist_matrice == 0, np.Inf, dist_matrice)\n",
    "    df = pd.DataFrame(dist_matrice, index=villes[[\n",
    "                      'Ville']], columns=villes[['Ville']])\n",
    "    return df\n",
    "\n",
    "def data_TSPLIB(fichier: str) -> object:\n",
    "    \"\"\"\n",
    "    Lecture d'un fichier au format .tsp en copiant les informations dans \n",
    "    un dataframe pandas\n",
    "    \"\"\"\n",
    "    with open(fichier) as f:\n",
    "        noeud_coord_debut = None\n",
    "        dimension = None\n",
    "        lignes = f.readlines()\n",
    "\n",
    "        # Lecture des informations du fichier .tsp\n",
    "        i = 0\n",
    "        while not dimension or not noeud_coord_debut:\n",
    "            ligne = lignes[i]\n",
    "            if ligne.startswith('DIMENSION :'):\n",
    "                dimension = int(ligne.split()[-1])\n",
    "            if ligne.startswith('NODE_COORD_SECTION'):\n",
    "                noeud_coord_debut = i\n",
    "            i = i+1\n",
    "\n",
    "        # Définit le point de référence au début du fichier\n",
    "        f.seek(0)\n",
    "\n",
    "        # Read a data frame out of the file descriptor\n",
    "        villes = pd.read_csv(\n",
    "            f,\n",
    "            # On commence la lecture du fichier au bon endroit\n",
    "            skiprows=noeud_coord_debut + 1,\n",
    "            # Le séparateur\n",
    "            sep=' ',\n",
    "            # Définition des colonnes du dataframe\n",
    "            names=['Ville', 'x', 'y'],\n",
    "            # Type des colonnes\n",
    "            dtype={'Ville': str, 'x': np.float64, 'y': np.float64},\n",
    "            header=None,\n",
    "            nrows=dimension\n",
    "        )\n",
    "\n",
    "        return villes\n",
    "    \n",
    "data = data_TSPLIB('../data/dj38.tsp')"
   ]
  },
  {
   "cell_type": "code",
   "execution_count": 2,
   "metadata": {},
   "outputs": [
    {
     "name": "stdout",
     "output_type": "stream",
     "text": [
      "True\n"
     ]
    }
   ],
   "source": [
    "print(not None)"
   ]
  },
  {
   "cell_type": "code",
   "execution_count": null,
   "metadata": {},
   "outputs": [],
   "source": [
    "from py2opt.routefinder import RouteFinder\n",
    "from distance import matrice_distance\n",
    "from randomData import init_random_df\n",
    "from graph import representation_itineraire\n",
    "from testData import trajet_en_df\n",
    "\n",
    "cities_names=[i for i in range(200)]\n",
    "data=init_random_df(200)\n",
    "\n",
    "# Initialisation de la matrice des distances relatives\n",
    "matDistance = matrice_distance(data)\n",
    "route_finder = RouteFinder(matDistance, cities_names, iterations=5)\n",
    "best_distance, best_route = route_finder.solve()\n",
    "\n",
    "print(best_distance)\n",
    "representation_itineraire(trajet_en_df(best_route, data))"
   ]
  },
  {
   "cell_type": "code",
   "execution_count": null,
   "metadata": {},
   "outputs": [],
   "source": [
    "from distance import distance_trajet, matrice_distance\n",
    "from graph import affichage, representation_itineraire\n",
    "from kohonen import kohonen, main\n",
    "from randomData import init_random_df\n",
    "from testData import data_TSPLIB, tour_optimal, trajet_en_df\n",
    "\n",
    "# Initialisation du data frame avec TSPLIB\n",
    "# data = data_TSPLIB('../data/tsp225.txt')\n",
    "data = data_TSPLIB()\n",
    "# data=init_random_df(100)\n",
    "\n",
    "# Initialisation de la matrice des distances relatives\n",
    "mat_distance = matrice_distance(data)\n",
    "\n",
    "# Chemin le plus court\n",
    "# chemin_optimal = tour_optimal('../data/tsp225_opt_tour.txt')\n",
    "chemin_optimal = tour_optimal()\n",
    "\n",
    "res = main(data, mat_distance, chemin_optimal)\n",
    "# affichage(res, data)"
   ]
  },
  {
   "cell_type": "code",
   "execution_count": null,
   "metadata": {
    "tags": []
   },
   "outputs": [],
   "source": [
    "from randomData import init_random_df\n",
    "import plotly.express as px\n",
    "import pandas as pd\n",
    "\n",
    "\n",
    "df = init_random_df(20)\n",
    "fig = px.line(df, x='x',y='y')\n",
    "fig.show()\n",
    "\n",
    "df_resultat_test = pd.DataFrame({\n",
    "        'Nombre de villes': [1],\n",
    "        # Stockage de l'ensemble des chemins explorés pour un affichage plus poussé\n",
    "        'Chemins': [[1,2]],\n",
    "        'Chemin optimal': [1],\n",
    "        # Erreur par rapport à la solution optimal de la TSPLIB\n",
    "        'Erreur (en %)': [0],\n",
    "        'Temps de calcul (en s)': [0]\n",
    "    })\n",
    "print(df_resultat_test.loc[0, 'Chemins'])"
   ]
  }
 ],
 "metadata": {
  "kernelspec": {
   "display_name": "Python 3 (ipykernel)",
   "language": "python",
   "name": "python3"
  },
  "language_info": {
   "codemirror_mode": {
    "name": "ipython",
    "version": 3
   },
   "file_extension": ".py",
   "mimetype": "text/x-python",
   "name": "python",
   "nbconvert_exporter": "python",
   "pygments_lexer": "ipython3",
   "version": "3.9.13"
  },
  "vscode": {
   "interpreter": {
    "hash": "d667af14c94c865b46724da933a850b3d564154870f60130309ecd5dd505f9ea"
   }
  }
 },
 "nbformat": 4,
 "nbformat_minor": 4
}
