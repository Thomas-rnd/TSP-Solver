{
 "cells": [
  {
   "cell_type": "code",
   "execution_count": null,
   "metadata": {},
   "outputs": [],
   "source": [
    "from geneticAlgorithm import main,affichage\n",
    "from testData import data_TSPLIB,tour_optimal\n",
    "from distance import matrice_distance\n",
    "from graph import affichage\n",
    "\n",
    "# Initialisation du data frame avec TSPLIB\n",
    "# data = dataTSPLIB('data/att48.txt')\n",
    "data = data_TSPLIB()\n",
    "\n",
    "# Initialisation de la matrice des distances relatives\n",
    "matDistance = matrice_distance(data)\n",
    "\n",
    "# Chemin le plus court\n",
    "chemin = tour_optimal()\n",
    "#Lancement de l'algorithme génétique\n",
    "res=main(data,matDistance,chemin)\n",
    "affichage(res,data)"
   ]
  },
  {
   "cell_type": "code",
   "execution_count": null,
   "metadata": {},
   "outputs": [],
   "source": [
    "from testData import trajet_en_df\n",
    "from graph import representation_itineraire\n",
    "from plusProcheVoisin import plus_proche_voisin\n",
    "from randomData import init_random_df\n",
    "from distance import matrice_distance\n",
    "\n",
    "#data = dataTSPLIB()\n",
    "data=init_random_df(1000)\n",
    "\n",
    "# Initialisation de la matrice des distances relatives\n",
    "matDistance = matrice_distance(data)\n",
    "itineraire=plus_proche_voisin(data,matDistance)\n",
    "representation_itineraire(trajet_en_df(itineraire, data))"
   ]
  },
  {
   "cell_type": "code",
   "execution_count": null,
   "metadata": {},
   "outputs": [],
   "source": [
    "import random\n",
    "from algo2Opt import main\n",
    "from testData import data_TSPLIB, tour_optimal, trajet_en_df\n",
    "from graph import affichage, representation_itineraire\n",
    "from randomData import init_random_df\n",
    "from distance import matrice_distance,distance_trajet\n",
    "from plusProcheVoisin import plus_proche_voisin \n",
    "\n",
    "# Initialisation du data frame avec TSPLIB\n",
    "data = data_TSPLIB('../data/tsp225.txt')\n",
    "#data = data_TSPLIB()\n",
    "#data=init_random_df(100)\n",
    "\n",
    "# Initialisation de la matrice des distances relatives\n",
    "mat_distance = matrice_distance(data)\n",
    "\n",
    "# Chemin le plus court\n",
    "chemin_optimal = tour_optimal('../data/tsp225_opt_tour.txt')\n",
    "#chemin = tour_optimal()\n",
    "\n",
    "#Affichage du trajet optimal\n",
    "#representation_itineraire(trajet_en_df(chemin,data))\n",
    "#print(distance_trajet(chemin,mat_distance))\n",
    "\n",
    "#Initialisation d'un chemin aléatoire\n",
    "#cheminInitial=random.sample(range(0, len(mat_distance)),len(mat_distance))\n",
    "#cheminInitial.append(cheminInitial[0])\n",
    "# On prend un chemin initial meilleur qu'un chemin aléatoire\n",
    "cheminInitial=plus_proche_voisin(data,mat_distance)\n",
    "\n",
    "#Lancement de l'algorithme 2-opt\n",
    "res=main(mat_distance,cheminInitial,chemin_optimal)\n",
    "affichage(res,data)\n",
    "#print(distance_trajet(res['Chemins'][-1],mat_distance))"
   ]
  },
  {
   "cell_type": "code",
   "execution_count": null,
   "metadata": {},
   "outputs": [],
   "source": [
    "# Test algorithmes\n",
    "\n",
    "from testTSPLIB import test_global_plus_proche_voisin, test_global_2_opt, test_global_algo_genetique\n",
    "\n",
    "#resultats_test_2_opt=test_global_2_opt()\n",
    "#resultats_test_plus_proche_voisin=test_global_plus_proche_voisin()\n",
    "#resultats_test_algo_genetique=test_global_algo_genetique()"
   ]
  },
  {
   "cell_type": "code",
   "execution_count": null,
   "metadata": {},
   "outputs": [],
   "source": [
    "from py2opt.routefinder import RouteFinder\n",
    "from distance import matrice_distance\n",
    "from randomData import init_random_df\n",
    "from graph import representation_itineraire\n",
    "from testData import trajet_en_df\n",
    "\n",
    "cities_names=[i for i in range(200)]\n",
    "data=init_random_df(200)\n",
    "\n",
    "# Initialisation de la matrice des distances relatives\n",
    "matDistance = matrice_distance(data)\n",
    "route_finder = RouteFinder(matDistance, cities_names, iterations=5)\n",
    "best_distance, best_route = route_finder.solve()\n",
    "\n",
    "print(best_distance)\n",
    "representation_itineraire(trajet_en_df(best_route, data))"
   ]
  },
  {
   "cell_type": "code",
   "execution_count": null,
   "metadata": {},
   "outputs": [],
   "source": [
    "from distance import distance_trajet, matrice_distance\n",
    "from graph import affichage, representation_itineraire\n",
    "from kohonen import kohonen, main\n",
    "from randomData import init_random_df\n",
    "from testData import data_TSPLIB, tour_optimal, trajet_en_df\n",
    "\n",
    "# Initialisation du data frame avec TSPLIB\n",
    "# data = data_TSPLIB('../data/tsp225.txt')\n",
    "data = data_TSPLIB()\n",
    "# data=init_random_df(100)\n",
    "\n",
    "# Initialisation de la matrice des distances relatives\n",
    "mat_distance = matrice_distance(data)\n",
    "\n",
    "# Chemin le plus court\n",
    "# chemin_optimal = tour_optimal('../data/tsp225_opt_tour.txt')\n",
    "chemin_optimal = tour_optimal()\n",
    "\n",
    "res = main(data, mat_distance, chemin_optimal)\n",
    "# affichage(res, data)"
   ]
  },
  {
   "cell_type": "code",
   "execution_count": 1,
   "metadata": {
    "tags": []
   },
   "outputs": [
    {
     "ename": "TypeError",
     "evalue": "__init__() got an unexpected keyword argument 'name'",
     "output_type": "error",
     "traceback": [
      "\u001b[0;31m---------------------------------------------------------------------------\u001b[0m",
      "\u001b[0;31mTypeError\u001b[0m                                 Traceback (most recent call last)",
      "Cell \u001b[0;32mIn[1], line 4\u001b[0m\n\u001b[1;32m      1\u001b[0m \u001b[39mfrom\u001b[39;00m \u001b[39mrandomData\u001b[39;00m \u001b[39mimport\u001b[39;00m init_random_df\n\u001b[1;32m      2\u001b[0m \u001b[39mimport\u001b[39;00m \u001b[39mplotly\u001b[39;00m\u001b[39m.\u001b[39;00m\u001b[39mexpress\u001b[39;00m \u001b[39mas\u001b[39;00m \u001b[39mpx\u001b[39;00m\n\u001b[0;32m----> 4\u001b[0m df \u001b[39m=\u001b[39m init_random_df(\u001b[39m20\u001b[39;49m)\n\u001b[1;32m      5\u001b[0m \u001b[39mprint\u001b[39m(df)\n\u001b[1;32m      6\u001b[0m fig \u001b[39m=\u001b[39m px\u001b[39m.\u001b[39mline(df, x\u001b[39m=\u001b[39m\u001b[39m'\u001b[39m\u001b[39mx\u001b[39m\u001b[39m'\u001b[39m,y\u001b[39m=\u001b[39m\u001b[39m'\u001b[39m\u001b[39my\u001b[39m\u001b[39m'\u001b[39m)\n",
      "File \u001b[0;32m~/TSP_solver/src/randomData.py:35\u001b[0m, in \u001b[0;36minit_random_df\u001b[0;34m(n)\u001b[0m\n\u001b[1;32m     33\u001b[0m array \u001b[39m=\u001b[39m numpy\u001b[39m.\u001b[39marray([x, y])\n\u001b[1;32m     34\u001b[0m \u001b[39m# Initialisation du dataframe\u001b[39;00m\n\u001b[0;32m---> 35\u001b[0m data \u001b[39m=\u001b[39m pd\u001b[39m.\u001b[39;49mDataFrame({\u001b[39m'\u001b[39;49m\u001b[39mx\u001b[39;49m\u001b[39m'\u001b[39;49m: x, \u001b[39m'\u001b[39;49m\u001b[39my\u001b[39;49m\u001b[39m'\u001b[39;49m: y}, name\u001b[39m=\u001b[39;49m\u001b[39m'\u001b[39;49m\u001b[39mCoordonnées villes\u001b[39;49m\u001b[39m'\u001b[39;49m)\n\u001b[1;32m     36\u001b[0m \u001b[39mreturn\u001b[39;00m (data)\n",
      "\u001b[0;31mTypeError\u001b[0m: __init__() got an unexpected keyword argument 'name'"
     ]
    }
   ],
   "source": [
    "from randomData import init_random_df\n",
    "import plotly.express as px\n",
    "\n",
    "df = init_random_df(20)\n",
    "print(df)\n",
    "fig = px.line(df, x='x',y='y')\n",
    "fig.show()"
   ]
  }
 ],
 "metadata": {
  "kernelspec": {
   "display_name": "Python 3 (ipykernel)",
   "language": "python",
   "name": "python3"
  },
  "language_info": {
   "codemirror_mode": {
    "name": "ipython",
    "version": 3
   },
   "file_extension": ".py",
   "mimetype": "text/x-python",
   "name": "python",
   "nbconvert_exporter": "python",
   "pygments_lexer": "ipython3",
   "version": "3.9.13"
  },
  "vscode": {
   "interpreter": {
    "hash": "d667af14c94c865b46724da933a850b3d564154870f60130309ecd5dd505f9ea"
   }
  }
 },
 "nbformat": 4,
 "nbformat_minor": 4
}
