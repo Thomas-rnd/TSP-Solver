{
 "cells": [
  {
   "cell_type": "code",
   "execution_count": null,
   "metadata": {},
   "outputs": [],
   "source": [
    "from src.test_algo import test_unitaire_plus_proche_voisin, test_unitaire_2_opt, test_global_2_opt, test_global_plus_proche_voisin, test_unitaire_algo_genetique, test_global_algo_genetique\n",
    "from src.affichage_resultats import affichage, representation_temps_calcul, representation_resultats\n",
    "from src.init_test_data import data_TSPLIB\n",
    "from src.init_random_data import init_random_df\n",
    "from src.distance import matrice_distance\n",
    "import src.algo_2_opt\n",
    "import src.algo_genetique\n",
    "import src.algo_proche_voisin\n",
    "import pandas as pd\n",
    "\n",
    "print(\"Setup complete\")"
   ]
  },
  {
   "attachments": {},
   "cell_type": "markdown",
   "metadata": {},
   "source": [
    "# Réalisation des tests globaux (avec visualisation)"
   ]
  },
  {
   "cell_type": "code",
   "execution_count": null,
   "metadata": {},
   "outputs": [],
   "source": [
    "# Test global algo plus proche voisin\n",
    "df_1 = test_global_plus_proche_voisin()\n",
    "\n",
    "#Sauvegarde du dataframe au format csv\n",
    "#df_1.to_csv('../resultats/csv/test_global_plus_proche_voisin.csv')\n",
    "\n",
    "#Affichage des 5 premières lignes du dataframe\n",
    "df_1.head()"
   ]
  },
  {
   "cell_type": "code",
   "execution_count": null,
   "metadata": {},
   "outputs": [],
   "source": [
    "# Test global algo plus proche voisin\n",
    "df_2 = test_global_2_opt()\n",
    "\n",
    "#Sauvegarde du dataframe au format csv\n",
    "#df_2.to_csv('../resultats/csv/test_global_plus_proche_voisin.csv')\n",
    "\n",
    "#Affichage des 5 premières lignes du dataframe\n",
    "df_2.head()"
   ]
  },
  {
   "cell_type": "code",
   "execution_count": null,
   "metadata": {},
   "outputs": [],
   "source": [
    "# Test global algo plus proche voisin\n",
    "df_3 = test_global_algo_genetique()\n",
    "\n",
    "#Sauvegarde du dataframe au format csv\n",
    "#df_3.to_csv('../resultats/csv/test_global_plus_proche_voisin.csv')\n",
    "\n",
    "#Affichage des 5 premières lignes du dataframe\n",
    "df_3.head()"
   ]
  },
  {
   "cell_type": "code",
   "execution_count": null,
   "metadata": {},
   "outputs": [],
   "source": [
    "# Concaténation dans un seul fichier\n",
    "df = pd.concat([df_1, df_2, df_3], ignore_index=True)\n",
    "df.head()\n",
    "df.to_csv('../resultats/csv/test_global_algos.csv')"
   ]
  },
  {
   "cell_type": "code",
   "execution_count": null,
   "metadata": {},
   "outputs": [],
   "source": [
    "# Création des visuels d'analyse des algorithmes\n",
    "representation_resultats('../resultats/csv/test_global_algos.csv').show()\n",
    "representation_temps_calcul('../resultats/csv/test_global_algos.csv').show()"
   ]
  },
  {
   "attachments": {},
   "cell_type": "markdown",
   "metadata": {},
   "source": [
    "# Réalisation des tests unitaires (avec visualisation)\n"
   ]
  },
  {
   "attachments": {},
   "cell_type": "markdown",
   "metadata": {},
   "source": [
    "### Initialisation du dataset de test"
   ]
  },
  {
   "cell_type": "code",
   "execution_count": null,
   "metadata": {},
   "outputs": [],
   "source": [
    "import random\n",
    "\n",
    "# Nom des data de test\n",
    "ENSEMBLE_TEST = ['dj38', 'xqf131', 'qa194', 'xqg237',\n",
    "                 'pma343', 'pka379', 'pbl395', 'pbk411', 'pbn423']\n",
    "\n",
    "choix_data_test=random.randint(0,len(ENSEMBLE_TEST))\n",
    "print(f\"Les tests vont se réaliser sur le fichier : {ENSEMBLE_TEST[choix_data_test]}\")"
   ]
  },
  {
   "attachments": {},
   "cell_type": "markdown",
   "metadata": {},
   "source": [
    "### Lancement du test avec l'algorithme du plus proche voisin"
   ]
  },
  {
   "cell_type": "code",
   "execution_count": null,
   "metadata": {},
   "outputs": [],
   "source": [
    "# Test de l'algorithme du plus proche voisin\n",
    "data = data_TSPLIB(f'../data/{ENSEMBLE_TEST[choix_data_test]}.tsp')\n",
    "df = test_unitaire_plus_proche_voisin(choix_data_test)\n",
    "affichage(df, data).show()"
   ]
  },
  {
   "attachments": {},
   "cell_type": "markdown",
   "metadata": {},
   "source": [
    "### Lancement du test avec l'algorithme 2-opt"
   ]
  },
  {
   "cell_type": "code",
   "execution_count": null,
   "metadata": {},
   "outputs": [],
   "source": [
    "# Algo 2-opt\n",
    "data = data_TSPLIB(f'../data/{ENSEMBLE_TEST[choix_data_test]}.tsp')\n",
    "df = test_unitaire_2_opt(choix_data_test)\n",
    "affichage(df, data).show()"
   ]
  },
  {
   "attachments": {},
   "cell_type": "markdown",
   "metadata": {},
   "source": [
    "### Lancement du test avec l'algorithme génétique"
   ]
  },
  {
   "cell_type": "code",
   "execution_count": null,
   "metadata": {},
   "outputs": [],
   "source": [
    "# Algo génétique\n",
    "data = data_TSPLIB(f'../data/{ENSEMBLE_TEST[choix_data_test]}.tsp')\n",
    "df = test_unitaire_algo_genetique(choix_data_test)\n",
    "affichage(df, data).show()"
   ]
  },
  {
   "attachments": {},
   "cell_type": "markdown",
   "metadata": {},
   "source": [
    "# Test sur des données aléatoires (avec visualisation)"
   ]
  },
  {
   "attachments": {},
   "cell_type": "markdown",
   "metadata": {},
   "source": [
    "### Initialisation du nombre de villes et de l'algorithme choisi"
   ]
  },
  {
   "cell_type": "code",
   "execution_count": null,
   "metadata": {},
   "outputs": [],
   "source": [
    "import random\n",
    "\n",
    "#Initialisation d'un nombre de ville\n",
    "NOMBRE_MAX=100\n",
    "NOMBRE_MIN=10\n",
    "nombre_de_villes = random.randint(NOMBRE_MIN,NOMBRE_MAX)\n",
    "print(f\"Nombre de villes : {nombre_de_villes}\")\n",
    "\n",
    "ENSEMBLE_ALGO = ['2-opt', 'Plus proche voisin', 'Génétique']\n",
    "choix_algo=random.randint(0,len(ENSEMBLE_ALGO)-1)\n",
    "print(f\"Algorithme choisi : {ENSEMBLE_ALGO[choix_algo]}\")"
   ]
  },
  {
   "attachments": {},
   "cell_type": "markdown",
   "metadata": {},
   "source": [
    "### Lancement du test et affichage du chemin parcouru"
   ]
  },
  {
   "cell_type": "code",
   "execution_count": null,
   "metadata": {},
   "outputs": [],
   "source": [
    "# Initialisation du dataframe\n",
    "data = init_random_df(nombre_de_villes)\n",
    "\n",
    "# Initialisation de la matrice des distances relatives\n",
    "mat_distance = matrice_distance(data)\n",
    "\n",
    "if choix_algo == 0:\n",
    "    chemin_initial, temps_calcul = src.algo_proche_voisin.plus_proche_voisin(\n",
    "        mat_distance)\n",
    "\n",
    "    # Lancement de l'algorithme 2-opt\n",
    "    df_res = src.algo_2_opt.main(\n",
    "        mat_distance, chemin_initial)\n",
    "elif choix_algo == 1:\n",
    "    # Lancement de l'algorithme plus proche voisin\n",
    "    df_res = src.algo_proche_voisin.main(mat_distance)\n",
    "else:\n",
    "     # Lancement de l'algorithme génétique\n",
    "    df_res = src.algo_genetique.main(data, mat_distance)\n",
    "\n",
    "# La solution trouvée par l'algo choisi\n",
    "affichage(df_res, data).show()"
   ]
  }
 ],
 "metadata": {
  "kernelspec": {
   "display_name": "Python 3 (ipykernel)",
   "language": "python",
   "name": "python3"
  },
  "language_info": {
   "codemirror_mode": {
    "name": "ipython",
    "version": 3
   },
   "file_extension": ".py",
   "mimetype": "text/x-python",
   "name": "python",
   "nbconvert_exporter": "python",
   "pygments_lexer": "ipython3",
   "version": "3.9.13"
  },
  "vscode": {
   "interpreter": {
    "hash": "d667af14c94c865b46724da933a850b3d564154870f60130309ecd5dd505f9ea"
   }
  }
 },
 "nbformat": 4,
 "nbformat_minor": 4
}
