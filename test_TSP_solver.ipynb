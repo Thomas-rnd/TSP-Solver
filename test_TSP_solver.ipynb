{
 "cells": [
  {
   "cell_type": "code",
   "execution_count": 1,
   "metadata": {},
   "outputs": [
    {
     "name": "stdout",
     "output_type": "stream",
     "text": [
      "Setup complete\n"
     ]
    }
   ],
   "source": [
    "import pandas as pd\n",
    "import os\n",
    "import glob\n",
    "from PIL import Image\n",
    "import random\n",
    "\n",
    "from src.test_algo import test_global, test_unitaire\n",
    "from src.affichage_resultats import affichage, representation_temps_calcul, representation_resultats, affichage_chemins_explores\n",
    "from src.init_test_data import data_TSPLIB\n",
    "from src.init_random_data import init_random_df\n",
    "from src.distance import matrice_distance\n",
    "import src.algo_2_opt\n",
    "import src.algo_genetique\n",
    "import src.algo_proche_voisin\n",
    "import src.algo_kohonen\n",
    "\n",
    "print(\"Setup complete\")"
   ]
  },
  {
   "attachments": {},
   "cell_type": "markdown",
   "metadata": {},
   "source": [
    "# Réalisation des tests globaux (avec visualisation)"
   ]
  },
  {
   "cell_type": "code",
   "execution_count": 2,
   "metadata": {},
   "outputs": [
    {
     "name": "stdout",
     "output_type": "stream",
     "text": [
      "Etape du test : 1/9\n",
      "Etape du test : 2/9\n",
      "Etape du test : 3/9\n",
      "Etape du test : 4/9\n",
      "Etape du test : 5/9\n",
      "Etape du test : 6/9\n",
      "Etape du test : 7/9\n",
      "Etape du test : 8/9\n",
      "Etape du test : 9/9\n"
     ]
    },
    {
     "data": {
      "text/html": [
       "<div>\n",
       "<style scoped>\n",
       "    .dataframe tbody tr th:only-of-type {\n",
       "        vertical-align: middle;\n",
       "    }\n",
       "\n",
       "    .dataframe tbody tr th {\n",
       "        vertical-align: top;\n",
       "    }\n",
       "\n",
       "    .dataframe thead th {\n",
       "        text-align: right;\n",
       "    }\n",
       "</style>\n",
       "<table border=\"1\" class=\"dataframe\">\n",
       "  <thead>\n",
       "    <tr style=\"text-align: right;\">\n",
       "      <th></th>\n",
       "      <th>Algorithme</th>\n",
       "      <th>Nom dataset</th>\n",
       "      <th>Nombre de villes</th>\n",
       "      <th>Solution</th>\n",
       "      <th>Chemins explorés</th>\n",
       "      <th>Distance</th>\n",
       "      <th>Temps de calcul (en s)</th>\n",
       "    </tr>\n",
       "  </thead>\n",
       "  <tbody>\n",
       "    <tr>\n",
       "      <th>0</th>\n",
       "      <td>plus_proche_voisin</td>\n",
       "      <td>dj38</td>\n",
       "      <td>39.0</td>\n",
       "      <td>[0, 1, 3, 2, 4, 6, 5, 7, 8, 12, 14, 19, 22, 24...</td>\n",
       "      <td>[[0], [0, 1], [0, 1, 3], [0, 1, 3, 2], [0, 1, ...</td>\n",
       "      <td>9748.946705</td>\n",
       "      <td>0.000807</td>\n",
       "    </tr>\n",
       "    <tr>\n",
       "      <th>1</th>\n",
       "      <td>plus_proche_voisin</td>\n",
       "      <td>xqf131</td>\n",
       "      <td>132.0</td>\n",
       "      <td>[0, 5, 11, 13, 14, 15, 16, 24, 17, 12, 4, 18, ...</td>\n",
       "      <td>[[0], [0, 5], [0, 5, 11], [0, 5, 11, 13], [0, ...</td>\n",
       "      <td>709.521628</td>\n",
       "      <td>0.004176</td>\n",
       "    </tr>\n",
       "    <tr>\n",
       "      <th>2</th>\n",
       "      <td>plus_proche_voisin</td>\n",
       "      <td>qa194</td>\n",
       "      <td>195.0</td>\n",
       "      <td>[0, 5, 7, 15, 12, 13, 10, 16, 25, 23, 20, 17, ...</td>\n",
       "      <td>[[0], [0, 5], [0, 5, 7], [0, 5, 7, 15], [0, 5,...</td>\n",
       "      <td>11892.888059</td>\n",
       "      <td>0.008203</td>\n",
       "    </tr>\n",
       "    <tr>\n",
       "      <th>3</th>\n",
       "      <td>plus_proche_voisin</td>\n",
       "      <td>xqg237</td>\n",
       "      <td>238.0</td>\n",
       "      <td>[0, 7, 8, 4, 5, 1, 9, 10, 11, 6, 2, 3, 12, 24,...</td>\n",
       "      <td>[[0], [0, 7], [0, 7, 8], [0, 7, 8, 4], [0, 7, ...</td>\n",
       "      <td>1327.178708</td>\n",
       "      <td>0.011587</td>\n",
       "    </tr>\n",
       "    <tr>\n",
       "      <th>4</th>\n",
       "      <td>plus_proche_voisin</td>\n",
       "      <td>pma343</td>\n",
       "      <td>344.0</td>\n",
       "      <td>[0, 13, 12, 11, 9, 22, 26, 31, 34, 32, 29, 28,...</td>\n",
       "      <td>[[0], [0, 13], [0, 13, 12], [0, 13, 12, 11], [...</td>\n",
       "      <td>2135.347948</td>\n",
       "      <td>0.023311</td>\n",
       "    </tr>\n",
       "  </tbody>\n",
       "</table>\n",
       "</div>"
      ],
      "text/plain": [
       "           Algorithme Nom dataset  Nombre de villes  \\\n",
       "0  plus_proche_voisin        dj38              39.0   \n",
       "1  plus_proche_voisin      xqf131             132.0   \n",
       "2  plus_proche_voisin       qa194             195.0   \n",
       "3  plus_proche_voisin      xqg237             238.0   \n",
       "4  plus_proche_voisin      pma343             344.0   \n",
       "\n",
       "                                            Solution  \\\n",
       "0  [0, 1, 3, 2, 4, 6, 5, 7, 8, 12, 14, 19, 22, 24...   \n",
       "1  [0, 5, 11, 13, 14, 15, 16, 24, 17, 12, 4, 18, ...   \n",
       "2  [0, 5, 7, 15, 12, 13, 10, 16, 25, 23, 20, 17, ...   \n",
       "3  [0, 7, 8, 4, 5, 1, 9, 10, 11, 6, 2, 3, 12, 24,...   \n",
       "4  [0, 13, 12, 11, 9, 22, 26, 31, 34, 32, 29, 28,...   \n",
       "\n",
       "                                    Chemins explorés      Distance  \\\n",
       "0  [[0], [0, 1], [0, 1, 3], [0, 1, 3, 2], [0, 1, ...   9748.946705   \n",
       "1  [[0], [0, 5], [0, 5, 11], [0, 5, 11, 13], [0, ...    709.521628   \n",
       "2  [[0], [0, 5], [0, 5, 7], [0, 5, 7, 15], [0, 5,...  11892.888059   \n",
       "3  [[0], [0, 7], [0, 7, 8], [0, 7, 8, 4], [0, 7, ...   1327.178708   \n",
       "4  [[0], [0, 13], [0, 13, 12], [0, 13, 12, 11], [...   2135.347948   \n",
       "\n",
       "   Temps de calcul (en s)  \n",
       "0                0.000807  \n",
       "1                0.004176  \n",
       "2                0.008203  \n",
       "3                0.011587  \n",
       "4                0.023311  "
      ]
     },
     "execution_count": 2,
     "metadata": {},
     "output_type": "execute_result"
    }
   ],
   "source": [
    "# Test global algo plus proche voisin\n",
    "df_1 = test_global('plus_proche_voisin')\n",
    "\n",
    "# Sauvegarde du dataframe au format csv\n",
    "df_1.to_csv('resultats/csv/test_global_plus_proche_voisin.csv')\n",
    "\n",
    "# Affichage des 5 premières lignes du dataframe\n",
    "df_1.head()"
   ]
  },
  {
   "cell_type": "code",
   "execution_count": 3,
   "metadata": {},
   "outputs": [
    {
     "name": "stdout",
     "output_type": "stream",
     "text": [
      "Etape du test : 1/9\n",
      "Etape du test : 2/9\n",
      "Etape du test : 3/9\n",
      "Etape du test : 4/9\n",
      "Etape du test : 5/9\n",
      "Etape du test : 6/9\n",
      "Etape du test : 7/9\n",
      "Etape du test : 8/9\n",
      "Etape du test : 9/9\n"
     ]
    },
    {
     "data": {
      "text/html": [
       "<div>\n",
       "<style scoped>\n",
       "    .dataframe tbody tr th:only-of-type {\n",
       "        vertical-align: middle;\n",
       "    }\n",
       "\n",
       "    .dataframe tbody tr th {\n",
       "        vertical-align: top;\n",
       "    }\n",
       "\n",
       "    .dataframe thead th {\n",
       "        text-align: right;\n",
       "    }\n",
       "</style>\n",
       "<table border=\"1\" class=\"dataframe\">\n",
       "  <thead>\n",
       "    <tr style=\"text-align: right;\">\n",
       "      <th></th>\n",
       "      <th>Algorithme</th>\n",
       "      <th>Nom dataset</th>\n",
       "      <th>Nombre de villes</th>\n",
       "      <th>Solution</th>\n",
       "      <th>Chemins explorés</th>\n",
       "      <th>Distance</th>\n",
       "      <th>Temps de calcul (en s)</th>\n",
       "    </tr>\n",
       "  </thead>\n",
       "  <tbody>\n",
       "    <tr>\n",
       "      <th>0</th>\n",
       "      <td>2-opt</td>\n",
       "      <td>dj38</td>\n",
       "      <td>39.0</td>\n",
       "      <td>[0, 9, 13, 20, 28, 31, 34, 36, 37, 32, 33, 35,...</td>\n",
       "      <td>[[0, 1, 3, 2, 4, 6, 5, 7, 8, 12, 14, 19, 22, 2...</td>\n",
       "      <td>7245.045413</td>\n",
       "      <td>0.003337</td>\n",
       "    </tr>\n",
       "    <tr>\n",
       "      <th>1</th>\n",
       "      <td>2-opt</td>\n",
       "      <td>xqf131</td>\n",
       "      <td>132.0</td>\n",
       "      <td>[0, 4, 12, 17, 24, 52, 73, 88, 97, 111, 122, 1...</td>\n",
       "      <td>[[0, 5, 11, 13, 14, 15, 16, 24, 17, 12, 4, 18,...</td>\n",
       "      <td>626.152216</td>\n",
       "      <td>0.027982</td>\n",
       "    </tr>\n",
       "    <tr>\n",
       "      <th>2</th>\n",
       "      <td>2-opt</td>\n",
       "      <td>qa194</td>\n",
       "      <td>195.0</td>\n",
       "      <td>[0, 5, 7, 15, 12, 22, 81, 61, 58, 35, 62, 19, ...</td>\n",
       "      <td>[[0, 5, 7, 15, 12, 13, 10, 16, 25, 23, 20, 17,...</td>\n",
       "      <td>9888.965623</td>\n",
       "      <td>0.104007</td>\n",
       "    </tr>\n",
       "    <tr>\n",
       "      <th>3</th>\n",
       "      <td>2-opt</td>\n",
       "      <td>xqg237</td>\n",
       "      <td>238.0</td>\n",
       "      <td>[0, 7, 13, 23, 14, 15, 17, 22, 28, 30, 31, 32,...</td>\n",
       "      <td>[[0, 7, 8, 4, 5, 1, 9, 10, 11, 6, 2, 3, 12, 24...</td>\n",
       "      <td>1152.179452</td>\n",
       "      <td>0.213459</td>\n",
       "    </tr>\n",
       "    <tr>\n",
       "      <th>4</th>\n",
       "      <td>2-opt</td>\n",
       "      <td>pma343</td>\n",
       "      <td>344.0</td>\n",
       "      <td>[0, 1, 15, 24, 29, 28, 27, 21, 2, 3, 16, 17, 1...</td>\n",
       "      <td>[[0, 13, 12, 11, 9, 22, 26, 31, 34, 32, 29, 28...</td>\n",
       "      <td>1448.716966</td>\n",
       "      <td>0.553506</td>\n",
       "    </tr>\n",
       "  </tbody>\n",
       "</table>\n",
       "</div>"
      ],
      "text/plain": [
       "  Algorithme Nom dataset  Nombre de villes  \\\n",
       "0      2-opt        dj38              39.0   \n",
       "1      2-opt      xqf131             132.0   \n",
       "2      2-opt       qa194             195.0   \n",
       "3      2-opt      xqg237             238.0   \n",
       "4      2-opt      pma343             344.0   \n",
       "\n",
       "                                            Solution  \\\n",
       "0  [0, 9, 13, 20, 28, 31, 34, 36, 37, 32, 33, 35,...   \n",
       "1  [0, 4, 12, 17, 24, 52, 73, 88, 97, 111, 122, 1...   \n",
       "2  [0, 5, 7, 15, 12, 22, 81, 61, 58, 35, 62, 19, ...   \n",
       "3  [0, 7, 13, 23, 14, 15, 17, 22, 28, 30, 31, 32,...   \n",
       "4  [0, 1, 15, 24, 29, 28, 27, 21, 2, 3, 16, 17, 1...   \n",
       "\n",
       "                                    Chemins explorés     Distance  \\\n",
       "0  [[0, 1, 3, 2, 4, 6, 5, 7, 8, 12, 14, 19, 22, 2...  7245.045413   \n",
       "1  [[0, 5, 11, 13, 14, 15, 16, 24, 17, 12, 4, 18,...   626.152216   \n",
       "2  [[0, 5, 7, 15, 12, 13, 10, 16, 25, 23, 20, 17,...  9888.965623   \n",
       "3  [[0, 7, 8, 4, 5, 1, 9, 10, 11, 6, 2, 3, 12, 24...  1152.179452   \n",
       "4  [[0, 13, 12, 11, 9, 22, 26, 31, 34, 32, 29, 28...  1448.716966   \n",
       "\n",
       "   Temps de calcul (en s)  \n",
       "0                0.003337  \n",
       "1                0.027982  \n",
       "2                0.104007  \n",
       "3                0.213459  \n",
       "4                0.553506  "
      ]
     },
     "execution_count": 3,
     "metadata": {},
     "output_type": "execute_result"
    }
   ],
   "source": [
    "# Test global algo plus proche voisin\n",
    "df_2 = test_global('2-opt')\n",
    "\n",
    "# Sauvegarde du dataframe au format csv\n",
    "df_2.to_csv('resultats/csv/test_global_2_opt.csv')\n",
    "\n",
    "# Affichage des 5 premières lignes du dataframe\n",
    "df_2.head()"
   ]
  },
  {
   "cell_type": "code",
   "execution_count": 4,
   "metadata": {},
   "outputs": [
    {
     "name": "stdout",
     "output_type": "stream",
     "text": [
      "Etape du test : 1/9\n",
      "Etape du test : 2/9\n",
      "Etape du test : 3/9\n"
     ]
    },
    {
     "ename": "KeyboardInterrupt",
     "evalue": "",
     "output_type": "error",
     "traceback": [
      "\u001b[0;31m---------------------------------------------------------------------------\u001b[0m",
      "\u001b[0;31mKeyboardInterrupt\u001b[0m                         Traceback (most recent call last)",
      "Cell \u001b[0;32mIn[4], line 2\u001b[0m\n\u001b[1;32m      1\u001b[0m \u001b[39m# Test global algo plus proche voisin\u001b[39;00m\n\u001b[0;32m----> 2\u001b[0m df_3 \u001b[39m=\u001b[39m test_global(\u001b[39m'\u001b[39;49m\u001b[39mgenetique\u001b[39;49m\u001b[39m'\u001b[39;49m)\n\u001b[1;32m      4\u001b[0m \u001b[39m#Sauvegarde du dataframe au format csv\u001b[39;00m\n\u001b[1;32m      5\u001b[0m df_3\u001b[39m.\u001b[39mto_csv(\u001b[39m'\u001b[39m\u001b[39mresultats/csv/test_global_algo_genetique.csv\u001b[39m\u001b[39m'\u001b[39m)\n",
      "File \u001b[0;32m~/TSP_solver/src/test_algo.py:56\u001b[0m, in \u001b[0;36mtest_global\u001b[0;34m(algo)\u001b[0m\n\u001b[1;32m     54\u001b[0m     df_res \u001b[39m=\u001b[39m test_unitaire(num_dataset, algo)\n\u001b[1;32m     55\u001b[0m \u001b[39melif\u001b[39;00m algo \u001b[39m==\u001b[39m \u001b[39m'\u001b[39m\u001b[39mgenetique\u001b[39m\u001b[39m'\u001b[39m:\n\u001b[0;32m---> 56\u001b[0m     df_res \u001b[39m=\u001b[39m test_unitaire(num_dataset, algo)\n\u001b[1;32m     57\u001b[0m \u001b[39melse\u001b[39;00m:\n\u001b[1;32m     58\u001b[0m     df_res \u001b[39m=\u001b[39m test_unitaire(num_dataset, algo)\n",
      "File \u001b[0;32m~/TSP_solver/src/test_algo.py:107\u001b[0m, in \u001b[0;36mtest_unitaire\u001b[0;34m(num_dataset, algo)\u001b[0m\n\u001b[1;32m    103\u001b[0m     df_res \u001b[39m=\u001b[39m src\u001b[39m.\u001b[39malgo_proche_voisin\u001b[39m.\u001b[39mmain(\n\u001b[1;32m    104\u001b[0m         mat_distance, ENSEMBLE_TEST[num_dataset])\n\u001b[1;32m    105\u001b[0m \u001b[39melif\u001b[39;00m algo \u001b[39m==\u001b[39m \u001b[39m'\u001b[39m\u001b[39mgenetique\u001b[39m\u001b[39m'\u001b[39m:\n\u001b[1;32m    106\u001b[0m     \u001b[39m# Lancement de l'algorithme génétique\u001b[39;00m\n\u001b[0;32m--> 107\u001b[0m     df_res \u001b[39m=\u001b[39m src\u001b[39m.\u001b[39;49malgo_genetique\u001b[39m.\u001b[39;49mmain(\n\u001b[1;32m    108\u001b[0m         data, mat_distance, ENSEMBLE_TEST[num_dataset])\n\u001b[1;32m    109\u001b[0m \u001b[39melse\u001b[39;00m:\n\u001b[1;32m    110\u001b[0m     \u001b[39m# Lancement de l'algorithme génétique\u001b[39;00m\n\u001b[1;32m    111\u001b[0m     df_res \u001b[39m=\u001b[39m src\u001b[39m.\u001b[39malgo_kohonen\u001b[39m.\u001b[39mmain(\n\u001b[1;32m    112\u001b[0m         data, mat_distance, ENSEMBLE_TEST[num_dataset])\n",
      "File \u001b[0;32m~/TSP_solver/src/algo_genetique.py:268\u001b[0m, in \u001b[0;36mmain\u001b[0;34m(data, matrice_distance, nom_dataset)\u001b[0m\n\u001b[1;32m    265\u001b[0m     meilleurs_trajets \u001b[39m=\u001b[39m selection(trajets_ordonnes, POURCENTAGE_SELECTION)\n\u001b[1;32m    267\u001b[0m     \u001b[39m# Génération\u001b[39;00m\n\u001b[0;32m--> 268\u001b[0m     trajets_initiaux \u001b[39m=\u001b[39m generation(\n\u001b[1;32m    269\u001b[0m         meilleurs_trajets, NOMBRE_TRAJET, POURCENTAGE_MUTATION, matrice_distance)\n\u001b[1;32m    271\u001b[0m \u001b[39m# Chemin final trouvé\u001b[39;00m\n\u001b[1;32m    272\u001b[0m solution \u001b[39m=\u001b[39m trajets_initiaux[\u001b[39m0\u001b[39m][\u001b[39m'\u001b[39m\u001b[39mVilles\u001b[39m\u001b[39m'\u001b[39m]\n",
      "File \u001b[0;32m~/TSP_solver/src/algo_genetique.py:204\u001b[0m, in \u001b[0;36mgeneration\u001b[0;34m(trajets_originels, nombre_de_trajet, pourcentage_mutation, matrice_distance)\u001b[0m\n\u001b[1;32m    201\u001b[0m \u001b[39mfor\u001b[39;00m trajet \u001b[39min\u001b[39;00m trajets_originels:\n\u001b[1;32m    202\u001b[0m     \u001b[39m# Génération des altérations : mutation, croisement, ...\u001b[39;00m\n\u001b[1;32m    203\u001b[0m     \u001b[39mif\u001b[39;00m probabilite(pourcentage_mutation):\n\u001b[0;32m--> 204\u001b[0m         trajet \u001b[39m=\u001b[39m mutation_aleatoire(trajet)\n\u001b[1;32m    205\u001b[0m         trajet \u001b[39m=\u001b[39m evaluation(trajet, matrice_distance)\n\u001b[1;32m    206\u001b[0m         trajets_originels\u001b[39m.\u001b[39mappend(trajet)\n",
      "File \u001b[0;32m~/TSP_solver/src/algo_genetique.py:171\u001b[0m, in \u001b[0;36mmutation_aleatoire\u001b[0;34m(trajet)\u001b[0m\n\u001b[1;32m    169\u001b[0m enfant[\u001b[39m'\u001b[39m\u001b[39mVilles\u001b[39m\u001b[39m'\u001b[39m] \u001b[39m=\u001b[39m copy\u001b[39m.\u001b[39mdeepcopy(trajet[\u001b[39m'\u001b[39m\u001b[39mVilles\u001b[39m\u001b[39m'\u001b[39m])\n\u001b[1;32m    170\u001b[0m \u001b[39m# Indice des éléments à permuter cette fois ci ils ne sont pas forcément l'un après l'autre\u001b[39;00m\n\u001b[0;32m--> 171\u001b[0m r \u001b[39m=\u001b[39m random\u001b[39m.\u001b[39msample(\u001b[39mrange\u001b[39m(villes_mutables[\u001b[39m0\u001b[39m], villes_mutables[\u001b[39m1\u001b[39m]), \u001b[39m2\u001b[39m)\n\u001b[1;32m    172\u001b[0m \u001b[39m# Permutation des deux éléments\u001b[39;00m\n\u001b[1;32m    173\u001b[0m enfant[\u001b[39m'\u001b[39m\u001b[39mVilles\u001b[39m\u001b[39m'\u001b[39m][r[\u001b[39m0\u001b[39m]], enfant[\u001b[39m'\u001b[39m\u001b[39mVilles\u001b[39m\u001b[39m'\u001b[39m][r[\u001b[39m1\u001b[39m]\n\u001b[1;32m    174\u001b[0m                                          ] \u001b[39m=\u001b[39m enfant[\u001b[39m'\u001b[39m\u001b[39mVilles\u001b[39m\u001b[39m'\u001b[39m][r[\u001b[39m1\u001b[39m]], enfant[\u001b[39m'\u001b[39m\u001b[39mVilles\u001b[39m\u001b[39m'\u001b[39m][r[\u001b[39m0\u001b[39m]]\n",
      "\u001b[0;31mKeyboardInterrupt\u001b[0m: "
     ]
    }
   ],
   "source": [
    "# Test global algo plus proche voisin\n",
    "df_3 = test_global('genetique')\n",
    "\n",
    "#Sauvegarde du dataframe au format csv\n",
    "df_3.to_csv('resultats/csv/test_global_algo_genetique.csv')\n",
    "\n",
    "# Affichage des 5 premières lignes du dataframe\n",
    "df_3.head()"
   ]
  },
  {
   "cell_type": "code",
   "execution_count": 5,
   "metadata": {},
   "outputs": [
    {
     "name": "stdout",
     "output_type": "stream",
     "text": [
      "Etape du test : 1/9\n",
      "Etape du test : 2/9\n"
     ]
    },
    {
     "ename": "KeyboardInterrupt",
     "evalue": "",
     "output_type": "error",
     "traceback": [
      "\u001b[0;31m---------------------------------------------------------------------------\u001b[0m",
      "\u001b[0;31mKeyboardInterrupt\u001b[0m                         Traceback (most recent call last)",
      "Cell \u001b[0;32mIn[5], line 2\u001b[0m\n\u001b[1;32m      1\u001b[0m \u001b[39m# Test global algo de kohonen\u001b[39;00m\n\u001b[0;32m----> 2\u001b[0m df_4 \u001b[39m=\u001b[39m test_global(\u001b[39m'\u001b[39;49m\u001b[39mkohonen\u001b[39;49m\u001b[39m'\u001b[39;49m)\n\u001b[1;32m      4\u001b[0m \u001b[39m# Sauvegarde du dataframe au format csv\u001b[39;00m\n\u001b[1;32m      5\u001b[0m df_4\u001b[39m.\u001b[39mto_csv(\u001b[39m'\u001b[39m\u001b[39mresultats/csv/test_global_kohonen.csv\u001b[39m\u001b[39m'\u001b[39m)\n",
      "File \u001b[0;32m~/TSP_solver/src/test_algo.py:58\u001b[0m, in \u001b[0;36mtest_global\u001b[0;34m(algo)\u001b[0m\n\u001b[1;32m     56\u001b[0m         df_res \u001b[39m=\u001b[39m test_unitaire(num_dataset, algo)\n\u001b[1;32m     57\u001b[0m     \u001b[39melse\u001b[39;00m:\n\u001b[0;32m---> 58\u001b[0m         df_res \u001b[39m=\u001b[39m test_unitaire(num_dataset, algo)\n\u001b[1;32m     59\u001b[0m     df_resultat_test \u001b[39m=\u001b[39m pd\u001b[39m.\u001b[39mconcat(\n\u001b[1;32m     60\u001b[0m         [df_resultat_test, df_res], ignore_index\u001b[39m=\u001b[39m\u001b[39mTrue\u001b[39;00m)  \u001b[39m# type: ignore\u001b[39;00m\n\u001b[1;32m     62\u001b[0m \u001b[39mreturn\u001b[39;00m df_resultat_test\n",
      "File \u001b[0;32m~/TSP_solver/src/test_algo.py:111\u001b[0m, in \u001b[0;36mtest_unitaire\u001b[0;34m(num_dataset, algo)\u001b[0m\n\u001b[1;32m    107\u001b[0m     df_res \u001b[39m=\u001b[39m src\u001b[39m.\u001b[39malgo_genetique\u001b[39m.\u001b[39mmain(\n\u001b[1;32m    108\u001b[0m         data, mat_distance, ENSEMBLE_TEST[num_dataset])\n\u001b[1;32m    109\u001b[0m \u001b[39melse\u001b[39;00m:\n\u001b[1;32m    110\u001b[0m     \u001b[39m# Lancement de l'algorithme génétique\u001b[39;00m\n\u001b[0;32m--> 111\u001b[0m     df_res \u001b[39m=\u001b[39m src\u001b[39m.\u001b[39;49malgo_kohonen\u001b[39m.\u001b[39;49mmain(\n\u001b[1;32m    112\u001b[0m         data, mat_distance, ENSEMBLE_TEST[num_dataset])\n\u001b[1;32m    114\u001b[0m \u001b[39mreturn\u001b[39;00m df_res\n",
      "File \u001b[0;32m~/TSP_solver/src/algo_kohonen.py:183\u001b[0m, in \u001b[0;36mmain\u001b[0;34m(data, mat_distance, nom_dataset)\u001b[0m\n\u001b[1;32m    167\u001b[0m \u001b[39m\u001b[39m\u001b[39m\"\"\"Lancement de l'algorithme de kohonen\u001b[39;00m\n\u001b[1;32m    168\u001b[0m \n\u001b[1;32m    169\u001b[0m \u001b[39mParameters\u001b[39;00m\n\u001b[0;32m   (...)\u001b[0m\n\u001b[1;32m    180\u001b[0m \u001b[39m    l'algorithme\u001b[39;00m\n\u001b[1;32m    181\u001b[0m \u001b[39m\"\"\"\u001b[39;00m\n\u001b[1;32m    182\u001b[0m \u001b[39m# On récupère lechemin trouvé et le temps de résolution de l'algorithme\u001b[39;00m\n\u001b[0;32m--> 183\u001b[0m itineraire, temps_calcul, evolution_reseau \u001b[39m=\u001b[39m som(data, \u001b[39m100000\u001b[39;49m)\n\u001b[1;32m    185\u001b[0m \u001b[39m# Dataframe final trouvé. On donne comme nouvel index à data la liste itinéraire\u001b[39;00m\n\u001b[1;32m    186\u001b[0m \u001b[39m# solution = data.reindex(itineraire)\u001b[39;00m\n\u001b[1;32m    187\u001b[0m \n\u001b[1;32m    188\u001b[0m \u001b[39m# Calcul de la distance du trajet final trouvé par l'algorithme\u001b[39;00m\n\u001b[1;32m    189\u001b[0m distance_chemin_sub_optimal \u001b[39m=\u001b[39m distance_trajet(itineraire, mat_distance)\n",
      "File \u001b[0;32m~/TSP_solver/src/algo_kohonen.py:135\u001b[0m, in \u001b[0;36msom\u001b[0;34m(data, iterations, taux_apprentissage)\u001b[0m\n\u001b[1;32m    132\u001b[0m     \u001b[39mcontinue\u001b[39;00m\n\u001b[1;32m    134\u001b[0m \u001b[39m# On choisit une ville aléatoire. On retourne les valeurs de x et y\u001b[39;00m\n\u001b[0;32m--> 135\u001b[0m ville \u001b[39m=\u001b[39m villes\u001b[39m.\u001b[39;49msample(\u001b[39m1\u001b[39;49m)[[\u001b[39m'\u001b[39m\u001b[39mx\u001b[39m\u001b[39m'\u001b[39m, \u001b[39m'\u001b[39m\u001b[39my\u001b[39m\u001b[39m'\u001b[39m]]\u001b[39m.\u001b[39mvalues\n\u001b[1;32m    136\u001b[0m index_gagnant \u001b[39m=\u001b[39m neurone_gagnant(neurones, ville)\n\u001b[1;32m    137\u001b[0m \u001b[39m# Génération d'un filtre gaussien modélisant l'attraction entre un neurone et ses voisins\u001b[39;00m\n",
      "File \u001b[0;32m~/opt/anaconda3/envs/TSP/lib/python3.11/site-packages/pandas/core/generic.py:5774\u001b[0m, in \u001b[0;36mNDFrame.sample\u001b[0;34m(self, n, frac, replace, weights, random_state, axis, ignore_index)\u001b[0m\n\u001b[1;32m   5771\u001b[0m     weights \u001b[39m=\u001b[39m sample\u001b[39m.\u001b[39mpreprocess_weights(\u001b[39mself\u001b[39m, weights, axis)\n\u001b[1;32m   5773\u001b[0m sampled_indices \u001b[39m=\u001b[39m sample\u001b[39m.\u001b[39msample(obj_len, size, replace, weights, rs)\n\u001b[0;32m-> 5774\u001b[0m result \u001b[39m=\u001b[39m \u001b[39mself\u001b[39;49m\u001b[39m.\u001b[39;49mtake(sampled_indices, axis\u001b[39m=\u001b[39;49maxis)\n\u001b[1;32m   5776\u001b[0m \u001b[39mif\u001b[39;00m ignore_index:\n\u001b[1;32m   5777\u001b[0m     result\u001b[39m.\u001b[39mindex \u001b[39m=\u001b[39m default_index(\u001b[39mlen\u001b[39m(result))\n",
      "File \u001b[0;32m~/opt/anaconda3/envs/TSP/lib/python3.11/site-packages/pandas/core/generic.py:3871\u001b[0m, in \u001b[0;36mNDFrame.take\u001b[0;34m(self, indices, axis, is_copy, **kwargs)\u001b[0m\n\u001b[1;32m   3862\u001b[0m     warnings\u001b[39m.\u001b[39mwarn(\n\u001b[1;32m   3863\u001b[0m         \u001b[39m\"\u001b[39m\u001b[39mis_copy is deprecated and will be removed in a future version. \u001b[39m\u001b[39m\"\u001b[39m\n\u001b[1;32m   3864\u001b[0m         \u001b[39m\"\u001b[39m\u001b[39m'\u001b[39m\u001b[39mtake\u001b[39m\u001b[39m'\u001b[39m\u001b[39m always returns a copy, so there is no need to specify this.\u001b[39m\u001b[39m\"\u001b[39m,\n\u001b[1;32m   3865\u001b[0m         \u001b[39mFutureWarning\u001b[39;00m,\n\u001b[1;32m   3866\u001b[0m         stacklevel\u001b[39m=\u001b[39mfind_stack_level(),\n\u001b[1;32m   3867\u001b[0m     )\n\u001b[1;32m   3869\u001b[0m nv\u001b[39m.\u001b[39mvalidate_take((), kwargs)\n\u001b[0;32m-> 3871\u001b[0m \u001b[39mreturn\u001b[39;00m \u001b[39mself\u001b[39;49m\u001b[39m.\u001b[39;49m_take(indices, axis)\n",
      "File \u001b[0;32m~/opt/anaconda3/envs/TSP/lib/python3.11/site-packages/pandas/core/generic.py:3886\u001b[0m, in \u001b[0;36mNDFrame._take\u001b[0;34m(self, indices, axis, convert_indices)\u001b[0m\n\u001b[1;32m   3879\u001b[0m \u001b[39m\u001b[39m\u001b[39m\"\"\"\u001b[39;00m\n\u001b[1;32m   3880\u001b[0m \u001b[39mInternal version of the `take` allowing specification of additional args.\u001b[39;00m\n\u001b[1;32m   3881\u001b[0m \n\u001b[1;32m   3882\u001b[0m \u001b[39mSee the docstring of `take` for full explanation of the parameters.\u001b[39;00m\n\u001b[1;32m   3883\u001b[0m \u001b[39m\"\"\"\u001b[39;00m\n\u001b[1;32m   3884\u001b[0m \u001b[39mself\u001b[39m\u001b[39m.\u001b[39m_consolidate_inplace()\n\u001b[0;32m-> 3886\u001b[0m new_data \u001b[39m=\u001b[39m \u001b[39mself\u001b[39;49m\u001b[39m.\u001b[39;49m_mgr\u001b[39m.\u001b[39;49mtake(\n\u001b[1;32m   3887\u001b[0m     indices,\n\u001b[1;32m   3888\u001b[0m     axis\u001b[39m=\u001b[39;49m\u001b[39mself\u001b[39;49m\u001b[39m.\u001b[39;49m_get_block_manager_axis(axis),\n\u001b[1;32m   3889\u001b[0m     verify\u001b[39m=\u001b[39;49m\u001b[39mTrue\u001b[39;49;00m,\n\u001b[1;32m   3890\u001b[0m     convert_indices\u001b[39m=\u001b[39;49mconvert_indices,\n\u001b[1;32m   3891\u001b[0m )\n\u001b[1;32m   3892\u001b[0m \u001b[39mreturn\u001b[39;00m \u001b[39mself\u001b[39m\u001b[39m.\u001b[39m_constructor(new_data)\u001b[39m.\u001b[39m__finalize__(\u001b[39mself\u001b[39m, method\u001b[39m=\u001b[39m\u001b[39m\"\u001b[39m\u001b[39mtake\u001b[39m\u001b[39m\"\u001b[39m)\n",
      "File \u001b[0;32m~/opt/anaconda3/envs/TSP/lib/python3.11/site-packages/pandas/core/internals/managers.py:977\u001b[0m, in \u001b[0;36mBaseBlockManager.take\u001b[0;34m(self, indexer, axis, verify, convert_indices)\u001b[0m\n\u001b[1;32m    974\u001b[0m \u001b[39mif\u001b[39;00m convert_indices:\n\u001b[1;32m    975\u001b[0m     indexer \u001b[39m=\u001b[39m maybe_convert_indices(indexer, n, verify\u001b[39m=\u001b[39mverify)\n\u001b[0;32m--> 977\u001b[0m new_labels \u001b[39m=\u001b[39m \u001b[39mself\u001b[39;49m\u001b[39m.\u001b[39;49maxes[axis]\u001b[39m.\u001b[39;49mtake(indexer)\n\u001b[1;32m    978\u001b[0m \u001b[39mreturn\u001b[39;00m \u001b[39mself\u001b[39m\u001b[39m.\u001b[39mreindex_indexer(\n\u001b[1;32m    979\u001b[0m     new_axis\u001b[39m=\u001b[39mnew_labels,\n\u001b[1;32m    980\u001b[0m     indexer\u001b[39m=\u001b[39mindexer,\n\u001b[0;32m   (...)\u001b[0m\n\u001b[1;32m    983\u001b[0m     copy\u001b[39m=\u001b[39m\u001b[39mNone\u001b[39;00m,\n\u001b[1;32m    984\u001b[0m )\n",
      "File \u001b[0;32m~/opt/anaconda3/envs/TSP/lib/python3.11/site-packages/pandas/core/indexes/base.py:1192\u001b[0m, in \u001b[0;36mIndex.take\u001b[0;34m(self, indices, axis, allow_fill, fill_value, **kwargs)\u001b[0m\n\u001b[1;32m   1188\u001b[0m     taken \u001b[39m=\u001b[39m values\u001b[39m.\u001b[39mtake(\n\u001b[1;32m   1189\u001b[0m         indices, allow_fill\u001b[39m=\u001b[39mallow_fill, fill_value\u001b[39m=\u001b[39m\u001b[39mself\u001b[39m\u001b[39m.\u001b[39m_na_value\n\u001b[1;32m   1190\u001b[0m     )\n\u001b[1;32m   1191\u001b[0m \u001b[39m# _constructor so RangeIndex->Int64Index\u001b[39;00m\n\u001b[0;32m-> 1192\u001b[0m \u001b[39mreturn\u001b[39;00m \u001b[39mself\u001b[39;49m\u001b[39m.\u001b[39;49m_constructor\u001b[39m.\u001b[39;49m_simple_new(taken, name\u001b[39m=\u001b[39;49m\u001b[39mself\u001b[39;49m\u001b[39m.\u001b[39;49mname)\n",
      "File \u001b[0;32m~/opt/anaconda3/envs/TSP/lib/python3.11/site-packages/pandas/core/indexes/base.py:704\u001b[0m, in \u001b[0;36mIndex._simple_new\u001b[0;34m(cls, values, name)\u001b[0m\n\u001b[1;32m    702\u001b[0m result\u001b[39m.\u001b[39m_name \u001b[39m=\u001b[39m name\n\u001b[1;32m    703\u001b[0m result\u001b[39m.\u001b[39m_cache \u001b[39m=\u001b[39m {}\n\u001b[0;32m--> 704\u001b[0m result\u001b[39m.\u001b[39;49m_reset_identity()\n\u001b[1;32m    706\u001b[0m \u001b[39mreturn\u001b[39;00m result\n",
      "File \u001b[0;32m~/opt/anaconda3/envs/TSP/lib/python3.11/site-packages/pandas/core/indexes/base.py:875\u001b[0m, in \u001b[0;36mIndex._reset_identity\u001b[0;34m(self)\u001b[0m\n\u001b[1;32m    870\u001b[0m \u001b[39m@final\u001b[39m\n\u001b[1;32m    871\u001b[0m \u001b[39mdef\u001b[39;00m \u001b[39m_reset_identity\u001b[39m(\u001b[39mself\u001b[39m) \u001b[39m-\u001b[39m\u001b[39m>\u001b[39m \u001b[39mNone\u001b[39;00m:\n\u001b[1;32m    872\u001b[0m \u001b[39m    \u001b[39m\u001b[39m\"\"\"\u001b[39;00m\n\u001b[1;32m    873\u001b[0m \u001b[39m    Initializes or resets ``_id`` attribute with new object.\u001b[39;00m\n\u001b[1;32m    874\u001b[0m \u001b[39m    \"\"\"\u001b[39;00m\n\u001b[0;32m--> 875\u001b[0m     \u001b[39mself\u001b[39m\u001b[39m.\u001b[39m_id \u001b[39m=\u001b[39m \u001b[39mobject\u001b[39;49m()\n",
      "\u001b[0;31mKeyboardInterrupt\u001b[0m: "
     ]
    }
   ],
   "source": [
    "# Test global algo de kohonen\n",
    "df_4 = test_global('kohonen')\n",
    "\n",
    "# Sauvegarde du dataframe au format csv\n",
    "df_4.to_csv('resultats/csv/test_global_kohonen.csv')\n",
    "\n",
    "# Affichage des 5 premières lignes du dataframe\n",
    "df_4.head()"
   ]
  },
  {
   "cell_type": "code",
   "execution_count": null,
   "metadata": {},
   "outputs": [],
   "source": [
    "# Concaténation dans un seul fichier\n",
    "df = pd.concat([df_1, df_2, df_3, df_4], ignore_index=True)\n",
    "df.head()\n",
    "# Sauvegarde des résultats finaux\n",
    "df.to_csv('resultats/csv/test_global_algos.csv')"
   ]
  },
  {
   "cell_type": "code",
   "execution_count": null,
   "metadata": {},
   "outputs": [],
   "source": [
    "# Création des visuels d'analyse des algorithmes\n",
    "representation_resultats('resultats/csv/test_global_algos.csv').show()\n",
    "representation_temps_calcul('resultats/csv/test_global_algos.csv').show()"
   ]
  },
  {
   "attachments": {},
   "cell_type": "markdown",
   "metadata": {},
   "source": [
    "# Réalisation des tests unitaires (avec visualisation)\n"
   ]
  },
  {
   "attachments": {},
   "cell_type": "markdown",
   "metadata": {},
   "source": [
    "### Initialisation du dataset de test"
   ]
  },
  {
   "cell_type": "code",
   "execution_count": 16,
   "metadata": {},
   "outputs": [
    {
     "name": "stdout",
     "output_type": "stream",
     "text": [
      "Les tests vont se réaliser sur le fichier 'dj38' en utilisant l'algorithme '2-opt'\n"
     ]
    }
   ],
   "source": [
    "# Nom des data de test\n",
    "ENSEMBLE_TEST = ['dj38', 'xqf131', 'qa194', 'xqg237',\n",
    "                 'pma343', 'pka379', 'pbl395', 'pbk411', 'pbn423']\n",
    "# Nom des algo implémentés\n",
    "ENSEMBLE_ALGOS = ['2-opt', 'plus_proche_voisin', 'genetique', 'kohonen']\n",
    "\n",
    "choix_data_test=random.randint(0,len(ENSEMBLE_TEST)-1)\n",
    "choix_algo_test=random.randint(0,len(ENSEMBLE_ALGOS)-1)\n",
    "print(f\"Les tests vont se réaliser sur le fichier '{ENSEMBLE_TEST[choix_data_test]}' en utilisant l'algorithme '{ENSEMBLE_ALGOS[choix_algo_test]}'\")"
   ]
  },
  {
   "attachments": {},
   "cell_type": "markdown",
   "metadata": {},
   "source": [
    "### Lancement du test unitaire pour observer le chemin final trouvé"
   ]
  },
  {
   "cell_type": "code",
   "execution_count": null,
   "metadata": {},
   "outputs": [],
   "source": [
    "# Test de l'algorithme du plus proche voisin\n",
    "data = data_TSPLIB(f'data/{ENSEMBLE_TEST[choix_data_test]}.tsp')\n",
    "df = test_unitaire(choix_data_test, ENSEMBLE_ALGOS[choix_algo_test])\n",
    "affichage(df, data).show()"
   ]
  },
  {
   "attachments": {},
   "cell_type": "markdown",
   "metadata": {},
   "source": [
    "# Création d'un gif des chemins explorés"
   ]
  },
  {
   "cell_type": "code",
   "execution_count": 39,
   "metadata": {},
   "outputs": [
    {
     "name": "stdout",
     "output_type": "stream",
     "text": [
      "Vous venez de créer le fichier '2-opt_dj38.gif' à la racine du projet\n"
     ]
    }
   ],
   "source": [
    "assert ENSEMBLE_ALGOS[choix_algo_test] != '' and ENSEMBLE_TEST[choix_data_test] != ''\n",
    "\n",
    "# Génération du dataframe de résultat \n",
    "df = test_unitaire(choix_data_test, ENSEMBLE_ALGOS[choix_algo_test])\n",
    "# Création des images représentantes chacunes un chemin exploré\n",
    "affichage_chemins_explores(\n",
    "    df, ENSEMBLE_ALGOS[choix_algo_test], ENSEMBLE_TEST[choix_data_test])\n",
    "\n",
    "root=\"resultats/figures\"\n",
    "\n",
    "def generation_gif(frame_folder):\n",
    "    frames = [Image.open(frame_folder+\"/\"+image)\n",
    "              for image in sorted(os.listdir(frame_folder))]\n",
    "    frame_one = frames[0]\n",
    "    frame_one.save(f\"{ENSEMBLE_ALGOS[choix_algo_test]}_{ENSEMBLE_TEST[choix_data_test]}.gif\", format=\"GIF\", append_images=frames,\n",
    "               save_all=True, duration=200, loop=0)\n",
    "    # Suppression des images indépendantes pour ne pas saturer le disques\n",
    "    for image in glob.glob(f\"{frame_folder}/*.png\"):\n",
    "        os.remove(image)\n",
    "    \n",
    "if __name__ == \"__main__\":\n",
    "    generation_gif('{}/{}/{}/'.format(root,ENSEMBLE_ALGOS[choix_algo_test],ENSEMBLE_TEST[choix_data_test]))\n",
    "\n",
    "print(f\"Vous venez de créer le fichier '{ENSEMBLE_ALGOS[choix_algo_test]}_{ENSEMBLE_TEST[choix_data_test]}.gif' à la racine du projet\")"
   ]
  },
  {
   "attachments": {},
   "cell_type": "markdown",
   "metadata": {},
   "source": [
    "# Test sur des données aléatoires (avec visualisation)"
   ]
  },
  {
   "attachments": {},
   "cell_type": "markdown",
   "metadata": {},
   "source": [
    "### Initialisation du nombre de villes et de l'algorithme choisi"
   ]
  },
  {
   "cell_type": "code",
   "execution_count": null,
   "metadata": {},
   "outputs": [],
   "source": [
    "import random\n",
    "\n",
    "#Initialisation d'un nombre de ville\n",
    "NOMBRE_MAX=100\n",
    "NOMBRE_MIN=10\n",
    "nombre_de_villes = random.randint(NOMBRE_MIN,NOMBRE_MAX)\n",
    "print(f\"Nombre de villes : {nombre_de_villes}\")\n",
    "\n",
    "ENSEMBLE_ALGOS = ['2-opt', 'Plus proche voisin', 'Génétique']\n",
    "choix_algo=random.randint(0,len(ENSEMBLE_ALGOS)-1)\n",
    "print(f\"Algorithme choisi : {ENSEMBLE_ALGOS[choix_algo]}\")"
   ]
  },
  {
   "attachments": {},
   "cell_type": "markdown",
   "metadata": {},
   "source": [
    "### Lancement du test et affichage du chemin parcouru"
   ]
  },
  {
   "cell_type": "code",
   "execution_count": null,
   "metadata": {},
   "outputs": [],
   "source": [
    "# Initialisation du dataframe\n",
    "data = init_random_df(nombre_de_villes)\n",
    "\n",
    "# Initialisation de la matrice des distances relatives\n",
    "mat_distance = matrice_distance(data)\n",
    "\n",
    "if choix_algo == 0:\n",
    "    chemin_initial,_,_ = src.algo_proche_voisin.plus_proche_voisin(\n",
    "        mat_distance)\n",
    "\n",
    "    # Lancement de l'algorithme 2-opt\n",
    "    df_res = src.algo_2_opt.main(\n",
    "        mat_distance, chemin_initial)\n",
    "elif choix_algo == 1:\n",
    "    # Lancement de l'algorithme plus proche voisin\n",
    "    df_res = src.algo_proche_voisin.main(mat_distance)\n",
    "elif choix_algo == 2:\n",
    "     # Lancement de l'algorithme génétique\n",
    "    df_res = src.algo_genetique.main(data, mat_distance)\n",
    "else: \n",
    "    #Lancement de l'algorithme de kohonen\n",
    "    df_res = src.algo_kohonen.main(data, mat_distance) \n",
    "\n",
    "# La solution trouvée par l'algo choisi\n",
    "affichage(df_res, data).show()"
   ]
  }
 ],
 "metadata": {
  "kernelspec": {
   "display_name": "Python 3 (ipykernel)",
   "language": "python",
   "name": "python3"
  },
  "language_info": {
   "codemirror_mode": {
    "name": "ipython",
    "version": 3
   },
   "file_extension": ".py",
   "mimetype": "text/x-python",
   "name": "python",
   "nbconvert_exporter": "python",
   "pygments_lexer": "ipython3",
   "version": "3.11.0"
  },
  "vscode": {
   "interpreter": {
    "hash": "d667af14c94c865b46724da933a850b3d564154870f60130309ecd5dd505f9ea"
   }
  }
 },
 "nbformat": 4,
 "nbformat_minor": 4
}
