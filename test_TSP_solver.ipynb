{
 "cells": [
  {
   "cell_type": "code",
   "execution_count": 1,
   "metadata": {},
   "outputs": [
    {
     "name": "stdout",
     "output_type": "stream",
     "text": [
      "Setup complete\n"
     ]
    }
   ],
   "source": [
    "import random\n",
    "\n",
    "import pandas as pd\n",
    "\n",
    "import src.algo_2_opt\n",
    "import src.algo_genetique\n",
    "import src.algo_kohonen\n",
    "import src.algo_proche_voisin\n",
    "from src.affichage_resultats import (affichage, affichage_chemins_explores,\n",
    "                                     affichage_reseau_neurones, generation_gif,\n",
    "                                     representation_resultats,\n",
    "                                     representation_temps_calcul)\n",
    "from src.distance import matrice_distance\n",
    "from src.init_random_data import init_random_df\n",
    "from src.init_test_data import data_TSPLIB\n",
    "from src.test_algo import test_global, test_unitaire\n",
    "\n",
    "print(\"Setup complete\")"
   ]
  },
  {
   "attachments": {},
   "cell_type": "markdown",
   "metadata": {},
   "source": [
    "# Réalisation des tests globaux (avec visualisation)"
   ]
  },
  {
   "cell_type": "code",
   "execution_count": 2,
   "metadata": {},
   "outputs": [
    {
     "name": "stdout",
     "output_type": "stream",
     "text": [
      "Etape du test : 1/9\n",
      "Etape du test : 2/9\n",
      "Etape du test : 3/9\n",
      "Etape du test : 4/9\n",
      "Etape du test : 5/9\n",
      "Etape du test : 6/9\n",
      "Etape du test : 7/9\n",
      "Etape du test : 8/9\n",
      "Etape du test : 9/9\n"
     ]
    },
    {
     "data": {
      "text/html": [
       "<div>\n",
       "<style scoped>\n",
       "    .dataframe tbody tr th:only-of-type {\n",
       "        vertical-align: middle;\n",
       "    }\n",
       "\n",
       "    .dataframe tbody tr th {\n",
       "        vertical-align: top;\n",
       "    }\n",
       "\n",
       "    .dataframe thead th {\n",
       "        text-align: right;\n",
       "    }\n",
       "</style>\n",
       "<table border=\"1\" class=\"dataframe\">\n",
       "  <thead>\n",
       "    <tr style=\"text-align: right;\">\n",
       "      <th></th>\n",
       "      <th>Algorithme</th>\n",
       "      <th>Nom dataset</th>\n",
       "      <th>Nombre de villes</th>\n",
       "      <th>Solution</th>\n",
       "      <th>Distance</th>\n",
       "      <th>Temps de calcul (en s)</th>\n",
       "    </tr>\n",
       "  </thead>\n",
       "  <tbody>\n",
       "    <tr>\n",
       "      <th>0</th>\n",
       "      <td>plus_proche_voisin</td>\n",
       "      <td>dj38</td>\n",
       "      <td>38.0</td>\n",
       "      <td>[0, 1, 3, 2, 4, 6, 5, 7, 8, 12, 14, 19, 22, 24...</td>\n",
       "      <td>9748.946705</td>\n",
       "      <td>0.000734</td>\n",
       "    </tr>\n",
       "    <tr>\n",
       "      <th>1</th>\n",
       "      <td>plus_proche_voisin</td>\n",
       "      <td>xqf131</td>\n",
       "      <td>131.0</td>\n",
       "      <td>[0, 5, 11, 13, 14, 15, 16, 24, 17, 12, 4, 18, ...</td>\n",
       "      <td>709.521628</td>\n",
       "      <td>0.003534</td>\n",
       "    </tr>\n",
       "    <tr>\n",
       "      <th>2</th>\n",
       "      <td>plus_proche_voisin</td>\n",
       "      <td>qa194</td>\n",
       "      <td>194.0</td>\n",
       "      <td>[0, 5, 7, 15, 12, 13, 10, 16, 25, 23, 20, 17, ...</td>\n",
       "      <td>11892.888059</td>\n",
       "      <td>0.006202</td>\n",
       "    </tr>\n",
       "    <tr>\n",
       "      <th>3</th>\n",
       "      <td>plus_proche_voisin</td>\n",
       "      <td>xqg237</td>\n",
       "      <td>237.0</td>\n",
       "      <td>[0, 7, 8, 4, 5, 1, 9, 10, 11, 6, 2, 3, 12, 24,...</td>\n",
       "      <td>1327.178708</td>\n",
       "      <td>0.007929</td>\n",
       "    </tr>\n",
       "    <tr>\n",
       "      <th>4</th>\n",
       "      <td>plus_proche_voisin</td>\n",
       "      <td>pma343</td>\n",
       "      <td>343.0</td>\n",
       "      <td>[0, 13, 12, 11, 9, 22, 26, 31, 34, 32, 29, 28,...</td>\n",
       "      <td>2135.347948</td>\n",
       "      <td>0.014624</td>\n",
       "    </tr>\n",
       "  </tbody>\n",
       "</table>\n",
       "</div>"
      ],
      "text/plain": [
       "           Algorithme Nom dataset  Nombre de villes  \\\n",
       "0  plus_proche_voisin        dj38              38.0   \n",
       "1  plus_proche_voisin      xqf131             131.0   \n",
       "2  plus_proche_voisin       qa194             194.0   \n",
       "3  plus_proche_voisin      xqg237             237.0   \n",
       "4  plus_proche_voisin      pma343             343.0   \n",
       "\n",
       "                                            Solution      Distance  \\\n",
       "0  [0, 1, 3, 2, 4, 6, 5, 7, 8, 12, 14, 19, 22, 24...   9748.946705   \n",
       "1  [0, 5, 11, 13, 14, 15, 16, 24, 17, 12, 4, 18, ...    709.521628   \n",
       "2  [0, 5, 7, 15, 12, 13, 10, 16, 25, 23, 20, 17, ...  11892.888059   \n",
       "3  [0, 7, 8, 4, 5, 1, 9, 10, 11, 6, 2, 3, 12, 24,...   1327.178708   \n",
       "4  [0, 13, 12, 11, 9, 22, 26, 31, 34, 32, 29, 28,...   2135.347948   \n",
       "\n",
       "   Temps de calcul (en s)  \n",
       "0                0.000734  \n",
       "1                0.003534  \n",
       "2                0.006202  \n",
       "3                0.007929  \n",
       "4                0.014624  "
      ]
     },
     "execution_count": 2,
     "metadata": {},
     "output_type": "execute_result"
    }
   ],
   "source": [
    "# Test global algorithme plus proche voisin\n",
    "df_1 = test_global('plus_proche_voisin')\n",
    "\n",
    "# Sauvegarde du dataframe au format csv\n",
    "df_1.to_csv('resultats/csv/test_global_plus_proche_voisin.csv')\n",
    "\n",
    "# Affichage des 5 premières lignes du dataframe\n",
    "df_1.head()"
   ]
  },
  {
   "cell_type": "code",
   "execution_count": 3,
   "metadata": {},
   "outputs": [
    {
     "name": "stdout",
     "output_type": "stream",
     "text": [
      "Etape du test : 1/9\n",
      "Etape du test : 2/9\n",
      "Etape du test : 3/9\n",
      "Etape du test : 4/9\n",
      "Etape du test : 5/9\n",
      "Etape du test : 6/9\n",
      "Etape du test : 7/9\n",
      "Etape du test : 8/9\n",
      "Etape du test : 9/9\n"
     ]
    },
    {
     "data": {
      "text/html": [
       "<div>\n",
       "<style scoped>\n",
       "    .dataframe tbody tr th:only-of-type {\n",
       "        vertical-align: middle;\n",
       "    }\n",
       "\n",
       "    .dataframe tbody tr th {\n",
       "        vertical-align: top;\n",
       "    }\n",
       "\n",
       "    .dataframe thead th {\n",
       "        text-align: right;\n",
       "    }\n",
       "</style>\n",
       "<table border=\"1\" class=\"dataframe\">\n",
       "  <thead>\n",
       "    <tr style=\"text-align: right;\">\n",
       "      <th></th>\n",
       "      <th>Algorithme</th>\n",
       "      <th>Nom dataset</th>\n",
       "      <th>Nombre de villes</th>\n",
       "      <th>Solution</th>\n",
       "      <th>Distance</th>\n",
       "      <th>Temps de calcul (en s)</th>\n",
       "    </tr>\n",
       "  </thead>\n",
       "  <tbody>\n",
       "    <tr>\n",
       "      <th>0</th>\n",
       "      <td>2-opt</td>\n",
       "      <td>dj38</td>\n",
       "      <td>38.0</td>\n",
       "      <td>[0, 9, 13, 20, 28, 31, 34, 36, 37, 32, 33, 35,...</td>\n",
       "      <td>7245.045413</td>\n",
       "      <td>0.003213</td>\n",
       "    </tr>\n",
       "    <tr>\n",
       "      <th>1</th>\n",
       "      <td>2-opt</td>\n",
       "      <td>xqf131</td>\n",
       "      <td>131.0</td>\n",
       "      <td>[0, 4, 12, 17, 24, 52, 73, 88, 97, 111, 122, 1...</td>\n",
       "      <td>626.152216</td>\n",
       "      <td>0.022445</td>\n",
       "    </tr>\n",
       "    <tr>\n",
       "      <th>2</th>\n",
       "      <td>2-opt</td>\n",
       "      <td>qa194</td>\n",
       "      <td>194.0</td>\n",
       "      <td>[0, 5, 7, 15, 12, 22, 81, 61, 58, 35, 62, 19, ...</td>\n",
       "      <td>9888.965623</td>\n",
       "      <td>0.067651</td>\n",
       "    </tr>\n",
       "    <tr>\n",
       "      <th>3</th>\n",
       "      <td>2-opt</td>\n",
       "      <td>xqg237</td>\n",
       "      <td>237.0</td>\n",
       "      <td>[0, 7, 13, 23, 14, 15, 17, 22, 28, 30, 31, 32,...</td>\n",
       "      <td>1152.179452</td>\n",
       "      <td>0.130293</td>\n",
       "    </tr>\n",
       "    <tr>\n",
       "      <th>4</th>\n",
       "      <td>2-opt</td>\n",
       "      <td>pma343</td>\n",
       "      <td>343.0</td>\n",
       "      <td>[0, 1, 15, 24, 29, 28, 27, 21, 2, 3, 16, 17, 1...</td>\n",
       "      <td>1448.716966</td>\n",
       "      <td>0.334841</td>\n",
       "    </tr>\n",
       "  </tbody>\n",
       "</table>\n",
       "</div>"
      ],
      "text/plain": [
       "  Algorithme Nom dataset  Nombre de villes  \\\n",
       "0      2-opt        dj38              38.0   \n",
       "1      2-opt      xqf131             131.0   \n",
       "2      2-opt       qa194             194.0   \n",
       "3      2-opt      xqg237             237.0   \n",
       "4      2-opt      pma343             343.0   \n",
       "\n",
       "                                            Solution     Distance  \\\n",
       "0  [0, 9, 13, 20, 28, 31, 34, 36, 37, 32, 33, 35,...  7245.045413   \n",
       "1  [0, 4, 12, 17, 24, 52, 73, 88, 97, 111, 122, 1...   626.152216   \n",
       "2  [0, 5, 7, 15, 12, 22, 81, 61, 58, 35, 62, 19, ...  9888.965623   \n",
       "3  [0, 7, 13, 23, 14, 15, 17, 22, 28, 30, 31, 32,...  1152.179452   \n",
       "4  [0, 1, 15, 24, 29, 28, 27, 21, 2, 3, 16, 17, 1...  1448.716966   \n",
       "\n",
       "   Temps de calcul (en s)  \n",
       "0                0.003213  \n",
       "1                0.022445  \n",
       "2                0.067651  \n",
       "3                0.130293  \n",
       "4                0.334841  "
      ]
     },
     "execution_count": 3,
     "metadata": {},
     "output_type": "execute_result"
    }
   ],
   "source": [
    "# Test global algorithme 2-opt\n",
    "df_2 = test_global('2-opt')\n",
    "\n",
    "# Sauvegarde du dataframe au format csv\n",
    "df_2.to_csv('resultats/csv/test_global_2_opt.csv')\n",
    "\n",
    "# Affichage des 5 premières lignes du dataframe\n",
    "df_2.head()"
   ]
  },
  {
   "cell_type": "code",
   "execution_count": 4,
   "metadata": {},
   "outputs": [
    {
     "name": "stdout",
     "output_type": "stream",
     "text": [
      "Etape du test : 1/9\n",
      "Etape du test : 2/9\n",
      "Etape du test : 3/9\n",
      "Etape du test : 4/9\n",
      "Etape du test : 5/9\n",
      "Etape du test : 6/9\n",
      "Etape du test : 7/9\n",
      "Etape du test : 8/9\n",
      "Etape du test : 9/9\n"
     ]
    },
    {
     "data": {
      "text/html": [
       "<div>\n",
       "<style scoped>\n",
       "    .dataframe tbody tr th:only-of-type {\n",
       "        vertical-align: middle;\n",
       "    }\n",
       "\n",
       "    .dataframe tbody tr th {\n",
       "        vertical-align: top;\n",
       "    }\n",
       "\n",
       "    .dataframe thead th {\n",
       "        text-align: right;\n",
       "    }\n",
       "</style>\n",
       "<table border=\"1\" class=\"dataframe\">\n",
       "  <thead>\n",
       "    <tr style=\"text-align: right;\">\n",
       "      <th></th>\n",
       "      <th>Algorithme</th>\n",
       "      <th>Nom dataset</th>\n",
       "      <th>Nombre de villes</th>\n",
       "      <th>Solution</th>\n",
       "      <th>Distance</th>\n",
       "      <th>Temps de calcul (en s)</th>\n",
       "    </tr>\n",
       "  </thead>\n",
       "  <tbody>\n",
       "    <tr>\n",
       "      <th>0</th>\n",
       "      <td>genetique</td>\n",
       "      <td>dj38</td>\n",
       "      <td>38.0</td>\n",
       "      <td>[29, 37, 32, 35, 30, 27, 23, 21, 17, 18, 15, 2...</td>\n",
       "      <td>12321.483394</td>\n",
       "      <td>0.750048</td>\n",
       "    </tr>\n",
       "    <tr>\n",
       "      <th>1</th>\n",
       "      <td>genetique</td>\n",
       "      <td>xqf131</td>\n",
       "      <td>131.0</td>\n",
       "      <td>[50, 61, 69, 37, 22, 10, 41, 94, 7, 90, 108, 1...</td>\n",
       "      <td>2103.985074</td>\n",
       "      <td>1.353451</td>\n",
       "    </tr>\n",
       "    <tr>\n",
       "      <th>2</th>\n",
       "      <td>genetique</td>\n",
       "      <td>qa194</td>\n",
       "      <td>194.0</td>\n",
       "      <td>[98, 59, 29, 20, 0, 5, 71, 76, 83, 39, 107, 96...</td>\n",
       "      <td>46443.977059</td>\n",
       "      <td>1.791501</td>\n",
       "    </tr>\n",
       "    <tr>\n",
       "      <th>3</th>\n",
       "      <td>genetique</td>\n",
       "      <td>xqg237</td>\n",
       "      <td>237.0</td>\n",
       "      <td>[84, 98, 87, 129, 159, 208, 176, 225, 206, 157...</td>\n",
       "      <td>6955.981175</td>\n",
       "      <td>2.052623</td>\n",
       "    </tr>\n",
       "    <tr>\n",
       "      <th>4</th>\n",
       "      <td>genetique</td>\n",
       "      <td>pma343</td>\n",
       "      <td>343.0</td>\n",
       "      <td>[271, 224, 197, 274, 258, 231, 226, 280, 260, ...</td>\n",
       "      <td>18401.659611</td>\n",
       "      <td>2.751872</td>\n",
       "    </tr>\n",
       "  </tbody>\n",
       "</table>\n",
       "</div>"
      ],
      "text/plain": [
       "  Algorithme Nom dataset  Nombre de villes  \\\n",
       "0  genetique        dj38              38.0   \n",
       "1  genetique      xqf131             131.0   \n",
       "2  genetique       qa194             194.0   \n",
       "3  genetique      xqg237             237.0   \n",
       "4  genetique      pma343             343.0   \n",
       "\n",
       "                                            Solution      Distance  \\\n",
       "0  [29, 37, 32, 35, 30, 27, 23, 21, 17, 18, 15, 2...  12321.483394   \n",
       "1  [50, 61, 69, 37, 22, 10, 41, 94, 7, 90, 108, 1...   2103.985074   \n",
       "2  [98, 59, 29, 20, 0, 5, 71, 76, 83, 39, 107, 96...  46443.977059   \n",
       "3  [84, 98, 87, 129, 159, 208, 176, 225, 206, 157...   6955.981175   \n",
       "4  [271, 224, 197, 274, 258, 231, 226, 280, 260, ...  18401.659611   \n",
       "\n",
       "   Temps de calcul (en s)  \n",
       "0                0.750048  \n",
       "1                1.353451  \n",
       "2                1.791501  \n",
       "3                2.052623  \n",
       "4                2.751872  "
      ]
     },
     "execution_count": 4,
     "metadata": {},
     "output_type": "execute_result"
    }
   ],
   "source": [
    "# Test global algorithme génétique\n",
    "df_3 = test_global('genetique')\n",
    "\n",
    "#Sauvegarde du dataframe au format csv\n",
    "df_3.to_csv('resultats/csv/test_global_algo_genetique.csv')\n",
    "\n",
    "# Affichage des 5 premières lignes du dataframe\n",
    "df_3.head()"
   ]
  },
  {
   "cell_type": "code",
   "execution_count": 5,
   "metadata": {},
   "outputs": [
    {
     "name": "stdout",
     "output_type": "stream",
     "text": [
      "Etape du test : 1/9\n",
      "Etape du test : 2/9\n",
      "Etape du test : 3/9\n",
      "Etape du test : 4/9\n",
      "Etape du test : 5/9\n",
      "Etape du test : 6/9\n",
      "Etape du test : 7/9\n",
      "Etape du test : 8/9\n",
      "Etape du test : 9/9\n"
     ]
    },
    {
     "data": {
      "text/html": [
       "<div>\n",
       "<style scoped>\n",
       "    .dataframe tbody tr th:only-of-type {\n",
       "        vertical-align: middle;\n",
       "    }\n",
       "\n",
       "    .dataframe tbody tr th {\n",
       "        vertical-align: top;\n",
       "    }\n",
       "\n",
       "    .dataframe thead th {\n",
       "        text-align: right;\n",
       "    }\n",
       "</style>\n",
       "<table border=\"1\" class=\"dataframe\">\n",
       "  <thead>\n",
       "    <tr style=\"text-align: right;\">\n",
       "      <th></th>\n",
       "      <th>Algorithme</th>\n",
       "      <th>Nom dataset</th>\n",
       "      <th>Nombre de villes</th>\n",
       "      <th>Solution</th>\n",
       "      <th>Distance</th>\n",
       "      <th>Temps de calcul (en s)</th>\n",
       "    </tr>\n",
       "  </thead>\n",
       "  <tbody>\n",
       "    <tr>\n",
       "      <th>0</th>\n",
       "      <td>kohonen</td>\n",
       "      <td>dj38</td>\n",
       "      <td>38.0</td>\n",
       "      <td>[16, 15, 10, 11, 8, 7, 6, 4, 2, 3, 5, 12, 14, ...</td>\n",
       "      <td>7186.186342</td>\n",
       "      <td>5.587067</td>\n",
       "    </tr>\n",
       "    <tr>\n",
       "      <th>1</th>\n",
       "      <td>kohonen</td>\n",
       "      <td>xqf131</td>\n",
       "      <td>131.0</td>\n",
       "      <td>[76, 74, 67, 63, 73, 52, 44, 45, 27, 28, 29, 1...</td>\n",
       "      <td>581.023319</td>\n",
       "      <td>7.362288</td>\n",
       "    </tr>\n",
       "    <tr>\n",
       "      <th>2</th>\n",
       "      <td>kohonen</td>\n",
       "      <td>qa194</td>\n",
       "      <td>194.0</td>\n",
       "      <td>[15, 61, 58, 35, 62, 19, 64, 84, 85, 97, 89, 8...</td>\n",
       "      <td>10023.297828</td>\n",
       "      <td>8.272054</td>\n",
       "    </tr>\n",
       "    <tr>\n",
       "      <th>3</th>\n",
       "      <td>kohonen</td>\n",
       "      <td>xqg237</td>\n",
       "      <td>237.0</td>\n",
       "      <td>[116, 114, 117, 127, 128, 129, 134, 144, 171, ...</td>\n",
       "      <td>1088.574391</td>\n",
       "      <td>8.891847</td>\n",
       "    </tr>\n",
       "    <tr>\n",
       "      <th>4</th>\n",
       "      <td>kohonen</td>\n",
       "      <td>pma343</td>\n",
       "      <td>343.0</td>\n",
       "      <td>[178, 185, 179, 177, 176, 171, 163, 162, 170, ...</td>\n",
       "      <td>1467.414955</td>\n",
       "      <td>10.155750</td>\n",
       "    </tr>\n",
       "  </tbody>\n",
       "</table>\n",
       "</div>"
      ],
      "text/plain": [
       "  Algorithme Nom dataset  Nombre de villes  \\\n",
       "0    kohonen        dj38              38.0   \n",
       "1    kohonen      xqf131             131.0   \n",
       "2    kohonen       qa194             194.0   \n",
       "3    kohonen      xqg237             237.0   \n",
       "4    kohonen      pma343             343.0   \n",
       "\n",
       "                                            Solution      Distance  \\\n",
       "0  [16, 15, 10, 11, 8, 7, 6, 4, 2, 3, 5, 12, 14, ...   7186.186342   \n",
       "1  [76, 74, 67, 63, 73, 52, 44, 45, 27, 28, 29, 1...    581.023319   \n",
       "2  [15, 61, 58, 35, 62, 19, 64, 84, 85, 97, 89, 8...  10023.297828   \n",
       "3  [116, 114, 117, 127, 128, 129, 134, 144, 171, ...   1088.574391   \n",
       "4  [178, 185, 179, 177, 176, 171, 163, 162, 170, ...   1467.414955   \n",
       "\n",
       "   Temps de calcul (en s)  \n",
       "0                5.587067  \n",
       "1                7.362288  \n",
       "2                8.272054  \n",
       "3                8.891847  \n",
       "4               10.155750  "
      ]
     },
     "execution_count": 5,
     "metadata": {},
     "output_type": "execute_result"
    }
   ],
   "source": [
    "# Test global algorithme de kohonen\n",
    "df_4 = test_global('kohonen')\n",
    "\n",
    "# Sauvegarde du dataframe au format csv\n",
    "df_4.to_csv('resultats/csv/test_global_kohonen.csv')\n",
    "\n",
    "# Affichage des 5 premières lignes du dataframe\n",
    "df_4.head()"
   ]
  },
  {
   "attachments": {},
   "cell_type": "markdown",
   "metadata": {},
   "source": [
    "### Sauvegarde des données importantes pour analyser les algorithmes"
   ]
  },
  {
   "cell_type": "code",
   "execution_count": 6,
   "metadata": {},
   "outputs": [
    {
     "data": {
      "text/html": [
       "<div>\n",
       "<style scoped>\n",
       "    .dataframe tbody tr th:only-of-type {\n",
       "        vertical-align: middle;\n",
       "    }\n",
       "\n",
       "    .dataframe tbody tr th {\n",
       "        vertical-align: top;\n",
       "    }\n",
       "\n",
       "    .dataframe thead th {\n",
       "        text-align: right;\n",
       "    }\n",
       "</style>\n",
       "<table border=\"1\" class=\"dataframe\">\n",
       "  <thead>\n",
       "    <tr style=\"text-align: right;\">\n",
       "      <th></th>\n",
       "      <th>Algorithme</th>\n",
       "      <th>Nom dataset</th>\n",
       "      <th>Nombre de villes</th>\n",
       "      <th>Solution</th>\n",
       "      <th>Distance</th>\n",
       "      <th>Temps de calcul (en s)</th>\n",
       "    </tr>\n",
       "  </thead>\n",
       "  <tbody>\n",
       "    <tr>\n",
       "      <th>25</th>\n",
       "      <td>genetique</td>\n",
       "      <td>pbk411</td>\n",
       "      <td>411.0</td>\n",
       "      <td>[300, 317, 248, 258, 82, 20, 97, 161, 162, 321...</td>\n",
       "      <td>14544.528261</td>\n",
       "      <td>3.218786</td>\n",
       "    </tr>\n",
       "    <tr>\n",
       "      <th>30</th>\n",
       "      <td>kohonen</td>\n",
       "      <td>xqg237</td>\n",
       "      <td>237.0</td>\n",
       "      <td>[116, 114, 117, 127, 128, 129, 134, 144, 171, ...</td>\n",
       "      <td>1088.574391</td>\n",
       "      <td>8.891847</td>\n",
       "    </tr>\n",
       "    <tr>\n",
       "      <th>27</th>\n",
       "      <td>kohonen</td>\n",
       "      <td>dj38</td>\n",
       "      <td>38.0</td>\n",
       "      <td>[16, 15, 10, 11, 8, 7, 6, 4, 2, 3, 5, 12, 14, ...</td>\n",
       "      <td>7186.186342</td>\n",
       "      <td>5.587067</td>\n",
       "    </tr>\n",
       "    <tr>\n",
       "      <th>17</th>\n",
       "      <td>2-opt</td>\n",
       "      <td>pbn423</td>\n",
       "      <td>423.0</td>\n",
       "      <td>[0, 15, 39, 52, 62, 72, 84, 89, 90, 85, 74, 64...</td>\n",
       "      <td>1523.493922</td>\n",
       "      <td>0.434660</td>\n",
       "    </tr>\n",
       "    <tr>\n",
       "      <th>22</th>\n",
       "      <td>genetique</td>\n",
       "      <td>pma343</td>\n",
       "      <td>343.0</td>\n",
       "      <td>[271, 224, 197, 274, 258, 231, 226, 280, 260, ...</td>\n",
       "      <td>18401.659611</td>\n",
       "      <td>2.751872</td>\n",
       "    </tr>\n",
       "    <tr>\n",
       "      <th>3</th>\n",
       "      <td>plus_proche_voisin</td>\n",
       "      <td>xqg237</td>\n",
       "      <td>237.0</td>\n",
       "      <td>[0, 7, 8, 4, 5, 1, 9, 10, 11, 6, 2, 3, 12, 24,...</td>\n",
       "      <td>1327.178708</td>\n",
       "      <td>0.007929</td>\n",
       "    </tr>\n",
       "    <tr>\n",
       "      <th>14</th>\n",
       "      <td>2-opt</td>\n",
       "      <td>pka379</td>\n",
       "      <td>379.0</td>\n",
       "      <td>[0, 9, 21, 26, 36, 37, 39, 40, 43, 45, 42, 55,...</td>\n",
       "      <td>1442.426325</td>\n",
       "      <td>0.204132</td>\n",
       "    </tr>\n",
       "    <tr>\n",
       "      <th>23</th>\n",
       "      <td>genetique</td>\n",
       "      <td>pka379</td>\n",
       "      <td>379.0</td>\n",
       "      <td>[143, 174, 243, 247, 207, 248, 198, 47, 31, 82...</td>\n",
       "      <td>20344.333144</td>\n",
       "      <td>3.043928</td>\n",
       "    </tr>\n",
       "    <tr>\n",
       "      <th>1</th>\n",
       "      <td>plus_proche_voisin</td>\n",
       "      <td>xqf131</td>\n",
       "      <td>131.0</td>\n",
       "      <td>[0, 5, 11, 13, 14, 15, 16, 24, 17, 12, 4, 18, ...</td>\n",
       "      <td>709.521628</td>\n",
       "      <td>0.003534</td>\n",
       "    </tr>\n",
       "    <tr>\n",
       "      <th>0</th>\n",
       "      <td>plus_proche_voisin</td>\n",
       "      <td>dj38</td>\n",
       "      <td>38.0</td>\n",
       "      <td>[0, 1, 3, 2, 4, 6, 5, 7, 8, 12, 14, 19, 22, 24...</td>\n",
       "      <td>9748.946705</td>\n",
       "      <td>0.000734</td>\n",
       "    </tr>\n",
       "  </tbody>\n",
       "</table>\n",
       "</div>"
      ],
      "text/plain": [
       "            Algorithme Nom dataset  Nombre de villes  \\\n",
       "25           genetique      pbk411             411.0   \n",
       "30             kohonen      xqg237             237.0   \n",
       "27             kohonen        dj38              38.0   \n",
       "17               2-opt      pbn423             423.0   \n",
       "22           genetique      pma343             343.0   \n",
       "3   plus_proche_voisin      xqg237             237.0   \n",
       "14               2-opt      pka379             379.0   \n",
       "23           genetique      pka379             379.0   \n",
       "1   plus_proche_voisin      xqf131             131.0   \n",
       "0   plus_proche_voisin        dj38              38.0   \n",
       "\n",
       "                                             Solution      Distance  \\\n",
       "25  [300, 317, 248, 258, 82, 20, 97, 161, 162, 321...  14544.528261   \n",
       "30  [116, 114, 117, 127, 128, 129, 134, 144, 171, ...   1088.574391   \n",
       "27  [16, 15, 10, 11, 8, 7, 6, 4, 2, 3, 5, 12, 14, ...   7186.186342   \n",
       "17  [0, 15, 39, 52, 62, 72, 84, 89, 90, 85, 74, 64...   1523.493922   \n",
       "22  [271, 224, 197, 274, 258, 231, 226, 280, 260, ...  18401.659611   \n",
       "3   [0, 7, 8, 4, 5, 1, 9, 10, 11, 6, 2, 3, 12, 24,...   1327.178708   \n",
       "14  [0, 9, 21, 26, 36, 37, 39, 40, 43, 45, 42, 55,...   1442.426325   \n",
       "23  [143, 174, 243, 247, 207, 248, 198, 47, 31, 82...  20344.333144   \n",
       "1   [0, 5, 11, 13, 14, 15, 16, 24, 17, 12, 4, 18, ...    709.521628   \n",
       "0   [0, 1, 3, 2, 4, 6, 5, 7, 8, 12, 14, 19, 22, 24...   9748.946705   \n",
       "\n",
       "    Temps de calcul (en s)  \n",
       "25                3.218786  \n",
       "30                8.891847  \n",
       "27                5.587067  \n",
       "17                0.434660  \n",
       "22                2.751872  \n",
       "3                 0.007929  \n",
       "14                0.204132  \n",
       "23                3.043928  \n",
       "1                 0.003534  \n",
       "0                 0.000734  "
      ]
     },
     "execution_count": 6,
     "metadata": {},
     "output_type": "execute_result"
    }
   ],
   "source": [
    "# Concaténation dans un seul dataframe\n",
    "df = pd.concat([df_1, df_2, df_3, df_4], ignore_index=True)\n",
    "\n",
    "# Sauvegarde des résultats finaux\n",
    "df.to_csv('resultats/csv/test_global_algos.csv')\n",
    "\n",
    "# Affichage de 10 lignes aléatoires du dataframe global\n",
    "df.sample(10)"
   ]
  },
  {
   "attachments": {},
   "cell_type": "markdown",
   "metadata": {},
   "source": [
    "### Affichage des graphiques de comparaison des algorithmes implémentés"
   ]
  },
  {
   "cell_type": "code",
   "execution_count": 7,
   "metadata": {},
   "outputs": [
    {
     "data": {
      "application/vnd.plotly.v1+json": {
       "config": {
        "plotlyServerURL": "https://plot.ly"
       },
       "data": [
        {
         "alignmentgroup": "True",
         "boxpoints": "all",
         "hovertemplate": "Algorithm=%{x}<br>Distance=%{y}<extra></extra>",
         "legendgroup": "Nearest neighbor search",
         "marker": {
          "color": "#FFA15A"
         },
         "name": "Nearest neighbor search",
         "notched": false,
         "offsetgroup": "plus_proche_voisin",
         "orientation": "v",
         "showlegend": true,
         "type": "box",
         "x": [
          "plus_proche_voisin",
          "plus_proche_voisin",
          "plus_proche_voisin",
          "plus_proche_voisin",
          "plus_proche_voisin",
          "plus_proche_voisin",
          "plus_proche_voisin",
          "plus_proche_voisin",
          "plus_proche_voisin"
         ],
         "x0": " ",
         "xaxis": "x",
         "y": [
          9748.94670516838,
          709.5216278258143,
          11892.888058614652,
          1327.1787077467925,
          2135.347948093042,
          1663.2316452038583,
          1688.9586984743191,
          1838.478134243151,
          1910.2169395517565
         ],
         "y0": " ",
         "yaxis": "y"
        },
        {
         "alignmentgroup": "True",
         "boxpoints": "all",
         "hovertemplate": "Algorithm=%{x}<br>Distance=%{y}<extra></extra>",
         "legendgroup": "2-opt inversion",
         "marker": {
          "color": "#19d3f3"
         },
         "name": "2-opt inversion",
         "notched": false,
         "offsetgroup": "2-opt",
         "orientation": "v",
         "showlegend": true,
         "type": "box",
         "x": [
          "2-opt",
          "2-opt",
          "2-opt",
          "2-opt",
          "2-opt",
          "2-opt",
          "2-opt",
          "2-opt",
          "2-opt"
         ],
         "x0": " ",
         "xaxis": "x",
         "y": [
          7245.0454127315215,
          626.1522162332797,
          9888.96562290242,
          1152.1794521218,
          1448.7169662541864,
          1442.4263245121524,
          1420.0595257941015,
          1514.739008311432,
          1523.493922077205
         ],
         "y0": " ",
         "yaxis": "y"
        },
        {
         "alignmentgroup": "True",
         "boxpoints": "all",
         "hovertemplate": "Algorithm=%{x}<br>Distance=%{y}<extra></extra>",
         "legendgroup": "Genetic algorithm",
         "marker": {
          "color": "#FF6692"
         },
         "name": "Genetic algorithm",
         "notched": false,
         "offsetgroup": "genetique",
         "orientation": "v",
         "showlegend": true,
         "type": "box",
         "x": [
          "genetique",
          "genetique",
          "genetique",
          "genetique",
          "genetique",
          "genetique",
          "genetique",
          "genetique",
          "genetique"
         ],
         "x0": " ",
         "xaxis": "x",
         "y": [
          12321.483394451829,
          2103.985073881404,
          46443.97705869,
          6955.9811749044975,
          18401.659610810468,
          20344.33314431266,
          13180.833912246131,
          14544.52826115645,
          14866.849219886552
         ],
         "y0": " ",
         "yaxis": "y"
        },
        {
         "alignmentgroup": "True",
         "boxpoints": "all",
         "hovertemplate": "Algorithm=%{x}<br>Distance=%{y}<extra></extra>",
         "legendgroup": "Kohonen algorithm",
         "marker": {
          "color": "#B6E880"
         },
         "name": "Kohonen algorithm",
         "notched": false,
         "offsetgroup": "kohonen",
         "orientation": "v",
         "showlegend": true,
         "type": "box",
         "x": [
          "kohonen",
          "kohonen",
          "kohonen",
          "kohonen",
          "kohonen",
          "kohonen",
          "kohonen",
          "kohonen",
          "kohonen"
         ],
         "x0": " ",
         "xaxis": "x",
         "y": [
          7186.186341723233,
          581.0233189510056,
          10023.297828054629,
          1088.5743913571732,
          1467.4149551616404,
          1413.9708977265864,
          1398.6198439681973,
          1485.4528333455714,
          1529.1117223904662
         ],
         "y0": " ",
         "yaxis": "y"
        }
       ],
       "layout": {
        "boxmode": "overlay",
        "legend": {
         "title": {
          "text": "Algorithm"
         },
         "tracegroupgap": 0
        },
        "template": {
         "data": {
          "bar": [
           {
            "error_x": {
             "color": "#2a3f5f"
            },
            "error_y": {
             "color": "#2a3f5f"
            },
            "marker": {
             "line": {
              "color": "white",
              "width": 0.5
             },
             "pattern": {
              "fillmode": "overlay",
              "size": 10,
              "solidity": 0.2
             }
            },
            "type": "bar"
           }
          ],
          "barpolar": [
           {
            "marker": {
             "line": {
              "color": "white",
              "width": 0.5
             },
             "pattern": {
              "fillmode": "overlay",
              "size": 10,
              "solidity": 0.2
             }
            },
            "type": "barpolar"
           }
          ],
          "carpet": [
           {
            "aaxis": {
             "endlinecolor": "#2a3f5f",
             "gridcolor": "#C8D4E3",
             "linecolor": "#C8D4E3",
             "minorgridcolor": "#C8D4E3",
             "startlinecolor": "#2a3f5f"
            },
            "baxis": {
             "endlinecolor": "#2a3f5f",
             "gridcolor": "#C8D4E3",
             "linecolor": "#C8D4E3",
             "minorgridcolor": "#C8D4E3",
             "startlinecolor": "#2a3f5f"
            },
            "type": "carpet"
           }
          ],
          "choropleth": [
           {
            "colorbar": {
             "outlinewidth": 0,
             "ticks": ""
            },
            "type": "choropleth"
           }
          ],
          "contour": [
           {
            "colorbar": {
             "outlinewidth": 0,
             "ticks": ""
            },
            "colorscale": [
             [
              0,
              "#0d0887"
             ],
             [
              0.1111111111111111,
              "#46039f"
             ],
             [
              0.2222222222222222,
              "#7201a8"
             ],
             [
              0.3333333333333333,
              "#9c179e"
             ],
             [
              0.4444444444444444,
              "#bd3786"
             ],
             [
              0.5555555555555556,
              "#d8576b"
             ],
             [
              0.6666666666666666,
              "#ed7953"
             ],
             [
              0.7777777777777778,
              "#fb9f3a"
             ],
             [
              0.8888888888888888,
              "#fdca26"
             ],
             [
              1,
              "#f0f921"
             ]
            ],
            "type": "contour"
           }
          ],
          "contourcarpet": [
           {
            "colorbar": {
             "outlinewidth": 0,
             "ticks": ""
            },
            "type": "contourcarpet"
           }
          ],
          "heatmap": [
           {
            "colorbar": {
             "outlinewidth": 0,
             "ticks": ""
            },
            "colorscale": [
             [
              0,
              "#0d0887"
             ],
             [
              0.1111111111111111,
              "#46039f"
             ],
             [
              0.2222222222222222,
              "#7201a8"
             ],
             [
              0.3333333333333333,
              "#9c179e"
             ],
             [
              0.4444444444444444,
              "#bd3786"
             ],
             [
              0.5555555555555556,
              "#d8576b"
             ],
             [
              0.6666666666666666,
              "#ed7953"
             ],
             [
              0.7777777777777778,
              "#fb9f3a"
             ],
             [
              0.8888888888888888,
              "#fdca26"
             ],
             [
              1,
              "#f0f921"
             ]
            ],
            "type": "heatmap"
           }
          ],
          "heatmapgl": [
           {
            "colorbar": {
             "outlinewidth": 0,
             "ticks": ""
            },
            "colorscale": [
             [
              0,
              "#0d0887"
             ],
             [
              0.1111111111111111,
              "#46039f"
             ],
             [
              0.2222222222222222,
              "#7201a8"
             ],
             [
              0.3333333333333333,
              "#9c179e"
             ],
             [
              0.4444444444444444,
              "#bd3786"
             ],
             [
              0.5555555555555556,
              "#d8576b"
             ],
             [
              0.6666666666666666,
              "#ed7953"
             ],
             [
              0.7777777777777778,
              "#fb9f3a"
             ],
             [
              0.8888888888888888,
              "#fdca26"
             ],
             [
              1,
              "#f0f921"
             ]
            ],
            "type": "heatmapgl"
           }
          ],
          "histogram": [
           {
            "marker": {
             "pattern": {
              "fillmode": "overlay",
              "size": 10,
              "solidity": 0.2
             }
            },
            "type": "histogram"
           }
          ],
          "histogram2d": [
           {
            "colorbar": {
             "outlinewidth": 0,
             "ticks": ""
            },
            "colorscale": [
             [
              0,
              "#0d0887"
             ],
             [
              0.1111111111111111,
              "#46039f"
             ],
             [
              0.2222222222222222,
              "#7201a8"
             ],
             [
              0.3333333333333333,
              "#9c179e"
             ],
             [
              0.4444444444444444,
              "#bd3786"
             ],
             [
              0.5555555555555556,
              "#d8576b"
             ],
             [
              0.6666666666666666,
              "#ed7953"
             ],
             [
              0.7777777777777778,
              "#fb9f3a"
             ],
             [
              0.8888888888888888,
              "#fdca26"
             ],
             [
              1,
              "#f0f921"
             ]
            ],
            "type": "histogram2d"
           }
          ],
          "histogram2dcontour": [
           {
            "colorbar": {
             "outlinewidth": 0,
             "ticks": ""
            },
            "colorscale": [
             [
              0,
              "#0d0887"
             ],
             [
              0.1111111111111111,
              "#46039f"
             ],
             [
              0.2222222222222222,
              "#7201a8"
             ],
             [
              0.3333333333333333,
              "#9c179e"
             ],
             [
              0.4444444444444444,
              "#bd3786"
             ],
             [
              0.5555555555555556,
              "#d8576b"
             ],
             [
              0.6666666666666666,
              "#ed7953"
             ],
             [
              0.7777777777777778,
              "#fb9f3a"
             ],
             [
              0.8888888888888888,
              "#fdca26"
             ],
             [
              1,
              "#f0f921"
             ]
            ],
            "type": "histogram2dcontour"
           }
          ],
          "mesh3d": [
           {
            "colorbar": {
             "outlinewidth": 0,
             "ticks": ""
            },
            "type": "mesh3d"
           }
          ],
          "parcoords": [
           {
            "line": {
             "colorbar": {
              "outlinewidth": 0,
              "ticks": ""
             }
            },
            "type": "parcoords"
           }
          ],
          "pie": [
           {
            "automargin": true,
            "type": "pie"
           }
          ],
          "scatter": [
           {
            "fillpattern": {
             "fillmode": "overlay",
             "size": 10,
             "solidity": 0.2
            },
            "type": "scatter"
           }
          ],
          "scatter3d": [
           {
            "line": {
             "colorbar": {
              "outlinewidth": 0,
              "ticks": ""
             }
            },
            "marker": {
             "colorbar": {
              "outlinewidth": 0,
              "ticks": ""
             }
            },
            "type": "scatter3d"
           }
          ],
          "scattercarpet": [
           {
            "marker": {
             "colorbar": {
              "outlinewidth": 0,
              "ticks": ""
             }
            },
            "type": "scattercarpet"
           }
          ],
          "scattergeo": [
           {
            "marker": {
             "colorbar": {
              "outlinewidth": 0,
              "ticks": ""
             }
            },
            "type": "scattergeo"
           }
          ],
          "scattergl": [
           {
            "marker": {
             "colorbar": {
              "outlinewidth": 0,
              "ticks": ""
             }
            },
            "type": "scattergl"
           }
          ],
          "scattermapbox": [
           {
            "marker": {
             "colorbar": {
              "outlinewidth": 0,
              "ticks": ""
             }
            },
            "type": "scattermapbox"
           }
          ],
          "scatterpolar": [
           {
            "marker": {
             "colorbar": {
              "outlinewidth": 0,
              "ticks": ""
             }
            },
            "type": "scatterpolar"
           }
          ],
          "scatterpolargl": [
           {
            "marker": {
             "colorbar": {
              "outlinewidth": 0,
              "ticks": ""
             }
            },
            "type": "scatterpolargl"
           }
          ],
          "scatterternary": [
           {
            "marker": {
             "colorbar": {
              "outlinewidth": 0,
              "ticks": ""
             }
            },
            "type": "scatterternary"
           }
          ],
          "surface": [
           {
            "colorbar": {
             "outlinewidth": 0,
             "ticks": ""
            },
            "colorscale": [
             [
              0,
              "#0d0887"
             ],
             [
              0.1111111111111111,
              "#46039f"
             ],
             [
              0.2222222222222222,
              "#7201a8"
             ],
             [
              0.3333333333333333,
              "#9c179e"
             ],
             [
              0.4444444444444444,
              "#bd3786"
             ],
             [
              0.5555555555555556,
              "#d8576b"
             ],
             [
              0.6666666666666666,
              "#ed7953"
             ],
             [
              0.7777777777777778,
              "#fb9f3a"
             ],
             [
              0.8888888888888888,
              "#fdca26"
             ],
             [
              1,
              "#f0f921"
             ]
            ],
            "type": "surface"
           }
          ],
          "table": [
           {
            "cells": {
             "fill": {
              "color": "#EBF0F8"
             },
             "line": {
              "color": "white"
             }
            },
            "header": {
             "fill": {
              "color": "#C8D4E3"
             },
             "line": {
              "color": "white"
             }
            },
            "type": "table"
           }
          ]
         },
         "layout": {
          "annotationdefaults": {
           "arrowcolor": "#2a3f5f",
           "arrowhead": 0,
           "arrowwidth": 1
          },
          "autotypenumbers": "strict",
          "coloraxis": {
           "colorbar": {
            "outlinewidth": 0,
            "ticks": ""
           }
          },
          "colorscale": {
           "diverging": [
            [
             0,
             "#8e0152"
            ],
            [
             0.1,
             "#c51b7d"
            ],
            [
             0.2,
             "#de77ae"
            ],
            [
             0.3,
             "#f1b6da"
            ],
            [
             0.4,
             "#fde0ef"
            ],
            [
             0.5,
             "#f7f7f7"
            ],
            [
             0.6,
             "#e6f5d0"
            ],
            [
             0.7,
             "#b8e186"
            ],
            [
             0.8,
             "#7fbc41"
            ],
            [
             0.9,
             "#4d9221"
            ],
            [
             1,
             "#276419"
            ]
           ],
           "sequential": [
            [
             0,
             "#0d0887"
            ],
            [
             0.1111111111111111,
             "#46039f"
            ],
            [
             0.2222222222222222,
             "#7201a8"
            ],
            [
             0.3333333333333333,
             "#9c179e"
            ],
            [
             0.4444444444444444,
             "#bd3786"
            ],
            [
             0.5555555555555556,
             "#d8576b"
            ],
            [
             0.6666666666666666,
             "#ed7953"
            ],
            [
             0.7777777777777778,
             "#fb9f3a"
            ],
            [
             0.8888888888888888,
             "#fdca26"
            ],
            [
             1,
             "#f0f921"
            ]
           ],
           "sequentialminus": [
            [
             0,
             "#0d0887"
            ],
            [
             0.1111111111111111,
             "#46039f"
            ],
            [
             0.2222222222222222,
             "#7201a8"
            ],
            [
             0.3333333333333333,
             "#9c179e"
            ],
            [
             0.4444444444444444,
             "#bd3786"
            ],
            [
             0.5555555555555556,
             "#d8576b"
            ],
            [
             0.6666666666666666,
             "#ed7953"
            ],
            [
             0.7777777777777778,
             "#fb9f3a"
            ],
            [
             0.8888888888888888,
             "#fdca26"
            ],
            [
             1,
             "#f0f921"
            ]
           ]
          },
          "colorway": [
           "#636efa",
           "#EF553B",
           "#00cc96",
           "#ab63fa",
           "#FFA15A",
           "#19d3f3",
           "#FF6692",
           "#B6E880",
           "#FF97FF",
           "#FECB52"
          ],
          "font": {
           "color": "#2a3f5f"
          },
          "geo": {
           "bgcolor": "white",
           "lakecolor": "white",
           "landcolor": "white",
           "showlakes": true,
           "showland": true,
           "subunitcolor": "#C8D4E3"
          },
          "hoverlabel": {
           "align": "left"
          },
          "hovermode": "closest",
          "mapbox": {
           "style": "light"
          },
          "paper_bgcolor": "white",
          "plot_bgcolor": "white",
          "polar": {
           "angularaxis": {
            "gridcolor": "#EBF0F8",
            "linecolor": "#EBF0F8",
            "ticks": ""
           },
           "bgcolor": "white",
           "radialaxis": {
            "gridcolor": "#EBF0F8",
            "linecolor": "#EBF0F8",
            "ticks": ""
           }
          },
          "scene": {
           "xaxis": {
            "backgroundcolor": "white",
            "gridcolor": "#DFE8F3",
            "gridwidth": 2,
            "linecolor": "#EBF0F8",
            "showbackground": true,
            "ticks": "",
            "zerolinecolor": "#EBF0F8"
           },
           "yaxis": {
            "backgroundcolor": "white",
            "gridcolor": "#DFE8F3",
            "gridwidth": 2,
            "linecolor": "#EBF0F8",
            "showbackground": true,
            "ticks": "",
            "zerolinecolor": "#EBF0F8"
           },
           "zaxis": {
            "backgroundcolor": "white",
            "gridcolor": "#DFE8F3",
            "gridwidth": 2,
            "linecolor": "#EBF0F8",
            "showbackground": true,
            "ticks": "",
            "zerolinecolor": "#EBF0F8"
           }
          },
          "shapedefaults": {
           "line": {
            "color": "#2a3f5f"
           }
          },
          "ternary": {
           "aaxis": {
            "gridcolor": "#DFE8F3",
            "linecolor": "#A2B1C6",
            "ticks": ""
           },
           "baxis": {
            "gridcolor": "#DFE8F3",
            "linecolor": "#A2B1C6",
            "ticks": ""
           },
           "bgcolor": "white",
           "caxis": {
            "gridcolor": "#DFE8F3",
            "linecolor": "#A2B1C6",
            "ticks": ""
           }
          },
          "title": {
           "x": 0.05
          },
          "xaxis": {
           "automargin": true,
           "gridcolor": "#EBF0F8",
           "linecolor": "#EBF0F8",
           "ticks": "",
           "title": {
            "standoff": 15
           },
           "zerolinecolor": "#EBF0F8",
           "zerolinewidth": 2
          },
          "yaxis": {
           "automargin": true,
           "gridcolor": "#EBF0F8",
           "linecolor": "#EBF0F8",
           "ticks": "",
           "title": {
            "standoff": 15
           },
           "zerolinecolor": "#EBF0F8",
           "zerolinewidth": 2
          }
         }
        },
        "title": {
         "text": "Distance of the path found according to the algorithm"
        },
        "xaxis": {
         "anchor": "y",
         "categoryarray": [
          "2-opt inversion",
          "Nearest neighbor search",
          "Genetic algorithm",
          "Kohonen algorithm",
          "plus_proche_voisin",
          "2-opt",
          "genetique",
          "kohonen"
         ],
         "categoryorder": "array",
         "domain": [
          0,
          1
         ],
         "title": {
          "text": "Algorithm"
         }
        },
        "yaxis": {
         "anchor": "x",
         "domain": [
          0,
          1
         ],
         "title": {
          "text": "Distance"
         }
        }
       }
      }
     },
     "metadata": {},
     "output_type": "display_data"
    },
    {
     "data": {
      "application/vnd.plotly.v1+json": {
       "config": {
        "plotlyServerURL": "https://plot.ly"
       },
       "data": [
        {
         "hovertemplate": "Algorithm=Nearest neighbor search<br>Number of cities=%{x}<br>Calculation time (in s)=%{y}<extra></extra>",
         "legendgroup": "Nearest neighbor search",
         "line": {
          "color": "#636efa",
          "dash": "solid"
         },
         "marker": {
          "symbol": "circle"
         },
         "mode": "markers+lines",
         "name": "Nearest neighbor search",
         "orientation": "v",
         "showlegend": true,
         "type": "scatter",
         "x": [
          38,
          131,
          194,
          237,
          343,
          379,
          395,
          411,
          423
         ],
         "xaxis": "x",
         "y": [
          0.0007338523864746,
          0.0035340785980224,
          0.0062019824981689,
          0.0079288482666015,
          0.0146238803863525,
          0.0180189609527587,
          0.0177950859069824,
          0.0190222263336181,
          0.0202109813690185
         ],
         "yaxis": "y"
        },
        {
         "hovertemplate": "Algorithm=2-opt inversion<br>Number of cities=%{x}<br>Calculation time (in s)=%{y}<extra></extra>",
         "legendgroup": "2-opt inversion",
         "line": {
          "color": "#EF553B",
          "dash": "solid"
         },
         "marker": {
          "symbol": "circle"
         },
         "mode": "markers+lines",
         "name": "2-opt inversion",
         "orientation": "v",
         "showlegend": true,
         "type": "scatter",
         "x": [
          38,
          131,
          194,
          237,
          343,
          379,
          395,
          411,
          423
         ],
         "xaxis": "x",
         "y": [
          0.0032131671905517,
          0.0224449634552001,
          0.0676510334014892,
          0.1302931308746338,
          0.3348410129547119,
          0.2041323184967041,
          0.2774028778076172,
          0.4113800525665283,
          0.4346601963043213
         ],
         "yaxis": "y"
        },
        {
         "hovertemplate": "Algorithm=Genetic algorithm<br>Number of cities=%{x}<br>Calculation time (in s)=%{y}<extra></extra>",
         "legendgroup": "Genetic algorithm",
         "line": {
          "color": "#00cc96",
          "dash": "solid"
         },
         "marker": {
          "symbol": "circle"
         },
         "mode": "markers+lines",
         "name": "Genetic algorithm",
         "orientation": "v",
         "showlegend": true,
         "type": "scatter",
         "x": [
          38,
          131,
          194,
          237,
          343,
          379,
          395,
          411,
          423
         ],
         "xaxis": "x",
         "y": [
          0.7500479221343994,
          1.3534510135650637,
          1.79150128364563,
          2.0526227951049805,
          2.751872062683105,
          3.0439281463623047,
          3.1809840202331543,
          3.2187862396240234,
          3.281469345092773
         ],
         "yaxis": "y"
        },
        {
         "hovertemplate": "Algorithm=Kohonen algorithm<br>Number of cities=%{x}<br>Calculation time (in s)=%{y}<extra></extra>",
         "legendgroup": "Kohonen algorithm",
         "line": {
          "color": "#ab63fa",
          "dash": "solid"
         },
         "marker": {
          "symbol": "circle"
         },
         "mode": "markers+lines",
         "name": "Kohonen algorithm",
         "orientation": "v",
         "showlegend": true,
         "type": "scatter",
         "x": [
          38,
          131,
          194,
          237,
          343,
          379,
          395,
          411,
          423
         ],
         "xaxis": "x",
         "y": [
          5.587067127227783,
          7.362287759780884,
          8.272053956985474,
          8.891846895217896,
          10.155750036239624,
          10.583327054977415,
          10.818015098571776,
          11.055015802383425,
          11.11238980293274
         ],
         "yaxis": "y"
        }
       ],
       "layout": {
        "legend": {
         "title": {
          "text": "Algorithm"
         },
         "tracegroupgap": 0
        },
        "template": {
         "data": {
          "bar": [
           {
            "error_x": {
             "color": "#2a3f5f"
            },
            "error_y": {
             "color": "#2a3f5f"
            },
            "marker": {
             "line": {
              "color": "white",
              "width": 0.5
             },
             "pattern": {
              "fillmode": "overlay",
              "size": 10,
              "solidity": 0.2
             }
            },
            "type": "bar"
           }
          ],
          "barpolar": [
           {
            "marker": {
             "line": {
              "color": "white",
              "width": 0.5
             },
             "pattern": {
              "fillmode": "overlay",
              "size": 10,
              "solidity": 0.2
             }
            },
            "type": "barpolar"
           }
          ],
          "carpet": [
           {
            "aaxis": {
             "endlinecolor": "#2a3f5f",
             "gridcolor": "#C8D4E3",
             "linecolor": "#C8D4E3",
             "minorgridcolor": "#C8D4E3",
             "startlinecolor": "#2a3f5f"
            },
            "baxis": {
             "endlinecolor": "#2a3f5f",
             "gridcolor": "#C8D4E3",
             "linecolor": "#C8D4E3",
             "minorgridcolor": "#C8D4E3",
             "startlinecolor": "#2a3f5f"
            },
            "type": "carpet"
           }
          ],
          "choropleth": [
           {
            "colorbar": {
             "outlinewidth": 0,
             "ticks": ""
            },
            "type": "choropleth"
           }
          ],
          "contour": [
           {
            "colorbar": {
             "outlinewidth": 0,
             "ticks": ""
            },
            "colorscale": [
             [
              0,
              "#0d0887"
             ],
             [
              0.1111111111111111,
              "#46039f"
             ],
             [
              0.2222222222222222,
              "#7201a8"
             ],
             [
              0.3333333333333333,
              "#9c179e"
             ],
             [
              0.4444444444444444,
              "#bd3786"
             ],
             [
              0.5555555555555556,
              "#d8576b"
             ],
             [
              0.6666666666666666,
              "#ed7953"
             ],
             [
              0.7777777777777778,
              "#fb9f3a"
             ],
             [
              0.8888888888888888,
              "#fdca26"
             ],
             [
              1,
              "#f0f921"
             ]
            ],
            "type": "contour"
           }
          ],
          "contourcarpet": [
           {
            "colorbar": {
             "outlinewidth": 0,
             "ticks": ""
            },
            "type": "contourcarpet"
           }
          ],
          "heatmap": [
           {
            "colorbar": {
             "outlinewidth": 0,
             "ticks": ""
            },
            "colorscale": [
             [
              0,
              "#0d0887"
             ],
             [
              0.1111111111111111,
              "#46039f"
             ],
             [
              0.2222222222222222,
              "#7201a8"
             ],
             [
              0.3333333333333333,
              "#9c179e"
             ],
             [
              0.4444444444444444,
              "#bd3786"
             ],
             [
              0.5555555555555556,
              "#d8576b"
             ],
             [
              0.6666666666666666,
              "#ed7953"
             ],
             [
              0.7777777777777778,
              "#fb9f3a"
             ],
             [
              0.8888888888888888,
              "#fdca26"
             ],
             [
              1,
              "#f0f921"
             ]
            ],
            "type": "heatmap"
           }
          ],
          "heatmapgl": [
           {
            "colorbar": {
             "outlinewidth": 0,
             "ticks": ""
            },
            "colorscale": [
             [
              0,
              "#0d0887"
             ],
             [
              0.1111111111111111,
              "#46039f"
             ],
             [
              0.2222222222222222,
              "#7201a8"
             ],
             [
              0.3333333333333333,
              "#9c179e"
             ],
             [
              0.4444444444444444,
              "#bd3786"
             ],
             [
              0.5555555555555556,
              "#d8576b"
             ],
             [
              0.6666666666666666,
              "#ed7953"
             ],
             [
              0.7777777777777778,
              "#fb9f3a"
             ],
             [
              0.8888888888888888,
              "#fdca26"
             ],
             [
              1,
              "#f0f921"
             ]
            ],
            "type": "heatmapgl"
           }
          ],
          "histogram": [
           {
            "marker": {
             "pattern": {
              "fillmode": "overlay",
              "size": 10,
              "solidity": 0.2
             }
            },
            "type": "histogram"
           }
          ],
          "histogram2d": [
           {
            "colorbar": {
             "outlinewidth": 0,
             "ticks": ""
            },
            "colorscale": [
             [
              0,
              "#0d0887"
             ],
             [
              0.1111111111111111,
              "#46039f"
             ],
             [
              0.2222222222222222,
              "#7201a8"
             ],
             [
              0.3333333333333333,
              "#9c179e"
             ],
             [
              0.4444444444444444,
              "#bd3786"
             ],
             [
              0.5555555555555556,
              "#d8576b"
             ],
             [
              0.6666666666666666,
              "#ed7953"
             ],
             [
              0.7777777777777778,
              "#fb9f3a"
             ],
             [
              0.8888888888888888,
              "#fdca26"
             ],
             [
              1,
              "#f0f921"
             ]
            ],
            "type": "histogram2d"
           }
          ],
          "histogram2dcontour": [
           {
            "colorbar": {
             "outlinewidth": 0,
             "ticks": ""
            },
            "colorscale": [
             [
              0,
              "#0d0887"
             ],
             [
              0.1111111111111111,
              "#46039f"
             ],
             [
              0.2222222222222222,
              "#7201a8"
             ],
             [
              0.3333333333333333,
              "#9c179e"
             ],
             [
              0.4444444444444444,
              "#bd3786"
             ],
             [
              0.5555555555555556,
              "#d8576b"
             ],
             [
              0.6666666666666666,
              "#ed7953"
             ],
             [
              0.7777777777777778,
              "#fb9f3a"
             ],
             [
              0.8888888888888888,
              "#fdca26"
             ],
             [
              1,
              "#f0f921"
             ]
            ],
            "type": "histogram2dcontour"
           }
          ],
          "mesh3d": [
           {
            "colorbar": {
             "outlinewidth": 0,
             "ticks": ""
            },
            "type": "mesh3d"
           }
          ],
          "parcoords": [
           {
            "line": {
             "colorbar": {
              "outlinewidth": 0,
              "ticks": ""
             }
            },
            "type": "parcoords"
           }
          ],
          "pie": [
           {
            "automargin": true,
            "type": "pie"
           }
          ],
          "scatter": [
           {
            "fillpattern": {
             "fillmode": "overlay",
             "size": 10,
             "solidity": 0.2
            },
            "type": "scatter"
           }
          ],
          "scatter3d": [
           {
            "line": {
             "colorbar": {
              "outlinewidth": 0,
              "ticks": ""
             }
            },
            "marker": {
             "colorbar": {
              "outlinewidth": 0,
              "ticks": ""
             }
            },
            "type": "scatter3d"
           }
          ],
          "scattercarpet": [
           {
            "marker": {
             "colorbar": {
              "outlinewidth": 0,
              "ticks": ""
             }
            },
            "type": "scattercarpet"
           }
          ],
          "scattergeo": [
           {
            "marker": {
             "colorbar": {
              "outlinewidth": 0,
              "ticks": ""
             }
            },
            "type": "scattergeo"
           }
          ],
          "scattergl": [
           {
            "marker": {
             "colorbar": {
              "outlinewidth": 0,
              "ticks": ""
             }
            },
            "type": "scattergl"
           }
          ],
          "scattermapbox": [
           {
            "marker": {
             "colorbar": {
              "outlinewidth": 0,
              "ticks": ""
             }
            },
            "type": "scattermapbox"
           }
          ],
          "scatterpolar": [
           {
            "marker": {
             "colorbar": {
              "outlinewidth": 0,
              "ticks": ""
             }
            },
            "type": "scatterpolar"
           }
          ],
          "scatterpolargl": [
           {
            "marker": {
             "colorbar": {
              "outlinewidth": 0,
              "ticks": ""
             }
            },
            "type": "scatterpolargl"
           }
          ],
          "scatterternary": [
           {
            "marker": {
             "colorbar": {
              "outlinewidth": 0,
              "ticks": ""
             }
            },
            "type": "scatterternary"
           }
          ],
          "surface": [
           {
            "colorbar": {
             "outlinewidth": 0,
             "ticks": ""
            },
            "colorscale": [
             [
              0,
              "#0d0887"
             ],
             [
              0.1111111111111111,
              "#46039f"
             ],
             [
              0.2222222222222222,
              "#7201a8"
             ],
             [
              0.3333333333333333,
              "#9c179e"
             ],
             [
              0.4444444444444444,
              "#bd3786"
             ],
             [
              0.5555555555555556,
              "#d8576b"
             ],
             [
              0.6666666666666666,
              "#ed7953"
             ],
             [
              0.7777777777777778,
              "#fb9f3a"
             ],
             [
              0.8888888888888888,
              "#fdca26"
             ],
             [
              1,
              "#f0f921"
             ]
            ],
            "type": "surface"
           }
          ],
          "table": [
           {
            "cells": {
             "fill": {
              "color": "#EBF0F8"
             },
             "line": {
              "color": "white"
             }
            },
            "header": {
             "fill": {
              "color": "#C8D4E3"
             },
             "line": {
              "color": "white"
             }
            },
            "type": "table"
           }
          ]
         },
         "layout": {
          "annotationdefaults": {
           "arrowcolor": "#2a3f5f",
           "arrowhead": 0,
           "arrowwidth": 1
          },
          "autotypenumbers": "strict",
          "coloraxis": {
           "colorbar": {
            "outlinewidth": 0,
            "ticks": ""
           }
          },
          "colorscale": {
           "diverging": [
            [
             0,
             "#8e0152"
            ],
            [
             0.1,
             "#c51b7d"
            ],
            [
             0.2,
             "#de77ae"
            ],
            [
             0.3,
             "#f1b6da"
            ],
            [
             0.4,
             "#fde0ef"
            ],
            [
             0.5,
             "#f7f7f7"
            ],
            [
             0.6,
             "#e6f5d0"
            ],
            [
             0.7,
             "#b8e186"
            ],
            [
             0.8,
             "#7fbc41"
            ],
            [
             0.9,
             "#4d9221"
            ],
            [
             1,
             "#276419"
            ]
           ],
           "sequential": [
            [
             0,
             "#0d0887"
            ],
            [
             0.1111111111111111,
             "#46039f"
            ],
            [
             0.2222222222222222,
             "#7201a8"
            ],
            [
             0.3333333333333333,
             "#9c179e"
            ],
            [
             0.4444444444444444,
             "#bd3786"
            ],
            [
             0.5555555555555556,
             "#d8576b"
            ],
            [
             0.6666666666666666,
             "#ed7953"
            ],
            [
             0.7777777777777778,
             "#fb9f3a"
            ],
            [
             0.8888888888888888,
             "#fdca26"
            ],
            [
             1,
             "#f0f921"
            ]
           ],
           "sequentialminus": [
            [
             0,
             "#0d0887"
            ],
            [
             0.1111111111111111,
             "#46039f"
            ],
            [
             0.2222222222222222,
             "#7201a8"
            ],
            [
             0.3333333333333333,
             "#9c179e"
            ],
            [
             0.4444444444444444,
             "#bd3786"
            ],
            [
             0.5555555555555556,
             "#d8576b"
            ],
            [
             0.6666666666666666,
             "#ed7953"
            ],
            [
             0.7777777777777778,
             "#fb9f3a"
            ],
            [
             0.8888888888888888,
             "#fdca26"
            ],
            [
             1,
             "#f0f921"
            ]
           ]
          },
          "colorway": [
           "#636efa",
           "#EF553B",
           "#00cc96",
           "#ab63fa",
           "#FFA15A",
           "#19d3f3",
           "#FF6692",
           "#B6E880",
           "#FF97FF",
           "#FECB52"
          ],
          "font": {
           "color": "#2a3f5f"
          },
          "geo": {
           "bgcolor": "white",
           "lakecolor": "white",
           "landcolor": "white",
           "showlakes": true,
           "showland": true,
           "subunitcolor": "#C8D4E3"
          },
          "hoverlabel": {
           "align": "left"
          },
          "hovermode": "closest",
          "mapbox": {
           "style": "light"
          },
          "paper_bgcolor": "white",
          "plot_bgcolor": "white",
          "polar": {
           "angularaxis": {
            "gridcolor": "#EBF0F8",
            "linecolor": "#EBF0F8",
            "ticks": ""
           },
           "bgcolor": "white",
           "radialaxis": {
            "gridcolor": "#EBF0F8",
            "linecolor": "#EBF0F8",
            "ticks": ""
           }
          },
          "scene": {
           "xaxis": {
            "backgroundcolor": "white",
            "gridcolor": "#DFE8F3",
            "gridwidth": 2,
            "linecolor": "#EBF0F8",
            "showbackground": true,
            "ticks": "",
            "zerolinecolor": "#EBF0F8"
           },
           "yaxis": {
            "backgroundcolor": "white",
            "gridcolor": "#DFE8F3",
            "gridwidth": 2,
            "linecolor": "#EBF0F8",
            "showbackground": true,
            "ticks": "",
            "zerolinecolor": "#EBF0F8"
           },
           "zaxis": {
            "backgroundcolor": "white",
            "gridcolor": "#DFE8F3",
            "gridwidth": 2,
            "linecolor": "#EBF0F8",
            "showbackground": true,
            "ticks": "",
            "zerolinecolor": "#EBF0F8"
           }
          },
          "shapedefaults": {
           "line": {
            "color": "#2a3f5f"
           }
          },
          "ternary": {
           "aaxis": {
            "gridcolor": "#DFE8F3",
            "linecolor": "#A2B1C6",
            "ticks": ""
           },
           "baxis": {
            "gridcolor": "#DFE8F3",
            "linecolor": "#A2B1C6",
            "ticks": ""
           },
           "bgcolor": "white",
           "caxis": {
            "gridcolor": "#DFE8F3",
            "linecolor": "#A2B1C6",
            "ticks": ""
           }
          },
          "title": {
           "x": 0.05
          },
          "xaxis": {
           "automargin": true,
           "gridcolor": "#EBF0F8",
           "linecolor": "#EBF0F8",
           "ticks": "",
           "title": {
            "standoff": 15
           },
           "zerolinecolor": "#EBF0F8",
           "zerolinewidth": 2
          },
          "yaxis": {
           "automargin": true,
           "gridcolor": "#EBF0F8",
           "linecolor": "#EBF0F8",
           "ticks": "",
           "title": {
            "standoff": 15
           },
           "zerolinecolor": "#EBF0F8",
           "zerolinewidth": 2
          }
         }
        },
        "title": {
         "text": "Representation of the calculation time according to the number of cities to explore"
        },
        "xaxis": {
         "anchor": "y",
         "domain": [
          0,
          1
         ],
         "title": {
          "text": "Number of cities"
         }
        },
        "yaxis": {
         "anchor": "x",
         "domain": [
          0,
          1
         ],
         "title": {
          "text": "Calculation time (in s)"
         },
         "type": "log"
        }
       }
      }
     },
     "metadata": {},
     "output_type": "display_data"
    }
   ],
   "source": [
    "# Création des visuels d'analyse des algorithmes\n",
    "\n",
    "fig_analyse_distance=representation_resultats('resultats/csv/test_global_algos.csv')\n",
    "fig_analyse_distance.show()\n",
    "\n",
    "fig_analyse_temps_cacul=representation_temps_calcul('resultats/csv/test_global_algos.csv')\n",
    "fig_analyse_temps_cacul.show()"
   ]
  },
  {
   "attachments": {},
   "cell_type": "markdown",
   "metadata": {},
   "source": [
    "# Réalisation des tests unitaires (avec visualisation)\n"
   ]
  },
  {
   "attachments": {},
   "cell_type": "markdown",
   "metadata": {},
   "source": [
    "### Initialisation du dataset et de l'algorithme de test"
   ]
  },
  {
   "cell_type": "code",
   "execution_count": 2,
   "metadata": {},
   "outputs": [
    {
     "name": "stdout",
     "output_type": "stream",
     "text": [
      "Les tests vont se réaliser sur le fichier 'xqf131' en utilisant l'algorithme '2-opt'\n"
     ]
    }
   ],
   "source": [
    "# Nom des dataset de test\n",
    "ENSEMBLE_TEST = ['dj38', 'xqf131', 'qa194', 'xqg237',\n",
    "                 'pma343', 'pka379', 'pbl395', 'pbk411', 'pbn423']\n",
    "# Nom des algorithmes implémentés\n",
    "ENSEMBLE_ALGOS = ['2-opt', 'plus_proche_voisin', 'genetique', 'kohonen']\n",
    "\n",
    "choix_data_test=random.randint(0,len(ENSEMBLE_TEST)-1)\n",
    "choix_algo_test=random.randint(0,len(ENSEMBLE_ALGOS)-1)\n",
    "print(f\"Les tests vont se réaliser sur le fichier '{ENSEMBLE_TEST[choix_data_test]}' en utilisant l'algorithme '{ENSEMBLE_ALGOS[choix_algo_test]}'\")"
   ]
  },
  {
   "attachments": {},
   "cell_type": "markdown",
   "metadata": {},
   "source": [
    "### Lancement du test unitaire afin d'observer le chemin final trouvé"
   ]
  },
  {
   "cell_type": "code",
   "execution_count": 3,
   "metadata": {},
   "outputs": [
    {
     "data": {
      "application/vnd.plotly.v1+json": {
       "config": {
        "plotlyServerURL": "https://plot.ly"
       },
       "data": [
        {
         "hovertemplate": "x=%{x}<br>y=%{y}<extra></extra>",
         "legendgroup": "",
         "marker": {
          "color": "#1F77B4",
          "symbol": "circle"
         },
         "mode": "markers",
         "name": "",
         "orientation": "v",
         "showlegend": false,
         "type": "scatter",
         "x": [
          0,
          0,
          0,
          0,
          2,
          5,
          5,
          5,
          5,
          5,
          5,
          5,
          8,
          9,
          10,
          11,
          12,
          12,
          15,
          15,
          15,
          15,
          15,
          15,
          15,
          18,
          18,
          18,
          18,
          18,
          18,
          18,
          18,
          18,
          18,
          18,
          18,
          18,
          18,
          18,
          18,
          18,
          18,
          18,
          25,
          25,
          25,
          25,
          25,
          25,
          25,
          25,
          25,
          28,
          28,
          28,
          28,
          28,
          28,
          28,
          28,
          32,
          32,
          33,
          33,
          33,
          33,
          34,
          34,
          34,
          34,
          34,
          34,
          34,
          35,
          35,
          38,
          38,
          38,
          38,
          40,
          41,
          41,
          41,
          41,
          41,
          48,
          48,
          48,
          51,
          51,
          56,
          57,
          57,
          57,
          61,
          61,
          63,
          64,
          71,
          71,
          71,
          71,
          71,
          74,
          74,
          74,
          74,
          74,
          74,
          74,
          74,
          77,
          78,
          78,
          78,
          78,
          79,
          79,
          79,
          80,
          80,
          80,
          81,
          84,
          84,
          84,
          84,
          84,
          84,
          107
         ],
         "xaxis": "x",
         "y": [
          13,
          26,
          27,
          39,
          0,
          13,
          19,
          25,
          31,
          37,
          43,
          8,
          0,
          10,
          10,
          10,
          10,
          5,
          13,
          19,
          25,
          31,
          37,
          43,
          8,
          11,
          13,
          15,
          17,
          19,
          21,
          23,
          25,
          27,
          29,
          31,
          33,
          35,
          37,
          39,
          41,
          42,
          44,
          45,
          11,
          15,
          22,
          23,
          24,
          26,
          28,
          29,
          9,
          16,
          20,
          28,
          30,
          34,
          40,
          43,
          47,
          26,
          31,
          15,
          26,
          29,
          31,
          15,
          26,
          29,
          31,
          38,
          41,
          5,
          17,
          31,
          16,
          20,
          30,
          34,
          22,
          23,
          32,
          34,
          35,
          36,
          22,
          27,
          6,
          45,
          47,
          25,
          12,
          25,
          44,
          45,
          47,
          6,
          22,
          11,
          13,
          16,
          45,
          47,
          12,
          16,
          20,
          24,
          29,
          35,
          39,
          6,
          21,
          10,
          32,
          35,
          39,
          10,
          33,
          37,
          10,
          41,
          5,
          17,
          20,
          24,
          29,
          34,
          38,
          6,
          27
         ],
         "yaxis": "y"
        },
        {
         "mode": "lines",
         "showlegend": false,
         "type": "scatter",
         "x": [
          0,
          2,
          8,
          12,
          15,
          25,
          34,
          48,
          63,
          74,
          80,
          84,
          80,
          79,
          78,
          74,
          71,
          57,
          48,
          48,
          56,
          57,
          64,
          71,
          71,
          74,
          74,
          81,
          84,
          107,
          84,
          77,
          74,
          74,
          84,
          84,
          84,
          80,
          78,
          79,
          78,
          79,
          78,
          74,
          74,
          71,
          71,
          61,
          61,
          57,
          51,
          51,
          28,
          34,
          34,
          38,
          41,
          41,
          41,
          41,
          38,
          35,
          34,
          33,
          32,
          33,
          34,
          32,
          33,
          34,
          41,
          40,
          38,
          38,
          35,
          34,
          33,
          25,
          25,
          28,
          28,
          25,
          25,
          25,
          25,
          25,
          25,
          28,
          28,
          28,
          28,
          28,
          18,
          18,
          15,
          5,
          0,
          5,
          5,
          0,
          0,
          5,
          5,
          15,
          15,
          15,
          15,
          18,
          18,
          18,
          18,
          18,
          18,
          18,
          18,
          18,
          18,
          18,
          18,
          18,
          18,
          18,
          18,
          18,
          15,
          12,
          11,
          10,
          9,
          5,
          5,
          0
         ],
         "y": [
          13,
          0,
          0,
          5,
          8,
          9,
          5,
          6,
          6,
          6,
          5,
          6,
          10,
          10,
          10,
          12,
          11,
          12,
          22,
          27,
          25,
          25,
          22,
          16,
          13,
          16,
          20,
          17,
          20,
          27,
          24,
          21,
          24,
          29,
          29,
          34,
          38,
          41,
          39,
          37,
          35,
          33,
          32,
          35,
          39,
          45,
          47,
          47,
          45,
          44,
          45,
          47,
          47,
          41,
          38,
          34,
          36,
          35,
          34,
          32,
          30,
          31,
          31,
          31,
          31,
          29,
          29,
          26,
          26,
          26,
          23,
          22,
          20,
          16,
          17,
          15,
          15,
          11,
          15,
          16,
          20,
          22,
          23,
          24,
          26,
          28,
          29,
          28,
          30,
          34,
          40,
          43,
          45,
          44,
          43,
          43,
          39,
          37,
          31,
          27,
          26,
          25,
          19,
          19,
          25,
          31,
          37,
          42,
          41,
          39,
          37,
          35,
          33,
          31,
          29,
          27,
          25,
          23,
          21,
          19,
          17,
          15,
          13,
          11,
          13,
          10,
          10,
          10,
          10,
          8,
          13,
          13
         ]
        }
       ],
       "layout": {
        "legend": {
         "tracegroupgap": 0
        },
        "template": {
         "data": {
          "bar": [
           {
            "error_x": {
             "color": "rgb(36,36,36)"
            },
            "error_y": {
             "color": "rgb(36,36,36)"
            },
            "marker": {
             "line": {
              "color": "white",
              "width": 0.5
             },
             "pattern": {
              "fillmode": "overlay",
              "size": 10,
              "solidity": 0.2
             }
            },
            "type": "bar"
           }
          ],
          "barpolar": [
           {
            "marker": {
             "line": {
              "color": "white",
              "width": 0.5
             },
             "pattern": {
              "fillmode": "overlay",
              "size": 10,
              "solidity": 0.2
             }
            },
            "type": "barpolar"
           }
          ],
          "carpet": [
           {
            "aaxis": {
             "endlinecolor": "rgb(36,36,36)",
             "gridcolor": "white",
             "linecolor": "white",
             "minorgridcolor": "white",
             "startlinecolor": "rgb(36,36,36)"
            },
            "baxis": {
             "endlinecolor": "rgb(36,36,36)",
             "gridcolor": "white",
             "linecolor": "white",
             "minorgridcolor": "white",
             "startlinecolor": "rgb(36,36,36)"
            },
            "type": "carpet"
           }
          ],
          "choropleth": [
           {
            "colorbar": {
             "outlinewidth": 1,
             "tickcolor": "rgb(36,36,36)",
             "ticks": "outside"
            },
            "type": "choropleth"
           }
          ],
          "contour": [
           {
            "colorbar": {
             "outlinewidth": 1,
             "tickcolor": "rgb(36,36,36)",
             "ticks": "outside"
            },
            "colorscale": [
             [
              0,
              "#440154"
             ],
             [
              0.1111111111111111,
              "#482878"
             ],
             [
              0.2222222222222222,
              "#3e4989"
             ],
             [
              0.3333333333333333,
              "#31688e"
             ],
             [
              0.4444444444444444,
              "#26828e"
             ],
             [
              0.5555555555555556,
              "#1f9e89"
             ],
             [
              0.6666666666666666,
              "#35b779"
             ],
             [
              0.7777777777777778,
              "#6ece58"
             ],
             [
              0.8888888888888888,
              "#b5de2b"
             ],
             [
              1,
              "#fde725"
             ]
            ],
            "type": "contour"
           }
          ],
          "contourcarpet": [
           {
            "colorbar": {
             "outlinewidth": 1,
             "tickcolor": "rgb(36,36,36)",
             "ticks": "outside"
            },
            "type": "contourcarpet"
           }
          ],
          "heatmap": [
           {
            "colorbar": {
             "outlinewidth": 1,
             "tickcolor": "rgb(36,36,36)",
             "ticks": "outside"
            },
            "colorscale": [
             [
              0,
              "#440154"
             ],
             [
              0.1111111111111111,
              "#482878"
             ],
             [
              0.2222222222222222,
              "#3e4989"
             ],
             [
              0.3333333333333333,
              "#31688e"
             ],
             [
              0.4444444444444444,
              "#26828e"
             ],
             [
              0.5555555555555556,
              "#1f9e89"
             ],
             [
              0.6666666666666666,
              "#35b779"
             ],
             [
              0.7777777777777778,
              "#6ece58"
             ],
             [
              0.8888888888888888,
              "#b5de2b"
             ],
             [
              1,
              "#fde725"
             ]
            ],
            "type": "heatmap"
           }
          ],
          "heatmapgl": [
           {
            "colorbar": {
             "outlinewidth": 1,
             "tickcolor": "rgb(36,36,36)",
             "ticks": "outside"
            },
            "colorscale": [
             [
              0,
              "#440154"
             ],
             [
              0.1111111111111111,
              "#482878"
             ],
             [
              0.2222222222222222,
              "#3e4989"
             ],
             [
              0.3333333333333333,
              "#31688e"
             ],
             [
              0.4444444444444444,
              "#26828e"
             ],
             [
              0.5555555555555556,
              "#1f9e89"
             ],
             [
              0.6666666666666666,
              "#35b779"
             ],
             [
              0.7777777777777778,
              "#6ece58"
             ],
             [
              0.8888888888888888,
              "#b5de2b"
             ],
             [
              1,
              "#fde725"
             ]
            ],
            "type": "heatmapgl"
           }
          ],
          "histogram": [
           {
            "marker": {
             "line": {
              "color": "white",
              "width": 0.6
             }
            },
            "type": "histogram"
           }
          ],
          "histogram2d": [
           {
            "colorbar": {
             "outlinewidth": 1,
             "tickcolor": "rgb(36,36,36)",
             "ticks": "outside"
            },
            "colorscale": [
             [
              0,
              "#440154"
             ],
             [
              0.1111111111111111,
              "#482878"
             ],
             [
              0.2222222222222222,
              "#3e4989"
             ],
             [
              0.3333333333333333,
              "#31688e"
             ],
             [
              0.4444444444444444,
              "#26828e"
             ],
             [
              0.5555555555555556,
              "#1f9e89"
             ],
             [
              0.6666666666666666,
              "#35b779"
             ],
             [
              0.7777777777777778,
              "#6ece58"
             ],
             [
              0.8888888888888888,
              "#b5de2b"
             ],
             [
              1,
              "#fde725"
             ]
            ],
            "type": "histogram2d"
           }
          ],
          "histogram2dcontour": [
           {
            "colorbar": {
             "outlinewidth": 1,
             "tickcolor": "rgb(36,36,36)",
             "ticks": "outside"
            },
            "colorscale": [
             [
              0,
              "#440154"
             ],
             [
              0.1111111111111111,
              "#482878"
             ],
             [
              0.2222222222222222,
              "#3e4989"
             ],
             [
              0.3333333333333333,
              "#31688e"
             ],
             [
              0.4444444444444444,
              "#26828e"
             ],
             [
              0.5555555555555556,
              "#1f9e89"
             ],
             [
              0.6666666666666666,
              "#35b779"
             ],
             [
              0.7777777777777778,
              "#6ece58"
             ],
             [
              0.8888888888888888,
              "#b5de2b"
             ],
             [
              1,
              "#fde725"
             ]
            ],
            "type": "histogram2dcontour"
           }
          ],
          "mesh3d": [
           {
            "colorbar": {
             "outlinewidth": 1,
             "tickcolor": "rgb(36,36,36)",
             "ticks": "outside"
            },
            "type": "mesh3d"
           }
          ],
          "parcoords": [
           {
            "line": {
             "colorbar": {
              "outlinewidth": 1,
              "tickcolor": "rgb(36,36,36)",
              "ticks": "outside"
             }
            },
            "type": "parcoords"
           }
          ],
          "pie": [
           {
            "automargin": true,
            "type": "pie"
           }
          ],
          "scatter": [
           {
            "fillpattern": {
             "fillmode": "overlay",
             "size": 10,
             "solidity": 0.2
            },
            "type": "scatter"
           }
          ],
          "scatter3d": [
           {
            "line": {
             "colorbar": {
              "outlinewidth": 1,
              "tickcolor": "rgb(36,36,36)",
              "ticks": "outside"
             }
            },
            "marker": {
             "colorbar": {
              "outlinewidth": 1,
              "tickcolor": "rgb(36,36,36)",
              "ticks": "outside"
             }
            },
            "type": "scatter3d"
           }
          ],
          "scattercarpet": [
           {
            "marker": {
             "colorbar": {
              "outlinewidth": 1,
              "tickcolor": "rgb(36,36,36)",
              "ticks": "outside"
             }
            },
            "type": "scattercarpet"
           }
          ],
          "scattergeo": [
           {
            "marker": {
             "colorbar": {
              "outlinewidth": 1,
              "tickcolor": "rgb(36,36,36)",
              "ticks": "outside"
             }
            },
            "type": "scattergeo"
           }
          ],
          "scattergl": [
           {
            "marker": {
             "colorbar": {
              "outlinewidth": 1,
              "tickcolor": "rgb(36,36,36)",
              "ticks": "outside"
             }
            },
            "type": "scattergl"
           }
          ],
          "scattermapbox": [
           {
            "marker": {
             "colorbar": {
              "outlinewidth": 1,
              "tickcolor": "rgb(36,36,36)",
              "ticks": "outside"
             }
            },
            "type": "scattermapbox"
           }
          ],
          "scatterpolar": [
           {
            "marker": {
             "colorbar": {
              "outlinewidth": 1,
              "tickcolor": "rgb(36,36,36)",
              "ticks": "outside"
             }
            },
            "type": "scatterpolar"
           }
          ],
          "scatterpolargl": [
           {
            "marker": {
             "colorbar": {
              "outlinewidth": 1,
              "tickcolor": "rgb(36,36,36)",
              "ticks": "outside"
             }
            },
            "type": "scatterpolargl"
           }
          ],
          "scatterternary": [
           {
            "marker": {
             "colorbar": {
              "outlinewidth": 1,
              "tickcolor": "rgb(36,36,36)",
              "ticks": "outside"
             }
            },
            "type": "scatterternary"
           }
          ],
          "surface": [
           {
            "colorbar": {
             "outlinewidth": 1,
             "tickcolor": "rgb(36,36,36)",
             "ticks": "outside"
            },
            "colorscale": [
             [
              0,
              "#440154"
             ],
             [
              0.1111111111111111,
              "#482878"
             ],
             [
              0.2222222222222222,
              "#3e4989"
             ],
             [
              0.3333333333333333,
              "#31688e"
             ],
             [
              0.4444444444444444,
              "#26828e"
             ],
             [
              0.5555555555555556,
              "#1f9e89"
             ],
             [
              0.6666666666666666,
              "#35b779"
             ],
             [
              0.7777777777777778,
              "#6ece58"
             ],
             [
              0.8888888888888888,
              "#b5de2b"
             ],
             [
              1,
              "#fde725"
             ]
            ],
            "type": "surface"
           }
          ],
          "table": [
           {
            "cells": {
             "fill": {
              "color": "rgb(237,237,237)"
             },
             "line": {
              "color": "white"
             }
            },
            "header": {
             "fill": {
              "color": "rgb(217,217,217)"
             },
             "line": {
              "color": "white"
             }
            },
            "type": "table"
           }
          ]
         },
         "layout": {
          "annotationdefaults": {
           "arrowhead": 0,
           "arrowwidth": 1
          },
          "autotypenumbers": "strict",
          "coloraxis": {
           "colorbar": {
            "outlinewidth": 1,
            "tickcolor": "rgb(36,36,36)",
            "ticks": "outside"
           }
          },
          "colorscale": {
           "diverging": [
            [
             0,
             "rgb(103,0,31)"
            ],
            [
             0.1,
             "rgb(178,24,43)"
            ],
            [
             0.2,
             "rgb(214,96,77)"
            ],
            [
             0.3,
             "rgb(244,165,130)"
            ],
            [
             0.4,
             "rgb(253,219,199)"
            ],
            [
             0.5,
             "rgb(247,247,247)"
            ],
            [
             0.6,
             "rgb(209,229,240)"
            ],
            [
             0.7,
             "rgb(146,197,222)"
            ],
            [
             0.8,
             "rgb(67,147,195)"
            ],
            [
             0.9,
             "rgb(33,102,172)"
            ],
            [
             1,
             "rgb(5,48,97)"
            ]
           ],
           "sequential": [
            [
             0,
             "#440154"
            ],
            [
             0.1111111111111111,
             "#482878"
            ],
            [
             0.2222222222222222,
             "#3e4989"
            ],
            [
             0.3333333333333333,
             "#31688e"
            ],
            [
             0.4444444444444444,
             "#26828e"
            ],
            [
             0.5555555555555556,
             "#1f9e89"
            ],
            [
             0.6666666666666666,
             "#35b779"
            ],
            [
             0.7777777777777778,
             "#6ece58"
            ],
            [
             0.8888888888888888,
             "#b5de2b"
            ],
            [
             1,
             "#fde725"
            ]
           ],
           "sequentialminus": [
            [
             0,
             "#440154"
            ],
            [
             0.1111111111111111,
             "#482878"
            ],
            [
             0.2222222222222222,
             "#3e4989"
            ],
            [
             0.3333333333333333,
             "#31688e"
            ],
            [
             0.4444444444444444,
             "#26828e"
            ],
            [
             0.5555555555555556,
             "#1f9e89"
            ],
            [
             0.6666666666666666,
             "#35b779"
            ],
            [
             0.7777777777777778,
             "#6ece58"
            ],
            [
             0.8888888888888888,
             "#b5de2b"
            ],
            [
             1,
             "#fde725"
            ]
           ]
          },
          "colorway": [
           "#1F77B4",
           "#FF7F0E",
           "#2CA02C",
           "#D62728",
           "#9467BD",
           "#8C564B",
           "#E377C2",
           "#7F7F7F",
           "#BCBD22",
           "#17BECF"
          ],
          "font": {
           "color": "rgb(36,36,36)"
          },
          "geo": {
           "bgcolor": "white",
           "lakecolor": "white",
           "landcolor": "white",
           "showlakes": true,
           "showland": true,
           "subunitcolor": "white"
          },
          "hoverlabel": {
           "align": "left"
          },
          "hovermode": "closest",
          "mapbox": {
           "style": "light"
          },
          "paper_bgcolor": "white",
          "plot_bgcolor": "white",
          "polar": {
           "angularaxis": {
            "gridcolor": "rgb(232,232,232)",
            "linecolor": "rgb(36,36,36)",
            "showgrid": false,
            "showline": true,
            "ticks": "outside"
           },
           "bgcolor": "white",
           "radialaxis": {
            "gridcolor": "rgb(232,232,232)",
            "linecolor": "rgb(36,36,36)",
            "showgrid": false,
            "showline": true,
            "ticks": "outside"
           }
          },
          "scene": {
           "xaxis": {
            "backgroundcolor": "white",
            "gridcolor": "rgb(232,232,232)",
            "gridwidth": 2,
            "linecolor": "rgb(36,36,36)",
            "showbackground": true,
            "showgrid": false,
            "showline": true,
            "ticks": "outside",
            "zeroline": false,
            "zerolinecolor": "rgb(36,36,36)"
           },
           "yaxis": {
            "backgroundcolor": "white",
            "gridcolor": "rgb(232,232,232)",
            "gridwidth": 2,
            "linecolor": "rgb(36,36,36)",
            "showbackground": true,
            "showgrid": false,
            "showline": true,
            "ticks": "outside",
            "zeroline": false,
            "zerolinecolor": "rgb(36,36,36)"
           },
           "zaxis": {
            "backgroundcolor": "white",
            "gridcolor": "rgb(232,232,232)",
            "gridwidth": 2,
            "linecolor": "rgb(36,36,36)",
            "showbackground": true,
            "showgrid": false,
            "showline": true,
            "ticks": "outside",
            "zeroline": false,
            "zerolinecolor": "rgb(36,36,36)"
           }
          },
          "shapedefaults": {
           "fillcolor": "black",
           "line": {
            "width": 0
           },
           "opacity": 0.3
          },
          "ternary": {
           "aaxis": {
            "gridcolor": "rgb(232,232,232)",
            "linecolor": "rgb(36,36,36)",
            "showgrid": false,
            "showline": true,
            "ticks": "outside"
           },
           "baxis": {
            "gridcolor": "rgb(232,232,232)",
            "linecolor": "rgb(36,36,36)",
            "showgrid": false,
            "showline": true,
            "ticks": "outside"
           },
           "bgcolor": "white",
           "caxis": {
            "gridcolor": "rgb(232,232,232)",
            "linecolor": "rgb(36,36,36)",
            "showgrid": false,
            "showline": true,
            "ticks": "outside"
           }
          },
          "title": {
           "x": 0.05
          },
          "xaxis": {
           "automargin": true,
           "gridcolor": "rgb(232,232,232)",
           "linecolor": "rgb(36,36,36)",
           "showgrid": false,
           "showline": true,
           "ticks": "outside",
           "title": {
            "standoff": 15
           },
           "zeroline": false,
           "zerolinecolor": "rgb(36,36,36)"
          },
          "yaxis": {
           "automargin": true,
           "gridcolor": "rgb(232,232,232)",
           "linecolor": "rgb(36,36,36)",
           "showgrid": false,
           "showline": true,
           "ticks": "outside",
           "title": {
            "standoff": 15
           },
           "zeroline": false,
           "zerolinecolor": "rgb(36,36,36)"
          }
         }
        },
        "title": {
         "text": "Shortest path found by the algorithm"
        },
        "xaxis": {
         "anchor": "y",
         "domain": [
          0,
          1
         ],
         "title": {
          "text": "x"
         },
         "visible": false,
         "zeroline": false
        },
        "yaxis": {
         "anchor": "x",
         "domain": [
          0,
          1
         ],
         "title": {
          "text": "y"
         },
         "visible": false,
         "zeroline": false
        }
       }
      }
     },
     "metadata": {},
     "output_type": "display_data"
    }
   ],
   "source": [
    "# Chargement des données étudiées\n",
    "data = data_TSPLIB(f'data/{ENSEMBLE_TEST[choix_data_test]}.tsp')\n",
    "\n",
    "# Résolution du TSP\n",
    "df,_ = test_unitaire(choix_data_test, ENSEMBLE_ALGOS[choix_algo_test])\n",
    "\n",
    "# Affichage du chemin final\n",
    "fig_chemin_final=affichage(df, data)\n",
    "fig_chemin_final.show()"
   ]
  },
  {
   "attachments": {},
   "cell_type": "markdown",
   "metadata": {},
   "source": [
    "# Création d'un gif des chemins explorés"
   ]
  },
  {
   "attachments": {},
   "cell_type": "markdown",
   "metadata": {},
   "source": [
    "### Initialisation du dataset et de l'algorithme de test"
   ]
  },
  {
   "cell_type": "code",
   "execution_count": 10,
   "metadata": {},
   "outputs": [
    {
     "name": "stdout",
     "output_type": "stream",
     "text": [
      "Les tests vont se réaliser sur le fichier 'qa194' en utilisant l'algorithme '2-opt'\n"
     ]
    }
   ],
   "source": [
    "# Nom des dataset de test\n",
    "ENSEMBLE_TEST = ['dj38', 'xqf131', 'qa194', 'xqg237',\n",
    "                 'pma343', 'pka379', 'pbl395', 'pbk411', 'pbn423']\n",
    "# Nom des algorithmes dont on peut explorer la méthode d'exploration\n",
    "ENSEMBLE_ALGOS = ['2-opt', 'plus_proche_voisin']\n",
    "\n",
    "choix_data_test = random.randint(0, len(ENSEMBLE_TEST)-1)\n",
    "choix_algo_test = random.randint(0, len(ENSEMBLE_ALGOS)-1)\n",
    "print(\n",
    "    f\"Les tests vont se réaliser sur le fichier '{ENSEMBLE_TEST[choix_data_test]}' en utilisant l'algorithme '{ENSEMBLE_ALGOS[choix_algo_test]}'\")\n"
   ]
  },
  {
   "cell_type": "code",
   "execution_count": 11,
   "metadata": {},
   "outputs": [
    {
     "name": "stdout",
     "output_type": "stream",
     "text": [
      "Vous venez de créer le fichier '2-opt_qa194.gif' dans le dossier gif à la racine du projet\n"
     ]
    }
   ],
   "source": [
    "# Il n'y a pas de stratégie d'exploration pour l'algorithme génétique donc pas de gif possible et le gif pour\n",
    "# l'algorithme de kohonen est différent\n",
    "assert ENSEMBLE_ALGOS[choix_algo_test] not in ['genetique','kohonen'] and ENSEMBLE_TEST[choix_data_test] != '', \\\n",
    "print(\"Pas d'affichage possible pour cet algorithme\")\n",
    "\n",
    "# Génération du dataframe de résultat \n",
    "df, exploration = test_unitaire(choix_data_test, ENSEMBLE_ALGOS[choix_algo_test])\n",
    "# Création des images représentantes chacunes un chemin exploré\n",
    "affichage_chemins_explores(\n",
    "    exploration, ENSEMBLE_ALGOS[choix_algo_test], ENSEMBLE_TEST[choix_data_test]) #type:ignore\n",
    "\n",
    "# Création du .gif\n",
    "generation_gif(ENSEMBLE_ALGOS[choix_algo_test], ENSEMBLE_TEST[choix_data_test])"
   ]
  },
  {
   "attachments": {},
   "cell_type": "markdown",
   "metadata": {},
   "source": [
    "# Création d'un gif de l'évolution du réseau de neurones"
   ]
  },
  {
   "attachments": {},
   "cell_type": "markdown",
   "metadata": {},
   "source": [
    "### Initialisation du dataset de test"
   ]
  },
  {
   "cell_type": "code",
   "execution_count": 12,
   "metadata": {},
   "outputs": [
    {
     "name": "stdout",
     "output_type": "stream",
     "text": [
      "Les tests vont se réaliser sur le fichier 'pka379' en utilisant l'algorithme 'kohonen'\n"
     ]
    }
   ],
   "source": [
    "# Nom des dataset de test\n",
    "ENSEMBLE_TEST = ['dj38', 'xqf131', 'qa194', 'xqg237',\n",
    "                 'pma343', 'pka379', 'pbl395', 'pbk411', 'pbn423']\n",
    "\n",
    "choix_data_test = random.randint(0, len(ENSEMBLE_TEST)-1)\n",
    "choix_algo_test = 'kohonen'\n",
    "print(\n",
    "    f\"Les tests vont se réaliser sur le fichier '{ENSEMBLE_TEST[choix_data_test]}' en utilisant l'algorithme '{choix_algo_test}'\")\n"
   ]
  },
  {
   "cell_type": "code",
   "execution_count": 13,
   "metadata": {},
   "outputs": [
    {
     "name": "stdout",
     "output_type": "stream",
     "text": [
      "Vous venez de créer le fichier 'kohonen_pka379.gif' dans le dossier gif à la racine du projet\n"
     ]
    }
   ],
   "source": [
    "assert choix_algo_test=='kohonen' and ENSEMBLE_TEST[choix_data_test] != '', \\\n",
    "    print(\"L'évolution du réseau de neuronnes est spécifique à kohonen\")\n",
    "\n",
    "# Génération du dataframe de résultat\n",
    "df, exploration = test_unitaire(\n",
    "    choix_data_test, choix_algo_test)\n",
    "# Création des images représentantes chacunes un état du reseau de neurones\n",
    "affichage_reseau_neurones(\n",
    "    exploration, choix_algo_test, ENSEMBLE_TEST[choix_data_test])  # type:ignore\n",
    "\n",
    "# Création du .gif\n",
    "generation_gif(choix_algo_test, ENSEMBLE_TEST[choix_data_test])\n"
   ]
  },
  {
   "attachments": {},
   "cell_type": "markdown",
   "metadata": {},
   "source": [
    "# Test sur des données aléatoires (avec visualisation)"
   ]
  },
  {
   "attachments": {},
   "cell_type": "markdown",
   "metadata": {},
   "source": [
    "### Initialisation du nombre de villes et de l'algorithme choisi"
   ]
  },
  {
   "cell_type": "code",
   "execution_count": 14,
   "metadata": {},
   "outputs": [
    {
     "name": "stdout",
     "output_type": "stream",
     "text": [
      "Nombre de villes : 38\n",
      "Algorithme choisi : Génétique\n"
     ]
    }
   ],
   "source": [
    "import random\n",
    "\n",
    "#Initialisation d'un nombre de ville\n",
    "NOMBRE_MAX=100\n",
    "NOMBRE_MIN=10\n",
    "nombre_de_villes = random.randint(NOMBRE_MIN,NOMBRE_MAX)\n",
    "print(f\"Nombre de villes : {nombre_de_villes}\")\n",
    "\n",
    "ENSEMBLE_ALGOS = ['2-opt', 'Plus proche voisin', 'Génétique']\n",
    "choix_algo=random.randint(0,len(ENSEMBLE_ALGOS)-1)\n",
    "print(f\"Algorithme choisi : {ENSEMBLE_ALGOS[choix_algo]}\")"
   ]
  },
  {
   "attachments": {},
   "cell_type": "markdown",
   "metadata": {},
   "source": [
    "### Lancement du test et affichage du chemin parcouru"
   ]
  },
  {
   "cell_type": "code",
   "execution_count": 15,
   "metadata": {},
   "outputs": [
    {
     "data": {
      "application/vnd.plotly.v1+json": {
       "config": {
        "plotlyServerURL": "https://plot.ly"
       },
       "data": [
        {
         "hovertemplate": "x=%{x}<br>y=%{y}<extra></extra>",
         "legendgroup": "",
         "marker": {
          "color": "#1F77B4",
          "symbol": "circle"
         },
         "mode": "markers",
         "name": "",
         "orientation": "v",
         "showlegend": false,
         "type": "scatter",
         "x": [
          256,
          645,
          96,
          936,
          49,
          576,
          323,
          610,
          144,
          842,
          569,
          762,
          715,
          172,
          784,
          864,
          258,
          737,
          723,
          334,
          248,
          41,
          300,
          642,
          312,
          600,
          544,
          540,
          55,
          216,
          432,
          570,
          0,
          185,
          901,
          377,
          287,
          797
         ],
         "xaxis": "x",
         "y": [
          720,
          627,
          600,
          409,
          718,
          562,
          690,
          402,
          48,
          675,
          739,
          335,
          517,
          433,
          165,
          503,
          313,
          816,
          806,
          626,
          480,
          106,
          166,
          854,
          701,
          942,
          6,
          612,
          589,
          443,
          368,
          297,
          364,
          899,
          935,
          142,
          88,
          606
         ],
         "yaxis": "y"
        },
        {
         "mode": "lines",
         "showlegend": false,
         "type": "scatter",
         "x": [
          936,
          864,
          842,
          248,
          216,
          0,
          287,
          144,
          41,
          258,
          55,
          96,
          49,
          185,
          323,
          312,
          334,
          256,
          172,
          300,
          377,
          544,
          432,
          576,
          540,
          642,
          600,
          737,
          723,
          715,
          610,
          570,
          784,
          762,
          645,
          569,
          901,
          797,
          936
         ],
         "y": [
          409,
          503,
          675,
          480,
          443,
          364,
          88,
          48,
          106,
          313,
          589,
          600,
          718,
          899,
          690,
          701,
          626,
          720,
          433,
          166,
          142,
          6,
          368,
          562,
          612,
          854,
          942,
          816,
          806,
          517,
          402,
          297,
          165,
          335,
          627,
          739,
          935,
          606,
          409
         ]
        }
       ],
       "layout": {
        "legend": {
         "tracegroupgap": 0
        },
        "template": {
         "data": {
          "bar": [
           {
            "error_x": {
             "color": "rgb(36,36,36)"
            },
            "error_y": {
             "color": "rgb(36,36,36)"
            },
            "marker": {
             "line": {
              "color": "white",
              "width": 0.5
             },
             "pattern": {
              "fillmode": "overlay",
              "size": 10,
              "solidity": 0.2
             }
            },
            "type": "bar"
           }
          ],
          "barpolar": [
           {
            "marker": {
             "line": {
              "color": "white",
              "width": 0.5
             },
             "pattern": {
              "fillmode": "overlay",
              "size": 10,
              "solidity": 0.2
             }
            },
            "type": "barpolar"
           }
          ],
          "carpet": [
           {
            "aaxis": {
             "endlinecolor": "rgb(36,36,36)",
             "gridcolor": "white",
             "linecolor": "white",
             "minorgridcolor": "white",
             "startlinecolor": "rgb(36,36,36)"
            },
            "baxis": {
             "endlinecolor": "rgb(36,36,36)",
             "gridcolor": "white",
             "linecolor": "white",
             "minorgridcolor": "white",
             "startlinecolor": "rgb(36,36,36)"
            },
            "type": "carpet"
           }
          ],
          "choropleth": [
           {
            "colorbar": {
             "outlinewidth": 1,
             "tickcolor": "rgb(36,36,36)",
             "ticks": "outside"
            },
            "type": "choropleth"
           }
          ],
          "contour": [
           {
            "colorbar": {
             "outlinewidth": 1,
             "tickcolor": "rgb(36,36,36)",
             "ticks": "outside"
            },
            "colorscale": [
             [
              0,
              "#440154"
             ],
             [
              0.1111111111111111,
              "#482878"
             ],
             [
              0.2222222222222222,
              "#3e4989"
             ],
             [
              0.3333333333333333,
              "#31688e"
             ],
             [
              0.4444444444444444,
              "#26828e"
             ],
             [
              0.5555555555555556,
              "#1f9e89"
             ],
             [
              0.6666666666666666,
              "#35b779"
             ],
             [
              0.7777777777777778,
              "#6ece58"
             ],
             [
              0.8888888888888888,
              "#b5de2b"
             ],
             [
              1,
              "#fde725"
             ]
            ],
            "type": "contour"
           }
          ],
          "contourcarpet": [
           {
            "colorbar": {
             "outlinewidth": 1,
             "tickcolor": "rgb(36,36,36)",
             "ticks": "outside"
            },
            "type": "contourcarpet"
           }
          ],
          "heatmap": [
           {
            "colorbar": {
             "outlinewidth": 1,
             "tickcolor": "rgb(36,36,36)",
             "ticks": "outside"
            },
            "colorscale": [
             [
              0,
              "#440154"
             ],
             [
              0.1111111111111111,
              "#482878"
             ],
             [
              0.2222222222222222,
              "#3e4989"
             ],
             [
              0.3333333333333333,
              "#31688e"
             ],
             [
              0.4444444444444444,
              "#26828e"
             ],
             [
              0.5555555555555556,
              "#1f9e89"
             ],
             [
              0.6666666666666666,
              "#35b779"
             ],
             [
              0.7777777777777778,
              "#6ece58"
             ],
             [
              0.8888888888888888,
              "#b5de2b"
             ],
             [
              1,
              "#fde725"
             ]
            ],
            "type": "heatmap"
           }
          ],
          "heatmapgl": [
           {
            "colorbar": {
             "outlinewidth": 1,
             "tickcolor": "rgb(36,36,36)",
             "ticks": "outside"
            },
            "colorscale": [
             [
              0,
              "#440154"
             ],
             [
              0.1111111111111111,
              "#482878"
             ],
             [
              0.2222222222222222,
              "#3e4989"
             ],
             [
              0.3333333333333333,
              "#31688e"
             ],
             [
              0.4444444444444444,
              "#26828e"
             ],
             [
              0.5555555555555556,
              "#1f9e89"
             ],
             [
              0.6666666666666666,
              "#35b779"
             ],
             [
              0.7777777777777778,
              "#6ece58"
             ],
             [
              0.8888888888888888,
              "#b5de2b"
             ],
             [
              1,
              "#fde725"
             ]
            ],
            "type": "heatmapgl"
           }
          ],
          "histogram": [
           {
            "marker": {
             "line": {
              "color": "white",
              "width": 0.6
             }
            },
            "type": "histogram"
           }
          ],
          "histogram2d": [
           {
            "colorbar": {
             "outlinewidth": 1,
             "tickcolor": "rgb(36,36,36)",
             "ticks": "outside"
            },
            "colorscale": [
             [
              0,
              "#440154"
             ],
             [
              0.1111111111111111,
              "#482878"
             ],
             [
              0.2222222222222222,
              "#3e4989"
             ],
             [
              0.3333333333333333,
              "#31688e"
             ],
             [
              0.4444444444444444,
              "#26828e"
             ],
             [
              0.5555555555555556,
              "#1f9e89"
             ],
             [
              0.6666666666666666,
              "#35b779"
             ],
             [
              0.7777777777777778,
              "#6ece58"
             ],
             [
              0.8888888888888888,
              "#b5de2b"
             ],
             [
              1,
              "#fde725"
             ]
            ],
            "type": "histogram2d"
           }
          ],
          "histogram2dcontour": [
           {
            "colorbar": {
             "outlinewidth": 1,
             "tickcolor": "rgb(36,36,36)",
             "ticks": "outside"
            },
            "colorscale": [
             [
              0,
              "#440154"
             ],
             [
              0.1111111111111111,
              "#482878"
             ],
             [
              0.2222222222222222,
              "#3e4989"
             ],
             [
              0.3333333333333333,
              "#31688e"
             ],
             [
              0.4444444444444444,
              "#26828e"
             ],
             [
              0.5555555555555556,
              "#1f9e89"
             ],
             [
              0.6666666666666666,
              "#35b779"
             ],
             [
              0.7777777777777778,
              "#6ece58"
             ],
             [
              0.8888888888888888,
              "#b5de2b"
             ],
             [
              1,
              "#fde725"
             ]
            ],
            "type": "histogram2dcontour"
           }
          ],
          "mesh3d": [
           {
            "colorbar": {
             "outlinewidth": 1,
             "tickcolor": "rgb(36,36,36)",
             "ticks": "outside"
            },
            "type": "mesh3d"
           }
          ],
          "parcoords": [
           {
            "line": {
             "colorbar": {
              "outlinewidth": 1,
              "tickcolor": "rgb(36,36,36)",
              "ticks": "outside"
             }
            },
            "type": "parcoords"
           }
          ],
          "pie": [
           {
            "automargin": true,
            "type": "pie"
           }
          ],
          "scatter": [
           {
            "fillpattern": {
             "fillmode": "overlay",
             "size": 10,
             "solidity": 0.2
            },
            "type": "scatter"
           }
          ],
          "scatter3d": [
           {
            "line": {
             "colorbar": {
              "outlinewidth": 1,
              "tickcolor": "rgb(36,36,36)",
              "ticks": "outside"
             }
            },
            "marker": {
             "colorbar": {
              "outlinewidth": 1,
              "tickcolor": "rgb(36,36,36)",
              "ticks": "outside"
             }
            },
            "type": "scatter3d"
           }
          ],
          "scattercarpet": [
           {
            "marker": {
             "colorbar": {
              "outlinewidth": 1,
              "tickcolor": "rgb(36,36,36)",
              "ticks": "outside"
             }
            },
            "type": "scattercarpet"
           }
          ],
          "scattergeo": [
           {
            "marker": {
             "colorbar": {
              "outlinewidth": 1,
              "tickcolor": "rgb(36,36,36)",
              "ticks": "outside"
             }
            },
            "type": "scattergeo"
           }
          ],
          "scattergl": [
           {
            "marker": {
             "colorbar": {
              "outlinewidth": 1,
              "tickcolor": "rgb(36,36,36)",
              "ticks": "outside"
             }
            },
            "type": "scattergl"
           }
          ],
          "scattermapbox": [
           {
            "marker": {
             "colorbar": {
              "outlinewidth": 1,
              "tickcolor": "rgb(36,36,36)",
              "ticks": "outside"
             }
            },
            "type": "scattermapbox"
           }
          ],
          "scatterpolar": [
           {
            "marker": {
             "colorbar": {
              "outlinewidth": 1,
              "tickcolor": "rgb(36,36,36)",
              "ticks": "outside"
             }
            },
            "type": "scatterpolar"
           }
          ],
          "scatterpolargl": [
           {
            "marker": {
             "colorbar": {
              "outlinewidth": 1,
              "tickcolor": "rgb(36,36,36)",
              "ticks": "outside"
             }
            },
            "type": "scatterpolargl"
           }
          ],
          "scatterternary": [
           {
            "marker": {
             "colorbar": {
              "outlinewidth": 1,
              "tickcolor": "rgb(36,36,36)",
              "ticks": "outside"
             }
            },
            "type": "scatterternary"
           }
          ],
          "surface": [
           {
            "colorbar": {
             "outlinewidth": 1,
             "tickcolor": "rgb(36,36,36)",
             "ticks": "outside"
            },
            "colorscale": [
             [
              0,
              "#440154"
             ],
             [
              0.1111111111111111,
              "#482878"
             ],
             [
              0.2222222222222222,
              "#3e4989"
             ],
             [
              0.3333333333333333,
              "#31688e"
             ],
             [
              0.4444444444444444,
              "#26828e"
             ],
             [
              0.5555555555555556,
              "#1f9e89"
             ],
             [
              0.6666666666666666,
              "#35b779"
             ],
             [
              0.7777777777777778,
              "#6ece58"
             ],
             [
              0.8888888888888888,
              "#b5de2b"
             ],
             [
              1,
              "#fde725"
             ]
            ],
            "type": "surface"
           }
          ],
          "table": [
           {
            "cells": {
             "fill": {
              "color": "rgb(237,237,237)"
             },
             "line": {
              "color": "white"
             }
            },
            "header": {
             "fill": {
              "color": "rgb(217,217,217)"
             },
             "line": {
              "color": "white"
             }
            },
            "type": "table"
           }
          ]
         },
         "layout": {
          "annotationdefaults": {
           "arrowhead": 0,
           "arrowwidth": 1
          },
          "autotypenumbers": "strict",
          "coloraxis": {
           "colorbar": {
            "outlinewidth": 1,
            "tickcolor": "rgb(36,36,36)",
            "ticks": "outside"
           }
          },
          "colorscale": {
           "diverging": [
            [
             0,
             "rgb(103,0,31)"
            ],
            [
             0.1,
             "rgb(178,24,43)"
            ],
            [
             0.2,
             "rgb(214,96,77)"
            ],
            [
             0.3,
             "rgb(244,165,130)"
            ],
            [
             0.4,
             "rgb(253,219,199)"
            ],
            [
             0.5,
             "rgb(247,247,247)"
            ],
            [
             0.6,
             "rgb(209,229,240)"
            ],
            [
             0.7,
             "rgb(146,197,222)"
            ],
            [
             0.8,
             "rgb(67,147,195)"
            ],
            [
             0.9,
             "rgb(33,102,172)"
            ],
            [
             1,
             "rgb(5,48,97)"
            ]
           ],
           "sequential": [
            [
             0,
             "#440154"
            ],
            [
             0.1111111111111111,
             "#482878"
            ],
            [
             0.2222222222222222,
             "#3e4989"
            ],
            [
             0.3333333333333333,
             "#31688e"
            ],
            [
             0.4444444444444444,
             "#26828e"
            ],
            [
             0.5555555555555556,
             "#1f9e89"
            ],
            [
             0.6666666666666666,
             "#35b779"
            ],
            [
             0.7777777777777778,
             "#6ece58"
            ],
            [
             0.8888888888888888,
             "#b5de2b"
            ],
            [
             1,
             "#fde725"
            ]
           ],
           "sequentialminus": [
            [
             0,
             "#440154"
            ],
            [
             0.1111111111111111,
             "#482878"
            ],
            [
             0.2222222222222222,
             "#3e4989"
            ],
            [
             0.3333333333333333,
             "#31688e"
            ],
            [
             0.4444444444444444,
             "#26828e"
            ],
            [
             0.5555555555555556,
             "#1f9e89"
            ],
            [
             0.6666666666666666,
             "#35b779"
            ],
            [
             0.7777777777777778,
             "#6ece58"
            ],
            [
             0.8888888888888888,
             "#b5de2b"
            ],
            [
             1,
             "#fde725"
            ]
           ]
          },
          "colorway": [
           "#1F77B4",
           "#FF7F0E",
           "#2CA02C",
           "#D62728",
           "#9467BD",
           "#8C564B",
           "#E377C2",
           "#7F7F7F",
           "#BCBD22",
           "#17BECF"
          ],
          "font": {
           "color": "rgb(36,36,36)"
          },
          "geo": {
           "bgcolor": "white",
           "lakecolor": "white",
           "landcolor": "white",
           "showlakes": true,
           "showland": true,
           "subunitcolor": "white"
          },
          "hoverlabel": {
           "align": "left"
          },
          "hovermode": "closest",
          "mapbox": {
           "style": "light"
          },
          "paper_bgcolor": "white",
          "plot_bgcolor": "white",
          "polar": {
           "angularaxis": {
            "gridcolor": "rgb(232,232,232)",
            "linecolor": "rgb(36,36,36)",
            "showgrid": false,
            "showline": true,
            "ticks": "outside"
           },
           "bgcolor": "white",
           "radialaxis": {
            "gridcolor": "rgb(232,232,232)",
            "linecolor": "rgb(36,36,36)",
            "showgrid": false,
            "showline": true,
            "ticks": "outside"
           }
          },
          "scene": {
           "xaxis": {
            "backgroundcolor": "white",
            "gridcolor": "rgb(232,232,232)",
            "gridwidth": 2,
            "linecolor": "rgb(36,36,36)",
            "showbackground": true,
            "showgrid": false,
            "showline": true,
            "ticks": "outside",
            "zeroline": false,
            "zerolinecolor": "rgb(36,36,36)"
           },
           "yaxis": {
            "backgroundcolor": "white",
            "gridcolor": "rgb(232,232,232)",
            "gridwidth": 2,
            "linecolor": "rgb(36,36,36)",
            "showbackground": true,
            "showgrid": false,
            "showline": true,
            "ticks": "outside",
            "zeroline": false,
            "zerolinecolor": "rgb(36,36,36)"
           },
           "zaxis": {
            "backgroundcolor": "white",
            "gridcolor": "rgb(232,232,232)",
            "gridwidth": 2,
            "linecolor": "rgb(36,36,36)",
            "showbackground": true,
            "showgrid": false,
            "showline": true,
            "ticks": "outside",
            "zeroline": false,
            "zerolinecolor": "rgb(36,36,36)"
           }
          },
          "shapedefaults": {
           "fillcolor": "black",
           "line": {
            "width": 0
           },
           "opacity": 0.3
          },
          "ternary": {
           "aaxis": {
            "gridcolor": "rgb(232,232,232)",
            "linecolor": "rgb(36,36,36)",
            "showgrid": false,
            "showline": true,
            "ticks": "outside"
           },
           "baxis": {
            "gridcolor": "rgb(232,232,232)",
            "linecolor": "rgb(36,36,36)",
            "showgrid": false,
            "showline": true,
            "ticks": "outside"
           },
           "bgcolor": "white",
           "caxis": {
            "gridcolor": "rgb(232,232,232)",
            "linecolor": "rgb(36,36,36)",
            "showgrid": false,
            "showline": true,
            "ticks": "outside"
           }
          },
          "title": {
           "x": 0.05
          },
          "xaxis": {
           "automargin": true,
           "gridcolor": "rgb(232,232,232)",
           "linecolor": "rgb(36,36,36)",
           "showgrid": false,
           "showline": true,
           "ticks": "outside",
           "title": {
            "standoff": 15
           },
           "zeroline": false,
           "zerolinecolor": "rgb(36,36,36)"
          },
          "yaxis": {
           "automargin": true,
           "gridcolor": "rgb(232,232,232)",
           "linecolor": "rgb(36,36,36)",
           "showgrid": false,
           "showline": true,
           "ticks": "outside",
           "title": {
            "standoff": 15
           },
           "zeroline": false,
           "zerolinecolor": "rgb(36,36,36)"
          }
         }
        },
        "title": {
         "text": "Shortest path found by the algorithm"
        },
        "xaxis": {
         "anchor": "y",
         "domain": [
          0,
          1
         ],
         "title": {
          "text": "x"
         },
         "visible": false,
         "zeroline": false
        },
        "yaxis": {
         "anchor": "x",
         "domain": [
          0,
          1
         ],
         "title": {
          "text": "y"
         },
         "visible": false,
         "zeroline": false
        }
       }
      }
     },
     "metadata": {},
     "output_type": "display_data"
    }
   ],
   "source": [
    "# Initialisation du dataframe\n",
    "data = init_random_df(nombre_de_villes)\n",
    "\n",
    "# Initialisation de la matrice des distances relatives\n",
    "mat_distance = matrice_distance(data)\n",
    "\n",
    "if choix_algo == 0:\n",
    "    chemin_initial,_,_ = src.algo_proche_voisin.plus_proche_voisin(\n",
    "        mat_distance)\n",
    "\n",
    "    # Lancement de l'algorithme 2-opt\n",
    "    df_res,_ = src.algo_2_opt.main(\n",
    "        mat_distance, chemin_initial)\n",
    "elif choix_algo == 1:\n",
    "    # Lancement de l'algorithme plus proche voisin\n",
    "    df_res,_ = src.algo_proche_voisin.main(mat_distance)\n",
    "elif choix_algo == 2:\n",
    "     # Lancement de l'algorithme génétique\n",
    "    df_res = src.algo_genetique.main(data, mat_distance)\n",
    "else: \n",
    "    #Lancement de l'algorithme de kohonen\n",
    "    df_res,_ = src.algo_kohonen.main(data, mat_distance) \n",
    "\n",
    "# La solution trouvée par l'algo choisi\n",
    "affichage(df_res, data).show()"
   ]
  }
 ],
 "metadata": {
  "kernelspec": {
   "display_name": "Python 3 (ipykernel)",
   "language": "python",
   "name": "python3"
  },
  "language_info": {
   "codemirror_mode": {
    "name": "ipython",
    "version": 3
   },
   "file_extension": ".py",
   "mimetype": "text/x-python",
   "name": "python",
   "nbconvert_exporter": "python",
   "pygments_lexer": "ipython3",
   "version": "3.11.0"
  },
  "vscode": {
   "interpreter": {
    "hash": "d667af14c94c865b46724da933a850b3d564154870f60130309ecd5dd505f9ea"
   }
  }
 },
 "nbformat": 4,
 "nbformat_minor": 4
}
