{
 "cells": [
  {
   "attachments": {},
   "cell_type": "markdown",
   "metadata": {},
   "source": [
    "# Introduction\n",
    "\n",
    "En informatique, le problème du voyageur de commerce, ou TSP en anglais, est un problème d'optimisation qui consiste à déterminer, étant donné un ensemble de villes et les distances entre toutes les paires de villes, le plus court circuit qui passe par chaque ville une et une seule fois.\n",
    "\n",
    "On ne connaît pas d'algorithme permettant de trouver une solution exacte rapidement dans tous les cas. Plus précisément, on ne connaît pas d'algorithme en temps polynomial, et la version décisionnelle du problème du voyageur de commerce (pour une distance D, existe-t-il un chemin plus court que D passant par toutes les villes et qui termine dans la ville de départ ?) est un problème NP-complet, ce qui est un indice de sa difficulté.\n",
    "\n",
    "cf. https://fr.wikipedia.org/wiki/Problème_du_voyageur_de_commerce\n",
    "\n",
    "# Objectifs\n",
    "\n",
    "Ce Notebook a plusieurs objectifs et vocations. Il se veut un complément de mon [dashboard](https://github.com/Thomas-rnd/dash_TSP) de visualisation et de comparaison des algorithmes que j'ai pu implémenter. Ce notebook contrairement à mon dashboard permet de naviguer en détails et de passer en revu les possibilités et fonctionnalités de mon TSP Solver. De manière guidée nous pouvons pas à pas observer, les résultats retournés par un algorithme mais aussi les chemins explorés lors de la résolution par l'intermédiaire de gif."
   ]
  },
  {
   "attachments": {},
   "cell_type": "markdown",
   "metadata": {},
   "source": [
    "## Importation du code source\n",
    "\n",
    "Tous les fichiers permettant de résoudre le TSP sont disponible dans le dossier `src`\n"
   ]
  },
  {
   "cell_type": "code",
   "execution_count": 1,
   "metadata": {},
   "outputs": [
    {
     "name": "stdout",
     "output_type": "stream",
     "text": [
      "Setup complete\n"
     ]
    }
   ],
   "source": [
    "import random\n",
    "\n",
    "import pandas as pd\n",
    "\n",
    "import src.algo_2_opt\n",
    "import src.algo_genetique\n",
    "import src.algo_kohonen\n",
    "import src.algo_proche_voisin\n",
    "from src.affichage_resultats import (affichage, affichage_chemins_explores,\n",
    "                                     affichage_reseau_neurones, generation_gif,\n",
    "                                     representation_resultats,\n",
    "                                     representation_temps_calcul)\n",
    "from src.distance import matrice_distance\n",
    "from src.init_random_data import init_random_df\n",
    "from src.init_test_data import data_TSPLIB\n",
    "from src.test_algo import test_global, test_unitaire\n",
    "\n",
    "print(\"Setup complete\")"
   ]
  },
  {
   "attachments": {},
   "cell_type": "markdown",
   "metadata": {},
   "source": [
    "# Réalisation des tests globaux (avec visualisation)\n",
    "\n",
    "Les résultats des différents algorithmes sont accéssibles dans le dossier `/resultats/csv/`.\n",
    "\n",
    "Vous y trouverez en particulier des informations tel que :\n",
    "\n",
    "- le chemin final trouvé\n",
    "- la distance du chemin\n",
    "- le temps de calcul\n"
   ]
  },
  {
   "cell_type": "code",
   "execution_count": 5,
   "metadata": {},
   "outputs": [
    {
     "name": "stdout",
     "output_type": "stream",
     "text": [
      "Etape du test : 1/9\n",
      "Etape du test : 2/9\n",
      "Etape du test : 3/9\n",
      "Etape du test : 4/9\n",
      "Etape du test : 5/9\n",
      "Etape du test : 6/9\n",
      "Etape du test : 7/9\n",
      "Etape du test : 8/9\n",
      "Etape du test : 9/9\n"
     ]
    },
    {
     "data": {
      "text/html": [
       "<div>\n",
       "<style scoped>\n",
       "    .dataframe tbody tr th:only-of-type {\n",
       "        vertical-align: middle;\n",
       "    }\n",
       "\n",
       "    .dataframe tbody tr th {\n",
       "        vertical-align: top;\n",
       "    }\n",
       "\n",
       "    .dataframe thead th {\n",
       "        text-align: right;\n",
       "    }\n",
       "</style>\n",
       "<table border=\"1\" class=\"dataframe\">\n",
       "  <thead>\n",
       "    <tr style=\"text-align: right;\">\n",
       "      <th></th>\n",
       "      <th>Algorithme</th>\n",
       "      <th>Nom dataset</th>\n",
       "      <th>Nombre de villes</th>\n",
       "      <th>Solution</th>\n",
       "      <th>Distance</th>\n",
       "      <th>Temps de calcul (en s)</th>\n",
       "    </tr>\n",
       "  </thead>\n",
       "  <tbody>\n",
       "    <tr>\n",
       "      <th>0</th>\n",
       "      <td>plus_proche_voisin</td>\n",
       "      <td>dj38</td>\n",
       "      <td>38.0</td>\n",
       "      <td>[0, 1, 3, 2, 4, 6, 5, 7, 8, 12, 14, 19, 22, 24...</td>\n",
       "      <td>9748.946705</td>\n",
       "      <td>0.000740</td>\n",
       "    </tr>\n",
       "    <tr>\n",
       "      <th>1</th>\n",
       "      <td>plus_proche_voisin</td>\n",
       "      <td>xqf131</td>\n",
       "      <td>131.0</td>\n",
       "      <td>[0, 5, 11, 13, 14, 15, 16, 24, 17, 12, 4, 18, ...</td>\n",
       "      <td>709.521628</td>\n",
       "      <td>0.004253</td>\n",
       "    </tr>\n",
       "    <tr>\n",
       "      <th>2</th>\n",
       "      <td>plus_proche_voisin</td>\n",
       "      <td>qa194</td>\n",
       "      <td>194.0</td>\n",
       "      <td>[0, 5, 7, 15, 12, 13, 10, 16, 25, 23, 20, 17, ...</td>\n",
       "      <td>11892.888059</td>\n",
       "      <td>0.008569</td>\n",
       "    </tr>\n",
       "    <tr>\n",
       "      <th>3</th>\n",
       "      <td>plus_proche_voisin</td>\n",
       "      <td>xqg237</td>\n",
       "      <td>237.0</td>\n",
       "      <td>[0, 7, 8, 4, 5, 1, 9, 10, 11, 6, 2, 3, 12, 24,...</td>\n",
       "      <td>1327.178708</td>\n",
       "      <td>0.011145</td>\n",
       "    </tr>\n",
       "    <tr>\n",
       "      <th>4</th>\n",
       "      <td>plus_proche_voisin</td>\n",
       "      <td>pma343</td>\n",
       "      <td>343.0</td>\n",
       "      <td>[0, 13, 12, 11, 9, 22, 26, 31, 34, 32, 29, 28,...</td>\n",
       "      <td>2135.347948</td>\n",
       "      <td>0.022574</td>\n",
       "    </tr>\n",
       "  </tbody>\n",
       "</table>\n",
       "</div>"
      ],
      "text/plain": [
       "           Algorithme Nom dataset  Nombre de villes  \\\n",
       "0  plus_proche_voisin        dj38              38.0   \n",
       "1  plus_proche_voisin      xqf131             131.0   \n",
       "2  plus_proche_voisin       qa194             194.0   \n",
       "3  plus_proche_voisin      xqg237             237.0   \n",
       "4  plus_proche_voisin      pma343             343.0   \n",
       "\n",
       "                                            Solution      Distance  \\\n",
       "0  [0, 1, 3, 2, 4, 6, 5, 7, 8, 12, 14, 19, 22, 24...   9748.946705   \n",
       "1  [0, 5, 11, 13, 14, 15, 16, 24, 17, 12, 4, 18, ...    709.521628   \n",
       "2  [0, 5, 7, 15, 12, 13, 10, 16, 25, 23, 20, 17, ...  11892.888059   \n",
       "3  [0, 7, 8, 4, 5, 1, 9, 10, 11, 6, 2, 3, 12, 24,...   1327.178708   \n",
       "4  [0, 13, 12, 11, 9, 22, 26, 31, 34, 32, 29, 28,...   2135.347948   \n",
       "\n",
       "   Temps de calcul (en s)  \n",
       "0                0.000740  \n",
       "1                0.004253  \n",
       "2                0.008569  \n",
       "3                0.011145  \n",
       "4                0.022574  "
      ]
     },
     "execution_count": 5,
     "metadata": {},
     "output_type": "execute_result"
    }
   ],
   "source": [
    "# Test global algorithme plus proche voisin\n",
    "df_1 = test_global('plus_proche_voisin')\n",
    "\n",
    "# Sauvegarde du dataframe au format csv\n",
    "df_1.to_csv('resultats/csv/test_global_plus_proche_voisin.csv')\n",
    "\n",
    "# Affichage des 5 premières lignes du dataframe\n",
    "df_1.head()"
   ]
  },
  {
   "cell_type": "code",
   "execution_count": 4,
   "metadata": {},
   "outputs": [
    {
     "name": "stdout",
     "output_type": "stream",
     "text": [
      "Etape du test : 1/9\n",
      "Etape du test : 2/9\n",
      "Etape du test : 3/9\n",
      "Etape du test : 4/9\n",
      "Etape du test : 5/9\n",
      "Etape du test : 6/9\n",
      "Etape du test : 7/9\n",
      "Etape du test : 8/9\n",
      "Etape du test : 9/9\n"
     ]
    },
    {
     "data": {
      "text/html": [
       "<div>\n",
       "<style scoped>\n",
       "    .dataframe tbody tr th:only-of-type {\n",
       "        vertical-align: middle;\n",
       "    }\n",
       "\n",
       "    .dataframe tbody tr th {\n",
       "        vertical-align: top;\n",
       "    }\n",
       "\n",
       "    .dataframe thead th {\n",
       "        text-align: right;\n",
       "    }\n",
       "</style>\n",
       "<table border=\"1\" class=\"dataframe\">\n",
       "  <thead>\n",
       "    <tr style=\"text-align: right;\">\n",
       "      <th></th>\n",
       "      <th>Algorithme</th>\n",
       "      <th>Nom dataset</th>\n",
       "      <th>Nombre de villes</th>\n",
       "      <th>Solution</th>\n",
       "      <th>Distance</th>\n",
       "      <th>Temps de calcul (en s)</th>\n",
       "    </tr>\n",
       "  </thead>\n",
       "  <tbody>\n",
       "    <tr>\n",
       "      <th>0</th>\n",
       "      <td>2-opt</td>\n",
       "      <td>dj38</td>\n",
       "      <td>38.0</td>\n",
       "      <td>[0, 9, 13, 20, 28, 31, 34, 36, 37, 32, 33, 35,...</td>\n",
       "      <td>7245.045413</td>\n",
       "      <td>0.003462</td>\n",
       "    </tr>\n",
       "    <tr>\n",
       "      <th>1</th>\n",
       "      <td>2-opt</td>\n",
       "      <td>xqf131</td>\n",
       "      <td>131.0</td>\n",
       "      <td>[0, 4, 12, 17, 24, 52, 73, 88, 97, 111, 122, 1...</td>\n",
       "      <td>626.152216</td>\n",
       "      <td>0.031034</td>\n",
       "    </tr>\n",
       "    <tr>\n",
       "      <th>2</th>\n",
       "      <td>2-opt</td>\n",
       "      <td>qa194</td>\n",
       "      <td>194.0</td>\n",
       "      <td>[0, 5, 7, 15, 12, 22, 81, 61, 58, 35, 62, 19, ...</td>\n",
       "      <td>9888.965623</td>\n",
       "      <td>0.110333</td>\n",
       "    </tr>\n",
       "    <tr>\n",
       "      <th>3</th>\n",
       "      <td>2-opt</td>\n",
       "      <td>xqg237</td>\n",
       "      <td>237.0</td>\n",
       "      <td>[0, 7, 13, 23, 14, 15, 17, 22, 28, 30, 31, 32,...</td>\n",
       "      <td>1152.179452</td>\n",
       "      <td>0.216617</td>\n",
       "    </tr>\n",
       "    <tr>\n",
       "      <th>4</th>\n",
       "      <td>2-opt</td>\n",
       "      <td>pma343</td>\n",
       "      <td>343.0</td>\n",
       "      <td>[0, 1, 15, 24, 29, 28, 27, 21, 2, 3, 16, 17, 1...</td>\n",
       "      <td>1448.716966</td>\n",
       "      <td>0.549888</td>\n",
       "    </tr>\n",
       "  </tbody>\n",
       "</table>\n",
       "</div>"
      ],
      "text/plain": [
       "  Algorithme Nom dataset  Nombre de villes  \\\n",
       "0      2-opt        dj38              38.0   \n",
       "1      2-opt      xqf131             131.0   \n",
       "2      2-opt       qa194             194.0   \n",
       "3      2-opt      xqg237             237.0   \n",
       "4      2-opt      pma343             343.0   \n",
       "\n",
       "                                            Solution     Distance  \\\n",
       "0  [0, 9, 13, 20, 28, 31, 34, 36, 37, 32, 33, 35,...  7245.045413   \n",
       "1  [0, 4, 12, 17, 24, 52, 73, 88, 97, 111, 122, 1...   626.152216   \n",
       "2  [0, 5, 7, 15, 12, 22, 81, 61, 58, 35, 62, 19, ...  9888.965623   \n",
       "3  [0, 7, 13, 23, 14, 15, 17, 22, 28, 30, 31, 32,...  1152.179452   \n",
       "4  [0, 1, 15, 24, 29, 28, 27, 21, 2, 3, 16, 17, 1...  1448.716966   \n",
       "\n",
       "   Temps de calcul (en s)  \n",
       "0                0.003462  \n",
       "1                0.031034  \n",
       "2                0.110333  \n",
       "3                0.216617  \n",
       "4                0.549888  "
      ]
     },
     "execution_count": 4,
     "metadata": {},
     "output_type": "execute_result"
    }
   ],
   "source": [
    "# Test global algorithme 2-opt\n",
    "df_2 = test_global('2-opt')\n",
    "\n",
    "# Sauvegarde du dataframe au format csv\n",
    "df_2.to_csv('resultats/csv/test_global_2_opt.csv')\n",
    "\n",
    "# Affichage des 5 premières lignes du dataframe\n",
    "df_2.head()"
   ]
  },
  {
   "cell_type": "code",
   "execution_count": 3,
   "metadata": {},
   "outputs": [
    {
     "name": "stdout",
     "output_type": "stream",
     "text": [
      "Etape du test : 1/9\n",
      "Etape du test : 2/9\n",
      "Etape du test : 3/9\n",
      "Etape du test : 4/9\n",
      "Etape du test : 5/9\n",
      "Etape du test : 6/9\n",
      "Etape du test : 7/9\n",
      "Etape du test : 8/9\n",
      "Etape du test : 9/9\n"
     ]
    },
    {
     "data": {
      "text/html": [
       "<div>\n",
       "<style scoped>\n",
       "    .dataframe tbody tr th:only-of-type {\n",
       "        vertical-align: middle;\n",
       "    }\n",
       "\n",
       "    .dataframe tbody tr th {\n",
       "        vertical-align: top;\n",
       "    }\n",
       "\n",
       "    .dataframe thead th {\n",
       "        text-align: right;\n",
       "    }\n",
       "</style>\n",
       "<table border=\"1\" class=\"dataframe\">\n",
       "  <thead>\n",
       "    <tr style=\"text-align: right;\">\n",
       "      <th></th>\n",
       "      <th>Algorithme</th>\n",
       "      <th>Nom dataset</th>\n",
       "      <th>Nombre de villes</th>\n",
       "      <th>Solution</th>\n",
       "      <th>Distance</th>\n",
       "      <th>Temps de calcul (en s)</th>\n",
       "    </tr>\n",
       "  </thead>\n",
       "  <tbody>\n",
       "    <tr>\n",
       "      <th>0</th>\n",
       "      <td>genetique</td>\n",
       "      <td>dj38</td>\n",
       "      <td>38.0</td>\n",
       "      <td>[35, 33, 36, 31, 29, 26, 17, 18, 16, 11, 10, 8...</td>\n",
       "      <td>11310.056140</td>\n",
       "      <td>1.209095</td>\n",
       "    </tr>\n",
       "    <tr>\n",
       "      <th>1</th>\n",
       "      <td>genetique</td>\n",
       "      <td>xqf131</td>\n",
       "      <td>131.0</td>\n",
       "      <td>[97, 100, 125, 126, 89, 82, 127, 116, 109, 91,...</td>\n",
       "      <td>2385.123968</td>\n",
       "      <td>2.236090</td>\n",
       "    </tr>\n",
       "    <tr>\n",
       "      <th>2</th>\n",
       "      <td>genetique</td>\n",
       "      <td>qa194</td>\n",
       "      <td>194.0</td>\n",
       "      <td>[170, 149, 160, 175, 172, 181, 93, 98, 85, 80,...</td>\n",
       "      <td>50384.099950</td>\n",
       "      <td>2.970496</td>\n",
       "    </tr>\n",
       "    <tr>\n",
       "      <th>3</th>\n",
       "      <td>genetique</td>\n",
       "      <td>xqg237</td>\n",
       "      <td>237.0</td>\n",
       "      <td>[106, 88, 64, 32, 18, 22, 38, 71, 68, 137, 135...</td>\n",
       "      <td>6974.241284</td>\n",
       "      <td>3.450596</td>\n",
       "    </tr>\n",
       "    <tr>\n",
       "      <th>4</th>\n",
       "      <td>genetique</td>\n",
       "      <td>pma343</td>\n",
       "      <td>343.0</td>\n",
       "      <td>[29, 51, 35, 42, 122, 212, 209, 176, 90, 0, 57...</td>\n",
       "      <td>19123.715493</td>\n",
       "      <td>4.613656</td>\n",
       "    </tr>\n",
       "  </tbody>\n",
       "</table>\n",
       "</div>"
      ],
      "text/plain": [
       "  Algorithme Nom dataset  Nombre de villes  \\\n",
       "0  genetique        dj38              38.0   \n",
       "1  genetique      xqf131             131.0   \n",
       "2  genetique       qa194             194.0   \n",
       "3  genetique      xqg237             237.0   \n",
       "4  genetique      pma343             343.0   \n",
       "\n",
       "                                            Solution      Distance  \\\n",
       "0  [35, 33, 36, 31, 29, 26, 17, 18, 16, 11, 10, 8...  11310.056140   \n",
       "1  [97, 100, 125, 126, 89, 82, 127, 116, 109, 91,...   2385.123968   \n",
       "2  [170, 149, 160, 175, 172, 181, 93, 98, 85, 80,...  50384.099950   \n",
       "3  [106, 88, 64, 32, 18, 22, 38, 71, 68, 137, 135...   6974.241284   \n",
       "4  [29, 51, 35, 42, 122, 212, 209, 176, 90, 0, 57...  19123.715493   \n",
       "\n",
       "   Temps de calcul (en s)  \n",
       "0                1.209095  \n",
       "1                2.236090  \n",
       "2                2.970496  \n",
       "3                3.450596  \n",
       "4                4.613656  "
      ]
     },
     "execution_count": 3,
     "metadata": {},
     "output_type": "execute_result"
    }
   ],
   "source": [
    "# Test global algorithme génétique\n",
    "df_3 = test_global('genetique')\n",
    "\n",
    "# Sauvegarde du dataframe au format csv\n",
    "df_3.to_csv('resultats/csv/test_global_algo_genetique.csv')\n",
    "\n",
    "# Affichage des 5 premières lignes du dataframe\n",
    "df_3.head()"
   ]
  },
  {
   "cell_type": "code",
   "execution_count": 2,
   "metadata": {},
   "outputs": [
    {
     "name": "stdout",
     "output_type": "stream",
     "text": [
      "Etape du test : 1/9\n",
      "Etape du test : 2/9\n",
      "Etape du test : 3/9\n",
      "Etape du test : 4/9\n",
      "Etape du test : 5/9\n",
      "Etape du test : 6/9\n",
      "Etape du test : 7/9\n",
      "Etape du test : 8/9\n",
      "Etape du test : 9/9\n"
     ]
    },
    {
     "data": {
      "text/html": [
       "<div>\n",
       "<style scoped>\n",
       "    .dataframe tbody tr th:only-of-type {\n",
       "        vertical-align: middle;\n",
       "    }\n",
       "\n",
       "    .dataframe tbody tr th {\n",
       "        vertical-align: top;\n",
       "    }\n",
       "\n",
       "    .dataframe thead th {\n",
       "        text-align: right;\n",
       "    }\n",
       "</style>\n",
       "<table border=\"1\" class=\"dataframe\">\n",
       "  <thead>\n",
       "    <tr style=\"text-align: right;\">\n",
       "      <th></th>\n",
       "      <th>Algorithme</th>\n",
       "      <th>Nom dataset</th>\n",
       "      <th>Nombre de villes</th>\n",
       "      <th>Solution</th>\n",
       "      <th>Distance</th>\n",
       "      <th>Temps de calcul (en s)</th>\n",
       "    </tr>\n",
       "  </thead>\n",
       "  <tbody>\n",
       "    <tr>\n",
       "      <th>0</th>\n",
       "      <td>kohonen</td>\n",
       "      <td>dj38</td>\n",
       "      <td>38.0</td>\n",
       "      <td>[24, 25, 22, 19, 14, 12, 15, 16, 17, 18, 10, 1...</td>\n",
       "      <td>6659.431533</td>\n",
       "      <td>8.813852</td>\n",
       "    </tr>\n",
       "    <tr>\n",
       "      <th>1</th>\n",
       "      <td>kohonen</td>\n",
       "      <td>xqf131</td>\n",
       "      <td>131.0</td>\n",
       "      <td>[10, 3, 9, 8, 2, 1, 7, 6, 5, 0, 11, 4, 12, 17,...</td>\n",
       "      <td>591.769721</td>\n",
       "      <td>11.917518</td>\n",
       "    </tr>\n",
       "    <tr>\n",
       "      <th>2</th>\n",
       "      <td>kohonen</td>\n",
       "      <td>qa194</td>\n",
       "      <td>194.0</td>\n",
       "      <td>[151, 146, 150, 154, 159, 165, 161, 157, 158, ...</td>\n",
       "      <td>9726.374236</td>\n",
       "      <td>13.429849</td>\n",
       "    </tr>\n",
       "    <tr>\n",
       "      <th>3</th>\n",
       "      <td>kohonen</td>\n",
       "      <td>xqg237</td>\n",
       "      <td>237.0</td>\n",
       "      <td>[142, 143, 133, 132, 126, 125, 124, 113, 112, ...</td>\n",
       "      <td>1078.687035</td>\n",
       "      <td>14.526308</td>\n",
       "    </tr>\n",
       "    <tr>\n",
       "      <th>4</th>\n",
       "      <td>kohonen</td>\n",
       "      <td>pma343</td>\n",
       "      <td>343.0</td>\n",
       "      <td>[328, 320, 321, 322, 325, 326, 327, 323, 315, ...</td>\n",
       "      <td>1439.051711</td>\n",
       "      <td>16.850022</td>\n",
       "    </tr>\n",
       "  </tbody>\n",
       "</table>\n",
       "</div>"
      ],
      "text/plain": [
       "  Algorithme Nom dataset  Nombre de villes  \\\n",
       "0    kohonen        dj38              38.0   \n",
       "1    kohonen      xqf131             131.0   \n",
       "2    kohonen       qa194             194.0   \n",
       "3    kohonen      xqg237             237.0   \n",
       "4    kohonen      pma343             343.0   \n",
       "\n",
       "                                            Solution     Distance  \\\n",
       "0  [24, 25, 22, 19, 14, 12, 15, 16, 17, 18, 10, 1...  6659.431533   \n",
       "1  [10, 3, 9, 8, 2, 1, 7, 6, 5, 0, 11, 4, 12, 17,...   591.769721   \n",
       "2  [151, 146, 150, 154, 159, 165, 161, 157, 158, ...  9726.374236   \n",
       "3  [142, 143, 133, 132, 126, 125, 124, 113, 112, ...  1078.687035   \n",
       "4  [328, 320, 321, 322, 325, 326, 327, 323, 315, ...  1439.051711   \n",
       "\n",
       "   Temps de calcul (en s)  \n",
       "0                8.813852  \n",
       "1               11.917518  \n",
       "2               13.429849  \n",
       "3               14.526308  \n",
       "4               16.850022  "
      ]
     },
     "execution_count": 2,
     "metadata": {},
     "output_type": "execute_result"
    }
   ],
   "source": [
    "# Test global algorithme de kohonen\n",
    "df_4 = test_global('kohonen')\n",
    "\n",
    "# Sauvegarde du dataframe au format csv\n",
    "df_4.to_csv('resultats/csv/test_global_kohonen.csv')\n",
    "\n",
    "# Affichage des 5 premières lignes du dataframe\n",
    "df_4.head()"
   ]
  },
  {
   "attachments": {},
   "cell_type": "markdown",
   "metadata": {},
   "source": [
    "### Sauvegarde des données importantes pour analyser les algorithmes\n",
    "\n",
    "On va venir fusionner les dataframe précédemment crées. En effet, pour obtenir un dataframe global pour un algorithme les temps de calculs sont conséquents. Il est donc necessaire de créer un fichier de synthèse persistant pour réaliser les différentes analyses des algorithmes avec aisance.\n"
   ]
  },
  {
   "cell_type": "code",
   "execution_count": 6,
   "metadata": {},
   "outputs": [
    {
     "name": "stdout",
     "output_type": "stream",
     "text": [
      "Le fichier est accessible ici : '/resultats/csv/test_global_algos.csv'\n"
     ]
    }
   ],
   "source": [
    "# Concaténation dans un seul dataframe\n",
    "df = pd.concat([df_1, df_2, df_3, df_4], ignore_index=True)\n",
    "\n",
    "# Sauvegarde des résultats finaux\n",
    "df.to_csv('resultats/csv/test_global_algos.csv')\n",
    "\n",
    "# Affichage de 10 lignes aléatoires du dataframe global\n",
    "df.sample(10)\n",
    "\n",
    "print(f\"Le fichier est accessible ici : '/resultats/csv/test_global_algos.csv'\")"
   ]
  },
  {
   "attachments": {},
   "cell_type": "markdown",
   "metadata": {},
   "source": [
    "# Comparaison des algorithmes implémentés\n",
    "\n",
    "Dans cette partie nous passons à la comparaison et l'analyse des résultats issus des algorithmes implémentés. Deux graphiques sont proposées et disponible aux adresses :\n",
    "\n",
    "- `/resultats/figures/fig_distances.png`\n",
    "- `/resultats/figures/fig_temps_calcul.png`\n",
    "\n",
    "De plus une visualisation sous forme de GIF permettant de mieux comprendre l'évolution des états explorés par l'algorithme est disponible dans le dossier `/gif/`\n"
   ]
  },
  {
   "attachments": {},
   "cell_type": "markdown",
   "metadata": {},
   "source": [
    "### Création des visuels d'analyse des algorithmes\n"
   ]
  },
  {
   "cell_type": "code",
   "execution_count": 7,
   "metadata": {},
   "outputs": [
    {
     "data": {
      "application/vnd.plotly.v1+json": {
       "config": {
        "plotlyServerURL": "https://plot.ly"
       },
       "data": [
        {
         "alignmentgroup": "True",
         "boxpoints": "all",
         "hovertemplate": "Algorithm=%{x}<br>Distance=%{y}<extra></extra>",
         "legendgroup": "Nearest neighbor search",
         "marker": {
          "color": "#FFA15A"
         },
         "name": "Nearest neighbor search",
         "notched": false,
         "offsetgroup": "plus_proche_voisin",
         "orientation": "v",
         "showlegend": true,
         "type": "box",
         "x": [
          "plus_proche_voisin",
          "plus_proche_voisin",
          "plus_proche_voisin",
          "plus_proche_voisin",
          "plus_proche_voisin",
          "plus_proche_voisin",
          "plus_proche_voisin",
          "plus_proche_voisin",
          "plus_proche_voisin"
         ],
         "x0": " ",
         "xaxis": "x",
         "y": [
          9748.94670516838,
          709.5216278258143,
          11892.888058614652,
          1327.1787077467925,
          2135.347948093042,
          1663.2316452038583,
          1688.9586984743191,
          1838.478134243151,
          1910.2169395517565
         ],
         "y0": " ",
         "yaxis": "y"
        },
        {
         "alignmentgroup": "True",
         "boxpoints": "all",
         "hovertemplate": "Algorithm=%{x}<br>Distance=%{y}<extra></extra>",
         "legendgroup": "2-opt inversion",
         "marker": {
          "color": "#19d3f3"
         },
         "name": "2-opt inversion",
         "notched": false,
         "offsetgroup": "2-opt",
         "orientation": "v",
         "showlegend": true,
         "type": "box",
         "x": [
          "2-opt",
          "2-opt",
          "2-opt",
          "2-opt",
          "2-opt",
          "2-opt",
          "2-opt",
          "2-opt",
          "2-opt"
         ],
         "x0": " ",
         "xaxis": "x",
         "y": [
          7245.0454127315215,
          626.1522162332797,
          9888.96562290242,
          1152.1794521218,
          1448.7169662541864,
          1442.4263245121524,
          1420.0595257941015,
          1514.739008311432,
          1523.493922077205
         ],
         "y0": " ",
         "yaxis": "y"
        },
        {
         "alignmentgroup": "True",
         "boxpoints": "all",
         "hovertemplate": "Algorithm=%{x}<br>Distance=%{y}<extra></extra>",
         "legendgroup": "Genetic algorithm",
         "marker": {
          "color": "#FF6692"
         },
         "name": "Genetic algorithm",
         "notched": false,
         "offsetgroup": "genetique",
         "orientation": "v",
         "showlegend": true,
         "type": "box",
         "x": [
          "genetique",
          "genetique",
          "genetique",
          "genetique",
          "genetique",
          "genetique",
          "genetique",
          "genetique",
          "genetique"
         ],
         "x0": " ",
         "xaxis": "x",
         "y": [
          11310.056140271045,
          2385.123967737342,
          50384.09995036853,
          6974.241283686626,
          19123.71549346392,
          20462.93593668673,
          13043.600879046116,
          14772.451931442729,
          14942.248681999814
         ],
         "y0": " ",
         "yaxis": "y"
        },
        {
         "alignmentgroup": "True",
         "boxpoints": "all",
         "hovertemplate": "Algorithm=%{x}<br>Distance=%{y}<extra></extra>",
         "legendgroup": "Kohonen algorithm",
         "marker": {
          "color": "#B6E880"
         },
         "name": "Kohonen algorithm",
         "notched": false,
         "offsetgroup": "kohonen",
         "orientation": "v",
         "showlegend": true,
         "type": "box",
         "x": [
          "kohonen",
          "kohonen",
          "kohonen",
          "kohonen",
          "kohonen",
          "kohonen",
          "kohonen",
          "kohonen",
          "kohonen"
         ],
         "x0": " ",
         "xaxis": "x",
         "y": [
          6659.431532931466,
          591.7697212210655,
          9726.374236220929,
          1078.687034753224,
          1439.0517114880768,
          1415.0494872397785,
          1378.062867359599,
          1489.9870131061937,
          1499.6083244678198
         ],
         "y0": " ",
         "yaxis": "y"
        }
       ],
       "layout": {
        "boxmode": "overlay",
        "legend": {
         "title": {
          "text": "Algorithm"
         },
         "tracegroupgap": 0
        },
        "template": {
         "data": {
          "bar": [
           {
            "error_x": {
             "color": "#2a3f5f"
            },
            "error_y": {
             "color": "#2a3f5f"
            },
            "marker": {
             "line": {
              "color": "white",
              "width": 0.5
             },
             "pattern": {
              "fillmode": "overlay",
              "size": 10,
              "solidity": 0.2
             }
            },
            "type": "bar"
           }
          ],
          "barpolar": [
           {
            "marker": {
             "line": {
              "color": "white",
              "width": 0.5
             },
             "pattern": {
              "fillmode": "overlay",
              "size": 10,
              "solidity": 0.2
             }
            },
            "type": "barpolar"
           }
          ],
          "carpet": [
           {
            "aaxis": {
             "endlinecolor": "#2a3f5f",
             "gridcolor": "#C8D4E3",
             "linecolor": "#C8D4E3",
             "minorgridcolor": "#C8D4E3",
             "startlinecolor": "#2a3f5f"
            },
            "baxis": {
             "endlinecolor": "#2a3f5f",
             "gridcolor": "#C8D4E3",
             "linecolor": "#C8D4E3",
             "minorgridcolor": "#C8D4E3",
             "startlinecolor": "#2a3f5f"
            },
            "type": "carpet"
           }
          ],
          "choropleth": [
           {
            "colorbar": {
             "outlinewidth": 0,
             "ticks": ""
            },
            "type": "choropleth"
           }
          ],
          "contour": [
           {
            "colorbar": {
             "outlinewidth": 0,
             "ticks": ""
            },
            "colorscale": [
             [
              0,
              "#0d0887"
             ],
             [
              0.1111111111111111,
              "#46039f"
             ],
             [
              0.2222222222222222,
              "#7201a8"
             ],
             [
              0.3333333333333333,
              "#9c179e"
             ],
             [
              0.4444444444444444,
              "#bd3786"
             ],
             [
              0.5555555555555556,
              "#d8576b"
             ],
             [
              0.6666666666666666,
              "#ed7953"
             ],
             [
              0.7777777777777778,
              "#fb9f3a"
             ],
             [
              0.8888888888888888,
              "#fdca26"
             ],
             [
              1,
              "#f0f921"
             ]
            ],
            "type": "contour"
           }
          ],
          "contourcarpet": [
           {
            "colorbar": {
             "outlinewidth": 0,
             "ticks": ""
            },
            "type": "contourcarpet"
           }
          ],
          "heatmap": [
           {
            "colorbar": {
             "outlinewidth": 0,
             "ticks": ""
            },
            "colorscale": [
             [
              0,
              "#0d0887"
             ],
             [
              0.1111111111111111,
              "#46039f"
             ],
             [
              0.2222222222222222,
              "#7201a8"
             ],
             [
              0.3333333333333333,
              "#9c179e"
             ],
             [
              0.4444444444444444,
              "#bd3786"
             ],
             [
              0.5555555555555556,
              "#d8576b"
             ],
             [
              0.6666666666666666,
              "#ed7953"
             ],
             [
              0.7777777777777778,
              "#fb9f3a"
             ],
             [
              0.8888888888888888,
              "#fdca26"
             ],
             [
              1,
              "#f0f921"
             ]
            ],
            "type": "heatmap"
           }
          ],
          "heatmapgl": [
           {
            "colorbar": {
             "outlinewidth": 0,
             "ticks": ""
            },
            "colorscale": [
             [
              0,
              "#0d0887"
             ],
             [
              0.1111111111111111,
              "#46039f"
             ],
             [
              0.2222222222222222,
              "#7201a8"
             ],
             [
              0.3333333333333333,
              "#9c179e"
             ],
             [
              0.4444444444444444,
              "#bd3786"
             ],
             [
              0.5555555555555556,
              "#d8576b"
             ],
             [
              0.6666666666666666,
              "#ed7953"
             ],
             [
              0.7777777777777778,
              "#fb9f3a"
             ],
             [
              0.8888888888888888,
              "#fdca26"
             ],
             [
              1,
              "#f0f921"
             ]
            ],
            "type": "heatmapgl"
           }
          ],
          "histogram": [
           {
            "marker": {
             "pattern": {
              "fillmode": "overlay",
              "size": 10,
              "solidity": 0.2
             }
            },
            "type": "histogram"
           }
          ],
          "histogram2d": [
           {
            "colorbar": {
             "outlinewidth": 0,
             "ticks": ""
            },
            "colorscale": [
             [
              0,
              "#0d0887"
             ],
             [
              0.1111111111111111,
              "#46039f"
             ],
             [
              0.2222222222222222,
              "#7201a8"
             ],
             [
              0.3333333333333333,
              "#9c179e"
             ],
             [
              0.4444444444444444,
              "#bd3786"
             ],
             [
              0.5555555555555556,
              "#d8576b"
             ],
             [
              0.6666666666666666,
              "#ed7953"
             ],
             [
              0.7777777777777778,
              "#fb9f3a"
             ],
             [
              0.8888888888888888,
              "#fdca26"
             ],
             [
              1,
              "#f0f921"
             ]
            ],
            "type": "histogram2d"
           }
          ],
          "histogram2dcontour": [
           {
            "colorbar": {
             "outlinewidth": 0,
             "ticks": ""
            },
            "colorscale": [
             [
              0,
              "#0d0887"
             ],
             [
              0.1111111111111111,
              "#46039f"
             ],
             [
              0.2222222222222222,
              "#7201a8"
             ],
             [
              0.3333333333333333,
              "#9c179e"
             ],
             [
              0.4444444444444444,
              "#bd3786"
             ],
             [
              0.5555555555555556,
              "#d8576b"
             ],
             [
              0.6666666666666666,
              "#ed7953"
             ],
             [
              0.7777777777777778,
              "#fb9f3a"
             ],
             [
              0.8888888888888888,
              "#fdca26"
             ],
             [
              1,
              "#f0f921"
             ]
            ],
            "type": "histogram2dcontour"
           }
          ],
          "mesh3d": [
           {
            "colorbar": {
             "outlinewidth": 0,
             "ticks": ""
            },
            "type": "mesh3d"
           }
          ],
          "parcoords": [
           {
            "line": {
             "colorbar": {
              "outlinewidth": 0,
              "ticks": ""
             }
            },
            "type": "parcoords"
           }
          ],
          "pie": [
           {
            "automargin": true,
            "type": "pie"
           }
          ],
          "scatter": [
           {
            "fillpattern": {
             "fillmode": "overlay",
             "size": 10,
             "solidity": 0.2
            },
            "type": "scatter"
           }
          ],
          "scatter3d": [
           {
            "line": {
             "colorbar": {
              "outlinewidth": 0,
              "ticks": ""
             }
            },
            "marker": {
             "colorbar": {
              "outlinewidth": 0,
              "ticks": ""
             }
            },
            "type": "scatter3d"
           }
          ],
          "scattercarpet": [
           {
            "marker": {
             "colorbar": {
              "outlinewidth": 0,
              "ticks": ""
             }
            },
            "type": "scattercarpet"
           }
          ],
          "scattergeo": [
           {
            "marker": {
             "colorbar": {
              "outlinewidth": 0,
              "ticks": ""
             }
            },
            "type": "scattergeo"
           }
          ],
          "scattergl": [
           {
            "marker": {
             "colorbar": {
              "outlinewidth": 0,
              "ticks": ""
             }
            },
            "type": "scattergl"
           }
          ],
          "scattermapbox": [
           {
            "marker": {
             "colorbar": {
              "outlinewidth": 0,
              "ticks": ""
             }
            },
            "type": "scattermapbox"
           }
          ],
          "scatterpolar": [
           {
            "marker": {
             "colorbar": {
              "outlinewidth": 0,
              "ticks": ""
             }
            },
            "type": "scatterpolar"
           }
          ],
          "scatterpolargl": [
           {
            "marker": {
             "colorbar": {
              "outlinewidth": 0,
              "ticks": ""
             }
            },
            "type": "scatterpolargl"
           }
          ],
          "scatterternary": [
           {
            "marker": {
             "colorbar": {
              "outlinewidth": 0,
              "ticks": ""
             }
            },
            "type": "scatterternary"
           }
          ],
          "surface": [
           {
            "colorbar": {
             "outlinewidth": 0,
             "ticks": ""
            },
            "colorscale": [
             [
              0,
              "#0d0887"
             ],
             [
              0.1111111111111111,
              "#46039f"
             ],
             [
              0.2222222222222222,
              "#7201a8"
             ],
             [
              0.3333333333333333,
              "#9c179e"
             ],
             [
              0.4444444444444444,
              "#bd3786"
             ],
             [
              0.5555555555555556,
              "#d8576b"
             ],
             [
              0.6666666666666666,
              "#ed7953"
             ],
             [
              0.7777777777777778,
              "#fb9f3a"
             ],
             [
              0.8888888888888888,
              "#fdca26"
             ],
             [
              1,
              "#f0f921"
             ]
            ],
            "type": "surface"
           }
          ],
          "table": [
           {
            "cells": {
             "fill": {
              "color": "#EBF0F8"
             },
             "line": {
              "color": "white"
             }
            },
            "header": {
             "fill": {
              "color": "#C8D4E3"
             },
             "line": {
              "color": "white"
             }
            },
            "type": "table"
           }
          ]
         },
         "layout": {
          "annotationdefaults": {
           "arrowcolor": "#2a3f5f",
           "arrowhead": 0,
           "arrowwidth": 1
          },
          "autotypenumbers": "strict",
          "coloraxis": {
           "colorbar": {
            "outlinewidth": 0,
            "ticks": ""
           }
          },
          "colorscale": {
           "diverging": [
            [
             0,
             "#8e0152"
            ],
            [
             0.1,
             "#c51b7d"
            ],
            [
             0.2,
             "#de77ae"
            ],
            [
             0.3,
             "#f1b6da"
            ],
            [
             0.4,
             "#fde0ef"
            ],
            [
             0.5,
             "#f7f7f7"
            ],
            [
             0.6,
             "#e6f5d0"
            ],
            [
             0.7,
             "#b8e186"
            ],
            [
             0.8,
             "#7fbc41"
            ],
            [
             0.9,
             "#4d9221"
            ],
            [
             1,
             "#276419"
            ]
           ],
           "sequential": [
            [
             0,
             "#0d0887"
            ],
            [
             0.1111111111111111,
             "#46039f"
            ],
            [
             0.2222222222222222,
             "#7201a8"
            ],
            [
             0.3333333333333333,
             "#9c179e"
            ],
            [
             0.4444444444444444,
             "#bd3786"
            ],
            [
             0.5555555555555556,
             "#d8576b"
            ],
            [
             0.6666666666666666,
             "#ed7953"
            ],
            [
             0.7777777777777778,
             "#fb9f3a"
            ],
            [
             0.8888888888888888,
             "#fdca26"
            ],
            [
             1,
             "#f0f921"
            ]
           ],
           "sequentialminus": [
            [
             0,
             "#0d0887"
            ],
            [
             0.1111111111111111,
             "#46039f"
            ],
            [
             0.2222222222222222,
             "#7201a8"
            ],
            [
             0.3333333333333333,
             "#9c179e"
            ],
            [
             0.4444444444444444,
             "#bd3786"
            ],
            [
             0.5555555555555556,
             "#d8576b"
            ],
            [
             0.6666666666666666,
             "#ed7953"
            ],
            [
             0.7777777777777778,
             "#fb9f3a"
            ],
            [
             0.8888888888888888,
             "#fdca26"
            ],
            [
             1,
             "#f0f921"
            ]
           ]
          },
          "colorway": [
           "#636efa",
           "#EF553B",
           "#00cc96",
           "#ab63fa",
           "#FFA15A",
           "#19d3f3",
           "#FF6692",
           "#B6E880",
           "#FF97FF",
           "#FECB52"
          ],
          "font": {
           "color": "#2a3f5f"
          },
          "geo": {
           "bgcolor": "white",
           "lakecolor": "white",
           "landcolor": "white",
           "showlakes": true,
           "showland": true,
           "subunitcolor": "#C8D4E3"
          },
          "hoverlabel": {
           "align": "left"
          },
          "hovermode": "closest",
          "mapbox": {
           "style": "light"
          },
          "paper_bgcolor": "white",
          "plot_bgcolor": "white",
          "polar": {
           "angularaxis": {
            "gridcolor": "#EBF0F8",
            "linecolor": "#EBF0F8",
            "ticks": ""
           },
           "bgcolor": "white",
           "radialaxis": {
            "gridcolor": "#EBF0F8",
            "linecolor": "#EBF0F8",
            "ticks": ""
           }
          },
          "scene": {
           "xaxis": {
            "backgroundcolor": "white",
            "gridcolor": "#DFE8F3",
            "gridwidth": 2,
            "linecolor": "#EBF0F8",
            "showbackground": true,
            "ticks": "",
            "zerolinecolor": "#EBF0F8"
           },
           "yaxis": {
            "backgroundcolor": "white",
            "gridcolor": "#DFE8F3",
            "gridwidth": 2,
            "linecolor": "#EBF0F8",
            "showbackground": true,
            "ticks": "",
            "zerolinecolor": "#EBF0F8"
           },
           "zaxis": {
            "backgroundcolor": "white",
            "gridcolor": "#DFE8F3",
            "gridwidth": 2,
            "linecolor": "#EBF0F8",
            "showbackground": true,
            "ticks": "",
            "zerolinecolor": "#EBF0F8"
           }
          },
          "shapedefaults": {
           "line": {
            "color": "#2a3f5f"
           }
          },
          "ternary": {
           "aaxis": {
            "gridcolor": "#DFE8F3",
            "linecolor": "#A2B1C6",
            "ticks": ""
           },
           "baxis": {
            "gridcolor": "#DFE8F3",
            "linecolor": "#A2B1C6",
            "ticks": ""
           },
           "bgcolor": "white",
           "caxis": {
            "gridcolor": "#DFE8F3",
            "linecolor": "#A2B1C6",
            "ticks": ""
           }
          },
          "title": {
           "x": 0.05
          },
          "xaxis": {
           "automargin": true,
           "gridcolor": "#EBF0F8",
           "linecolor": "#EBF0F8",
           "ticks": "",
           "title": {
            "standoff": 15
           },
           "zerolinecolor": "#EBF0F8",
           "zerolinewidth": 2
          },
          "yaxis": {
           "automargin": true,
           "gridcolor": "#EBF0F8",
           "linecolor": "#EBF0F8",
           "ticks": "",
           "title": {
            "standoff": 15
           },
           "zerolinecolor": "#EBF0F8",
           "zerolinewidth": 2
          }
         }
        },
        "title": {
         "text": "Distance of the path found according to the algorithm"
        },
        "xaxis": {
         "anchor": "y",
         "categoryarray": [
          "2-opt inversion",
          "Nearest neighbor search",
          "Genetic algorithm",
          "Kohonen algorithm",
          "plus_proche_voisin",
          "2-opt",
          "genetique",
          "kohonen"
         ],
         "categoryorder": "array",
         "domain": [
          0,
          1
         ],
         "title": {
          "text": "Algorithm"
         }
        },
        "yaxis": {
         "anchor": "x",
         "domain": [
          0,
          1
         ],
         "title": {
          "text": "Distance"
         }
        }
       }
      }
     },
     "metadata": {},
     "output_type": "display_data"
    },
    {
     "name": "stdout",
     "output_type": "stream",
     "text": [
      "La figure est accessible ici : '/resultats/figures/fig_distances.png'\n"
     ]
    },
    {
     "data": {
      "application/vnd.plotly.v1+json": {
       "config": {
        "plotlyServerURL": "https://plot.ly"
       },
       "data": [
        {
         "hovertemplate": "Algorithm=Nearest neighbor search<br>Number of cities=%{x}<br>Calculation time (in s)=%{y}<extra></extra>",
         "legendgroup": "Nearest neighbor search",
         "line": {
          "color": "#636efa",
          "dash": "solid"
         },
         "marker": {
          "symbol": "circle"
         },
         "mode": "markers+lines",
         "name": "Nearest neighbor search",
         "orientation": "v",
         "showlegend": true,
         "type": "scatter",
         "x": [
          38,
          131,
          194,
          237,
          343,
          379,
          395,
          411,
          423
         ],
         "xaxis": "x",
         "y": [
          0.0007400512695312,
          0.0042531490325927,
          0.0085690021514892,
          0.0111451148986816,
          0.0225741863250732,
          0.0268821716308593,
          0.0302939414978027,
          0.0315830707550048,
          0.0354890823364257
         ],
         "yaxis": "y"
        },
        {
         "hovertemplate": "Algorithm=2-opt inversion<br>Number of cities=%{x}<br>Calculation time (in s)=%{y}<extra></extra>",
         "legendgroup": "2-opt inversion",
         "line": {
          "color": "#EF553B",
          "dash": "solid"
         },
         "marker": {
          "symbol": "circle"
         },
         "mode": "markers+lines",
         "name": "2-opt inversion",
         "orientation": "v",
         "showlegend": true,
         "type": "scatter",
         "x": [
          38,
          131,
          194,
          237,
          343,
          379,
          395,
          411,
          423
         ],
         "xaxis": "x",
         "y": [
          0.0034620761871337,
          0.0310339927673339,
          0.1103332042694091,
          0.2166168689727783,
          0.5498878955841064,
          0.3363518714904785,
          0.4609968662261963,
          0.6803708076477051,
          0.7255070209503174
         ],
         "yaxis": "y"
        },
        {
         "hovertemplate": "Algorithm=Genetic algorithm<br>Number of cities=%{x}<br>Calculation time (in s)=%{y}<extra></extra>",
         "legendgroup": "Genetic algorithm",
         "line": {
          "color": "#00cc96",
          "dash": "solid"
         },
         "marker": {
          "symbol": "circle"
         },
         "mode": "markers+lines",
         "name": "Genetic algorithm",
         "orientation": "v",
         "showlegend": true,
         "type": "scatter",
         "x": [
          38,
          131,
          194,
          237,
          343,
          379,
          395,
          411,
          423
         ],
         "xaxis": "x",
         "y": [
          1.2090952396392822,
          2.236089944839477,
          2.9704959392547607,
          3.4505960941314697,
          4.613656282424927,
          5.006545066833496,
          5.166966915130615,
          5.313957929611206,
          5.423452138900757
         ],
         "yaxis": "y"
        },
        {
         "hovertemplate": "Algorithm=Kohonen algorithm<br>Number of cities=%{x}<br>Calculation time (in s)=%{y}<extra></extra>",
         "legendgroup": "Kohonen algorithm",
         "line": {
          "color": "#ab63fa",
          "dash": "solid"
         },
         "marker": {
          "symbol": "circle"
         },
         "mode": "markers+lines",
         "name": "Kohonen algorithm",
         "orientation": "v",
         "showlegend": true,
         "type": "scatter",
         "x": [
          38,
          131,
          194,
          237,
          343,
          379,
          395,
          411,
          423
         ],
         "xaxis": "x",
         "y": [
          8.813851833343506,
          11.91751790046692,
          13.429848909378052,
          14.526308298110962,
          16.850021839141846,
          17.259039402008057,
          17.48288083076477,
          17.86397910118103,
          18.1004319190979
         ],
         "yaxis": "y"
        }
       ],
       "layout": {
        "legend": {
         "title": {
          "text": "Algorithm"
         },
         "tracegroupgap": 0
        },
        "template": {
         "data": {
          "bar": [
           {
            "error_x": {
             "color": "#2a3f5f"
            },
            "error_y": {
             "color": "#2a3f5f"
            },
            "marker": {
             "line": {
              "color": "white",
              "width": 0.5
             },
             "pattern": {
              "fillmode": "overlay",
              "size": 10,
              "solidity": 0.2
             }
            },
            "type": "bar"
           }
          ],
          "barpolar": [
           {
            "marker": {
             "line": {
              "color": "white",
              "width": 0.5
             },
             "pattern": {
              "fillmode": "overlay",
              "size": 10,
              "solidity": 0.2
             }
            },
            "type": "barpolar"
           }
          ],
          "carpet": [
           {
            "aaxis": {
             "endlinecolor": "#2a3f5f",
             "gridcolor": "#C8D4E3",
             "linecolor": "#C8D4E3",
             "minorgridcolor": "#C8D4E3",
             "startlinecolor": "#2a3f5f"
            },
            "baxis": {
             "endlinecolor": "#2a3f5f",
             "gridcolor": "#C8D4E3",
             "linecolor": "#C8D4E3",
             "minorgridcolor": "#C8D4E3",
             "startlinecolor": "#2a3f5f"
            },
            "type": "carpet"
           }
          ],
          "choropleth": [
           {
            "colorbar": {
             "outlinewidth": 0,
             "ticks": ""
            },
            "type": "choropleth"
           }
          ],
          "contour": [
           {
            "colorbar": {
             "outlinewidth": 0,
             "ticks": ""
            },
            "colorscale": [
             [
              0,
              "#0d0887"
             ],
             [
              0.1111111111111111,
              "#46039f"
             ],
             [
              0.2222222222222222,
              "#7201a8"
             ],
             [
              0.3333333333333333,
              "#9c179e"
             ],
             [
              0.4444444444444444,
              "#bd3786"
             ],
             [
              0.5555555555555556,
              "#d8576b"
             ],
             [
              0.6666666666666666,
              "#ed7953"
             ],
             [
              0.7777777777777778,
              "#fb9f3a"
             ],
             [
              0.8888888888888888,
              "#fdca26"
             ],
             [
              1,
              "#f0f921"
             ]
            ],
            "type": "contour"
           }
          ],
          "contourcarpet": [
           {
            "colorbar": {
             "outlinewidth": 0,
             "ticks": ""
            },
            "type": "contourcarpet"
           }
          ],
          "heatmap": [
           {
            "colorbar": {
             "outlinewidth": 0,
             "ticks": ""
            },
            "colorscale": [
             [
              0,
              "#0d0887"
             ],
             [
              0.1111111111111111,
              "#46039f"
             ],
             [
              0.2222222222222222,
              "#7201a8"
             ],
             [
              0.3333333333333333,
              "#9c179e"
             ],
             [
              0.4444444444444444,
              "#bd3786"
             ],
             [
              0.5555555555555556,
              "#d8576b"
             ],
             [
              0.6666666666666666,
              "#ed7953"
             ],
             [
              0.7777777777777778,
              "#fb9f3a"
             ],
             [
              0.8888888888888888,
              "#fdca26"
             ],
             [
              1,
              "#f0f921"
             ]
            ],
            "type": "heatmap"
           }
          ],
          "heatmapgl": [
           {
            "colorbar": {
             "outlinewidth": 0,
             "ticks": ""
            },
            "colorscale": [
             [
              0,
              "#0d0887"
             ],
             [
              0.1111111111111111,
              "#46039f"
             ],
             [
              0.2222222222222222,
              "#7201a8"
             ],
             [
              0.3333333333333333,
              "#9c179e"
             ],
             [
              0.4444444444444444,
              "#bd3786"
             ],
             [
              0.5555555555555556,
              "#d8576b"
             ],
             [
              0.6666666666666666,
              "#ed7953"
             ],
             [
              0.7777777777777778,
              "#fb9f3a"
             ],
             [
              0.8888888888888888,
              "#fdca26"
             ],
             [
              1,
              "#f0f921"
             ]
            ],
            "type": "heatmapgl"
           }
          ],
          "histogram": [
           {
            "marker": {
             "pattern": {
              "fillmode": "overlay",
              "size": 10,
              "solidity": 0.2
             }
            },
            "type": "histogram"
           }
          ],
          "histogram2d": [
           {
            "colorbar": {
             "outlinewidth": 0,
             "ticks": ""
            },
            "colorscale": [
             [
              0,
              "#0d0887"
             ],
             [
              0.1111111111111111,
              "#46039f"
             ],
             [
              0.2222222222222222,
              "#7201a8"
             ],
             [
              0.3333333333333333,
              "#9c179e"
             ],
             [
              0.4444444444444444,
              "#bd3786"
             ],
             [
              0.5555555555555556,
              "#d8576b"
             ],
             [
              0.6666666666666666,
              "#ed7953"
             ],
             [
              0.7777777777777778,
              "#fb9f3a"
             ],
             [
              0.8888888888888888,
              "#fdca26"
             ],
             [
              1,
              "#f0f921"
             ]
            ],
            "type": "histogram2d"
           }
          ],
          "histogram2dcontour": [
           {
            "colorbar": {
             "outlinewidth": 0,
             "ticks": ""
            },
            "colorscale": [
             [
              0,
              "#0d0887"
             ],
             [
              0.1111111111111111,
              "#46039f"
             ],
             [
              0.2222222222222222,
              "#7201a8"
             ],
             [
              0.3333333333333333,
              "#9c179e"
             ],
             [
              0.4444444444444444,
              "#bd3786"
             ],
             [
              0.5555555555555556,
              "#d8576b"
             ],
             [
              0.6666666666666666,
              "#ed7953"
             ],
             [
              0.7777777777777778,
              "#fb9f3a"
             ],
             [
              0.8888888888888888,
              "#fdca26"
             ],
             [
              1,
              "#f0f921"
             ]
            ],
            "type": "histogram2dcontour"
           }
          ],
          "mesh3d": [
           {
            "colorbar": {
             "outlinewidth": 0,
             "ticks": ""
            },
            "type": "mesh3d"
           }
          ],
          "parcoords": [
           {
            "line": {
             "colorbar": {
              "outlinewidth": 0,
              "ticks": ""
             }
            },
            "type": "parcoords"
           }
          ],
          "pie": [
           {
            "automargin": true,
            "type": "pie"
           }
          ],
          "scatter": [
           {
            "fillpattern": {
             "fillmode": "overlay",
             "size": 10,
             "solidity": 0.2
            },
            "type": "scatter"
           }
          ],
          "scatter3d": [
           {
            "line": {
             "colorbar": {
              "outlinewidth": 0,
              "ticks": ""
             }
            },
            "marker": {
             "colorbar": {
              "outlinewidth": 0,
              "ticks": ""
             }
            },
            "type": "scatter3d"
           }
          ],
          "scattercarpet": [
           {
            "marker": {
             "colorbar": {
              "outlinewidth": 0,
              "ticks": ""
             }
            },
            "type": "scattercarpet"
           }
          ],
          "scattergeo": [
           {
            "marker": {
             "colorbar": {
              "outlinewidth": 0,
              "ticks": ""
             }
            },
            "type": "scattergeo"
           }
          ],
          "scattergl": [
           {
            "marker": {
             "colorbar": {
              "outlinewidth": 0,
              "ticks": ""
             }
            },
            "type": "scattergl"
           }
          ],
          "scattermapbox": [
           {
            "marker": {
             "colorbar": {
              "outlinewidth": 0,
              "ticks": ""
             }
            },
            "type": "scattermapbox"
           }
          ],
          "scatterpolar": [
           {
            "marker": {
             "colorbar": {
              "outlinewidth": 0,
              "ticks": ""
             }
            },
            "type": "scatterpolar"
           }
          ],
          "scatterpolargl": [
           {
            "marker": {
             "colorbar": {
              "outlinewidth": 0,
              "ticks": ""
             }
            },
            "type": "scatterpolargl"
           }
          ],
          "scatterternary": [
           {
            "marker": {
             "colorbar": {
              "outlinewidth": 0,
              "ticks": ""
             }
            },
            "type": "scatterternary"
           }
          ],
          "surface": [
           {
            "colorbar": {
             "outlinewidth": 0,
             "ticks": ""
            },
            "colorscale": [
             [
              0,
              "#0d0887"
             ],
             [
              0.1111111111111111,
              "#46039f"
             ],
             [
              0.2222222222222222,
              "#7201a8"
             ],
             [
              0.3333333333333333,
              "#9c179e"
             ],
             [
              0.4444444444444444,
              "#bd3786"
             ],
             [
              0.5555555555555556,
              "#d8576b"
             ],
             [
              0.6666666666666666,
              "#ed7953"
             ],
             [
              0.7777777777777778,
              "#fb9f3a"
             ],
             [
              0.8888888888888888,
              "#fdca26"
             ],
             [
              1,
              "#f0f921"
             ]
            ],
            "type": "surface"
           }
          ],
          "table": [
           {
            "cells": {
             "fill": {
              "color": "#EBF0F8"
             },
             "line": {
              "color": "white"
             }
            },
            "header": {
             "fill": {
              "color": "#C8D4E3"
             },
             "line": {
              "color": "white"
             }
            },
            "type": "table"
           }
          ]
         },
         "layout": {
          "annotationdefaults": {
           "arrowcolor": "#2a3f5f",
           "arrowhead": 0,
           "arrowwidth": 1
          },
          "autotypenumbers": "strict",
          "coloraxis": {
           "colorbar": {
            "outlinewidth": 0,
            "ticks": ""
           }
          },
          "colorscale": {
           "diverging": [
            [
             0,
             "#8e0152"
            ],
            [
             0.1,
             "#c51b7d"
            ],
            [
             0.2,
             "#de77ae"
            ],
            [
             0.3,
             "#f1b6da"
            ],
            [
             0.4,
             "#fde0ef"
            ],
            [
             0.5,
             "#f7f7f7"
            ],
            [
             0.6,
             "#e6f5d0"
            ],
            [
             0.7,
             "#b8e186"
            ],
            [
             0.8,
             "#7fbc41"
            ],
            [
             0.9,
             "#4d9221"
            ],
            [
             1,
             "#276419"
            ]
           ],
           "sequential": [
            [
             0,
             "#0d0887"
            ],
            [
             0.1111111111111111,
             "#46039f"
            ],
            [
             0.2222222222222222,
             "#7201a8"
            ],
            [
             0.3333333333333333,
             "#9c179e"
            ],
            [
             0.4444444444444444,
             "#bd3786"
            ],
            [
             0.5555555555555556,
             "#d8576b"
            ],
            [
             0.6666666666666666,
             "#ed7953"
            ],
            [
             0.7777777777777778,
             "#fb9f3a"
            ],
            [
             0.8888888888888888,
             "#fdca26"
            ],
            [
             1,
             "#f0f921"
            ]
           ],
           "sequentialminus": [
            [
             0,
             "#0d0887"
            ],
            [
             0.1111111111111111,
             "#46039f"
            ],
            [
             0.2222222222222222,
             "#7201a8"
            ],
            [
             0.3333333333333333,
             "#9c179e"
            ],
            [
             0.4444444444444444,
             "#bd3786"
            ],
            [
             0.5555555555555556,
             "#d8576b"
            ],
            [
             0.6666666666666666,
             "#ed7953"
            ],
            [
             0.7777777777777778,
             "#fb9f3a"
            ],
            [
             0.8888888888888888,
             "#fdca26"
            ],
            [
             1,
             "#f0f921"
            ]
           ]
          },
          "colorway": [
           "#636efa",
           "#EF553B",
           "#00cc96",
           "#ab63fa",
           "#FFA15A",
           "#19d3f3",
           "#FF6692",
           "#B6E880",
           "#FF97FF",
           "#FECB52"
          ],
          "font": {
           "color": "#2a3f5f"
          },
          "geo": {
           "bgcolor": "white",
           "lakecolor": "white",
           "landcolor": "white",
           "showlakes": true,
           "showland": true,
           "subunitcolor": "#C8D4E3"
          },
          "hoverlabel": {
           "align": "left"
          },
          "hovermode": "closest",
          "mapbox": {
           "style": "light"
          },
          "paper_bgcolor": "white",
          "plot_bgcolor": "white",
          "polar": {
           "angularaxis": {
            "gridcolor": "#EBF0F8",
            "linecolor": "#EBF0F8",
            "ticks": ""
           },
           "bgcolor": "white",
           "radialaxis": {
            "gridcolor": "#EBF0F8",
            "linecolor": "#EBF0F8",
            "ticks": ""
           }
          },
          "scene": {
           "xaxis": {
            "backgroundcolor": "white",
            "gridcolor": "#DFE8F3",
            "gridwidth": 2,
            "linecolor": "#EBF0F8",
            "showbackground": true,
            "ticks": "",
            "zerolinecolor": "#EBF0F8"
           },
           "yaxis": {
            "backgroundcolor": "white",
            "gridcolor": "#DFE8F3",
            "gridwidth": 2,
            "linecolor": "#EBF0F8",
            "showbackground": true,
            "ticks": "",
            "zerolinecolor": "#EBF0F8"
           },
           "zaxis": {
            "backgroundcolor": "white",
            "gridcolor": "#DFE8F3",
            "gridwidth": 2,
            "linecolor": "#EBF0F8",
            "showbackground": true,
            "ticks": "",
            "zerolinecolor": "#EBF0F8"
           }
          },
          "shapedefaults": {
           "line": {
            "color": "#2a3f5f"
           }
          },
          "ternary": {
           "aaxis": {
            "gridcolor": "#DFE8F3",
            "linecolor": "#A2B1C6",
            "ticks": ""
           },
           "baxis": {
            "gridcolor": "#DFE8F3",
            "linecolor": "#A2B1C6",
            "ticks": ""
           },
           "bgcolor": "white",
           "caxis": {
            "gridcolor": "#DFE8F3",
            "linecolor": "#A2B1C6",
            "ticks": ""
           }
          },
          "title": {
           "x": 0.05
          },
          "xaxis": {
           "automargin": true,
           "gridcolor": "#EBF0F8",
           "linecolor": "#EBF0F8",
           "ticks": "",
           "title": {
            "standoff": 15
           },
           "zerolinecolor": "#EBF0F8",
           "zerolinewidth": 2
          },
          "yaxis": {
           "automargin": true,
           "gridcolor": "#EBF0F8",
           "linecolor": "#EBF0F8",
           "ticks": "",
           "title": {
            "standoff": 15
           },
           "zerolinecolor": "#EBF0F8",
           "zerolinewidth": 2
          }
         }
        },
        "title": {
         "text": "Representation of the calculation time according to the number of cities to explore"
        },
        "xaxis": {
         "anchor": "y",
         "domain": [
          0,
          1
         ],
         "title": {
          "text": "Number of cities"
         }
        },
        "yaxis": {
         "anchor": "x",
         "domain": [
          0,
          1
         ],
         "title": {
          "text": "Calculation time (in s)"
         },
         "type": "log"
        }
       }
      }
     },
     "metadata": {},
     "output_type": "display_data"
    },
    {
     "name": "stdout",
     "output_type": "stream",
     "text": [
      "La figure est accessible ici : '/resultats/figures/fig_temps_calcul.png'\n"
     ]
    }
   ],
   "source": [
    "fig_analyse_distance = representation_resultats(\n",
    "    'resultats/csv/test_global_algos.csv')\n",
    "fig_analyse_distance.show()\n",
    "print(f\"La figure est accessible ici : '/resultats/figures/fig_distances.png'\")\n",
    "\n",
    "fig_analyse_temps_cacul = representation_temps_calcul(\n",
    "    'resultats/csv/test_global_algos.csv')\n",
    "fig_analyse_temps_cacul.show()\n",
    "print(f\"La figure est accessible ici : '/resultats/figures/fig_temps_calcul.png'\")"
   ]
  },
  {
   "attachments": {},
   "cell_type": "markdown",
   "metadata": {},
   "source": [
    "### Création d'un gif des chemins explorés"
   ]
  },
  {
   "attachments": {},
   "cell_type": "markdown",
   "metadata": {},
   "source": [
    "#### Initialisation du dataset et de l'algorithme de test\n"
   ]
  },
  {
   "cell_type": "code",
   "execution_count": 16,
   "metadata": {},
   "outputs": [
    {
     "name": "stdout",
     "output_type": "stream",
     "text": [
      "Les tests vont se réaliser sur le fichier 'xqg237' en utilisant l'algorithme 'plus_proche_voisin'\n"
     ]
    }
   ],
   "source": [
    "# Nom des dataset de test\n",
    "ENSEMBLE_TEST = ['dj38', 'xqf131', 'qa194', 'xqg237',\n",
    "                 'pma343', 'pka379', 'pbl395', 'pbk411', 'pbn423']\n",
    "# Nom des algorithmes dont on peut explorer la méthode d'exploration\n",
    "ENSEMBLE_ALGOS = ['2-opt', 'plus_proche_voisin']\n",
    "\n",
    "choix_data_test = random.randint(0, len(ENSEMBLE_TEST)-1)\n",
    "choix_algo_test = random.randint(0, len(ENSEMBLE_ALGOS)-1)\n",
    "print(\n",
    "    f\"Les tests vont se réaliser sur le fichier '{ENSEMBLE_TEST[choix_data_test]}' en utilisant l'algorithme '{ENSEMBLE_ALGOS[choix_algo_test]}'\")"
   ]
  },
  {
   "attachments": {},
   "cell_type": "markdown",
   "metadata": {},
   "source": [
    "#### Création des images indépendantes et fusion dans un fichier .gif\n"
   ]
  },
  {
   "cell_type": "code",
   "execution_count": 9,
   "metadata": {},
   "outputs": [
    {
     "name": "stdout",
     "output_type": "stream",
     "text": [
      "Le gif est accessible ici : '/gif/plus_proche_voisin_xqf131.gif'\n"
     ]
    }
   ],
   "source": [
    "# Il n'y a pas de stratégie d'exploration pour l'algorithme génétique donc pas de gif possible et le gif pour\n",
    "# l'algorithme de kohonen est différent\n",
    "assert ENSEMBLE_ALGOS[choix_algo_test] not in ['genetique', 'kohonen'] and ENSEMBLE_TEST[choix_data_test] != '', \\\n",
    "    print(\"Pas d'affichage possible pour cet algorithme\")\n",
    "\n",
    "# Génération du dataframe de résultat\n",
    "df, exploration = test_unitaire(\n",
    "    choix_data_test, ENSEMBLE_ALGOS[choix_algo_test])\n",
    "# Création des images représentantes chacunes un chemin exploré\n",
    "affichage_chemins_explores(\n",
    "    exploration, ENSEMBLE_ALGOS[choix_algo_test], ENSEMBLE_TEST[choix_data_test])  # type:ignore\n",
    "\n",
    "# Création du .gif\n",
    "generation_gif(ENSEMBLE_ALGOS[choix_algo_test], ENSEMBLE_TEST[choix_data_test])"
   ]
  },
  {
   "attachments": {},
   "cell_type": "markdown",
   "metadata": {},
   "source": [
    "![gif](gif/2-opt_pbk411.gif)"
   ]
  },
  {
   "attachments": {},
   "cell_type": "markdown",
   "metadata": {},
   "source": [
    "### Création d'un gif de l'évolution du réseau de neurones"
   ]
  },
  {
   "attachments": {},
   "cell_type": "markdown",
   "metadata": {},
   "source": [
    "#### Initialisation du dataset de test\n"
   ]
  },
  {
   "cell_type": "code",
   "execution_count": 19,
   "metadata": {},
   "outputs": [
    {
     "name": "stdout",
     "output_type": "stream",
     "text": [
      "Les tests vont se réaliser sur le fichier 'pma343' en utilisant l'algorithme 'kohonen'\n"
     ]
    }
   ],
   "source": [
    "# Nom des dataset de test\n",
    "ENSEMBLE_TEST = ['dj38', 'xqf131', 'qa194', 'xqg237',\n",
    "                 'pma343', 'pka379', 'pbl395', 'pbk411', 'pbn423']\n",
    "\n",
    "choix_data_test = random.randint(0, len(ENSEMBLE_TEST)-1)\n",
    "choix_algo_test = 'kohonen'\n",
    "print(\n",
    "    f\"Les tests vont se réaliser sur le fichier '{ENSEMBLE_TEST[choix_data_test]}' en utilisant l'algorithme '{choix_algo_test}'\")"
   ]
  },
  {
   "attachments": {},
   "cell_type": "markdown",
   "metadata": {},
   "source": [
    "#### Création des images indépendantes et fusion dans un fichier .gif\n"
   ]
  },
  {
   "cell_type": "code",
   "execution_count": 20,
   "metadata": {},
   "outputs": [
    {
     "name": "stdout",
     "output_type": "stream",
     "text": [
      "Le gif est accessible ici : '/gif/kohonen_pma343.gif'\n"
     ]
    }
   ],
   "source": [
    "assert choix_algo_test == 'kohonen' and ENSEMBLE_TEST[choix_data_test] != '', \\\n",
    "    print(\"L'évolution du réseau de neuronnes est spécifique à kohonen\")\n",
    "\n",
    "# Génération du dataframe de résultat\n",
    "df, exploration = test_unitaire(\n",
    "    choix_data_test, choix_algo_test)\n",
    "# Création des images représentantes chacunes un état du reseau de neurones\n",
    "affichage_reseau_neurones(\n",
    "    exploration, choix_algo_test, ENSEMBLE_TEST[choix_data_test])  # type:ignore\n",
    "\n",
    "# Création du .gif\n",
    "generation_gif(choix_algo_test, ENSEMBLE_TEST[choix_data_test])"
   ]
  },
  {
   "attachments": {},
   "cell_type": "markdown",
   "metadata": {},
   "source": [
    "![gif](gif/kohonen_pka379.gif)"
   ]
  },
  {
   "attachments": {},
   "cell_type": "markdown",
   "metadata": {},
   "source": [
    "# Réalisation d'un test unitaire (avec visualisation)\n",
    "\n",
    "Cette partie est dédiée à l'observation du chemin trouvé par un algorithme et un dataset tous deux sélectionnés de manière aléatoire. Toutes les figures sont disponibles dans le dossier `/resultats/figures/{nom_algo}/chemin_{nom_dataset}`\n"
   ]
  },
  {
   "attachments": {},
   "cell_type": "markdown",
   "metadata": {},
   "source": [
    "### Initialisation du dataset et de l'algorithme de test\n"
   ]
  },
  {
   "cell_type": "code",
   "execution_count": 21,
   "metadata": {},
   "outputs": [
    {
     "name": "stdout",
     "output_type": "stream",
     "text": [
      "Les tests vont se réaliser sur le fichier 'pma343' en utilisant l'algorithme '2-opt'\n"
     ]
    }
   ],
   "source": [
    "# Nom des dataset de test\n",
    "ENSEMBLE_TEST = ['dj38', 'xqf131', 'qa194', 'xqg237',\n",
    "                 'pma343', 'pka379', 'pbl395', 'pbk411', 'pbn423']\n",
    "# Nom des algorithmes implémentés\n",
    "ENSEMBLE_ALGOS = ['2-opt', 'plus_proche_voisin', 'genetique', 'kohonen']\n",
    "\n",
    "choix_data_test = random.randint(0, len(ENSEMBLE_TEST)-1)\n",
    "choix_algo_test = random.randint(0, len(ENSEMBLE_ALGOS)-1)\n",
    "print(\n",
    "    f\"Les tests vont se réaliser sur le fichier '{ENSEMBLE_TEST[choix_data_test]}' en utilisant l'algorithme '{ENSEMBLE_ALGOS[choix_algo_test]}'\")"
   ]
  },
  {
   "attachments": {},
   "cell_type": "markdown",
   "metadata": {},
   "source": [
    "### Lancement du test unitaire afin d'observer le chemin final trouvé\n"
   ]
  },
  {
   "cell_type": "code",
   "execution_count": 22,
   "metadata": {},
   "outputs": [
    {
     "data": {
      "application/vnd.plotly.v1+json": {
       "config": {
        "plotlyServerURL": "https://plot.ly"
       },
       "data": [
        {
         "hovertemplate": "x=%{x}<br>y=%{y}<extra></extra>",
         "legendgroup": "",
         "marker": {
          "color": "#1F77B4",
          "symbol": "circle"
         },
         "mode": "markers",
         "name": "",
         "orientation": "v",
         "showlegend": false,
         "type": "scatter",
         "x": [
          0,
          0,
          0,
          0,
          0,
          0,
          0,
          0,
          0,
          0,
          0,
          0,
          2,
          2,
          2,
          2,
          2,
          2,
          2,
          2,
          2,
          5,
          5,
          6,
          8,
          8,
          9,
          9,
          11,
          12,
          12,
          12,
          15,
          15,
          15,
          18,
          25,
          25,
          25,
          25,
          25,
          25,
          25,
          25,
          25,
          28,
          28,
          28,
          31,
          31,
          32,
          32,
          34,
          34,
          35,
          35,
          38,
          38,
          38,
          38,
          38,
          40,
          48,
          48,
          48,
          48,
          48,
          48,
          48,
          48,
          48,
          48,
          51,
          51,
          55,
          55,
          57,
          57,
          57,
          58,
          61,
          61,
          61,
          63,
          64,
          71,
          71,
          71,
          71,
          71,
          71,
          71,
          71,
          71,
          71,
          74,
          74,
          74,
          74,
          78,
          78,
          80,
          80,
          80,
          80,
          80,
          80,
          84,
          84,
          84,
          84,
          93,
          94,
          94,
          94,
          94,
          94,
          94,
          94,
          94,
          94,
          94,
          97,
          97,
          100,
          100,
          101,
          101,
          103,
          104,
          104,
          107,
          107,
          107,
          107,
          109,
          110,
          117,
          117,
          117,
          117,
          117,
          117,
          120,
          120,
          120,
          120,
          124,
          124,
          124,
          124,
          125,
          125,
          126,
          126,
          126,
          127,
          130,
          130,
          130,
          130,
          130,
          140,
          140,
          140,
          140,
          140,
          140,
          143,
          143,
          143,
          143,
          143,
          143,
          143,
          146,
          147,
          148,
          149,
          149,
          149,
          149,
          149,
          149,
          150,
          153,
          153,
          153,
          153,
          153,
          155,
          163,
          163,
          163,
          163,
          163,
          163,
          163,
          163,
          166,
          166,
          166,
          166,
          169,
          169,
          170,
          170,
          172,
          172,
          173,
          173,
          173,
          176,
          176,
          176,
          186,
          186,
          186,
          186,
          186,
          186,
          189,
          195,
          195,
          195,
          195,
          199,
          199,
          201,
          202,
          209,
          209,
          209,
          209,
          209,
          209,
          209,
          209,
          209,
          209,
          209,
          209,
          209,
          209,
          212,
          212,
          212,
          212,
          212,
          212,
          212,
          216,
          216,
          217,
          217,
          218,
          218,
          219,
          222,
          224,
          224,
          232,
          232,
          232,
          232,
          232,
          232,
          232,
          232,
          235,
          235,
          235,
          235,
          235,
          235,
          239,
          240,
          241,
          241,
          241,
          245,
          245,
          247,
          248,
          255,
          255,
          255,
          255,
          255,
          255,
          255,
          255,
          258,
          258,
          258,
          258,
          258,
          258,
          258,
          262,
          262,
          262,
          262,
          263,
          263,
          263,
          263,
          263,
          264,
          264,
          264,
          264,
          264,
          265,
          268,
          268,
          268,
          268,
          268,
          268,
          278,
          278,
          278,
          278,
          278,
          281,
          281,
          281,
          281,
          285,
          286,
          286,
          287,
          287,
          287,
          287,
          287,
          291,
          291,
          293,
          294,
          299,
          299
         ],
         "xaxis": "x",
         "y": [
          13,
          16,
          19,
          22,
          25,
          28,
          31,
          34,
          37,
          4,
          40,
          7,
          10,
          12,
          14,
          16,
          21,
          23,
          25,
          27,
          34,
          20,
          8,
          42,
          17,
          28,
          10,
          21,
          18,
          17,
          28,
          5,
          17,
          28,
          8,
          34,
          10,
          12,
          14,
          16,
          25,
          27,
          29,
          31,
          6,
          19,
          21,
          34,
          17,
          32,
          10,
          25,
          18,
          33,
          17,
          32,
          17,
          19,
          21,
          32,
          34,
          6,
          10,
          12,
          13,
          14,
          21,
          23,
          24,
          25,
          28,
          35,
          18,
          8,
          12,
          23,
          11,
          16,
          22,
          5,
          14,
          25,
          8,
          28,
          35,
          15,
          17,
          18,
          19,
          21,
          23,
          24,
          25,
          34,
          36,
          11,
          29,
          6,
          9,
          17,
          21,
          16,
          23,
          27,
          30,
          5,
          8,
          11,
          19,
          6,
          9,
          0,
          10,
          14,
          16,
          18,
          20,
          23,
          25,
          27,
          29,
          31,
          34,
          36,
          21,
          32,
          14,
          25,
          33,
          21,
          32,
          21,
          32,
          34,
          36,
          23,
          10,
          10,
          12,
          13,
          14,
          33,
          35,
          19,
          23,
          27,
          6,
          12,
          20,
          23,
          27,
          21,
          25,
          11,
          29,
          5,
          16,
          14,
          19,
          22,
          26,
          6,
          20,
          22,
          24,
          26,
          28,
          6,
          10,
          13,
          17,
          21,
          31,
          34,
          36,
          29,
          22,
          20,
          11,
          20,
          30,
          33,
          42,
          8,
          29,
          21,
          29,
          31,
          34,
          36,
          6,
          10,
          12,
          14,
          16,
          18,
          20,
          22,
          24,
          28,
          31,
          35,
          8,
          17,
          25,
          10,
          18,
          26,
          29,
          17,
          25,
          5,
          17,
          25,
          8,
          10,
          14,
          16,
          18,
          20,
          26,
          23,
          14,
          21,
          22,
          32,
          21,
          23,
          26,
          10,
          10,
          11,
          12,
          15,
          17,
          19,
          21,
          23,
          25,
          27,
          29,
          32,
          34,
          37,
          16,
          20,
          24,
          28,
          33,
          37,
          8,
          14,
          31,
          14,
          31,
          14,
          31,
          5,
          8,
          11,
          12,
          13,
          21,
          23,
          25,
          27,
          29,
          31,
          6,
          18,
          22,
          26,
          30,
          34,
          36,
          20,
          20,
          16,
          20,
          33,
          34,
          36,
          6,
          13,
          10,
          12,
          13,
          15,
          31,
          32,
          34,
          36,
          12,
          14,
          16,
          20,
          24,
          28,
          6,
          10,
          21,
          24,
          28,
          10,
          13,
          15,
          22,
          26,
          10,
          13,
          15,
          30,
          5,
          17,
          14,
          16,
          20,
          23,
          27,
          6,
          10,
          12,
          13,
          19,
          35,
          12,
          14,
          16,
          7,
          10,
          10,
          13,
          10,
          13,
          15,
          25,
          5,
          14,
          16,
          19,
          35,
          16,
          21
         ],
         "yaxis": "y"
        },
        {
         "mode": "lines",
         "showlegend": false,
         "type": "scatter",
         "x": [
          0,
          0,
          2,
          8,
          12,
          11,
          9,
          5,
          0,
          0,
          2,
          2,
          2,
          0,
          2,
          0,
          0,
          0,
          2,
          0,
          0,
          6,
          8,
          12,
          15,
          18,
          25,
          25,
          25,
          25,
          28,
          31,
          34,
          35,
          38,
          38,
          48,
          48,
          48,
          48,
          48,
          48,
          48,
          48,
          48,
          51,
          55,
          57,
          61,
          63,
          64,
          71,
          71,
          71,
          71,
          71,
          74,
          80,
          80,
          80,
          78,
          78,
          80,
          84,
          94,
          94,
          94,
          94,
          97,
          97,
          100,
          103,
          104,
          107,
          107,
          107,
          117,
          117,
          120,
          120,
          120,
          124,
          125,
          124,
          125,
          124,
          126,
          130,
          130,
          130,
          127,
          124,
          126,
          130,
          140,
          143,
          140,
          140,
          140,
          140,
          143,
          143,
          143,
          149,
          149,
          153,
          153,
          153,
          153,
          150,
          149,
          146,
          147,
          148,
          149,
          153,
          163,
          163,
          169,
          170,
          173,
          176,
          169,
          163,
          163,
          166,
          166,
          166,
          172,
          172,
          173,
          176,
          186,
          186,
          189,
          195,
          195,
          195,
          199,
          199,
          201,
          209,
          209,
          209,
          212,
          212,
          216,
          217,
          218,
          232,
          232,
          232,
          232,
          232,
          232,
          235,
          241,
          241,
          240,
          239,
          235,
          235,
          235,
          235,
          235,
          241,
          245,
          245,
          255,
          255,
          255,
          255,
          258,
          258,
          262,
          264,
          268,
          278,
          287,
          294,
          299,
          299,
          293,
          291,
          291,
          287,
          287,
          286,
          285,
          286,
          287,
          287,
          281,
          281,
          281,
          281,
          278,
          278,
          278,
          278,
          268,
          268,
          268,
          268,
          263,
          262,
          263,
          262,
          265,
          264,
          263,
          264,
          263,
          262,
          263,
          264,
          268,
          264,
          258,
          258,
          258,
          258,
          258,
          255,
          255,
          255,
          255,
          248,
          247,
          232,
          232,
          224,
          224,
          222,
          219,
          218,
          217,
          216,
          212,
          212,
          212,
          212,
          209,
          209,
          209,
          209,
          209,
          209,
          209,
          209,
          209,
          209,
          209,
          212,
          202,
          195,
          186,
          186,
          186,
          186,
          176,
          173,
          170,
          166,
          163,
          163,
          163,
          163,
          155,
          149,
          149,
          143,
          143,
          143,
          140,
          130,
          126,
          120,
          117,
          117,
          117,
          117,
          110,
          101,
          100,
          104,
          107,
          109,
          101,
          94,
          94,
          94,
          94,
          94,
          94,
          93,
          84,
          84,
          84,
          80,
          80,
          74,
          74,
          74,
          71,
          71,
          71,
          71,
          71,
          57,
          61,
          61,
          58,
          57,
          55,
          51,
          48,
          40,
          32,
          31,
          34,
          35,
          38,
          38,
          38,
          32,
          28,
          28,
          25,
          25,
          25,
          25,
          25,
          15,
          15,
          12,
          9,
          5,
          0,
          0,
          2,
          2,
          2,
          0
         ],
         "y": [
          13,
          16,
          16,
          17,
          17,
          18,
          21,
          20,
          19,
          22,
          21,
          23,
          25,
          25,
          27,
          28,
          31,
          34,
          34,
          37,
          40,
          42,
          28,
          28,
          28,
          34,
          25,
          27,
          29,
          31,
          34,
          32,
          33,
          32,
          32,
          34,
          35,
          28,
          25,
          24,
          23,
          21,
          14,
          13,
          12,
          18,
          23,
          22,
          25,
          28,
          35,
          36,
          34,
          25,
          24,
          23,
          29,
          30,
          27,
          23,
          21,
          17,
          16,
          19,
          25,
          27,
          29,
          31,
          34,
          36,
          32,
          33,
          32,
          32,
          34,
          36,
          35,
          33,
          27,
          23,
          19,
          20,
          21,
          23,
          25,
          27,
          29,
          26,
          22,
          19,
          16,
          12,
          11,
          14,
          20,
          21,
          22,
          24,
          26,
          28,
          31,
          34,
          36,
          42,
          33,
          36,
          34,
          31,
          29,
          29,
          30,
          29,
          22,
          20,
          20,
          21,
          20,
          18,
          17,
          18,
          17,
          17,
          25,
          22,
          24,
          28,
          31,
          35,
          29,
          26,
          25,
          25,
          26,
          20,
          23,
          32,
          22,
          21,
          21,
          23,
          26,
          32,
          34,
          37,
          37,
          33,
          31,
          31,
          31,
          31,
          29,
          27,
          25,
          23,
          21,
          18,
          16,
          20,
          20,
          20,
          22,
          26,
          30,
          34,
          36,
          33,
          34,
          36,
          36,
          34,
          32,
          31,
          28,
          24,
          28,
          30,
          27,
          35,
          25,
          35,
          21,
          16,
          19,
          16,
          14,
          15,
          13,
          13,
          10,
          10,
          10,
          5,
          7,
          12,
          14,
          16,
          19,
          13,
          12,
          10,
          14,
          16,
          20,
          23,
          26,
          24,
          22,
          21,
          17,
          15,
          15,
          13,
          13,
          10,
          10,
          10,
          6,
          5,
          6,
          12,
          14,
          16,
          20,
          15,
          13,
          12,
          10,
          13,
          6,
          6,
          13,
          12,
          11,
          8,
          5,
          14,
          14,
          14,
          16,
          20,
          24,
          28,
          29,
          27,
          25,
          23,
          21,
          19,
          17,
          15,
          12,
          11,
          10,
          8,
          10,
          14,
          18,
          16,
          14,
          10,
          8,
          5,
          10,
          8,
          10,
          12,
          14,
          16,
          6,
          8,
          11,
          17,
          13,
          10,
          6,
          6,
          5,
          6,
          10,
          12,
          13,
          14,
          10,
          14,
          21,
          21,
          21,
          23,
          25,
          23,
          20,
          18,
          16,
          14,
          10,
          0,
          6,
          9,
          11,
          8,
          5,
          6,
          9,
          11,
          15,
          17,
          18,
          19,
          21,
          16,
          14,
          8,
          5,
          11,
          12,
          8,
          10,
          6,
          10,
          17,
          18,
          17,
          17,
          19,
          21,
          25,
          21,
          19,
          16,
          14,
          12,
          10,
          6,
          17,
          8,
          5,
          10,
          8,
          4,
          7,
          10,
          12,
          14,
          13
         ]
        }
       ],
       "layout": {
        "legend": {
         "tracegroupgap": 0
        },
        "template": {
         "data": {
          "bar": [
           {
            "error_x": {
             "color": "rgb(36,36,36)"
            },
            "error_y": {
             "color": "rgb(36,36,36)"
            },
            "marker": {
             "line": {
              "color": "white",
              "width": 0.5
             },
             "pattern": {
              "fillmode": "overlay",
              "size": 10,
              "solidity": 0.2
             }
            },
            "type": "bar"
           }
          ],
          "barpolar": [
           {
            "marker": {
             "line": {
              "color": "white",
              "width": 0.5
             },
             "pattern": {
              "fillmode": "overlay",
              "size": 10,
              "solidity": 0.2
             }
            },
            "type": "barpolar"
           }
          ],
          "carpet": [
           {
            "aaxis": {
             "endlinecolor": "rgb(36,36,36)",
             "gridcolor": "white",
             "linecolor": "white",
             "minorgridcolor": "white",
             "startlinecolor": "rgb(36,36,36)"
            },
            "baxis": {
             "endlinecolor": "rgb(36,36,36)",
             "gridcolor": "white",
             "linecolor": "white",
             "minorgridcolor": "white",
             "startlinecolor": "rgb(36,36,36)"
            },
            "type": "carpet"
           }
          ],
          "choropleth": [
           {
            "colorbar": {
             "outlinewidth": 1,
             "tickcolor": "rgb(36,36,36)",
             "ticks": "outside"
            },
            "type": "choropleth"
           }
          ],
          "contour": [
           {
            "colorbar": {
             "outlinewidth": 1,
             "tickcolor": "rgb(36,36,36)",
             "ticks": "outside"
            },
            "colorscale": [
             [
              0,
              "#440154"
             ],
             [
              0.1111111111111111,
              "#482878"
             ],
             [
              0.2222222222222222,
              "#3e4989"
             ],
             [
              0.3333333333333333,
              "#31688e"
             ],
             [
              0.4444444444444444,
              "#26828e"
             ],
             [
              0.5555555555555556,
              "#1f9e89"
             ],
             [
              0.6666666666666666,
              "#35b779"
             ],
             [
              0.7777777777777778,
              "#6ece58"
             ],
             [
              0.8888888888888888,
              "#b5de2b"
             ],
             [
              1,
              "#fde725"
             ]
            ],
            "type": "contour"
           }
          ],
          "contourcarpet": [
           {
            "colorbar": {
             "outlinewidth": 1,
             "tickcolor": "rgb(36,36,36)",
             "ticks": "outside"
            },
            "type": "contourcarpet"
           }
          ],
          "heatmap": [
           {
            "colorbar": {
             "outlinewidth": 1,
             "tickcolor": "rgb(36,36,36)",
             "ticks": "outside"
            },
            "colorscale": [
             [
              0,
              "#440154"
             ],
             [
              0.1111111111111111,
              "#482878"
             ],
             [
              0.2222222222222222,
              "#3e4989"
             ],
             [
              0.3333333333333333,
              "#31688e"
             ],
             [
              0.4444444444444444,
              "#26828e"
             ],
             [
              0.5555555555555556,
              "#1f9e89"
             ],
             [
              0.6666666666666666,
              "#35b779"
             ],
             [
              0.7777777777777778,
              "#6ece58"
             ],
             [
              0.8888888888888888,
              "#b5de2b"
             ],
             [
              1,
              "#fde725"
             ]
            ],
            "type": "heatmap"
           }
          ],
          "heatmapgl": [
           {
            "colorbar": {
             "outlinewidth": 1,
             "tickcolor": "rgb(36,36,36)",
             "ticks": "outside"
            },
            "colorscale": [
             [
              0,
              "#440154"
             ],
             [
              0.1111111111111111,
              "#482878"
             ],
             [
              0.2222222222222222,
              "#3e4989"
             ],
             [
              0.3333333333333333,
              "#31688e"
             ],
             [
              0.4444444444444444,
              "#26828e"
             ],
             [
              0.5555555555555556,
              "#1f9e89"
             ],
             [
              0.6666666666666666,
              "#35b779"
             ],
             [
              0.7777777777777778,
              "#6ece58"
             ],
             [
              0.8888888888888888,
              "#b5de2b"
             ],
             [
              1,
              "#fde725"
             ]
            ],
            "type": "heatmapgl"
           }
          ],
          "histogram": [
           {
            "marker": {
             "line": {
              "color": "white",
              "width": 0.6
             }
            },
            "type": "histogram"
           }
          ],
          "histogram2d": [
           {
            "colorbar": {
             "outlinewidth": 1,
             "tickcolor": "rgb(36,36,36)",
             "ticks": "outside"
            },
            "colorscale": [
             [
              0,
              "#440154"
             ],
             [
              0.1111111111111111,
              "#482878"
             ],
             [
              0.2222222222222222,
              "#3e4989"
             ],
             [
              0.3333333333333333,
              "#31688e"
             ],
             [
              0.4444444444444444,
              "#26828e"
             ],
             [
              0.5555555555555556,
              "#1f9e89"
             ],
             [
              0.6666666666666666,
              "#35b779"
             ],
             [
              0.7777777777777778,
              "#6ece58"
             ],
             [
              0.8888888888888888,
              "#b5de2b"
             ],
             [
              1,
              "#fde725"
             ]
            ],
            "type": "histogram2d"
           }
          ],
          "histogram2dcontour": [
           {
            "colorbar": {
             "outlinewidth": 1,
             "tickcolor": "rgb(36,36,36)",
             "ticks": "outside"
            },
            "colorscale": [
             [
              0,
              "#440154"
             ],
             [
              0.1111111111111111,
              "#482878"
             ],
             [
              0.2222222222222222,
              "#3e4989"
             ],
             [
              0.3333333333333333,
              "#31688e"
             ],
             [
              0.4444444444444444,
              "#26828e"
             ],
             [
              0.5555555555555556,
              "#1f9e89"
             ],
             [
              0.6666666666666666,
              "#35b779"
             ],
             [
              0.7777777777777778,
              "#6ece58"
             ],
             [
              0.8888888888888888,
              "#b5de2b"
             ],
             [
              1,
              "#fde725"
             ]
            ],
            "type": "histogram2dcontour"
           }
          ],
          "mesh3d": [
           {
            "colorbar": {
             "outlinewidth": 1,
             "tickcolor": "rgb(36,36,36)",
             "ticks": "outside"
            },
            "type": "mesh3d"
           }
          ],
          "parcoords": [
           {
            "line": {
             "colorbar": {
              "outlinewidth": 1,
              "tickcolor": "rgb(36,36,36)",
              "ticks": "outside"
             }
            },
            "type": "parcoords"
           }
          ],
          "pie": [
           {
            "automargin": true,
            "type": "pie"
           }
          ],
          "scatter": [
           {
            "fillpattern": {
             "fillmode": "overlay",
             "size": 10,
             "solidity": 0.2
            },
            "type": "scatter"
           }
          ],
          "scatter3d": [
           {
            "line": {
             "colorbar": {
              "outlinewidth": 1,
              "tickcolor": "rgb(36,36,36)",
              "ticks": "outside"
             }
            },
            "marker": {
             "colorbar": {
              "outlinewidth": 1,
              "tickcolor": "rgb(36,36,36)",
              "ticks": "outside"
             }
            },
            "type": "scatter3d"
           }
          ],
          "scattercarpet": [
           {
            "marker": {
             "colorbar": {
              "outlinewidth": 1,
              "tickcolor": "rgb(36,36,36)",
              "ticks": "outside"
             }
            },
            "type": "scattercarpet"
           }
          ],
          "scattergeo": [
           {
            "marker": {
             "colorbar": {
              "outlinewidth": 1,
              "tickcolor": "rgb(36,36,36)",
              "ticks": "outside"
             }
            },
            "type": "scattergeo"
           }
          ],
          "scattergl": [
           {
            "marker": {
             "colorbar": {
              "outlinewidth": 1,
              "tickcolor": "rgb(36,36,36)",
              "ticks": "outside"
             }
            },
            "type": "scattergl"
           }
          ],
          "scattermapbox": [
           {
            "marker": {
             "colorbar": {
              "outlinewidth": 1,
              "tickcolor": "rgb(36,36,36)",
              "ticks": "outside"
             }
            },
            "type": "scattermapbox"
           }
          ],
          "scatterpolar": [
           {
            "marker": {
             "colorbar": {
              "outlinewidth": 1,
              "tickcolor": "rgb(36,36,36)",
              "ticks": "outside"
             }
            },
            "type": "scatterpolar"
           }
          ],
          "scatterpolargl": [
           {
            "marker": {
             "colorbar": {
              "outlinewidth": 1,
              "tickcolor": "rgb(36,36,36)",
              "ticks": "outside"
             }
            },
            "type": "scatterpolargl"
           }
          ],
          "scatterternary": [
           {
            "marker": {
             "colorbar": {
              "outlinewidth": 1,
              "tickcolor": "rgb(36,36,36)",
              "ticks": "outside"
             }
            },
            "type": "scatterternary"
           }
          ],
          "surface": [
           {
            "colorbar": {
             "outlinewidth": 1,
             "tickcolor": "rgb(36,36,36)",
             "ticks": "outside"
            },
            "colorscale": [
             [
              0,
              "#440154"
             ],
             [
              0.1111111111111111,
              "#482878"
             ],
             [
              0.2222222222222222,
              "#3e4989"
             ],
             [
              0.3333333333333333,
              "#31688e"
             ],
             [
              0.4444444444444444,
              "#26828e"
             ],
             [
              0.5555555555555556,
              "#1f9e89"
             ],
             [
              0.6666666666666666,
              "#35b779"
             ],
             [
              0.7777777777777778,
              "#6ece58"
             ],
             [
              0.8888888888888888,
              "#b5de2b"
             ],
             [
              1,
              "#fde725"
             ]
            ],
            "type": "surface"
           }
          ],
          "table": [
           {
            "cells": {
             "fill": {
              "color": "rgb(237,237,237)"
             },
             "line": {
              "color": "white"
             }
            },
            "header": {
             "fill": {
              "color": "rgb(217,217,217)"
             },
             "line": {
              "color": "white"
             }
            },
            "type": "table"
           }
          ]
         },
         "layout": {
          "annotationdefaults": {
           "arrowhead": 0,
           "arrowwidth": 1
          },
          "autotypenumbers": "strict",
          "coloraxis": {
           "colorbar": {
            "outlinewidth": 1,
            "tickcolor": "rgb(36,36,36)",
            "ticks": "outside"
           }
          },
          "colorscale": {
           "diverging": [
            [
             0,
             "rgb(103,0,31)"
            ],
            [
             0.1,
             "rgb(178,24,43)"
            ],
            [
             0.2,
             "rgb(214,96,77)"
            ],
            [
             0.3,
             "rgb(244,165,130)"
            ],
            [
             0.4,
             "rgb(253,219,199)"
            ],
            [
             0.5,
             "rgb(247,247,247)"
            ],
            [
             0.6,
             "rgb(209,229,240)"
            ],
            [
             0.7,
             "rgb(146,197,222)"
            ],
            [
             0.8,
             "rgb(67,147,195)"
            ],
            [
             0.9,
             "rgb(33,102,172)"
            ],
            [
             1,
             "rgb(5,48,97)"
            ]
           ],
           "sequential": [
            [
             0,
             "#440154"
            ],
            [
             0.1111111111111111,
             "#482878"
            ],
            [
             0.2222222222222222,
             "#3e4989"
            ],
            [
             0.3333333333333333,
             "#31688e"
            ],
            [
             0.4444444444444444,
             "#26828e"
            ],
            [
             0.5555555555555556,
             "#1f9e89"
            ],
            [
             0.6666666666666666,
             "#35b779"
            ],
            [
             0.7777777777777778,
             "#6ece58"
            ],
            [
             0.8888888888888888,
             "#b5de2b"
            ],
            [
             1,
             "#fde725"
            ]
           ],
           "sequentialminus": [
            [
             0,
             "#440154"
            ],
            [
             0.1111111111111111,
             "#482878"
            ],
            [
             0.2222222222222222,
             "#3e4989"
            ],
            [
             0.3333333333333333,
             "#31688e"
            ],
            [
             0.4444444444444444,
             "#26828e"
            ],
            [
             0.5555555555555556,
             "#1f9e89"
            ],
            [
             0.6666666666666666,
             "#35b779"
            ],
            [
             0.7777777777777778,
             "#6ece58"
            ],
            [
             0.8888888888888888,
             "#b5de2b"
            ],
            [
             1,
             "#fde725"
            ]
           ]
          },
          "colorway": [
           "#1F77B4",
           "#FF7F0E",
           "#2CA02C",
           "#D62728",
           "#9467BD",
           "#8C564B",
           "#E377C2",
           "#7F7F7F",
           "#BCBD22",
           "#17BECF"
          ],
          "font": {
           "color": "rgb(36,36,36)"
          },
          "geo": {
           "bgcolor": "white",
           "lakecolor": "white",
           "landcolor": "white",
           "showlakes": true,
           "showland": true,
           "subunitcolor": "white"
          },
          "hoverlabel": {
           "align": "left"
          },
          "hovermode": "closest",
          "mapbox": {
           "style": "light"
          },
          "paper_bgcolor": "white",
          "plot_bgcolor": "white",
          "polar": {
           "angularaxis": {
            "gridcolor": "rgb(232,232,232)",
            "linecolor": "rgb(36,36,36)",
            "showgrid": false,
            "showline": true,
            "ticks": "outside"
           },
           "bgcolor": "white",
           "radialaxis": {
            "gridcolor": "rgb(232,232,232)",
            "linecolor": "rgb(36,36,36)",
            "showgrid": false,
            "showline": true,
            "ticks": "outside"
           }
          },
          "scene": {
           "xaxis": {
            "backgroundcolor": "white",
            "gridcolor": "rgb(232,232,232)",
            "gridwidth": 2,
            "linecolor": "rgb(36,36,36)",
            "showbackground": true,
            "showgrid": false,
            "showline": true,
            "ticks": "outside",
            "zeroline": false,
            "zerolinecolor": "rgb(36,36,36)"
           },
           "yaxis": {
            "backgroundcolor": "white",
            "gridcolor": "rgb(232,232,232)",
            "gridwidth": 2,
            "linecolor": "rgb(36,36,36)",
            "showbackground": true,
            "showgrid": false,
            "showline": true,
            "ticks": "outside",
            "zeroline": false,
            "zerolinecolor": "rgb(36,36,36)"
           },
           "zaxis": {
            "backgroundcolor": "white",
            "gridcolor": "rgb(232,232,232)",
            "gridwidth": 2,
            "linecolor": "rgb(36,36,36)",
            "showbackground": true,
            "showgrid": false,
            "showline": true,
            "ticks": "outside",
            "zeroline": false,
            "zerolinecolor": "rgb(36,36,36)"
           }
          },
          "shapedefaults": {
           "fillcolor": "black",
           "line": {
            "width": 0
           },
           "opacity": 0.3
          },
          "ternary": {
           "aaxis": {
            "gridcolor": "rgb(232,232,232)",
            "linecolor": "rgb(36,36,36)",
            "showgrid": false,
            "showline": true,
            "ticks": "outside"
           },
           "baxis": {
            "gridcolor": "rgb(232,232,232)",
            "linecolor": "rgb(36,36,36)",
            "showgrid": false,
            "showline": true,
            "ticks": "outside"
           },
           "bgcolor": "white",
           "caxis": {
            "gridcolor": "rgb(232,232,232)",
            "linecolor": "rgb(36,36,36)",
            "showgrid": false,
            "showline": true,
            "ticks": "outside"
           }
          },
          "title": {
           "x": 0.05
          },
          "xaxis": {
           "automargin": true,
           "gridcolor": "rgb(232,232,232)",
           "linecolor": "rgb(36,36,36)",
           "showgrid": false,
           "showline": true,
           "ticks": "outside",
           "title": {
            "standoff": 15
           },
           "zeroline": false,
           "zerolinecolor": "rgb(36,36,36)"
          },
          "yaxis": {
           "automargin": true,
           "gridcolor": "rgb(232,232,232)",
           "linecolor": "rgb(36,36,36)",
           "showgrid": false,
           "showline": true,
           "ticks": "outside",
           "title": {
            "standoff": 15
           },
           "zeroline": false,
           "zerolinecolor": "rgb(36,36,36)"
          }
         }
        },
        "title": {
         "text": "Shortest path found by the algorithm"
        },
        "xaxis": {
         "anchor": "y",
         "domain": [
          0,
          1
         ],
         "title": {
          "text": "x"
         },
         "visible": false,
         "zeroline": false
        },
        "yaxis": {
         "anchor": "x",
         "domain": [
          0,
          1
         ],
         "title": {
          "text": "y"
         },
         "visible": false,
         "zeroline": false
        }
       }
      }
     },
     "metadata": {},
     "output_type": "display_data"
    },
    {
     "name": "stdout",
     "output_type": "stream",
     "text": [
      "La figure est accessible ici : '/resultats/figures/2-opt/chemin_pma343.png'\n"
     ]
    }
   ],
   "source": [
    "# Chargement des données étudiées\n",
    "data = data_TSPLIB(f'data/{ENSEMBLE_TEST[choix_data_test]}.tsp')\n",
    "\n",
    "# Résolution du TSP\n",
    "df, _ = test_unitaire(choix_data_test, ENSEMBLE_ALGOS[choix_algo_test])\n",
    "\n",
    "# Affichage du chemin final\n",
    "fig_chemin_final = affichage(df, data)\n",
    "fig_chemin_final.show()\n",
    "print(\n",
    "    f\"La figure est accessible ici : '/resultats/figures/{ENSEMBLE_ALGOS[choix_algo_test]}/chemin_{ENSEMBLE_TEST[choix_data_test]}.png'\")"
   ]
  },
  {
   "attachments": {},
   "cell_type": "markdown",
   "metadata": {},
   "source": [
    "# Test sur des données aléatoires (avec visualisation)\n"
   ]
  },
  {
   "attachments": {},
   "cell_type": "markdown",
   "metadata": {},
   "source": [
    "### Initialisation du nombre de villes et de l'algorithme choisi\n"
   ]
  },
  {
   "cell_type": "code",
   "execution_count": 32,
   "metadata": {},
   "outputs": [
    {
     "name": "stdout",
     "output_type": "stream",
     "text": [
      "Nombre de villes : 21\n",
      "Algorithme choisi : Plus proche voisin\n"
     ]
    }
   ],
   "source": [
    "# Initialisation d'un nombre de ville\n",
    "NOMBRE_MAX = 100\n",
    "NOMBRE_MIN = 10\n",
    "nombre_de_villes = random.randint(NOMBRE_MIN, NOMBRE_MAX)\n",
    "print(f\"Nombre de villes : {nombre_de_villes}\")\n",
    "\n",
    "ENSEMBLE_ALGOS = ['2-opt', 'Plus proche voisin', 'Génétique']\n",
    "choix_algo = random.randint(0, len(ENSEMBLE_ALGOS)-1)\n",
    "print(f\"Algorithme choisi : {ENSEMBLE_ALGOS[choix_algo]}\")"
   ]
  },
  {
   "attachments": {},
   "cell_type": "markdown",
   "metadata": {},
   "source": [
    "### Lancement du test et affichage du chemin parcouru\n"
   ]
  },
  {
   "cell_type": "code",
   "execution_count": 33,
   "metadata": {},
   "outputs": [
    {
     "data": {
      "application/vnd.plotly.v1+json": {
       "config": {
        "plotlyServerURL": "https://plot.ly"
       },
       "data": [
        {
         "hovertemplate": "x=%{x}<br>y=%{y}<extra></extra>",
         "legendgroup": "",
         "marker": {
          "color": "#1F77B4",
          "symbol": "circle"
         },
         "mode": "markers",
         "name": "",
         "orientation": "v",
         "showlegend": false,
         "type": "scatter",
         "x": [
          568,
          262,
          37,
          272,
          206,
          661,
          241,
          698,
          912,
          522,
          695,
          70,
          202,
          112,
          881,
          216,
          486,
          240,
          822,
          598,
          837
         ],
         "xaxis": "x",
         "y": [
          192,
          386,
          482,
          371,
          150,
          133,
          406,
          702,
          64,
          512,
          570,
          193,
          250,
          834,
          722,
          357,
          491,
          933,
          96,
          918,
          240
         ],
         "yaxis": "y"
        },
        {
         "mode": "lines",
         "showlegend": false,
         "type": "scatter",
         "x": [
          568,
          661,
          822,
          912,
          837,
          695,
          698,
          881,
          598,
          240,
          112,
          37,
          241,
          262,
          272,
          216,
          202,
          206,
          70,
          486,
          522,
          568
         ],
         "y": [
          192,
          133,
          96,
          64,
          240,
          570,
          702,
          722,
          918,
          933,
          834,
          482,
          406,
          386,
          371,
          357,
          250,
          150,
          193,
          491,
          512,
          192
         ]
        }
       ],
       "layout": {
        "legend": {
         "tracegroupgap": 0
        },
        "template": {
         "data": {
          "bar": [
           {
            "error_x": {
             "color": "rgb(36,36,36)"
            },
            "error_y": {
             "color": "rgb(36,36,36)"
            },
            "marker": {
             "line": {
              "color": "white",
              "width": 0.5
             },
             "pattern": {
              "fillmode": "overlay",
              "size": 10,
              "solidity": 0.2
             }
            },
            "type": "bar"
           }
          ],
          "barpolar": [
           {
            "marker": {
             "line": {
              "color": "white",
              "width": 0.5
             },
             "pattern": {
              "fillmode": "overlay",
              "size": 10,
              "solidity": 0.2
             }
            },
            "type": "barpolar"
           }
          ],
          "carpet": [
           {
            "aaxis": {
             "endlinecolor": "rgb(36,36,36)",
             "gridcolor": "white",
             "linecolor": "white",
             "minorgridcolor": "white",
             "startlinecolor": "rgb(36,36,36)"
            },
            "baxis": {
             "endlinecolor": "rgb(36,36,36)",
             "gridcolor": "white",
             "linecolor": "white",
             "minorgridcolor": "white",
             "startlinecolor": "rgb(36,36,36)"
            },
            "type": "carpet"
           }
          ],
          "choropleth": [
           {
            "colorbar": {
             "outlinewidth": 1,
             "tickcolor": "rgb(36,36,36)",
             "ticks": "outside"
            },
            "type": "choropleth"
           }
          ],
          "contour": [
           {
            "colorbar": {
             "outlinewidth": 1,
             "tickcolor": "rgb(36,36,36)",
             "ticks": "outside"
            },
            "colorscale": [
             [
              0,
              "#440154"
             ],
             [
              0.1111111111111111,
              "#482878"
             ],
             [
              0.2222222222222222,
              "#3e4989"
             ],
             [
              0.3333333333333333,
              "#31688e"
             ],
             [
              0.4444444444444444,
              "#26828e"
             ],
             [
              0.5555555555555556,
              "#1f9e89"
             ],
             [
              0.6666666666666666,
              "#35b779"
             ],
             [
              0.7777777777777778,
              "#6ece58"
             ],
             [
              0.8888888888888888,
              "#b5de2b"
             ],
             [
              1,
              "#fde725"
             ]
            ],
            "type": "contour"
           }
          ],
          "contourcarpet": [
           {
            "colorbar": {
             "outlinewidth": 1,
             "tickcolor": "rgb(36,36,36)",
             "ticks": "outside"
            },
            "type": "contourcarpet"
           }
          ],
          "heatmap": [
           {
            "colorbar": {
             "outlinewidth": 1,
             "tickcolor": "rgb(36,36,36)",
             "ticks": "outside"
            },
            "colorscale": [
             [
              0,
              "#440154"
             ],
             [
              0.1111111111111111,
              "#482878"
             ],
             [
              0.2222222222222222,
              "#3e4989"
             ],
             [
              0.3333333333333333,
              "#31688e"
             ],
             [
              0.4444444444444444,
              "#26828e"
             ],
             [
              0.5555555555555556,
              "#1f9e89"
             ],
             [
              0.6666666666666666,
              "#35b779"
             ],
             [
              0.7777777777777778,
              "#6ece58"
             ],
             [
              0.8888888888888888,
              "#b5de2b"
             ],
             [
              1,
              "#fde725"
             ]
            ],
            "type": "heatmap"
           }
          ],
          "heatmapgl": [
           {
            "colorbar": {
             "outlinewidth": 1,
             "tickcolor": "rgb(36,36,36)",
             "ticks": "outside"
            },
            "colorscale": [
             [
              0,
              "#440154"
             ],
             [
              0.1111111111111111,
              "#482878"
             ],
             [
              0.2222222222222222,
              "#3e4989"
             ],
             [
              0.3333333333333333,
              "#31688e"
             ],
             [
              0.4444444444444444,
              "#26828e"
             ],
             [
              0.5555555555555556,
              "#1f9e89"
             ],
             [
              0.6666666666666666,
              "#35b779"
             ],
             [
              0.7777777777777778,
              "#6ece58"
             ],
             [
              0.8888888888888888,
              "#b5de2b"
             ],
             [
              1,
              "#fde725"
             ]
            ],
            "type": "heatmapgl"
           }
          ],
          "histogram": [
           {
            "marker": {
             "line": {
              "color": "white",
              "width": 0.6
             }
            },
            "type": "histogram"
           }
          ],
          "histogram2d": [
           {
            "colorbar": {
             "outlinewidth": 1,
             "tickcolor": "rgb(36,36,36)",
             "ticks": "outside"
            },
            "colorscale": [
             [
              0,
              "#440154"
             ],
             [
              0.1111111111111111,
              "#482878"
             ],
             [
              0.2222222222222222,
              "#3e4989"
             ],
             [
              0.3333333333333333,
              "#31688e"
             ],
             [
              0.4444444444444444,
              "#26828e"
             ],
             [
              0.5555555555555556,
              "#1f9e89"
             ],
             [
              0.6666666666666666,
              "#35b779"
             ],
             [
              0.7777777777777778,
              "#6ece58"
             ],
             [
              0.8888888888888888,
              "#b5de2b"
             ],
             [
              1,
              "#fde725"
             ]
            ],
            "type": "histogram2d"
           }
          ],
          "histogram2dcontour": [
           {
            "colorbar": {
             "outlinewidth": 1,
             "tickcolor": "rgb(36,36,36)",
             "ticks": "outside"
            },
            "colorscale": [
             [
              0,
              "#440154"
             ],
             [
              0.1111111111111111,
              "#482878"
             ],
             [
              0.2222222222222222,
              "#3e4989"
             ],
             [
              0.3333333333333333,
              "#31688e"
             ],
             [
              0.4444444444444444,
              "#26828e"
             ],
             [
              0.5555555555555556,
              "#1f9e89"
             ],
             [
              0.6666666666666666,
              "#35b779"
             ],
             [
              0.7777777777777778,
              "#6ece58"
             ],
             [
              0.8888888888888888,
              "#b5de2b"
             ],
             [
              1,
              "#fde725"
             ]
            ],
            "type": "histogram2dcontour"
           }
          ],
          "mesh3d": [
           {
            "colorbar": {
             "outlinewidth": 1,
             "tickcolor": "rgb(36,36,36)",
             "ticks": "outside"
            },
            "type": "mesh3d"
           }
          ],
          "parcoords": [
           {
            "line": {
             "colorbar": {
              "outlinewidth": 1,
              "tickcolor": "rgb(36,36,36)",
              "ticks": "outside"
             }
            },
            "type": "parcoords"
           }
          ],
          "pie": [
           {
            "automargin": true,
            "type": "pie"
           }
          ],
          "scatter": [
           {
            "fillpattern": {
             "fillmode": "overlay",
             "size": 10,
             "solidity": 0.2
            },
            "type": "scatter"
           }
          ],
          "scatter3d": [
           {
            "line": {
             "colorbar": {
              "outlinewidth": 1,
              "tickcolor": "rgb(36,36,36)",
              "ticks": "outside"
             }
            },
            "marker": {
             "colorbar": {
              "outlinewidth": 1,
              "tickcolor": "rgb(36,36,36)",
              "ticks": "outside"
             }
            },
            "type": "scatter3d"
           }
          ],
          "scattercarpet": [
           {
            "marker": {
             "colorbar": {
              "outlinewidth": 1,
              "tickcolor": "rgb(36,36,36)",
              "ticks": "outside"
             }
            },
            "type": "scattercarpet"
           }
          ],
          "scattergeo": [
           {
            "marker": {
             "colorbar": {
              "outlinewidth": 1,
              "tickcolor": "rgb(36,36,36)",
              "ticks": "outside"
             }
            },
            "type": "scattergeo"
           }
          ],
          "scattergl": [
           {
            "marker": {
             "colorbar": {
              "outlinewidth": 1,
              "tickcolor": "rgb(36,36,36)",
              "ticks": "outside"
             }
            },
            "type": "scattergl"
           }
          ],
          "scattermapbox": [
           {
            "marker": {
             "colorbar": {
              "outlinewidth": 1,
              "tickcolor": "rgb(36,36,36)",
              "ticks": "outside"
             }
            },
            "type": "scattermapbox"
           }
          ],
          "scatterpolar": [
           {
            "marker": {
             "colorbar": {
              "outlinewidth": 1,
              "tickcolor": "rgb(36,36,36)",
              "ticks": "outside"
             }
            },
            "type": "scatterpolar"
           }
          ],
          "scatterpolargl": [
           {
            "marker": {
             "colorbar": {
              "outlinewidth": 1,
              "tickcolor": "rgb(36,36,36)",
              "ticks": "outside"
             }
            },
            "type": "scatterpolargl"
           }
          ],
          "scatterternary": [
           {
            "marker": {
             "colorbar": {
              "outlinewidth": 1,
              "tickcolor": "rgb(36,36,36)",
              "ticks": "outside"
             }
            },
            "type": "scatterternary"
           }
          ],
          "surface": [
           {
            "colorbar": {
             "outlinewidth": 1,
             "tickcolor": "rgb(36,36,36)",
             "ticks": "outside"
            },
            "colorscale": [
             [
              0,
              "#440154"
             ],
             [
              0.1111111111111111,
              "#482878"
             ],
             [
              0.2222222222222222,
              "#3e4989"
             ],
             [
              0.3333333333333333,
              "#31688e"
             ],
             [
              0.4444444444444444,
              "#26828e"
             ],
             [
              0.5555555555555556,
              "#1f9e89"
             ],
             [
              0.6666666666666666,
              "#35b779"
             ],
             [
              0.7777777777777778,
              "#6ece58"
             ],
             [
              0.8888888888888888,
              "#b5de2b"
             ],
             [
              1,
              "#fde725"
             ]
            ],
            "type": "surface"
           }
          ],
          "table": [
           {
            "cells": {
             "fill": {
              "color": "rgb(237,237,237)"
             },
             "line": {
              "color": "white"
             }
            },
            "header": {
             "fill": {
              "color": "rgb(217,217,217)"
             },
             "line": {
              "color": "white"
             }
            },
            "type": "table"
           }
          ]
         },
         "layout": {
          "annotationdefaults": {
           "arrowhead": 0,
           "arrowwidth": 1
          },
          "autotypenumbers": "strict",
          "coloraxis": {
           "colorbar": {
            "outlinewidth": 1,
            "tickcolor": "rgb(36,36,36)",
            "ticks": "outside"
           }
          },
          "colorscale": {
           "diverging": [
            [
             0,
             "rgb(103,0,31)"
            ],
            [
             0.1,
             "rgb(178,24,43)"
            ],
            [
             0.2,
             "rgb(214,96,77)"
            ],
            [
             0.3,
             "rgb(244,165,130)"
            ],
            [
             0.4,
             "rgb(253,219,199)"
            ],
            [
             0.5,
             "rgb(247,247,247)"
            ],
            [
             0.6,
             "rgb(209,229,240)"
            ],
            [
             0.7,
             "rgb(146,197,222)"
            ],
            [
             0.8,
             "rgb(67,147,195)"
            ],
            [
             0.9,
             "rgb(33,102,172)"
            ],
            [
             1,
             "rgb(5,48,97)"
            ]
           ],
           "sequential": [
            [
             0,
             "#440154"
            ],
            [
             0.1111111111111111,
             "#482878"
            ],
            [
             0.2222222222222222,
             "#3e4989"
            ],
            [
             0.3333333333333333,
             "#31688e"
            ],
            [
             0.4444444444444444,
             "#26828e"
            ],
            [
             0.5555555555555556,
             "#1f9e89"
            ],
            [
             0.6666666666666666,
             "#35b779"
            ],
            [
             0.7777777777777778,
             "#6ece58"
            ],
            [
             0.8888888888888888,
             "#b5de2b"
            ],
            [
             1,
             "#fde725"
            ]
           ],
           "sequentialminus": [
            [
             0,
             "#440154"
            ],
            [
             0.1111111111111111,
             "#482878"
            ],
            [
             0.2222222222222222,
             "#3e4989"
            ],
            [
             0.3333333333333333,
             "#31688e"
            ],
            [
             0.4444444444444444,
             "#26828e"
            ],
            [
             0.5555555555555556,
             "#1f9e89"
            ],
            [
             0.6666666666666666,
             "#35b779"
            ],
            [
             0.7777777777777778,
             "#6ece58"
            ],
            [
             0.8888888888888888,
             "#b5de2b"
            ],
            [
             1,
             "#fde725"
            ]
           ]
          },
          "colorway": [
           "#1F77B4",
           "#FF7F0E",
           "#2CA02C",
           "#D62728",
           "#9467BD",
           "#8C564B",
           "#E377C2",
           "#7F7F7F",
           "#BCBD22",
           "#17BECF"
          ],
          "font": {
           "color": "rgb(36,36,36)"
          },
          "geo": {
           "bgcolor": "white",
           "lakecolor": "white",
           "landcolor": "white",
           "showlakes": true,
           "showland": true,
           "subunitcolor": "white"
          },
          "hoverlabel": {
           "align": "left"
          },
          "hovermode": "closest",
          "mapbox": {
           "style": "light"
          },
          "paper_bgcolor": "white",
          "plot_bgcolor": "white",
          "polar": {
           "angularaxis": {
            "gridcolor": "rgb(232,232,232)",
            "linecolor": "rgb(36,36,36)",
            "showgrid": false,
            "showline": true,
            "ticks": "outside"
           },
           "bgcolor": "white",
           "radialaxis": {
            "gridcolor": "rgb(232,232,232)",
            "linecolor": "rgb(36,36,36)",
            "showgrid": false,
            "showline": true,
            "ticks": "outside"
           }
          },
          "scene": {
           "xaxis": {
            "backgroundcolor": "white",
            "gridcolor": "rgb(232,232,232)",
            "gridwidth": 2,
            "linecolor": "rgb(36,36,36)",
            "showbackground": true,
            "showgrid": false,
            "showline": true,
            "ticks": "outside",
            "zeroline": false,
            "zerolinecolor": "rgb(36,36,36)"
           },
           "yaxis": {
            "backgroundcolor": "white",
            "gridcolor": "rgb(232,232,232)",
            "gridwidth": 2,
            "linecolor": "rgb(36,36,36)",
            "showbackground": true,
            "showgrid": false,
            "showline": true,
            "ticks": "outside",
            "zeroline": false,
            "zerolinecolor": "rgb(36,36,36)"
           },
           "zaxis": {
            "backgroundcolor": "white",
            "gridcolor": "rgb(232,232,232)",
            "gridwidth": 2,
            "linecolor": "rgb(36,36,36)",
            "showbackground": true,
            "showgrid": false,
            "showline": true,
            "ticks": "outside",
            "zeroline": false,
            "zerolinecolor": "rgb(36,36,36)"
           }
          },
          "shapedefaults": {
           "fillcolor": "black",
           "line": {
            "width": 0
           },
           "opacity": 0.3
          },
          "ternary": {
           "aaxis": {
            "gridcolor": "rgb(232,232,232)",
            "linecolor": "rgb(36,36,36)",
            "showgrid": false,
            "showline": true,
            "ticks": "outside"
           },
           "baxis": {
            "gridcolor": "rgb(232,232,232)",
            "linecolor": "rgb(36,36,36)",
            "showgrid": false,
            "showline": true,
            "ticks": "outside"
           },
           "bgcolor": "white",
           "caxis": {
            "gridcolor": "rgb(232,232,232)",
            "linecolor": "rgb(36,36,36)",
            "showgrid": false,
            "showline": true,
            "ticks": "outside"
           }
          },
          "title": {
           "x": 0.05
          },
          "xaxis": {
           "automargin": true,
           "gridcolor": "rgb(232,232,232)",
           "linecolor": "rgb(36,36,36)",
           "showgrid": false,
           "showline": true,
           "ticks": "outside",
           "title": {
            "standoff": 15
           },
           "zeroline": false,
           "zerolinecolor": "rgb(36,36,36)"
          },
          "yaxis": {
           "automargin": true,
           "gridcolor": "rgb(232,232,232)",
           "linecolor": "rgb(36,36,36)",
           "showgrid": false,
           "showline": true,
           "ticks": "outside",
           "title": {
            "standoff": 15
           },
           "zeroline": false,
           "zerolinecolor": "rgb(36,36,36)"
          }
         }
        },
        "title": {
         "text": "Shortest path found by the algorithm"
        },
        "xaxis": {
         "anchor": "y",
         "domain": [
          0,
          1
         ],
         "title": {
          "text": "x"
         },
         "visible": false,
         "zeroline": false
        },
        "yaxis": {
         "anchor": "x",
         "domain": [
          0,
          1
         ],
         "title": {
          "text": "y"
         },
         "visible": false,
         "zeroline": false
        }
       }
      }
     },
     "metadata": {},
     "output_type": "display_data"
    }
   ],
   "source": [
    "# Initialisation du dataframe\n",
    "data = init_random_df(nombre_de_villes)\n",
    "\n",
    "# Initialisation de la matrice des distances relatives\n",
    "mat_distance = matrice_distance(data)\n",
    "\n",
    "if choix_algo == 0:\n",
    "    chemin_initial, _, _ = src.algo_proche_voisin.plus_proche_voisin(\n",
    "        mat_distance)\n",
    "\n",
    "    # Lancement de l'algorithme 2-opt\n",
    "    df_res, _ = src.algo_2_opt.main(\n",
    "        mat_distance, chemin_initial)\n",
    "elif choix_algo == 1:\n",
    "    # Lancement de l'algorithme plus proche voisin\n",
    "    df_res, _ = src.algo_proche_voisin.main(mat_distance)\n",
    "elif choix_algo == 2:\n",
    "    # Lancement de l'algorithme génétique\n",
    "    df_res = src.algo_genetique.main(data, mat_distance)\n",
    "else:\n",
    "    # Lancement de l'algorithme de kohonen\n",
    "    df_res, _ = src.algo_kohonen.main(data, mat_distance)\n",
    "\n",
    "# La solution trouvée par l'algo choisi\n",
    "affichage(df_res, data).show()"
   ]
  }
 ],
 "metadata": {
  "kernelspec": {
   "display_name": "Python 3 (ipykernel)",
   "language": "python",
   "name": "python3"
  },
  "language_info": {
   "codemirror_mode": {
    "name": "ipython",
    "version": 3
   },
   "file_extension": ".py",
   "mimetype": "text/x-python",
   "name": "python",
   "nbconvert_exporter": "python",
   "pygments_lexer": "ipython3",
   "version": "3.11.0"
  },
  "vscode": {
   "interpreter": {
    "hash": "d667af14c94c865b46724da933a850b3d564154870f60130309ecd5dd505f9ea"
   }
  }
 },
 "nbformat": 4,
 "nbformat_minor": 4
}
