{
 "cells": [
  {
   "cell_type": "code",
   "execution_count": 1,
   "metadata": {},
   "outputs": [
    {
     "name": "stdout",
     "output_type": "stream",
     "text": [
      "Setup complete\n"
     ]
    }
   ],
   "source": [
    "import random\n",
    "\n",
    "import pandas as pd\n",
    "\n",
    "import src.algo_2_opt\n",
    "import src.algo_genetique\n",
    "import src.algo_kohonen\n",
    "import src.algo_proche_voisin\n",
    "from src.affichage_resultats import (affichage, affichage_chemins_explores,\n",
    "                                     affichage_reseau_neurones, generation_gif,\n",
    "                                     representation_resultats,\n",
    "                                     representation_temps_calcul)\n",
    "from src.distance import matrice_distance\n",
    "from src.init_random_data import init_random_df\n",
    "from src.init_test_data import data_TSPLIB\n",
    "from src.test_algo import test_global, test_unitaire\n",
    "\n",
    "print(\"Setup complete\")"
   ]
  },
  {
   "cell_type": "markdown",
   "metadata": {},
   "source": [
    "# Réalisation des tests globaux (avec visualisation)"
   ]
  },
  {
   "cell_type": "code",
   "execution_count": 2,
   "metadata": {},
   "outputs": [
    {
     "name": "stdout",
     "output_type": "stream",
     "text": [
      "Etape du test : 1/9\n",
      "Etape du test : 2/9\n",
      "Etape du test : 3/9\n",
      "Etape du test : 4/9\n",
      "Etape du test : 5/9\n",
      "Etape du test : 6/9\n",
      "Etape du test : 7/9\n",
      "Etape du test : 8/9\n",
      "Etape du test : 9/9\n"
     ]
    },
    {
     "data": {
      "text/html": [
       "<div>\n",
       "<style scoped>\n",
       "    .dataframe tbody tr th:only-of-type {\n",
       "        vertical-align: middle;\n",
       "    }\n",
       "\n",
       "    .dataframe tbody tr th {\n",
       "        vertical-align: top;\n",
       "    }\n",
       "\n",
       "    .dataframe thead th {\n",
       "        text-align: right;\n",
       "    }\n",
       "</style>\n",
       "<table border=\"1\" class=\"dataframe\">\n",
       "  <thead>\n",
       "    <tr style=\"text-align: right;\">\n",
       "      <th></th>\n",
       "      <th>Algorithme</th>\n",
       "      <th>Nom dataset</th>\n",
       "      <th>Nombre de villes</th>\n",
       "      <th>Solution</th>\n",
       "      <th>Distance</th>\n",
       "      <th>Temps de calcul (en s)</th>\n",
       "    </tr>\n",
       "  </thead>\n",
       "  <tbody>\n",
       "    <tr>\n",
       "      <th>0</th>\n",
       "      <td>plus_proche_voisin</td>\n",
       "      <td>dj38</td>\n",
       "      <td>38.0</td>\n",
       "      <td>[0, 1, 3, 2, 4, 6, 5, 7, 8, 12, 14, 19, 22, 24...</td>\n",
       "      <td>9748.946705</td>\n",
       "      <td>0.001108</td>\n",
       "    </tr>\n",
       "    <tr>\n",
       "      <th>1</th>\n",
       "      <td>plus_proche_voisin</td>\n",
       "      <td>xqf131</td>\n",
       "      <td>131.0</td>\n",
       "      <td>[0, 5, 11, 13, 14, 15, 16, 24, 17, 12, 4, 18, ...</td>\n",
       "      <td>709.521628</td>\n",
       "      <td>0.004289</td>\n",
       "    </tr>\n",
       "    <tr>\n",
       "      <th>2</th>\n",
       "      <td>plus_proche_voisin</td>\n",
       "      <td>qa194</td>\n",
       "      <td>194.0</td>\n",
       "      <td>[0, 5, 7, 15, 12, 13, 10, 16, 25, 23, 20, 17, ...</td>\n",
       "      <td>11892.888059</td>\n",
       "      <td>0.008346</td>\n",
       "    </tr>\n",
       "    <tr>\n",
       "      <th>3</th>\n",
       "      <td>plus_proche_voisin</td>\n",
       "      <td>xqg237</td>\n",
       "      <td>237.0</td>\n",
       "      <td>[0, 7, 8, 4, 5, 1, 9, 10, 11, 6, 2, 3, 12, 24,...</td>\n",
       "      <td>1327.178708</td>\n",
       "      <td>0.011522</td>\n",
       "    </tr>\n",
       "    <tr>\n",
       "      <th>4</th>\n",
       "      <td>plus_proche_voisin</td>\n",
       "      <td>pma343</td>\n",
       "      <td>343.0</td>\n",
       "      <td>[0, 13, 12, 11, 9, 22, 26, 31, 34, 32, 29, 28,...</td>\n",
       "      <td>2135.347948</td>\n",
       "      <td>0.022372</td>\n",
       "    </tr>\n",
       "  </tbody>\n",
       "</table>\n",
       "</div>"
      ],
      "text/plain": [
       "           Algorithme Nom dataset  Nombre de villes  \\\n",
       "0  plus_proche_voisin        dj38              38.0   \n",
       "1  plus_proche_voisin      xqf131             131.0   \n",
       "2  plus_proche_voisin       qa194             194.0   \n",
       "3  plus_proche_voisin      xqg237             237.0   \n",
       "4  plus_proche_voisin      pma343             343.0   \n",
       "\n",
       "                                            Solution      Distance  \\\n",
       "0  [0, 1, 3, 2, 4, 6, 5, 7, 8, 12, 14, 19, 22, 24...   9748.946705   \n",
       "1  [0, 5, 11, 13, 14, 15, 16, 24, 17, 12, 4, 18, ...    709.521628   \n",
       "2  [0, 5, 7, 15, 12, 13, 10, 16, 25, 23, 20, 17, ...  11892.888059   \n",
       "3  [0, 7, 8, 4, 5, 1, 9, 10, 11, 6, 2, 3, 12, 24,...   1327.178708   \n",
       "4  [0, 13, 12, 11, 9, 22, 26, 31, 34, 32, 29, 28,...   2135.347948   \n",
       "\n",
       "   Temps de calcul (en s)  \n",
       "0                0.001108  \n",
       "1                0.004289  \n",
       "2                0.008346  \n",
       "3                0.011522  \n",
       "4                0.022372  "
      ]
     },
     "execution_count": 2,
     "metadata": {},
     "output_type": "execute_result"
    }
   ],
   "source": [
    "# Test global algorithme plus proche voisin\n",
    "df_1 = test_global('plus_proche_voisin')\n",
    "\n",
    "# Sauvegarde du dataframe au format csv\n",
    "df_1.to_csv('resultats/csv/test_global_plus_proche_voisin.csv')\n",
    "\n",
    "# Affichage des 5 premières lignes du dataframe\n",
    "df_1.head()"
   ]
  },
  {
   "cell_type": "code",
   "execution_count": 3,
   "metadata": {},
   "outputs": [
    {
     "name": "stdout",
     "output_type": "stream",
     "text": [
      "Etape du test : 1/9\n",
      "Etape du test : 2/9\n",
      "Etape du test : 3/9\n",
      "Etape du test : 4/9\n",
      "Etape du test : 5/9\n",
      "Etape du test : 6/9\n",
      "Etape du test : 7/9\n",
      "Etape du test : 8/9\n",
      "Etape du test : 9/9\n"
     ]
    },
    {
     "data": {
      "text/html": [
       "<div>\n",
       "<style scoped>\n",
       "    .dataframe tbody tr th:only-of-type {\n",
       "        vertical-align: middle;\n",
       "    }\n",
       "\n",
       "    .dataframe tbody tr th {\n",
       "        vertical-align: top;\n",
       "    }\n",
       "\n",
       "    .dataframe thead th {\n",
       "        text-align: right;\n",
       "    }\n",
       "</style>\n",
       "<table border=\"1\" class=\"dataframe\">\n",
       "  <thead>\n",
       "    <tr style=\"text-align: right;\">\n",
       "      <th></th>\n",
       "      <th>Algorithme</th>\n",
       "      <th>Nom dataset</th>\n",
       "      <th>Nombre de villes</th>\n",
       "      <th>Solution</th>\n",
       "      <th>Distance</th>\n",
       "      <th>Temps de calcul (en s)</th>\n",
       "    </tr>\n",
       "  </thead>\n",
       "  <tbody>\n",
       "    <tr>\n",
       "      <th>0</th>\n",
       "      <td>2-opt</td>\n",
       "      <td>dj38</td>\n",
       "      <td>38.0</td>\n",
       "      <td>[0, 9, 13, 20, 28, 31, 34, 36, 37, 32, 33, 35,...</td>\n",
       "      <td>7245.045413</td>\n",
       "      <td>0.003408</td>\n",
       "    </tr>\n",
       "    <tr>\n",
       "      <th>1</th>\n",
       "      <td>2-opt</td>\n",
       "      <td>xqf131</td>\n",
       "      <td>131.0</td>\n",
       "      <td>[0, 4, 12, 17, 24, 52, 73, 88, 97, 111, 122, 1...</td>\n",
       "      <td>626.152216</td>\n",
       "      <td>0.033184</td>\n",
       "    </tr>\n",
       "    <tr>\n",
       "      <th>2</th>\n",
       "      <td>2-opt</td>\n",
       "      <td>qa194</td>\n",
       "      <td>194.0</td>\n",
       "      <td>[0, 5, 7, 15, 12, 22, 81, 61, 58, 35, 62, 19, ...</td>\n",
       "      <td>9888.965623</td>\n",
       "      <td>0.108926</td>\n",
       "    </tr>\n",
       "    <tr>\n",
       "      <th>3</th>\n",
       "      <td>2-opt</td>\n",
       "      <td>xqg237</td>\n",
       "      <td>237.0</td>\n",
       "      <td>[0, 7, 13, 23, 14, 15, 17, 22, 28, 30, 31, 32,...</td>\n",
       "      <td>1152.179452</td>\n",
       "      <td>0.225262</td>\n",
       "    </tr>\n",
       "    <tr>\n",
       "      <th>4</th>\n",
       "      <td>2-opt</td>\n",
       "      <td>pma343</td>\n",
       "      <td>343.0</td>\n",
       "      <td>[0, 1, 15, 24, 29, 28, 27, 21, 2, 3, 16, 17, 1...</td>\n",
       "      <td>1448.716966</td>\n",
       "      <td>0.547166</td>\n",
       "    </tr>\n",
       "  </tbody>\n",
       "</table>\n",
       "</div>"
      ],
      "text/plain": [
       "  Algorithme Nom dataset  Nombre de villes  \\\n",
       "0      2-opt        dj38              38.0   \n",
       "1      2-opt      xqf131             131.0   \n",
       "2      2-opt       qa194             194.0   \n",
       "3      2-opt      xqg237             237.0   \n",
       "4      2-opt      pma343             343.0   \n",
       "\n",
       "                                            Solution     Distance  \\\n",
       "0  [0, 9, 13, 20, 28, 31, 34, 36, 37, 32, 33, 35,...  7245.045413   \n",
       "1  [0, 4, 12, 17, 24, 52, 73, 88, 97, 111, 122, 1...   626.152216   \n",
       "2  [0, 5, 7, 15, 12, 22, 81, 61, 58, 35, 62, 19, ...  9888.965623   \n",
       "3  [0, 7, 13, 23, 14, 15, 17, 22, 28, 30, 31, 32,...  1152.179452   \n",
       "4  [0, 1, 15, 24, 29, 28, 27, 21, 2, 3, 16, 17, 1...  1448.716966   \n",
       "\n",
       "   Temps de calcul (en s)  \n",
       "0                0.003408  \n",
       "1                0.033184  \n",
       "2                0.108926  \n",
       "3                0.225262  \n",
       "4                0.547166  "
      ]
     },
     "execution_count": 3,
     "metadata": {},
     "output_type": "execute_result"
    }
   ],
   "source": [
    "# Test global algorithme 2-opt\n",
    "df_2 = test_global('2-opt')\n",
    "\n",
    "# Sauvegarde du dataframe au format csv\n",
    "df_2.to_csv('resultats/csv/test_global_2_opt.csv')\n",
    "\n",
    "# Affichage des 5 premières lignes du dataframe\n",
    "df_2.head()"
   ]
  },
  {
   "cell_type": "code",
   "execution_count": 4,
   "metadata": {},
   "outputs": [
    {
     "name": "stdout",
     "output_type": "stream",
     "text": [
      "Etape du test : 1/9\n",
      "Etape du test : 2/9\n",
      "Etape du test : 3/9\n",
      "Etape du test : 4/9\n",
      "Etape du test : 5/9\n",
      "Etape du test : 6/9\n",
      "Etape du test : 7/9\n",
      "Etape du test : 8/9\n",
      "Etape du test : 9/9\n"
     ]
    },
    {
     "data": {
      "text/html": [
       "<div>\n",
       "<style scoped>\n",
       "    .dataframe tbody tr th:only-of-type {\n",
       "        vertical-align: middle;\n",
       "    }\n",
       "\n",
       "    .dataframe tbody tr th {\n",
       "        vertical-align: top;\n",
       "    }\n",
       "\n",
       "    .dataframe thead th {\n",
       "        text-align: right;\n",
       "    }\n",
       "</style>\n",
       "<table border=\"1\" class=\"dataframe\">\n",
       "  <thead>\n",
       "    <tr style=\"text-align: right;\">\n",
       "      <th></th>\n",
       "      <th>Algorithme</th>\n",
       "      <th>Nom dataset</th>\n",
       "      <th>Nombre de villes</th>\n",
       "      <th>Solution</th>\n",
       "      <th>Distance</th>\n",
       "      <th>Temps de calcul (en s)</th>\n",
       "    </tr>\n",
       "  </thead>\n",
       "  <tbody>\n",
       "    <tr>\n",
       "      <th>0</th>\n",
       "      <td>genetique</td>\n",
       "      <td>dj38</td>\n",
       "      <td>38.0</td>\n",
       "      <td>[31, 21, 15, 18, 17, 26, 30, 33, 32, 37, 36, 3...</td>\n",
       "      <td>11809.623012</td>\n",
       "      <td>1.235098</td>\n",
       "    </tr>\n",
       "    <tr>\n",
       "      <th>1</th>\n",
       "      <td>genetique</td>\n",
       "      <td>xqf131</td>\n",
       "      <td>131.0</td>\n",
       "      <td>[123, 112, 70, 66, 74, 81, 51, 31, 20, 68, 63,...</td>\n",
       "      <td>2368.356678</td>\n",
       "      <td>2.278842</td>\n",
       "    </tr>\n",
       "    <tr>\n",
       "      <th>2</th>\n",
       "      <td>genetique</td>\n",
       "      <td>qa194</td>\n",
       "      <td>194.0</td>\n",
       "      <td>[31, 102, 65, 2, 23, 145, 130, 45, 76, 103, 10...</td>\n",
       "      <td>49370.968219</td>\n",
       "      <td>2.953386</td>\n",
       "    </tr>\n",
       "    <tr>\n",
       "      <th>3</th>\n",
       "      <td>genetique</td>\n",
       "      <td>xqg237</td>\n",
       "      <td>237.0</td>\n",
       "      <td>[22, 116, 115, 127, 75, 90, 155, 164, 174, 85,...</td>\n",
       "      <td>6932.441149</td>\n",
       "      <td>3.458266</td>\n",
       "    </tr>\n",
       "    <tr>\n",
       "      <th>4</th>\n",
       "      <td>genetique</td>\n",
       "      <td>pma343</td>\n",
       "      <td>343.0</td>\n",
       "      <td>[149, 182, 336, 298, 340, 260, 135, 68, 161, 1...</td>\n",
       "      <td>18781.727451</td>\n",
       "      <td>4.589896</td>\n",
       "    </tr>\n",
       "  </tbody>\n",
       "</table>\n",
       "</div>"
      ],
      "text/plain": [
       "  Algorithme Nom dataset  Nombre de villes  \\\n",
       "0  genetique        dj38              38.0   \n",
       "1  genetique      xqf131             131.0   \n",
       "2  genetique       qa194             194.0   \n",
       "3  genetique      xqg237             237.0   \n",
       "4  genetique      pma343             343.0   \n",
       "\n",
       "                                            Solution      Distance  \\\n",
       "0  [31, 21, 15, 18, 17, 26, 30, 33, 32, 37, 36, 3...  11809.623012   \n",
       "1  [123, 112, 70, 66, 74, 81, 51, 31, 20, 68, 63,...   2368.356678   \n",
       "2  [31, 102, 65, 2, 23, 145, 130, 45, 76, 103, 10...  49370.968219   \n",
       "3  [22, 116, 115, 127, 75, 90, 155, 164, 174, 85,...   6932.441149   \n",
       "4  [149, 182, 336, 298, 340, 260, 135, 68, 161, 1...  18781.727451   \n",
       "\n",
       "   Temps de calcul (en s)  \n",
       "0                1.235098  \n",
       "1                2.278842  \n",
       "2                2.953386  \n",
       "3                3.458266  \n",
       "4                4.589896  "
      ]
     },
     "execution_count": 4,
     "metadata": {},
     "output_type": "execute_result"
    }
   ],
   "source": [
    "# Test global algorithme génétique\n",
    "df_3 = test_global('genetique')\n",
    "\n",
    "#Sauvegarde du dataframe au format csv\n",
    "df_3.to_csv('resultats/csv/test_global_algo_genetique.csv')\n",
    "\n",
    "# Affichage des 5 premières lignes du dataframe\n",
    "df_3.head()"
   ]
  },
  {
   "cell_type": "code",
   "execution_count": 5,
   "metadata": {},
   "outputs": [
    {
     "name": "stdout",
     "output_type": "stream",
     "text": [
      "Etape du test : 1/9\n",
      "Etape du test : 2/9\n",
      "Etape du test : 3/9\n",
      "Etape du test : 4/9\n",
      "Etape du test : 5/9\n",
      "Etape du test : 6/9\n",
      "Etape du test : 7/9\n",
      "Etape du test : 8/9\n",
      "Etape du test : 9/9\n"
     ]
    },
    {
     "data": {
      "text/html": [
       "<div>\n",
       "<style scoped>\n",
       "    .dataframe tbody tr th:only-of-type {\n",
       "        vertical-align: middle;\n",
       "    }\n",
       "\n",
       "    .dataframe tbody tr th {\n",
       "        vertical-align: top;\n",
       "    }\n",
       "\n",
       "    .dataframe thead th {\n",
       "        text-align: right;\n",
       "    }\n",
       "</style>\n",
       "<table border=\"1\" class=\"dataframe\">\n",
       "  <thead>\n",
       "    <tr style=\"text-align: right;\">\n",
       "      <th></th>\n",
       "      <th>Algorithme</th>\n",
       "      <th>Nom dataset</th>\n",
       "      <th>Nombre de villes</th>\n",
       "      <th>Solution</th>\n",
       "      <th>Distance</th>\n",
       "      <th>Temps de calcul (en s)</th>\n",
       "    </tr>\n",
       "  </thead>\n",
       "  <tbody>\n",
       "    <tr>\n",
       "      <th>0</th>\n",
       "      <td>kohonen</td>\n",
       "      <td>dj38</td>\n",
       "      <td>38.0</td>\n",
       "      <td>[5, 14, 12, 7, 8, 10, 11, 15, 16, 17, 18, 27, ...</td>\n",
       "      <td>7504.815597</td>\n",
       "      <td>9.098427</td>\n",
       "    </tr>\n",
       "    <tr>\n",
       "      <th>1</th>\n",
       "      <td>kohonen</td>\n",
       "      <td>xqf131</td>\n",
       "      <td>131.0</td>\n",
       "      <td>[26, 18, 27, 28, 29, 19, 30, 31, 32, 20, 33, 3...</td>\n",
       "      <td>570.630600</td>\n",
       "      <td>11.946166</td>\n",
       "    </tr>\n",
       "    <tr>\n",
       "      <th>2</th>\n",
       "      <td>kohonen</td>\n",
       "      <td>qa194</td>\n",
       "      <td>194.0</td>\n",
       "      <td>[167, 166, 169, 170, 165, 159, 161, 157, 158, ...</td>\n",
       "      <td>9817.838058</td>\n",
       "      <td>13.161919</td>\n",
       "    </tr>\n",
       "    <tr>\n",
       "      <th>3</th>\n",
       "      <td>kohonen</td>\n",
       "      <td>xqg237</td>\n",
       "      <td>237.0</td>\n",
       "      <td>[182, 188, 189, 197, 181, 180, 171, 164, 172, ...</td>\n",
       "      <td>1103.703834</td>\n",
       "      <td>14.113638</td>\n",
       "    </tr>\n",
       "    <tr>\n",
       "      <th>4</th>\n",
       "      <td>kohonen</td>\n",
       "      <td>pma343</td>\n",
       "      <td>343.0</td>\n",
       "      <td>[322, 323, 327, 326, 325, 328, 336, 329, 330, ...</td>\n",
       "      <td>1460.892269</td>\n",
       "      <td>16.228862</td>\n",
       "    </tr>\n",
       "  </tbody>\n",
       "</table>\n",
       "</div>"
      ],
      "text/plain": [
       "  Algorithme Nom dataset  Nombre de villes  \\\n",
       "0    kohonen        dj38              38.0   \n",
       "1    kohonen      xqf131             131.0   \n",
       "2    kohonen       qa194             194.0   \n",
       "3    kohonen      xqg237             237.0   \n",
       "4    kohonen      pma343             343.0   \n",
       "\n",
       "                                            Solution     Distance  \\\n",
       "0  [5, 14, 12, 7, 8, 10, 11, 15, 16, 17, 18, 27, ...  7504.815597   \n",
       "1  [26, 18, 27, 28, 29, 19, 30, 31, 32, 20, 33, 3...   570.630600   \n",
       "2  [167, 166, 169, 170, 165, 159, 161, 157, 158, ...  9817.838058   \n",
       "3  [182, 188, 189, 197, 181, 180, 171, 164, 172, ...  1103.703834   \n",
       "4  [322, 323, 327, 326, 325, 328, 336, 329, 330, ...  1460.892269   \n",
       "\n",
       "   Temps de calcul (en s)  \n",
       "0                9.098427  \n",
       "1               11.946166  \n",
       "2               13.161919  \n",
       "3               14.113638  \n",
       "4               16.228862  "
      ]
     },
     "execution_count": 5,
     "metadata": {},
     "output_type": "execute_result"
    }
   ],
   "source": [
    "# Test global algorithme de kohonen\n",
    "df_4 = test_global('kohonen')\n",
    "\n",
    "# Sauvegarde du dataframe au format csv\n",
    "df_4.to_csv('resultats/csv/test_global_kohonen.csv')\n",
    "\n",
    "# Affichage des 5 premières lignes du dataframe\n",
    "df_4.head()"
   ]
  },
  {
   "cell_type": "markdown",
   "metadata": {},
   "source": [
    "### Sauvegarde des données importantes pour analyser les algorithmes"
   ]
  },
  {
   "cell_type": "code",
   "execution_count": 6,
   "metadata": {},
   "outputs": [
    {
     "data": {
      "text/html": [
       "<div>\n",
       "<style scoped>\n",
       "    .dataframe tbody tr th:only-of-type {\n",
       "        vertical-align: middle;\n",
       "    }\n",
       "\n",
       "    .dataframe tbody tr th {\n",
       "        vertical-align: top;\n",
       "    }\n",
       "\n",
       "    .dataframe thead th {\n",
       "        text-align: right;\n",
       "    }\n",
       "</style>\n",
       "<table border=\"1\" class=\"dataframe\">\n",
       "  <thead>\n",
       "    <tr style=\"text-align: right;\">\n",
       "      <th></th>\n",
       "      <th>Algorithme</th>\n",
       "      <th>Nom dataset</th>\n",
       "      <th>Nombre de villes</th>\n",
       "      <th>Solution</th>\n",
       "      <th>Distance</th>\n",
       "      <th>Temps de calcul (en s)</th>\n",
       "    </tr>\n",
       "  </thead>\n",
       "  <tbody>\n",
       "    <tr>\n",
       "      <th>15</th>\n",
       "      <td>2-opt</td>\n",
       "      <td>pbl395</td>\n",
       "      <td>395.0</td>\n",
       "      <td>[0, 13, 36, 45, 49, 54, 65, 84, 106, 134, 152,...</td>\n",
       "      <td>1420.059526</td>\n",
       "      <td>0.503597</td>\n",
       "    </tr>\n",
       "    <tr>\n",
       "      <th>24</th>\n",
       "      <td>genetique</td>\n",
       "      <td>pbl395</td>\n",
       "      <td>395.0</td>\n",
       "      <td>[264, 278, 256, 48, 17, 281, 311, 241, 111, 55...</td>\n",
       "      <td>13002.440802</td>\n",
       "      <td>6.267006</td>\n",
       "    </tr>\n",
       "    <tr>\n",
       "      <th>28</th>\n",
       "      <td>kohonen</td>\n",
       "      <td>xqf131</td>\n",
       "      <td>131.0</td>\n",
       "      <td>[23, 43, 42, 41, 40, 39, 38, 22, 37, 36, 35, 2...</td>\n",
       "      <td>575.428274</td>\n",
       "      <td>13.117637</td>\n",
       "    </tr>\n",
       "    <tr>\n",
       "      <th>21</th>\n",
       "      <td>genetique</td>\n",
       "      <td>xqg237</td>\n",
       "      <td>237.0</td>\n",
       "      <td>[143, 27, 162, 135, 115, 39, 38, 4, 13, 15, 19...</td>\n",
       "      <td>6889.618038</td>\n",
       "      <td>4.191766</td>\n",
       "    </tr>\n",
       "    <tr>\n",
       "      <th>9</th>\n",
       "      <td>2-opt</td>\n",
       "      <td>dj38</td>\n",
       "      <td>38.0</td>\n",
       "      <td>[0, 9, 13, 20, 28, 31, 34, 36, 37, 32, 33, 35,...</td>\n",
       "      <td>7245.045413</td>\n",
       "      <td>0.003737</td>\n",
       "    </tr>\n",
       "    <tr>\n",
       "      <th>35</th>\n",
       "      <td>kohonen</td>\n",
       "      <td>pbn423</td>\n",
       "      <td>423.0</td>\n",
       "      <td>[232, 264, 263, 262, 247, 231, 192, 191, 190, ...</td>\n",
       "      <td>1505.830601</td>\n",
       "      <td>19.285703</td>\n",
       "    </tr>\n",
       "    <tr>\n",
       "      <th>27</th>\n",
       "      <td>kohonen</td>\n",
       "      <td>dj38</td>\n",
       "      <td>38.0</td>\n",
       "      <td>[9, 13, 20, 28, 29, 31, 34, 36, 37, 32, 33, 35...</td>\n",
       "      <td>6664.113571</td>\n",
       "      <td>12.403167</td>\n",
       "    </tr>\n",
       "    <tr>\n",
       "      <th>5</th>\n",
       "      <td>plus_proche_voisin</td>\n",
       "      <td>pka379</td>\n",
       "      <td>379.0</td>\n",
       "      <td>[0, 9, 1, 2, 3, 4, 5, 6, 7, 8, 10, 11, 16, 18,...</td>\n",
       "      <td>1663.231645</td>\n",
       "      <td>0.028547</td>\n",
       "    </tr>\n",
       "    <tr>\n",
       "      <th>22</th>\n",
       "      <td>genetique</td>\n",
       "      <td>pma343</td>\n",
       "      <td>343.0</td>\n",
       "      <td>[144, 106, 190, 266, 232, 25, 10, 242, 272, 14...</td>\n",
       "      <td>19246.663796</td>\n",
       "      <td>5.664096</td>\n",
       "    </tr>\n",
       "    <tr>\n",
       "      <th>20</th>\n",
       "      <td>genetique</td>\n",
       "      <td>qa194</td>\n",
       "      <td>194.0</td>\n",
       "      <td>[4, 21, 52, 72, 39, 28, 0, 3, 54, 11, 43, 51, ...</td>\n",
       "      <td>49269.792705</td>\n",
       "      <td>3.654028</td>\n",
       "    </tr>\n",
       "  </tbody>\n",
       "</table>\n",
       "</div>"
      ],
      "text/plain": [
       "            Algorithme Nom dataset  Nombre de villes  \\\n",
       "15               2-opt      pbl395             395.0   \n",
       "24           genetique      pbl395             395.0   \n",
       "28             kohonen      xqf131             131.0   \n",
       "21           genetique      xqg237             237.0   \n",
       "9                2-opt        dj38              38.0   \n",
       "35             kohonen      pbn423             423.0   \n",
       "27             kohonen        dj38              38.0   \n",
       "5   plus_proche_voisin      pka379             379.0   \n",
       "22           genetique      pma343             343.0   \n",
       "20           genetique       qa194             194.0   \n",
       "\n",
       "                                             Solution      Distance  \\\n",
       "15  [0, 13, 36, 45, 49, 54, 65, 84, 106, 134, 152,...   1420.059526   \n",
       "24  [264, 278, 256, 48, 17, 281, 311, 241, 111, 55...  13002.440802   \n",
       "28  [23, 43, 42, 41, 40, 39, 38, 22, 37, 36, 35, 2...    575.428274   \n",
       "21  [143, 27, 162, 135, 115, 39, 38, 4, 13, 15, 19...   6889.618038   \n",
       "9   [0, 9, 13, 20, 28, 31, 34, 36, 37, 32, 33, 35,...   7245.045413   \n",
       "35  [232, 264, 263, 262, 247, 231, 192, 191, 190, ...   1505.830601   \n",
       "27  [9, 13, 20, 28, 29, 31, 34, 36, 37, 32, 33, 35...   6664.113571   \n",
       "5   [0, 9, 1, 2, 3, 4, 5, 6, 7, 8, 10, 11, 16, 18,...   1663.231645   \n",
       "22  [144, 106, 190, 266, 232, 25, 10, 242, 272, 14...  19246.663796   \n",
       "20  [4, 21, 52, 72, 39, 28, 0, 3, 54, 11, 43, 51, ...  49269.792705   \n",
       "\n",
       "    Temps de calcul (en s)  \n",
       "15                0.503597  \n",
       "24                6.267006  \n",
       "28               13.117637  \n",
       "21                4.191766  \n",
       "9                 0.003737  \n",
       "35               19.285703  \n",
       "27               12.403167  \n",
       "5                 0.028547  \n",
       "22                5.664096  \n",
       "20                3.654028  "
      ]
     },
     "execution_count": 6,
     "metadata": {},
     "output_type": "execute_result"
    }
   ],
   "source": [
    "# Concaténation dans un seul dataframe\n",
    "df = pd.concat([df_1, df_2, df_3, df_4], ignore_index=True)\n",
    "\n",
    "# Sauvegarde des résultats finaux\n",
    "df.to_csv('resultats/csv/test_global_algos.csv')\n",
    "\n",
    "# Affichage de 10 lignes aléatoires du dataframe global\n",
    "df.sample(10)"
   ]
  },
  {
   "cell_type": "markdown",
   "metadata": {},
   "source": [
    "### Affichage des graphiques de comparaison des algorithmes implémentés"
   ]
  },
  {
   "cell_type": "code",
   "execution_count": 7,
   "metadata": {},
   "outputs": [
    {
     "data": {
      "application/vnd.plotly.v1+json": {
       "config": {
        "plotlyServerURL": "https://plot.ly"
       },
       "data": [
        {
         "alignmentgroup": "True",
         "boxpoints": "all",
         "hovertemplate": "Algorithm=%{x}<br>Distance=%{y}<extra></extra>",
         "legendgroup": "Nearest neighbor search",
         "marker": {
          "color": "#FFA15A"
         },
         "name": "Nearest neighbor search",
         "notched": false,
         "offsetgroup": "plus_proche_voisin",
         "orientation": "v",
         "showlegend": true,
         "type": "box",
         "x": [
          "plus_proche_voisin",
          "plus_proche_voisin",
          "plus_proche_voisin",
          "plus_proche_voisin",
          "plus_proche_voisin",
          "plus_proche_voisin",
          "plus_proche_voisin",
          "plus_proche_voisin",
          "plus_proche_voisin"
         ],
         "x0": " ",
         "xaxis": "x",
         "y": [
          9748.94670516838,
          709.5216278258143,
          11892.888058614652,
          1327.1787077467925,
          2135.347948093042,
          1663.2316452038583,
          1688.9586984743191,
          1838.478134243151,
          1910.2169395517565
         ],
         "y0": " ",
         "yaxis": "y"
        },
        {
         "alignmentgroup": "True",
         "boxpoints": "all",
         "hovertemplate": "Algorithm=%{x}<br>Distance=%{y}<extra></extra>",
         "legendgroup": "2-opt inversion",
         "marker": {
          "color": "#19d3f3"
         },
         "name": "2-opt inversion",
         "notched": false,
         "offsetgroup": "2-opt",
         "orientation": "v",
         "showlegend": true,
         "type": "box",
         "x": [
          "2-opt",
          "2-opt",
          "2-opt",
          "2-opt",
          "2-opt",
          "2-opt",
          "2-opt",
          "2-opt",
          "2-opt"
         ],
         "x0": " ",
         "xaxis": "x",
         "y": [
          7245.0454127315215,
          626.1522162332797,
          9888.96562290242,
          1152.1794521218,
          1448.7169662541864,
          1442.4263245121524,
          1420.0595257941015,
          1514.739008311432,
          1523.493922077205
         ],
         "y0": " ",
         "yaxis": "y"
        },
        {
         "alignmentgroup": "True",
         "boxpoints": "all",
         "hovertemplate": "Algorithm=%{x}<br>Distance=%{y}<extra></extra>",
         "legendgroup": "Genetic algorithm",
         "marker": {
          "color": "#FF6692"
         },
         "name": "Genetic algorithm",
         "notched": false,
         "offsetgroup": "genetique",
         "orientation": "v",
         "showlegend": true,
         "type": "box",
         "x": [
          "genetique",
          "genetique",
          "genetique",
          "genetique",
          "genetique",
          "genetique",
          "genetique",
          "genetique",
          "genetique"
         ],
         "x0": " ",
         "xaxis": "x",
         "y": [
          11906.395694165816,
          2204.015781701727,
          49269.79270515311,
          6889.618037750136,
          19246.663795890185,
          20048.93169182108,
          13002.440801840734,
          14387.184222378131,
          14905.971623306474
         ],
         "y0": " ",
         "yaxis": "y"
        },
        {
         "alignmentgroup": "True",
         "boxpoints": "all",
         "hovertemplate": "Algorithm=%{x}<br>Distance=%{y}<extra></extra>",
         "legendgroup": "Kohonen algorithm",
         "marker": {
          "color": "#B6E880"
         },
         "name": "Kohonen algorithm",
         "notched": false,
         "offsetgroup": "kohonen",
         "orientation": "v",
         "showlegend": true,
         "type": "box",
         "x": [
          "kohonen",
          "kohonen",
          "kohonen",
          "kohonen",
          "kohonen",
          "kohonen",
          "kohonen",
          "kohonen",
          "kohonen"
         ],
         "x0": " ",
         "xaxis": "x",
         "y": [
          6664.113570564628,
          575.4282739786711,
          9846.42568986712,
          1101.8408122281987,
          1445.9717411944014,
          1423.3475578748662,
          1410.0551387615176,
          1486.3643584211432,
          1505.8306005709867
         ],
         "y0": " ",
         "yaxis": "y"
        }
       ],
       "layout": {
        "boxmode": "overlay",
        "legend": {
         "title": {
          "text": "Algorithm"
         },
         "tracegroupgap": 0
        },
        "template": {
         "data": {
          "bar": [
           {
            "error_x": {
             "color": "#2a3f5f"
            },
            "error_y": {
             "color": "#2a3f5f"
            },
            "marker": {
             "line": {
              "color": "white",
              "width": 0.5
             },
             "pattern": {
              "fillmode": "overlay",
              "size": 10,
              "solidity": 0.2
             }
            },
            "type": "bar"
           }
          ],
          "barpolar": [
           {
            "marker": {
             "line": {
              "color": "white",
              "width": 0.5
             },
             "pattern": {
              "fillmode": "overlay",
              "size": 10,
              "solidity": 0.2
             }
            },
            "type": "barpolar"
           }
          ],
          "carpet": [
           {
            "aaxis": {
             "endlinecolor": "#2a3f5f",
             "gridcolor": "#C8D4E3",
             "linecolor": "#C8D4E3",
             "minorgridcolor": "#C8D4E3",
             "startlinecolor": "#2a3f5f"
            },
            "baxis": {
             "endlinecolor": "#2a3f5f",
             "gridcolor": "#C8D4E3",
             "linecolor": "#C8D4E3",
             "minorgridcolor": "#C8D4E3",
             "startlinecolor": "#2a3f5f"
            },
            "type": "carpet"
           }
          ],
          "choropleth": [
           {
            "colorbar": {
             "outlinewidth": 0,
             "ticks": ""
            },
            "type": "choropleth"
           }
          ],
          "contour": [
           {
            "colorbar": {
             "outlinewidth": 0,
             "ticks": ""
            },
            "colorscale": [
             [
              0,
              "#0d0887"
             ],
             [
              0.1111111111111111,
              "#46039f"
             ],
             [
              0.2222222222222222,
              "#7201a8"
             ],
             [
              0.3333333333333333,
              "#9c179e"
             ],
             [
              0.4444444444444444,
              "#bd3786"
             ],
             [
              0.5555555555555556,
              "#d8576b"
             ],
             [
              0.6666666666666666,
              "#ed7953"
             ],
             [
              0.7777777777777778,
              "#fb9f3a"
             ],
             [
              0.8888888888888888,
              "#fdca26"
             ],
             [
              1,
              "#f0f921"
             ]
            ],
            "type": "contour"
           }
          ],
          "contourcarpet": [
           {
            "colorbar": {
             "outlinewidth": 0,
             "ticks": ""
            },
            "type": "contourcarpet"
           }
          ],
          "heatmap": [
           {
            "colorbar": {
             "outlinewidth": 0,
             "ticks": ""
            },
            "colorscale": [
             [
              0,
              "#0d0887"
             ],
             [
              0.1111111111111111,
              "#46039f"
             ],
             [
              0.2222222222222222,
              "#7201a8"
             ],
             [
              0.3333333333333333,
              "#9c179e"
             ],
             [
              0.4444444444444444,
              "#bd3786"
             ],
             [
              0.5555555555555556,
              "#d8576b"
             ],
             [
              0.6666666666666666,
              "#ed7953"
             ],
             [
              0.7777777777777778,
              "#fb9f3a"
             ],
             [
              0.8888888888888888,
              "#fdca26"
             ],
             [
              1,
              "#f0f921"
             ]
            ],
            "type": "heatmap"
           }
          ],
          "heatmapgl": [
           {
            "colorbar": {
             "outlinewidth": 0,
             "ticks": ""
            },
            "colorscale": [
             [
              0,
              "#0d0887"
             ],
             [
              0.1111111111111111,
              "#46039f"
             ],
             [
              0.2222222222222222,
              "#7201a8"
             ],
             [
              0.3333333333333333,
              "#9c179e"
             ],
             [
              0.4444444444444444,
              "#bd3786"
             ],
             [
              0.5555555555555556,
              "#d8576b"
             ],
             [
              0.6666666666666666,
              "#ed7953"
             ],
             [
              0.7777777777777778,
              "#fb9f3a"
             ],
             [
              0.8888888888888888,
              "#fdca26"
             ],
             [
              1,
              "#f0f921"
             ]
            ],
            "type": "heatmapgl"
           }
          ],
          "histogram": [
           {
            "marker": {
             "pattern": {
              "fillmode": "overlay",
              "size": 10,
              "solidity": 0.2
             }
            },
            "type": "histogram"
           }
          ],
          "histogram2d": [
           {
            "colorbar": {
             "outlinewidth": 0,
             "ticks": ""
            },
            "colorscale": [
             [
              0,
              "#0d0887"
             ],
             [
              0.1111111111111111,
              "#46039f"
             ],
             [
              0.2222222222222222,
              "#7201a8"
             ],
             [
              0.3333333333333333,
              "#9c179e"
             ],
             [
              0.4444444444444444,
              "#bd3786"
             ],
             [
              0.5555555555555556,
              "#d8576b"
             ],
             [
              0.6666666666666666,
              "#ed7953"
             ],
             [
              0.7777777777777778,
              "#fb9f3a"
             ],
             [
              0.8888888888888888,
              "#fdca26"
             ],
             [
              1,
              "#f0f921"
             ]
            ],
            "type": "histogram2d"
           }
          ],
          "histogram2dcontour": [
           {
            "colorbar": {
             "outlinewidth": 0,
             "ticks": ""
            },
            "colorscale": [
             [
              0,
              "#0d0887"
             ],
             [
              0.1111111111111111,
              "#46039f"
             ],
             [
              0.2222222222222222,
              "#7201a8"
             ],
             [
              0.3333333333333333,
              "#9c179e"
             ],
             [
              0.4444444444444444,
              "#bd3786"
             ],
             [
              0.5555555555555556,
              "#d8576b"
             ],
             [
              0.6666666666666666,
              "#ed7953"
             ],
             [
              0.7777777777777778,
              "#fb9f3a"
             ],
             [
              0.8888888888888888,
              "#fdca26"
             ],
             [
              1,
              "#f0f921"
             ]
            ],
            "type": "histogram2dcontour"
           }
          ],
          "mesh3d": [
           {
            "colorbar": {
             "outlinewidth": 0,
             "ticks": ""
            },
            "type": "mesh3d"
           }
          ],
          "parcoords": [
           {
            "line": {
             "colorbar": {
              "outlinewidth": 0,
              "ticks": ""
             }
            },
            "type": "parcoords"
           }
          ],
          "pie": [
           {
            "automargin": true,
            "type": "pie"
           }
          ],
          "scatter": [
           {
            "fillpattern": {
             "fillmode": "overlay",
             "size": 10,
             "solidity": 0.2
            },
            "type": "scatter"
           }
          ],
          "scatter3d": [
           {
            "line": {
             "colorbar": {
              "outlinewidth": 0,
              "ticks": ""
             }
            },
            "marker": {
             "colorbar": {
              "outlinewidth": 0,
              "ticks": ""
             }
            },
            "type": "scatter3d"
           }
          ],
          "scattercarpet": [
           {
            "marker": {
             "colorbar": {
              "outlinewidth": 0,
              "ticks": ""
             }
            },
            "type": "scattercarpet"
           }
          ],
          "scattergeo": [
           {
            "marker": {
             "colorbar": {
              "outlinewidth": 0,
              "ticks": ""
             }
            },
            "type": "scattergeo"
           }
          ],
          "scattergl": [
           {
            "marker": {
             "colorbar": {
              "outlinewidth": 0,
              "ticks": ""
             }
            },
            "type": "scattergl"
           }
          ],
          "scattermapbox": [
           {
            "marker": {
             "colorbar": {
              "outlinewidth": 0,
              "ticks": ""
             }
            },
            "type": "scattermapbox"
           }
          ],
          "scatterpolar": [
           {
            "marker": {
             "colorbar": {
              "outlinewidth": 0,
              "ticks": ""
             }
            },
            "type": "scatterpolar"
           }
          ],
          "scatterpolargl": [
           {
            "marker": {
             "colorbar": {
              "outlinewidth": 0,
              "ticks": ""
             }
            },
            "type": "scatterpolargl"
           }
          ],
          "scatterternary": [
           {
            "marker": {
             "colorbar": {
              "outlinewidth": 0,
              "ticks": ""
             }
            },
            "type": "scatterternary"
           }
          ],
          "surface": [
           {
            "colorbar": {
             "outlinewidth": 0,
             "ticks": ""
            },
            "colorscale": [
             [
              0,
              "#0d0887"
             ],
             [
              0.1111111111111111,
              "#46039f"
             ],
             [
              0.2222222222222222,
              "#7201a8"
             ],
             [
              0.3333333333333333,
              "#9c179e"
             ],
             [
              0.4444444444444444,
              "#bd3786"
             ],
             [
              0.5555555555555556,
              "#d8576b"
             ],
             [
              0.6666666666666666,
              "#ed7953"
             ],
             [
              0.7777777777777778,
              "#fb9f3a"
             ],
             [
              0.8888888888888888,
              "#fdca26"
             ],
             [
              1,
              "#f0f921"
             ]
            ],
            "type": "surface"
           }
          ],
          "table": [
           {
            "cells": {
             "fill": {
              "color": "#EBF0F8"
             },
             "line": {
              "color": "white"
             }
            },
            "header": {
             "fill": {
              "color": "#C8D4E3"
             },
             "line": {
              "color": "white"
             }
            },
            "type": "table"
           }
          ]
         },
         "layout": {
          "annotationdefaults": {
           "arrowcolor": "#2a3f5f",
           "arrowhead": 0,
           "arrowwidth": 1
          },
          "autotypenumbers": "strict",
          "coloraxis": {
           "colorbar": {
            "outlinewidth": 0,
            "ticks": ""
           }
          },
          "colorscale": {
           "diverging": [
            [
             0,
             "#8e0152"
            ],
            [
             0.1,
             "#c51b7d"
            ],
            [
             0.2,
             "#de77ae"
            ],
            [
             0.3,
             "#f1b6da"
            ],
            [
             0.4,
             "#fde0ef"
            ],
            [
             0.5,
             "#f7f7f7"
            ],
            [
             0.6,
             "#e6f5d0"
            ],
            [
             0.7,
             "#b8e186"
            ],
            [
             0.8,
             "#7fbc41"
            ],
            [
             0.9,
             "#4d9221"
            ],
            [
             1,
             "#276419"
            ]
           ],
           "sequential": [
            [
             0,
             "#0d0887"
            ],
            [
             0.1111111111111111,
             "#46039f"
            ],
            [
             0.2222222222222222,
             "#7201a8"
            ],
            [
             0.3333333333333333,
             "#9c179e"
            ],
            [
             0.4444444444444444,
             "#bd3786"
            ],
            [
             0.5555555555555556,
             "#d8576b"
            ],
            [
             0.6666666666666666,
             "#ed7953"
            ],
            [
             0.7777777777777778,
             "#fb9f3a"
            ],
            [
             0.8888888888888888,
             "#fdca26"
            ],
            [
             1,
             "#f0f921"
            ]
           ],
           "sequentialminus": [
            [
             0,
             "#0d0887"
            ],
            [
             0.1111111111111111,
             "#46039f"
            ],
            [
             0.2222222222222222,
             "#7201a8"
            ],
            [
             0.3333333333333333,
             "#9c179e"
            ],
            [
             0.4444444444444444,
             "#bd3786"
            ],
            [
             0.5555555555555556,
             "#d8576b"
            ],
            [
             0.6666666666666666,
             "#ed7953"
            ],
            [
             0.7777777777777778,
             "#fb9f3a"
            ],
            [
             0.8888888888888888,
             "#fdca26"
            ],
            [
             1,
             "#f0f921"
            ]
           ]
          },
          "colorway": [
           "#636efa",
           "#EF553B",
           "#00cc96",
           "#ab63fa",
           "#FFA15A",
           "#19d3f3",
           "#FF6692",
           "#B6E880",
           "#FF97FF",
           "#FECB52"
          ],
          "font": {
           "color": "#2a3f5f"
          },
          "geo": {
           "bgcolor": "white",
           "lakecolor": "white",
           "landcolor": "white",
           "showlakes": true,
           "showland": true,
           "subunitcolor": "#C8D4E3"
          },
          "hoverlabel": {
           "align": "left"
          },
          "hovermode": "closest",
          "mapbox": {
           "style": "light"
          },
          "paper_bgcolor": "white",
          "plot_bgcolor": "white",
          "polar": {
           "angularaxis": {
            "gridcolor": "#EBF0F8",
            "linecolor": "#EBF0F8",
            "ticks": ""
           },
           "bgcolor": "white",
           "radialaxis": {
            "gridcolor": "#EBF0F8",
            "linecolor": "#EBF0F8",
            "ticks": ""
           }
          },
          "scene": {
           "xaxis": {
            "backgroundcolor": "white",
            "gridcolor": "#DFE8F3",
            "gridwidth": 2,
            "linecolor": "#EBF0F8",
            "showbackground": true,
            "ticks": "",
            "zerolinecolor": "#EBF0F8"
           },
           "yaxis": {
            "backgroundcolor": "white",
            "gridcolor": "#DFE8F3",
            "gridwidth": 2,
            "linecolor": "#EBF0F8",
            "showbackground": true,
            "ticks": "",
            "zerolinecolor": "#EBF0F8"
           },
           "zaxis": {
            "backgroundcolor": "white",
            "gridcolor": "#DFE8F3",
            "gridwidth": 2,
            "linecolor": "#EBF0F8",
            "showbackground": true,
            "ticks": "",
            "zerolinecolor": "#EBF0F8"
           }
          },
          "shapedefaults": {
           "line": {
            "color": "#2a3f5f"
           }
          },
          "ternary": {
           "aaxis": {
            "gridcolor": "#DFE8F3",
            "linecolor": "#A2B1C6",
            "ticks": ""
           },
           "baxis": {
            "gridcolor": "#DFE8F3",
            "linecolor": "#A2B1C6",
            "ticks": ""
           },
           "bgcolor": "white",
           "caxis": {
            "gridcolor": "#DFE8F3",
            "linecolor": "#A2B1C6",
            "ticks": ""
           }
          },
          "title": {
           "x": 0.05
          },
          "xaxis": {
           "automargin": true,
           "gridcolor": "#EBF0F8",
           "linecolor": "#EBF0F8",
           "ticks": "",
           "title": {
            "standoff": 15
           },
           "zerolinecolor": "#EBF0F8",
           "zerolinewidth": 2
          },
          "yaxis": {
           "automargin": true,
           "gridcolor": "#EBF0F8",
           "linecolor": "#EBF0F8",
           "ticks": "",
           "title": {
            "standoff": 15
           },
           "zerolinecolor": "#EBF0F8",
           "zerolinewidth": 2
          }
         }
        },
        "title": {
         "text": "Distance of the path found according to the algorithm"
        },
        "xaxis": {
         "anchor": "y",
         "categoryarray": [
          "2-opt inversion",
          "Nearest neighbor search",
          "Genetic algorithm",
          "Kohonen algorithm",
          "plus_proche_voisin",
          "2-opt",
          "genetique",
          "kohonen"
         ],
         "categoryorder": "array",
         "domain": [
          0,
          1
         ],
         "title": {
          "text": "Algorithm"
         }
        },
        "yaxis": {
         "anchor": "x",
         "domain": [
          0,
          1
         ],
         "title": {
          "text": "Distance"
         }
        }
       }
      }
     },
     "metadata": {},
     "output_type": "display_data"
    },
    {
     "data": {
      "application/vnd.plotly.v1+json": {
       "config": {
        "plotlyServerURL": "https://plot.ly"
       },
       "data": [
        {
         "hovertemplate": "Algorithm=Nearest neighbor search<br>Number of cities=%{x}<br>Calculation time (in s)=%{y}<extra></extra>",
         "legendgroup": "Nearest neighbor search",
         "line": {
          "color": "#636efa",
          "dash": "solid"
         },
         "marker": {
          "symbol": "circle"
         },
         "mode": "markers+lines",
         "name": "Nearest neighbor search",
         "orientation": "v",
         "showlegend": true,
         "type": "scatter",
         "x": [
          38,
          131,
          194,
          237,
          343,
          379,
          395,
          411,
          423
         ],
         "xaxis": "x",
         "y": [
          0.0007829666137695,
          0.0042381286621093,
          0.0081548690795898,
          0.0112860202789306,
          0.0222961902618408,
          0.0285470485687255,
          0.0294041633605957,
          0.031606912612915,
          0.0342452526092529
         ],
         "yaxis": "y"
        },
        {
         "hovertemplate": "Algorithm=2-opt inversion<br>Number of cities=%{x}<br>Calculation time (in s)=%{y}<extra></extra>",
         "legendgroup": "2-opt inversion",
         "line": {
          "color": "#EF553B",
          "dash": "solid"
         },
         "marker": {
          "symbol": "circle"
         },
         "mode": "markers+lines",
         "name": "2-opt inversion",
         "orientation": "v",
         "showlegend": true,
         "type": "scatter",
         "x": [
          38,
          131,
          194,
          237,
          343,
          379,
          395,
          411,
          423
         ],
         "xaxis": "x",
         "y": [
          0.0037367343902587,
          0.0325543880462646,
          0.1204190254211425,
          0.2472569942474365,
          0.6027920246124268,
          0.3694949150085449,
          0.5035970211029053,
          0.7586231231689453,
          0.8053538799285889
         ],
         "yaxis": "y"
        },
        {
         "hovertemplate": "Algorithm=Genetic algorithm<br>Number of cities=%{x}<br>Calculation time (in s)=%{y}<extra></extra>",
         "legendgroup": "Genetic algorithm",
         "line": {
          "color": "#00cc96",
          "dash": "solid"
         },
         "marker": {
          "symbol": "circle"
         },
         "mode": "markers+lines",
         "name": "Genetic algorithm",
         "orientation": "v",
         "showlegend": true,
         "type": "scatter",
         "x": [
          38,
          131,
          194,
          237,
          343,
          379,
          395,
          411,
          423
         ],
         "xaxis": "x",
         "y": [
          1.625070095062256,
          2.823250293731689,
          3.654027938842773,
          4.191766023635864,
          5.664096117019653,
          6.10930609703064,
          6.267006158828735,
          6.492890119552612,
          6.818242788314819
         ],
         "yaxis": "y"
        },
        {
         "hovertemplate": "Algorithm=Kohonen algorithm<br>Number of cities=%{x}<br>Calculation time (in s)=%{y}<extra></extra>",
         "legendgroup": "Kohonen algorithm",
         "line": {
          "color": "#ab63fa",
          "dash": "solid"
         },
         "marker": {
          "symbol": "circle"
         },
         "mode": "markers+lines",
         "name": "Kohonen algorithm",
         "orientation": "v",
         "showlegend": true,
         "type": "scatter",
         "x": [
          38,
          131,
          194,
          237,
          343,
          379,
          395,
          411,
          423
         ],
         "xaxis": "x",
         "y": [
          12.403167247772217,
          13.117637157440186,
          14.631937742233276,
          15.511338949203491,
          17.754906177520752,
          18.774582862854004,
          18.63882803916931,
          18.902867078781128,
          19.2857027053833
         ],
         "yaxis": "y"
        }
       ],
       "layout": {
        "legend": {
         "title": {
          "text": "Algorithm"
         },
         "tracegroupgap": 0
        },
        "template": {
         "data": {
          "bar": [
           {
            "error_x": {
             "color": "#2a3f5f"
            },
            "error_y": {
             "color": "#2a3f5f"
            },
            "marker": {
             "line": {
              "color": "white",
              "width": 0.5
             },
             "pattern": {
              "fillmode": "overlay",
              "size": 10,
              "solidity": 0.2
             }
            },
            "type": "bar"
           }
          ],
          "barpolar": [
           {
            "marker": {
             "line": {
              "color": "white",
              "width": 0.5
             },
             "pattern": {
              "fillmode": "overlay",
              "size": 10,
              "solidity": 0.2
             }
            },
            "type": "barpolar"
           }
          ],
          "carpet": [
           {
            "aaxis": {
             "endlinecolor": "#2a3f5f",
             "gridcolor": "#C8D4E3",
             "linecolor": "#C8D4E3",
             "minorgridcolor": "#C8D4E3",
             "startlinecolor": "#2a3f5f"
            },
            "baxis": {
             "endlinecolor": "#2a3f5f",
             "gridcolor": "#C8D4E3",
             "linecolor": "#C8D4E3",
             "minorgridcolor": "#C8D4E3",
             "startlinecolor": "#2a3f5f"
            },
            "type": "carpet"
           }
          ],
          "choropleth": [
           {
            "colorbar": {
             "outlinewidth": 0,
             "ticks": ""
            },
            "type": "choropleth"
           }
          ],
          "contour": [
           {
            "colorbar": {
             "outlinewidth": 0,
             "ticks": ""
            },
            "colorscale": [
             [
              0,
              "#0d0887"
             ],
             [
              0.1111111111111111,
              "#46039f"
             ],
             [
              0.2222222222222222,
              "#7201a8"
             ],
             [
              0.3333333333333333,
              "#9c179e"
             ],
             [
              0.4444444444444444,
              "#bd3786"
             ],
             [
              0.5555555555555556,
              "#d8576b"
             ],
             [
              0.6666666666666666,
              "#ed7953"
             ],
             [
              0.7777777777777778,
              "#fb9f3a"
             ],
             [
              0.8888888888888888,
              "#fdca26"
             ],
             [
              1,
              "#f0f921"
             ]
            ],
            "type": "contour"
           }
          ],
          "contourcarpet": [
           {
            "colorbar": {
             "outlinewidth": 0,
             "ticks": ""
            },
            "type": "contourcarpet"
           }
          ],
          "heatmap": [
           {
            "colorbar": {
             "outlinewidth": 0,
             "ticks": ""
            },
            "colorscale": [
             [
              0,
              "#0d0887"
             ],
             [
              0.1111111111111111,
              "#46039f"
             ],
             [
              0.2222222222222222,
              "#7201a8"
             ],
             [
              0.3333333333333333,
              "#9c179e"
             ],
             [
              0.4444444444444444,
              "#bd3786"
             ],
             [
              0.5555555555555556,
              "#d8576b"
             ],
             [
              0.6666666666666666,
              "#ed7953"
             ],
             [
              0.7777777777777778,
              "#fb9f3a"
             ],
             [
              0.8888888888888888,
              "#fdca26"
             ],
             [
              1,
              "#f0f921"
             ]
            ],
            "type": "heatmap"
           }
          ],
          "heatmapgl": [
           {
            "colorbar": {
             "outlinewidth": 0,
             "ticks": ""
            },
            "colorscale": [
             [
              0,
              "#0d0887"
             ],
             [
              0.1111111111111111,
              "#46039f"
             ],
             [
              0.2222222222222222,
              "#7201a8"
             ],
             [
              0.3333333333333333,
              "#9c179e"
             ],
             [
              0.4444444444444444,
              "#bd3786"
             ],
             [
              0.5555555555555556,
              "#d8576b"
             ],
             [
              0.6666666666666666,
              "#ed7953"
             ],
             [
              0.7777777777777778,
              "#fb9f3a"
             ],
             [
              0.8888888888888888,
              "#fdca26"
             ],
             [
              1,
              "#f0f921"
             ]
            ],
            "type": "heatmapgl"
           }
          ],
          "histogram": [
           {
            "marker": {
             "pattern": {
              "fillmode": "overlay",
              "size": 10,
              "solidity": 0.2
             }
            },
            "type": "histogram"
           }
          ],
          "histogram2d": [
           {
            "colorbar": {
             "outlinewidth": 0,
             "ticks": ""
            },
            "colorscale": [
             [
              0,
              "#0d0887"
             ],
             [
              0.1111111111111111,
              "#46039f"
             ],
             [
              0.2222222222222222,
              "#7201a8"
             ],
             [
              0.3333333333333333,
              "#9c179e"
             ],
             [
              0.4444444444444444,
              "#bd3786"
             ],
             [
              0.5555555555555556,
              "#d8576b"
             ],
             [
              0.6666666666666666,
              "#ed7953"
             ],
             [
              0.7777777777777778,
              "#fb9f3a"
             ],
             [
              0.8888888888888888,
              "#fdca26"
             ],
             [
              1,
              "#f0f921"
             ]
            ],
            "type": "histogram2d"
           }
          ],
          "histogram2dcontour": [
           {
            "colorbar": {
             "outlinewidth": 0,
             "ticks": ""
            },
            "colorscale": [
             [
              0,
              "#0d0887"
             ],
             [
              0.1111111111111111,
              "#46039f"
             ],
             [
              0.2222222222222222,
              "#7201a8"
             ],
             [
              0.3333333333333333,
              "#9c179e"
             ],
             [
              0.4444444444444444,
              "#bd3786"
             ],
             [
              0.5555555555555556,
              "#d8576b"
             ],
             [
              0.6666666666666666,
              "#ed7953"
             ],
             [
              0.7777777777777778,
              "#fb9f3a"
             ],
             [
              0.8888888888888888,
              "#fdca26"
             ],
             [
              1,
              "#f0f921"
             ]
            ],
            "type": "histogram2dcontour"
           }
          ],
          "mesh3d": [
           {
            "colorbar": {
             "outlinewidth": 0,
             "ticks": ""
            },
            "type": "mesh3d"
           }
          ],
          "parcoords": [
           {
            "line": {
             "colorbar": {
              "outlinewidth": 0,
              "ticks": ""
             }
            },
            "type": "parcoords"
           }
          ],
          "pie": [
           {
            "automargin": true,
            "type": "pie"
           }
          ],
          "scatter": [
           {
            "fillpattern": {
             "fillmode": "overlay",
             "size": 10,
             "solidity": 0.2
            },
            "type": "scatter"
           }
          ],
          "scatter3d": [
           {
            "line": {
             "colorbar": {
              "outlinewidth": 0,
              "ticks": ""
             }
            },
            "marker": {
             "colorbar": {
              "outlinewidth": 0,
              "ticks": ""
             }
            },
            "type": "scatter3d"
           }
          ],
          "scattercarpet": [
           {
            "marker": {
             "colorbar": {
              "outlinewidth": 0,
              "ticks": ""
             }
            },
            "type": "scattercarpet"
           }
          ],
          "scattergeo": [
           {
            "marker": {
             "colorbar": {
              "outlinewidth": 0,
              "ticks": ""
             }
            },
            "type": "scattergeo"
           }
          ],
          "scattergl": [
           {
            "marker": {
             "colorbar": {
              "outlinewidth": 0,
              "ticks": ""
             }
            },
            "type": "scattergl"
           }
          ],
          "scattermapbox": [
           {
            "marker": {
             "colorbar": {
              "outlinewidth": 0,
              "ticks": ""
             }
            },
            "type": "scattermapbox"
           }
          ],
          "scatterpolar": [
           {
            "marker": {
             "colorbar": {
              "outlinewidth": 0,
              "ticks": ""
             }
            },
            "type": "scatterpolar"
           }
          ],
          "scatterpolargl": [
           {
            "marker": {
             "colorbar": {
              "outlinewidth": 0,
              "ticks": ""
             }
            },
            "type": "scatterpolargl"
           }
          ],
          "scatterternary": [
           {
            "marker": {
             "colorbar": {
              "outlinewidth": 0,
              "ticks": ""
             }
            },
            "type": "scatterternary"
           }
          ],
          "surface": [
           {
            "colorbar": {
             "outlinewidth": 0,
             "ticks": ""
            },
            "colorscale": [
             [
              0,
              "#0d0887"
             ],
             [
              0.1111111111111111,
              "#46039f"
             ],
             [
              0.2222222222222222,
              "#7201a8"
             ],
             [
              0.3333333333333333,
              "#9c179e"
             ],
             [
              0.4444444444444444,
              "#bd3786"
             ],
             [
              0.5555555555555556,
              "#d8576b"
             ],
             [
              0.6666666666666666,
              "#ed7953"
             ],
             [
              0.7777777777777778,
              "#fb9f3a"
             ],
             [
              0.8888888888888888,
              "#fdca26"
             ],
             [
              1,
              "#f0f921"
             ]
            ],
            "type": "surface"
           }
          ],
          "table": [
           {
            "cells": {
             "fill": {
              "color": "#EBF0F8"
             },
             "line": {
              "color": "white"
             }
            },
            "header": {
             "fill": {
              "color": "#C8D4E3"
             },
             "line": {
              "color": "white"
             }
            },
            "type": "table"
           }
          ]
         },
         "layout": {
          "annotationdefaults": {
           "arrowcolor": "#2a3f5f",
           "arrowhead": 0,
           "arrowwidth": 1
          },
          "autotypenumbers": "strict",
          "coloraxis": {
           "colorbar": {
            "outlinewidth": 0,
            "ticks": ""
           }
          },
          "colorscale": {
           "diverging": [
            [
             0,
             "#8e0152"
            ],
            [
             0.1,
             "#c51b7d"
            ],
            [
             0.2,
             "#de77ae"
            ],
            [
             0.3,
             "#f1b6da"
            ],
            [
             0.4,
             "#fde0ef"
            ],
            [
             0.5,
             "#f7f7f7"
            ],
            [
             0.6,
             "#e6f5d0"
            ],
            [
             0.7,
             "#b8e186"
            ],
            [
             0.8,
             "#7fbc41"
            ],
            [
             0.9,
             "#4d9221"
            ],
            [
             1,
             "#276419"
            ]
           ],
           "sequential": [
            [
             0,
             "#0d0887"
            ],
            [
             0.1111111111111111,
             "#46039f"
            ],
            [
             0.2222222222222222,
             "#7201a8"
            ],
            [
             0.3333333333333333,
             "#9c179e"
            ],
            [
             0.4444444444444444,
             "#bd3786"
            ],
            [
             0.5555555555555556,
             "#d8576b"
            ],
            [
             0.6666666666666666,
             "#ed7953"
            ],
            [
             0.7777777777777778,
             "#fb9f3a"
            ],
            [
             0.8888888888888888,
             "#fdca26"
            ],
            [
             1,
             "#f0f921"
            ]
           ],
           "sequentialminus": [
            [
             0,
             "#0d0887"
            ],
            [
             0.1111111111111111,
             "#46039f"
            ],
            [
             0.2222222222222222,
             "#7201a8"
            ],
            [
             0.3333333333333333,
             "#9c179e"
            ],
            [
             0.4444444444444444,
             "#bd3786"
            ],
            [
             0.5555555555555556,
             "#d8576b"
            ],
            [
             0.6666666666666666,
             "#ed7953"
            ],
            [
             0.7777777777777778,
             "#fb9f3a"
            ],
            [
             0.8888888888888888,
             "#fdca26"
            ],
            [
             1,
             "#f0f921"
            ]
           ]
          },
          "colorway": [
           "#636efa",
           "#EF553B",
           "#00cc96",
           "#ab63fa",
           "#FFA15A",
           "#19d3f3",
           "#FF6692",
           "#B6E880",
           "#FF97FF",
           "#FECB52"
          ],
          "font": {
           "color": "#2a3f5f"
          },
          "geo": {
           "bgcolor": "white",
           "lakecolor": "white",
           "landcolor": "white",
           "showlakes": true,
           "showland": true,
           "subunitcolor": "#C8D4E3"
          },
          "hoverlabel": {
           "align": "left"
          },
          "hovermode": "closest",
          "mapbox": {
           "style": "light"
          },
          "paper_bgcolor": "white",
          "plot_bgcolor": "white",
          "polar": {
           "angularaxis": {
            "gridcolor": "#EBF0F8",
            "linecolor": "#EBF0F8",
            "ticks": ""
           },
           "bgcolor": "white",
           "radialaxis": {
            "gridcolor": "#EBF0F8",
            "linecolor": "#EBF0F8",
            "ticks": ""
           }
          },
          "scene": {
           "xaxis": {
            "backgroundcolor": "white",
            "gridcolor": "#DFE8F3",
            "gridwidth": 2,
            "linecolor": "#EBF0F8",
            "showbackground": true,
            "ticks": "",
            "zerolinecolor": "#EBF0F8"
           },
           "yaxis": {
            "backgroundcolor": "white",
            "gridcolor": "#DFE8F3",
            "gridwidth": 2,
            "linecolor": "#EBF0F8",
            "showbackground": true,
            "ticks": "",
            "zerolinecolor": "#EBF0F8"
           },
           "zaxis": {
            "backgroundcolor": "white",
            "gridcolor": "#DFE8F3",
            "gridwidth": 2,
            "linecolor": "#EBF0F8",
            "showbackground": true,
            "ticks": "",
            "zerolinecolor": "#EBF0F8"
           }
          },
          "shapedefaults": {
           "line": {
            "color": "#2a3f5f"
           }
          },
          "ternary": {
           "aaxis": {
            "gridcolor": "#DFE8F3",
            "linecolor": "#A2B1C6",
            "ticks": ""
           },
           "baxis": {
            "gridcolor": "#DFE8F3",
            "linecolor": "#A2B1C6",
            "ticks": ""
           },
           "bgcolor": "white",
           "caxis": {
            "gridcolor": "#DFE8F3",
            "linecolor": "#A2B1C6",
            "ticks": ""
           }
          },
          "title": {
           "x": 0.05
          },
          "xaxis": {
           "automargin": true,
           "gridcolor": "#EBF0F8",
           "linecolor": "#EBF0F8",
           "ticks": "",
           "title": {
            "standoff": 15
           },
           "zerolinecolor": "#EBF0F8",
           "zerolinewidth": 2
          },
          "yaxis": {
           "automargin": true,
           "gridcolor": "#EBF0F8",
           "linecolor": "#EBF0F8",
           "ticks": "",
           "title": {
            "standoff": 15
           },
           "zerolinecolor": "#EBF0F8",
           "zerolinewidth": 2
          }
         }
        },
        "title": {
         "text": "Representation of the calculation time according to the number of cities to explore"
        },
        "xaxis": {
         "anchor": "y",
         "domain": [
          0,
          1
         ],
         "title": {
          "text": "Number of cities"
         }
        },
        "yaxis": {
         "anchor": "x",
         "domain": [
          0,
          1
         ],
         "title": {
          "text": "Calculation time (in s)"
         },
         "type": "log"
        }
       }
      }
     },
     "metadata": {},
     "output_type": "display_data"
    }
   ],
   "source": [
    "# Création des visuels d'analyse des algorithmes\n",
    "\n",
    "fig_analyse_distance=representation_resultats('resultats/csv/test_global_algos.csv')\n",
    "fig_analyse_distance.show()\n",
    "\n",
    "fig_analyse_temps_cacul=representation_temps_calcul('resultats/csv/test_global_algos.csv')\n",
    "fig_analyse_temps_cacul.show()"
   ]
  },
  {
   "cell_type": "markdown",
   "metadata": {},
   "source": [
    "# Réalisation des tests unitaires (avec visualisation)\n"
   ]
  },
  {
   "cell_type": "markdown",
   "metadata": {},
   "source": [
    "### Initialisation du dataset et de l'algorithme de test"
   ]
  },
  {
   "cell_type": "code",
   "execution_count": 8,
   "metadata": {},
   "outputs": [
    {
     "name": "stdout",
     "output_type": "stream",
     "text": [
      "Les tests vont se réaliser sur le fichier 'pbk411' en utilisant l'algorithme 'plus_proche_voisin'\n"
     ]
    }
   ],
   "source": [
    "# Nom des dataset de test\n",
    "ENSEMBLE_TEST = ['dj38', 'xqf131', 'qa194', 'xqg237',\n",
    "                 'pma343', 'pka379', 'pbl395', 'pbk411', 'pbn423']\n",
    "# Nom des algorithmes implémentés\n",
    "ENSEMBLE_ALGOS = ['2-opt', 'plus_proche_voisin', 'genetique', 'kohonen']\n",
    "\n",
    "choix_data_test=random.randint(0,len(ENSEMBLE_TEST)-1)\n",
    "choix_algo_test=random.randint(0,len(ENSEMBLE_ALGOS)-1)\n",
    "print(f\"Les tests vont se réaliser sur le fichier '{ENSEMBLE_TEST[choix_data_test]}' en utilisant l'algorithme '{ENSEMBLE_ALGOS[choix_algo_test]}'\")"
   ]
  },
  {
   "cell_type": "markdown",
   "metadata": {},
   "source": [
    "### Lancement du test unitaire afin d'observer le chemin final trouvé"
   ]
  },
  {
   "cell_type": "code",
   "execution_count": 9,
   "metadata": {},
   "outputs": [
    {
     "data": {
      "application/vnd.plotly.v1+json": {
       "config": {
        "plotlyServerURL": "https://plot.ly"
       },
       "data": [
        {
         "hovertemplate": "x=%{x}<br>y=%{y}<extra></extra>",
         "legendgroup": "",
         "marker": {
          "color": "#1F77B4",
          "symbol": "circle"
         },
         "mode": "markers",
         "name": "",
         "orientation": "v",
         "showlegend": false,
         "type": "scatter",
         "x": [
          0,
          0,
          0,
          0,
          0,
          0,
          0,
          0,
          2,
          2,
          2,
          2,
          2,
          2,
          2,
          2,
          2,
          2,
          2,
          2,
          2,
          2,
          2,
          2,
          2,
          2,
          2,
          2,
          2,
          2,
          2,
          2,
          2,
          2,
          2,
          2,
          2,
          2,
          2,
          2,
          5,
          5,
          5,
          5,
          5,
          5,
          5,
          5,
          5,
          5,
          5,
          9,
          9,
          10,
          10,
          10,
          10,
          10,
          11,
          11,
          11,
          11,
          11,
          11,
          11,
          11,
          11,
          11,
          11,
          11,
          12,
          13,
          15,
          15,
          15,
          15,
          15,
          15,
          17,
          17,
          17,
          17,
          17,
          17,
          17,
          17,
          17,
          17,
          17,
          17,
          17,
          17,
          17,
          17,
          17,
          18,
          18,
          25,
          25,
          25,
          25,
          25,
          25,
          25,
          25,
          25,
          25,
          25,
          25,
          25,
          25,
          25,
          25,
          25,
          25,
          25,
          25,
          25,
          25,
          25,
          25,
          26,
          28,
          28,
          28,
          28,
          28,
          28,
          28,
          28,
          28,
          28,
          28,
          28,
          28,
          28,
          28,
          28,
          31,
          32,
          32,
          32,
          32,
          32,
          33,
          33,
          33,
          33,
          33,
          34,
          34,
          34,
          34,
          34,
          34,
          34,
          34,
          34,
          35,
          38,
          38,
          38,
          38,
          38,
          38,
          38,
          38,
          40,
          40,
          41,
          41,
          48,
          48,
          48,
          48,
          48,
          48,
          48,
          48,
          48,
          48,
          48,
          48,
          48,
          48,
          48,
          48,
          48,
          48,
          48,
          48,
          48,
          48,
          48,
          51,
          51,
          51,
          51,
          51,
          51,
          51,
          51,
          51,
          54,
          55,
          55,
          55,
          55,
          55,
          55,
          56,
          56,
          56,
          56,
          57,
          57,
          57,
          57,
          57,
          57,
          57,
          57,
          57,
          57,
          57,
          57,
          57,
          58,
          58,
          58,
          60,
          61,
          61,
          61,
          61,
          61,
          61,
          61,
          61,
          61,
          62,
          63,
          63,
          63,
          63,
          64,
          64,
          64,
          64,
          64,
          64,
          64,
          64,
          64,
          64,
          71,
          71,
          71,
          71,
          71,
          71,
          71,
          71,
          71,
          71,
          71,
          71,
          71,
          71,
          71,
          71,
          71,
          71,
          71,
          71,
          71,
          71,
          71,
          74,
          74,
          74,
          74,
          74,
          77,
          78,
          79,
          79,
          79,
          80,
          80,
          80,
          80,
          80,
          80,
          80,
          80,
          80,
          81,
          84,
          84,
          84,
          84,
          84,
          84,
          86,
          86,
          86,
          86,
          86,
          86,
          86,
          86,
          87,
          87,
          87,
          87,
          94,
          94,
          94,
          94,
          94,
          94,
          94,
          94,
          94,
          95,
          95,
          97,
          97,
          97,
          97,
          97,
          97,
          97,
          97,
          97,
          97,
          97,
          100,
          100,
          100,
          101,
          101,
          101,
          101,
          101,
          101,
          101,
          101,
          102,
          102,
          102,
          102,
          102,
          102,
          102,
          102,
          102,
          103,
          103,
          103,
          103,
          103,
          103,
          103,
          103,
          103,
          103,
          103,
          103,
          103,
          104,
          104,
          104,
          104,
          107,
          107,
          107,
          107,
          107,
          107,
          107,
          108,
          108,
          110,
          110,
          110,
          110,
          110,
          110,
          110,
          110,
          110,
          110,
          110,
          110,
          110,
          110,
          110,
          110,
          110,
          110,
          110,
          110,
          110,
          110,
          110,
          110,
          110,
          110,
          122
         ],
         "xaxis": "x",
         "y": [
          38,
          39,
          40,
          41,
          44,
          45,
          46,
          66,
          13,
          15,
          20,
          22,
          24,
          25,
          27,
          29,
          33,
          35,
          38,
          40,
          41,
          43,
          45,
          47,
          50,
          54,
          57,
          58,
          60,
          62,
          66,
          67,
          68,
          69,
          71,
          72,
          74,
          76,
          78,
          81,
          21,
          34,
          38,
          50,
          52,
          54,
          56,
          8,
          85,
          88,
          92,
          19,
          32,
          19,
          32,
          37,
          49,
          53,
          19,
          29,
          32,
          37,
          45,
          49,
          53,
          62,
          76,
          83,
          86,
          9,
          5,
          97,
          38,
          50,
          52,
          54,
          56,
          8,
          25,
          26,
          27,
          41,
          42,
          43,
          58,
          59,
          60,
          66,
          67,
          68,
          69,
          72,
          73,
          74,
          81,
          29,
          62,
          13,
          15,
          27,
          29,
          32,
          36,
          38,
          40,
          42,
          44,
          46,
          49,
          51,
          53,
          55,
          57,
          59,
          72,
          73,
          76,
          78,
          79,
          82,
          83,
          74,
          18,
          21,
          23,
          32,
          34,
          37,
          41,
          45,
          50,
          54,
          58,
          79,
          8,
          83,
          87,
          91,
          76,
          35,
          48,
          76,
          79,
          83,
          31,
          35,
          48,
          77,
          81,
          17,
          20,
          31,
          35,
          48,
          61,
          76,
          85,
          9,
          5,
          18,
          21,
          23,
          32,
          34,
          78,
          8,
          82,
          27,
          29,
          71,
          74,
          13,
          19,
          21,
          23,
          25,
          27,
          29,
          31,
          33,
          43,
          44,
          45,
          51,
          53,
          54,
          56,
          58,
          6,
          69,
          71,
          74,
          75,
          76,
          18,
          38,
          52,
          64,
          70,
          84,
          86,
          89,
          91,
          26,
          19,
          35,
          42,
          61,
          68,
          73,
          35,
          51,
          61,
          68,
          16,
          27,
          34,
          35,
          46,
          51,
          58,
          61,
          68,
          77,
          82,
          85,
          88,
          26,
          35,
          61,
          0,
          0,
          26,
          34,
          38,
          52,
          64,
          86,
          89,
          91,
          0,
          54,
          55,
          56,
          6,
          13,
          36,
          37,
          39,
          40,
          58,
          62,
          63,
          65,
          66,
          10,
          12,
          13,
          15,
          17,
          25,
          27,
          29,
          31,
          33,
          36,
          38,
          40,
          42,
          47,
          6,
          70,
          71,
          77,
          78,
          84,
          85,
          89,
          11,
          21,
          25,
          46,
          48,
          43,
          36,
          10,
          24,
          47,
          10,
          17,
          20,
          24,
          27,
          34,
          44,
          47,
          49,
          43,
          11,
          21,
          25,
          34,
          43,
          48,
          13,
          14,
          15,
          6,
          70,
          78,
          84,
          89,
          17,
          69,
          77,
          85,
          11,
          13,
          23,
          25,
          34,
          71,
          72,
          86,
          87,
          73,
          88,
          12,
          18,
          24,
          30,
          35,
          40,
          48,
          56,
          6,
          8,
          91,
          36,
          42,
          50,
          10,
          15,
          22,
          27,
          36,
          42,
          50,
          53,
          10,
          15,
          22,
          27,
          34,
          36,
          42,
          50,
          53,
          10,
          15,
          22,
          27,
          34,
          36,
          43,
          5,
          51,
          53,
          60,
          75,
          90,
          15,
          27,
          36,
          53,
          18,
          30,
          35,
          56,
          6,
          8,
          91,
          0,
          97,
          16,
          17,
          19,
          20,
          28,
          29,
          31,
          32,
          37,
          38,
          40,
          41,
          42,
          45,
          46,
          48,
          49,
          50,
          54,
          56,
          57,
          58,
          70,
          73,
          85,
          88,
          45
         ],
         "yaxis": "y"
        },
        {
         "mode": "lines",
         "showlegend": false,
         "type": "scatter",
         "x": [
          0,
          0,
          0,
          0,
          2,
          2,
          2,
          2,
          2,
          5,
          5,
          10,
          11,
          15,
          17,
          17,
          17,
          11,
          11,
          10,
          10,
          11,
          15,
          15,
          15,
          15,
          17,
          17,
          17,
          18,
          17,
          17,
          17,
          17,
          17,
          17,
          17,
          11,
          11,
          11,
          5,
          5,
          5,
          13,
          28,
          28,
          28,
          25,
          25,
          25,
          25,
          25,
          26,
          25,
          25,
          31,
          32,
          33,
          34,
          32,
          33,
          32,
          34,
          38,
          38,
          41,
          41,
          48,
          48,
          51,
          55,
          56,
          57,
          55,
          57,
          57,
          57,
          57,
          61,
          61,
          61,
          51,
          51,
          51,
          51,
          48,
          48,
          48,
          51,
          55,
          56,
          57,
          58,
          57,
          63,
          63,
          63,
          61,
          57,
          56,
          51,
          48,
          48,
          48,
          48,
          48,
          48,
          48,
          48,
          51,
          55,
          56,
          57,
          57,
          58,
          61,
          64,
          64,
          64,
          64,
          61,
          55,
          57,
          64,
          64,
          64,
          64,
          64,
          61,
          71,
          71,
          71,
          71,
          71,
          71,
          71,
          86,
          87,
          86,
          86,
          87,
          86,
          87,
          94,
          94,
          95,
          103,
          110,
          110,
          110,
          110,
          110,
          110,
          107,
          104,
          103,
          102,
          101,
          103,
          102,
          101,
          100,
          97,
          100,
          101,
          102,
          103,
          97,
          97,
          94,
          97,
          101,
          102,
          103,
          104,
          107,
          110,
          110,
          110,
          110,
          107,
          104,
          103,
          102,
          101,
          100,
          102,
          103,
          110,
          110,
          110,
          110,
          110,
          110,
          110,
          110,
          110,
          110,
          103,
          97,
          84,
          80,
          79,
          80,
          80,
          81,
          84,
          77,
          74,
          74,
          71,
          71,
          71,
          71,
          71,
          71,
          71,
          71,
          71,
          71,
          74,
          74,
          71,
          71,
          71,
          71,
          71,
          74,
          79,
          80,
          84,
          86,
          86,
          86,
          87,
          84,
          84,
          80,
          79,
          80,
          80,
          80,
          86,
          94,
          94,
          97,
          97,
          97,
          101,
          102,
          103,
          107,
          107,
          103,
          108,
          104,
          103,
          102,
          101,
          97,
          101,
          102,
          103,
          107,
          110,
          110,
          110,
          110,
          97,
          94,
          94,
          84,
          80,
          78,
          61,
          58,
          57,
          54,
          48,
          48,
          48,
          48,
          51,
          55,
          57,
          64,
          63,
          62,
          61,
          60,
          71,
          48,
          48,
          38,
          38,
          38,
          40,
          40,
          38,
          38,
          34,
          33,
          32,
          28,
          28,
          25,
          25,
          25,
          28,
          28,
          28,
          25,
          25,
          28,
          34,
          35,
          38,
          34,
          34,
          34,
          33,
          28,
          25,
          25,
          25,
          25,
          25,
          25,
          25,
          25,
          25,
          25,
          25,
          25,
          28,
          28,
          28,
          32,
          33,
          34,
          28,
          28,
          18,
          17,
          17,
          17,
          11,
          11,
          10,
          9,
          2,
          2,
          2,
          2,
          2,
          2,
          5,
          9,
          10,
          11,
          2,
          2,
          5,
          11,
          12,
          15,
          2,
          2,
          0,
          0,
          0,
          2,
          2,
          5,
          5,
          5,
          5,
          2,
          2,
          2,
          2,
          2,
          2,
          2,
          2,
          2,
          2,
          2,
          2,
          2,
          2,
          17,
          28,
          34,
          11,
          0,
          2,
          48,
          48,
          48,
          48,
          94,
          94,
          95,
          97,
          103,
          107,
          110,
          110,
          108,
          122,
          0
         ],
         "y": [
          38,
          39,
          40,
          41,
          41,
          40,
          38,
          35,
          33,
          34,
          38,
          37,
          37,
          38,
          41,
          42,
          43,
          45,
          49,
          49,
          53,
          53,
          52,
          50,
          54,
          56,
          58,
          59,
          60,
          62,
          66,
          67,
          68,
          69,
          72,
          73,
          74,
          76,
          83,
          86,
          85,
          88,
          92,
          97,
          91,
          87,
          83,
          83,
          82,
          79,
          78,
          76,
          74,
          73,
          72,
          76,
          76,
          77,
          76,
          79,
          81,
          83,
          85,
          82,
          78,
          74,
          71,
          71,
          69,
          70,
          68,
          68,
          68,
          73,
          77,
          82,
          85,
          88,
          89,
          91,
          86,
          86,
          84,
          89,
          91,
          76,
          75,
          74,
          64,
          61,
          61,
          61,
          61,
          58,
          56,
          55,
          54,
          52,
          51,
          51,
          52,
          51,
          53,
          54,
          56,
          58,
          45,
          44,
          43,
          38,
          35,
          35,
          35,
          34,
          35,
          34,
          36,
          37,
          39,
          40,
          38,
          42,
          46,
          58,
          62,
          63,
          65,
          66,
          64,
          70,
          71,
          77,
          78,
          84,
          85,
          89,
          89,
          85,
          84,
          78,
          77,
          70,
          69,
          71,
          72,
          73,
          75,
          73,
          70,
          58,
          57,
          56,
          54,
          56,
          53,
          53,
          53,
          53,
          51,
          50,
          50,
          50,
          48,
          42,
          42,
          42,
          43,
          40,
          35,
          34,
          30,
          27,
          27,
          27,
          27,
          30,
          29,
          28,
          31,
          32,
          35,
          36,
          36,
          36,
          36,
          36,
          34,
          34,
          37,
          38,
          40,
          41,
          42,
          45,
          46,
          48,
          49,
          50,
          60,
          56,
          48,
          47,
          47,
          49,
          44,
          43,
          43,
          43,
          46,
          48,
          47,
          42,
          40,
          38,
          36,
          33,
          31,
          29,
          27,
          25,
          25,
          21,
          17,
          15,
          13,
          12,
          10,
          11,
          10,
          10,
          11,
          13,
          14,
          15,
          17,
          21,
          25,
          24,
          24,
          27,
          20,
          17,
          6,
          11,
          13,
          12,
          8,
          6,
          10,
          10,
          10,
          8,
          6,
          5,
          0,
          15,
          15,
          15,
          15,
          18,
          22,
          22,
          22,
          18,
          17,
          16,
          19,
          20,
          24,
          23,
          25,
          34,
          34,
          36,
          26,
          26,
          27,
          26,
          25,
          23,
          21,
          19,
          18,
          19,
          16,
          13,
          6,
          0,
          0,
          0,
          6,
          6,
          13,
          18,
          21,
          23,
          27,
          29,
          32,
          34,
          35,
          35,
          35,
          34,
          32,
          32,
          29,
          27,
          23,
          21,
          18,
          15,
          13,
          8,
          9,
          5,
          8,
          17,
          20,
          31,
          31,
          37,
          36,
          38,
          40,
          42,
          44,
          46,
          49,
          51,
          53,
          55,
          57,
          59,
          58,
          54,
          50,
          48,
          48,
          48,
          45,
          41,
          29,
          27,
          26,
          25,
          29,
          32,
          32,
          32,
          29,
          27,
          25,
          24,
          22,
          20,
          21,
          19,
          19,
          19,
          15,
          13,
          8,
          9,
          5,
          8,
          43,
          45,
          45,
          44,
          46,
          47,
          50,
          50,
          52,
          54,
          56,
          57,
          58,
          60,
          62,
          66,
          67,
          68,
          69,
          71,
          72,
          74,
          76,
          78,
          81,
          81,
          79,
          61,
          62,
          66,
          54,
          33,
          31,
          29,
          27,
          86,
          87,
          88,
          91,
          90,
          91,
          88,
          85,
          97,
          45,
          38
         ]
        }
       ],
       "layout": {
        "legend": {
         "tracegroupgap": 0
        },
        "template": {
         "data": {
          "bar": [
           {
            "error_x": {
             "color": "rgb(36,36,36)"
            },
            "error_y": {
             "color": "rgb(36,36,36)"
            },
            "marker": {
             "line": {
              "color": "white",
              "width": 0.5
             },
             "pattern": {
              "fillmode": "overlay",
              "size": 10,
              "solidity": 0.2
             }
            },
            "type": "bar"
           }
          ],
          "barpolar": [
           {
            "marker": {
             "line": {
              "color": "white",
              "width": 0.5
             },
             "pattern": {
              "fillmode": "overlay",
              "size": 10,
              "solidity": 0.2
             }
            },
            "type": "barpolar"
           }
          ],
          "carpet": [
           {
            "aaxis": {
             "endlinecolor": "rgb(36,36,36)",
             "gridcolor": "white",
             "linecolor": "white",
             "minorgridcolor": "white",
             "startlinecolor": "rgb(36,36,36)"
            },
            "baxis": {
             "endlinecolor": "rgb(36,36,36)",
             "gridcolor": "white",
             "linecolor": "white",
             "minorgridcolor": "white",
             "startlinecolor": "rgb(36,36,36)"
            },
            "type": "carpet"
           }
          ],
          "choropleth": [
           {
            "colorbar": {
             "outlinewidth": 1,
             "tickcolor": "rgb(36,36,36)",
             "ticks": "outside"
            },
            "type": "choropleth"
           }
          ],
          "contour": [
           {
            "colorbar": {
             "outlinewidth": 1,
             "tickcolor": "rgb(36,36,36)",
             "ticks": "outside"
            },
            "colorscale": [
             [
              0,
              "#440154"
             ],
             [
              0.1111111111111111,
              "#482878"
             ],
             [
              0.2222222222222222,
              "#3e4989"
             ],
             [
              0.3333333333333333,
              "#31688e"
             ],
             [
              0.4444444444444444,
              "#26828e"
             ],
             [
              0.5555555555555556,
              "#1f9e89"
             ],
             [
              0.6666666666666666,
              "#35b779"
             ],
             [
              0.7777777777777778,
              "#6ece58"
             ],
             [
              0.8888888888888888,
              "#b5de2b"
             ],
             [
              1,
              "#fde725"
             ]
            ],
            "type": "contour"
           }
          ],
          "contourcarpet": [
           {
            "colorbar": {
             "outlinewidth": 1,
             "tickcolor": "rgb(36,36,36)",
             "ticks": "outside"
            },
            "type": "contourcarpet"
           }
          ],
          "heatmap": [
           {
            "colorbar": {
             "outlinewidth": 1,
             "tickcolor": "rgb(36,36,36)",
             "ticks": "outside"
            },
            "colorscale": [
             [
              0,
              "#440154"
             ],
             [
              0.1111111111111111,
              "#482878"
             ],
             [
              0.2222222222222222,
              "#3e4989"
             ],
             [
              0.3333333333333333,
              "#31688e"
             ],
             [
              0.4444444444444444,
              "#26828e"
             ],
             [
              0.5555555555555556,
              "#1f9e89"
             ],
             [
              0.6666666666666666,
              "#35b779"
             ],
             [
              0.7777777777777778,
              "#6ece58"
             ],
             [
              0.8888888888888888,
              "#b5de2b"
             ],
             [
              1,
              "#fde725"
             ]
            ],
            "type": "heatmap"
           }
          ],
          "heatmapgl": [
           {
            "colorbar": {
             "outlinewidth": 1,
             "tickcolor": "rgb(36,36,36)",
             "ticks": "outside"
            },
            "colorscale": [
             [
              0,
              "#440154"
             ],
             [
              0.1111111111111111,
              "#482878"
             ],
             [
              0.2222222222222222,
              "#3e4989"
             ],
             [
              0.3333333333333333,
              "#31688e"
             ],
             [
              0.4444444444444444,
              "#26828e"
             ],
             [
              0.5555555555555556,
              "#1f9e89"
             ],
             [
              0.6666666666666666,
              "#35b779"
             ],
             [
              0.7777777777777778,
              "#6ece58"
             ],
             [
              0.8888888888888888,
              "#b5de2b"
             ],
             [
              1,
              "#fde725"
             ]
            ],
            "type": "heatmapgl"
           }
          ],
          "histogram": [
           {
            "marker": {
             "line": {
              "color": "white",
              "width": 0.6
             }
            },
            "type": "histogram"
           }
          ],
          "histogram2d": [
           {
            "colorbar": {
             "outlinewidth": 1,
             "tickcolor": "rgb(36,36,36)",
             "ticks": "outside"
            },
            "colorscale": [
             [
              0,
              "#440154"
             ],
             [
              0.1111111111111111,
              "#482878"
             ],
             [
              0.2222222222222222,
              "#3e4989"
             ],
             [
              0.3333333333333333,
              "#31688e"
             ],
             [
              0.4444444444444444,
              "#26828e"
             ],
             [
              0.5555555555555556,
              "#1f9e89"
             ],
             [
              0.6666666666666666,
              "#35b779"
             ],
             [
              0.7777777777777778,
              "#6ece58"
             ],
             [
              0.8888888888888888,
              "#b5de2b"
             ],
             [
              1,
              "#fde725"
             ]
            ],
            "type": "histogram2d"
           }
          ],
          "histogram2dcontour": [
           {
            "colorbar": {
             "outlinewidth": 1,
             "tickcolor": "rgb(36,36,36)",
             "ticks": "outside"
            },
            "colorscale": [
             [
              0,
              "#440154"
             ],
             [
              0.1111111111111111,
              "#482878"
             ],
             [
              0.2222222222222222,
              "#3e4989"
             ],
             [
              0.3333333333333333,
              "#31688e"
             ],
             [
              0.4444444444444444,
              "#26828e"
             ],
             [
              0.5555555555555556,
              "#1f9e89"
             ],
             [
              0.6666666666666666,
              "#35b779"
             ],
             [
              0.7777777777777778,
              "#6ece58"
             ],
             [
              0.8888888888888888,
              "#b5de2b"
             ],
             [
              1,
              "#fde725"
             ]
            ],
            "type": "histogram2dcontour"
           }
          ],
          "mesh3d": [
           {
            "colorbar": {
             "outlinewidth": 1,
             "tickcolor": "rgb(36,36,36)",
             "ticks": "outside"
            },
            "type": "mesh3d"
           }
          ],
          "parcoords": [
           {
            "line": {
             "colorbar": {
              "outlinewidth": 1,
              "tickcolor": "rgb(36,36,36)",
              "ticks": "outside"
             }
            },
            "type": "parcoords"
           }
          ],
          "pie": [
           {
            "automargin": true,
            "type": "pie"
           }
          ],
          "scatter": [
           {
            "fillpattern": {
             "fillmode": "overlay",
             "size": 10,
             "solidity": 0.2
            },
            "type": "scatter"
           }
          ],
          "scatter3d": [
           {
            "line": {
             "colorbar": {
              "outlinewidth": 1,
              "tickcolor": "rgb(36,36,36)",
              "ticks": "outside"
             }
            },
            "marker": {
             "colorbar": {
              "outlinewidth": 1,
              "tickcolor": "rgb(36,36,36)",
              "ticks": "outside"
             }
            },
            "type": "scatter3d"
           }
          ],
          "scattercarpet": [
           {
            "marker": {
             "colorbar": {
              "outlinewidth": 1,
              "tickcolor": "rgb(36,36,36)",
              "ticks": "outside"
             }
            },
            "type": "scattercarpet"
           }
          ],
          "scattergeo": [
           {
            "marker": {
             "colorbar": {
              "outlinewidth": 1,
              "tickcolor": "rgb(36,36,36)",
              "ticks": "outside"
             }
            },
            "type": "scattergeo"
           }
          ],
          "scattergl": [
           {
            "marker": {
             "colorbar": {
              "outlinewidth": 1,
              "tickcolor": "rgb(36,36,36)",
              "ticks": "outside"
             }
            },
            "type": "scattergl"
           }
          ],
          "scattermapbox": [
           {
            "marker": {
             "colorbar": {
              "outlinewidth": 1,
              "tickcolor": "rgb(36,36,36)",
              "ticks": "outside"
             }
            },
            "type": "scattermapbox"
           }
          ],
          "scatterpolar": [
           {
            "marker": {
             "colorbar": {
              "outlinewidth": 1,
              "tickcolor": "rgb(36,36,36)",
              "ticks": "outside"
             }
            },
            "type": "scatterpolar"
           }
          ],
          "scatterpolargl": [
           {
            "marker": {
             "colorbar": {
              "outlinewidth": 1,
              "tickcolor": "rgb(36,36,36)",
              "ticks": "outside"
             }
            },
            "type": "scatterpolargl"
           }
          ],
          "scatterternary": [
           {
            "marker": {
             "colorbar": {
              "outlinewidth": 1,
              "tickcolor": "rgb(36,36,36)",
              "ticks": "outside"
             }
            },
            "type": "scatterternary"
           }
          ],
          "surface": [
           {
            "colorbar": {
             "outlinewidth": 1,
             "tickcolor": "rgb(36,36,36)",
             "ticks": "outside"
            },
            "colorscale": [
             [
              0,
              "#440154"
             ],
             [
              0.1111111111111111,
              "#482878"
             ],
             [
              0.2222222222222222,
              "#3e4989"
             ],
             [
              0.3333333333333333,
              "#31688e"
             ],
             [
              0.4444444444444444,
              "#26828e"
             ],
             [
              0.5555555555555556,
              "#1f9e89"
             ],
             [
              0.6666666666666666,
              "#35b779"
             ],
             [
              0.7777777777777778,
              "#6ece58"
             ],
             [
              0.8888888888888888,
              "#b5de2b"
             ],
             [
              1,
              "#fde725"
             ]
            ],
            "type": "surface"
           }
          ],
          "table": [
           {
            "cells": {
             "fill": {
              "color": "rgb(237,237,237)"
             },
             "line": {
              "color": "white"
             }
            },
            "header": {
             "fill": {
              "color": "rgb(217,217,217)"
             },
             "line": {
              "color": "white"
             }
            },
            "type": "table"
           }
          ]
         },
         "layout": {
          "annotationdefaults": {
           "arrowhead": 0,
           "arrowwidth": 1
          },
          "autotypenumbers": "strict",
          "coloraxis": {
           "colorbar": {
            "outlinewidth": 1,
            "tickcolor": "rgb(36,36,36)",
            "ticks": "outside"
           }
          },
          "colorscale": {
           "diverging": [
            [
             0,
             "rgb(103,0,31)"
            ],
            [
             0.1,
             "rgb(178,24,43)"
            ],
            [
             0.2,
             "rgb(214,96,77)"
            ],
            [
             0.3,
             "rgb(244,165,130)"
            ],
            [
             0.4,
             "rgb(253,219,199)"
            ],
            [
             0.5,
             "rgb(247,247,247)"
            ],
            [
             0.6,
             "rgb(209,229,240)"
            ],
            [
             0.7,
             "rgb(146,197,222)"
            ],
            [
             0.8,
             "rgb(67,147,195)"
            ],
            [
             0.9,
             "rgb(33,102,172)"
            ],
            [
             1,
             "rgb(5,48,97)"
            ]
           ],
           "sequential": [
            [
             0,
             "#440154"
            ],
            [
             0.1111111111111111,
             "#482878"
            ],
            [
             0.2222222222222222,
             "#3e4989"
            ],
            [
             0.3333333333333333,
             "#31688e"
            ],
            [
             0.4444444444444444,
             "#26828e"
            ],
            [
             0.5555555555555556,
             "#1f9e89"
            ],
            [
             0.6666666666666666,
             "#35b779"
            ],
            [
             0.7777777777777778,
             "#6ece58"
            ],
            [
             0.8888888888888888,
             "#b5de2b"
            ],
            [
             1,
             "#fde725"
            ]
           ],
           "sequentialminus": [
            [
             0,
             "#440154"
            ],
            [
             0.1111111111111111,
             "#482878"
            ],
            [
             0.2222222222222222,
             "#3e4989"
            ],
            [
             0.3333333333333333,
             "#31688e"
            ],
            [
             0.4444444444444444,
             "#26828e"
            ],
            [
             0.5555555555555556,
             "#1f9e89"
            ],
            [
             0.6666666666666666,
             "#35b779"
            ],
            [
             0.7777777777777778,
             "#6ece58"
            ],
            [
             0.8888888888888888,
             "#b5de2b"
            ],
            [
             1,
             "#fde725"
            ]
           ]
          },
          "colorway": [
           "#1F77B4",
           "#FF7F0E",
           "#2CA02C",
           "#D62728",
           "#9467BD",
           "#8C564B",
           "#E377C2",
           "#7F7F7F",
           "#BCBD22",
           "#17BECF"
          ],
          "font": {
           "color": "rgb(36,36,36)"
          },
          "geo": {
           "bgcolor": "white",
           "lakecolor": "white",
           "landcolor": "white",
           "showlakes": true,
           "showland": true,
           "subunitcolor": "white"
          },
          "hoverlabel": {
           "align": "left"
          },
          "hovermode": "closest",
          "mapbox": {
           "style": "light"
          },
          "paper_bgcolor": "white",
          "plot_bgcolor": "white",
          "polar": {
           "angularaxis": {
            "gridcolor": "rgb(232,232,232)",
            "linecolor": "rgb(36,36,36)",
            "showgrid": false,
            "showline": true,
            "ticks": "outside"
           },
           "bgcolor": "white",
           "radialaxis": {
            "gridcolor": "rgb(232,232,232)",
            "linecolor": "rgb(36,36,36)",
            "showgrid": false,
            "showline": true,
            "ticks": "outside"
           }
          },
          "scene": {
           "xaxis": {
            "backgroundcolor": "white",
            "gridcolor": "rgb(232,232,232)",
            "gridwidth": 2,
            "linecolor": "rgb(36,36,36)",
            "showbackground": true,
            "showgrid": false,
            "showline": true,
            "ticks": "outside",
            "zeroline": false,
            "zerolinecolor": "rgb(36,36,36)"
           },
           "yaxis": {
            "backgroundcolor": "white",
            "gridcolor": "rgb(232,232,232)",
            "gridwidth": 2,
            "linecolor": "rgb(36,36,36)",
            "showbackground": true,
            "showgrid": false,
            "showline": true,
            "ticks": "outside",
            "zeroline": false,
            "zerolinecolor": "rgb(36,36,36)"
           },
           "zaxis": {
            "backgroundcolor": "white",
            "gridcolor": "rgb(232,232,232)",
            "gridwidth": 2,
            "linecolor": "rgb(36,36,36)",
            "showbackground": true,
            "showgrid": false,
            "showline": true,
            "ticks": "outside",
            "zeroline": false,
            "zerolinecolor": "rgb(36,36,36)"
           }
          },
          "shapedefaults": {
           "fillcolor": "black",
           "line": {
            "width": 0
           },
           "opacity": 0.3
          },
          "ternary": {
           "aaxis": {
            "gridcolor": "rgb(232,232,232)",
            "linecolor": "rgb(36,36,36)",
            "showgrid": false,
            "showline": true,
            "ticks": "outside"
           },
           "baxis": {
            "gridcolor": "rgb(232,232,232)",
            "linecolor": "rgb(36,36,36)",
            "showgrid": false,
            "showline": true,
            "ticks": "outside"
           },
           "bgcolor": "white",
           "caxis": {
            "gridcolor": "rgb(232,232,232)",
            "linecolor": "rgb(36,36,36)",
            "showgrid": false,
            "showline": true,
            "ticks": "outside"
           }
          },
          "title": {
           "x": 0.05
          },
          "xaxis": {
           "automargin": true,
           "gridcolor": "rgb(232,232,232)",
           "linecolor": "rgb(36,36,36)",
           "showgrid": false,
           "showline": true,
           "ticks": "outside",
           "title": {
            "standoff": 15
           },
           "zeroline": false,
           "zerolinecolor": "rgb(36,36,36)"
          },
          "yaxis": {
           "automargin": true,
           "gridcolor": "rgb(232,232,232)",
           "linecolor": "rgb(36,36,36)",
           "showgrid": false,
           "showline": true,
           "ticks": "outside",
           "title": {
            "standoff": 15
           },
           "zeroline": false,
           "zerolinecolor": "rgb(36,36,36)"
          }
         }
        },
        "title": {
         "text": "Shortest path found by the algorithm"
        },
        "xaxis": {
         "anchor": "y",
         "domain": [
          0,
          1
         ],
         "title": {
          "text": "x"
         },
         "visible": false,
         "zeroline": false
        },
        "yaxis": {
         "anchor": "x",
         "domain": [
          0,
          1
         ],
         "title": {
          "text": "y"
         },
         "visible": false,
         "zeroline": false
        }
       }
      }
     },
     "metadata": {},
     "output_type": "display_data"
    }
   ],
   "source": [
    "# Chargement des données étudiées\n",
    "data = data_TSPLIB(f'data/{ENSEMBLE_TEST[choix_data_test]}.tsp')\n",
    "\n",
    "# Résolution du TSP\n",
    "df,_ = test_unitaire(choix_data_test, ENSEMBLE_ALGOS[choix_algo_test])\n",
    "\n",
    "# Affichage du chemin final\n",
    "fig_chemin_final=affichage(df, data)\n",
    "fig_chemin_final.show()"
   ]
  },
  {
   "cell_type": "markdown",
   "metadata": {},
   "source": [
    "# Création d'un gif des chemins explorés"
   ]
  },
  {
   "cell_type": "markdown",
   "metadata": {},
   "source": [
    "### Initialisation du dataset et de l'algorithme de test"
   ]
  },
  {
   "cell_type": "code",
   "execution_count": 10,
   "metadata": {},
   "outputs": [
    {
     "name": "stdout",
     "output_type": "stream",
     "text": [
      "Les tests vont se réaliser sur le fichier 'pka379' en utilisant l'algorithme 'plus_proche_voisin'\n"
     ]
    }
   ],
   "source": [
    "# Nom des dataset de test\n",
    "ENSEMBLE_TEST = ['dj38', 'xqf131', 'qa194', 'xqg237',\n",
    "                 'pma343', 'pka379', 'pbl395', 'pbk411', 'pbn423']\n",
    "# Nom des algorithmes dont on peut explorer la méthode d'exploration\n",
    "ENSEMBLE_ALGOS = ['2-opt', 'plus_proche_voisin']\n",
    "\n",
    "choix_data_test = random.randint(0, len(ENSEMBLE_TEST)-1)\n",
    "choix_algo_test = random.randint(0, len(ENSEMBLE_ALGOS)-1)\n",
    "print(\n",
    "    f\"Les tests vont se réaliser sur le fichier '{ENSEMBLE_TEST[choix_data_test]}' en utilisant l'algorithme '{ENSEMBLE_ALGOS[choix_algo_test]}'\")\n"
   ]
  },
  {
   "cell_type": "code",
   "execution_count": 11,
   "metadata": {},
   "outputs": [
    {
     "name": "stdout",
     "output_type": "stream",
     "text": [
      "Vous venez de créer le fichier 'plus_proche_voisin_pka379.gif' dans le dossier gif à la racine du projet\n"
     ]
    }
   ],
   "source": [
    "# Il n'y a pas de stratégie d'exploration pour l'algorithme génétique donc pas de gif possible et le gif pour\n",
    "# l'algorithme de kohonen est différent\n",
    "assert ENSEMBLE_ALGOS[choix_algo_test] not in ['genetique','kohonen'] and ENSEMBLE_TEST[choix_data_test] != '', \\\n",
    "print(\"Pas d'affichage possible pour cet algorithme\")\n",
    "\n",
    "# Génération du dataframe de résultat \n",
    "df, exploration = test_unitaire(choix_data_test, ENSEMBLE_ALGOS[choix_algo_test])\n",
    "# Création des images représentantes chacunes un chemin exploré\n",
    "affichage_chemins_explores(\n",
    "    exploration, ENSEMBLE_ALGOS[choix_algo_test], ENSEMBLE_TEST[choix_data_test]) #type:ignore\n",
    "\n",
    "# Création du .gif\n",
    "generation_gif(ENSEMBLE_ALGOS[choix_algo_test], ENSEMBLE_TEST[choix_data_test])"
   ]
  },
  {
   "cell_type": "markdown",
   "metadata": {},
   "source": [
    "# Création d'un gif de l'évolution du réseau de neurones"
   ]
  },
  {
   "cell_type": "markdown",
   "metadata": {},
   "source": [
    "### Initialisation du dataset de test"
   ]
  },
  {
   "cell_type": "code",
   "execution_count": 12,
   "metadata": {},
   "outputs": [
    {
     "name": "stdout",
     "output_type": "stream",
     "text": [
      "Les tests vont se réaliser sur le fichier 'pka379' en utilisant l'algorithme 'kohonen'\n"
     ]
    }
   ],
   "source": [
    "# Nom des dataset de test\n",
    "ENSEMBLE_TEST = ['dj38', 'xqf131', 'qa194', 'xqg237',\n",
    "                 'pma343', 'pka379', 'pbl395', 'pbk411', 'pbn423']\n",
    "\n",
    "choix_data_test = random.randint(0, len(ENSEMBLE_TEST)-1)\n",
    "choix_algo_test = 'kohonen'\n",
    "print(\n",
    "    f\"Les tests vont se réaliser sur le fichier '{ENSEMBLE_TEST[choix_data_test]}' en utilisant l'algorithme '{choix_algo_test}'\")\n"
   ]
  },
  {
   "cell_type": "code",
   "execution_count": 13,
   "metadata": {},
   "outputs": [
    {
     "name": "stdout",
     "output_type": "stream",
     "text": [
      "Vous venez de créer le fichier 'kohonen_pka379.gif' dans le dossier gif à la racine du projet\n"
     ]
    }
   ],
   "source": [
    "assert choix_algo_test=='kohonen' and ENSEMBLE_TEST[choix_data_test] != '', \\\n",
    "    print(\"L'évolution du réseau de neuronnes est spécifique à kohonen\")\n",
    "\n",
    "# Génération du dataframe de résultat\n",
    "df, exploration = test_unitaire(\n",
    "    choix_data_test, choix_algo_test)\n",
    "# Création des images représentantes chacunes un état du reseau de neurones\n",
    "affichage_reseau_neurones(\n",
    "    exploration, choix_algo_test, ENSEMBLE_TEST[choix_data_test])  # type:ignore\n",
    "\n",
    "# Création du .gif\n",
    "generation_gif(choix_algo_test, ENSEMBLE_TEST[choix_data_test])\n"
   ]
  },
  {
   "cell_type": "markdown",
   "metadata": {},
   "source": [
    "# Test sur des données aléatoires (avec visualisation)"
   ]
  },
  {
   "cell_type": "markdown",
   "metadata": {},
   "source": [
    "### Initialisation du nombre de villes et de l'algorithme choisi"
   ]
  },
  {
   "cell_type": "code",
   "execution_count": 14,
   "metadata": {},
   "outputs": [
    {
     "name": "stdout",
     "output_type": "stream",
     "text": [
      "Nombre de villes : 48\n",
      "Algorithme choisi : Plus proche voisin\n"
     ]
    }
   ],
   "source": [
    "import random\n",
    "\n",
    "#Initialisation d'un nombre de ville\n",
    "NOMBRE_MAX=100\n",
    "NOMBRE_MIN=10\n",
    "nombre_de_villes = random.randint(NOMBRE_MIN,NOMBRE_MAX)\n",
    "print(f\"Nombre de villes : {nombre_de_villes}\")\n",
    "\n",
    "ENSEMBLE_ALGOS = ['2-opt', 'Plus proche voisin', 'Génétique']\n",
    "choix_algo=random.randint(0,len(ENSEMBLE_ALGOS)-1)\n",
    "print(f\"Algorithme choisi : {ENSEMBLE_ALGOS[choix_algo]}\")"
   ]
  },
  {
   "cell_type": "markdown",
   "metadata": {},
   "source": [
    "### Lancement du test et affichage du chemin parcouru"
   ]
  },
  {
   "cell_type": "code",
   "execution_count": 15,
   "metadata": {},
   "outputs": [
    {
     "data": {
      "application/vnd.plotly.v1+json": {
       "config": {
        "plotlyServerURL": "https://plot.ly"
       },
       "data": [
        {
         "hovertemplate": "x=%{x}<br>y=%{y}<extra></extra>",
         "legendgroup": "",
         "marker": {
          "color": "#1F77B4",
          "symbol": "circle"
         },
         "mode": "markers",
         "name": "",
         "orientation": "v",
         "showlegend": false,
         "type": "scatter",
         "x": [
          311,
          268,
          116,
          561,
          909,
          653,
          31,
          801,
          871,
          660,
          63,
          10,
          51,
          578,
          319,
          645,
          782,
          583,
          947,
          888,
          928,
          769,
          754,
          325,
          917,
          307,
          369,
          622,
          357,
          148,
          247,
          417,
          765,
          904,
          496,
          263,
          174,
          593,
          524,
          662,
          462,
          957,
          759,
          972,
          2,
          368,
          992,
          246
         ],
         "xaxis": "x",
         "y": [
          751,
          594,
          386,
          550,
          335,
          316,
          991,
          616,
          685,
          267,
          533,
          586,
          368,
          596,
          562,
          972,
          113,
          569,
          318,
          706,
          453,
          635,
          514,
          671,
          692,
          249,
          437,
          369,
          739,
          953,
          868,
          352,
          16,
          684,
          698,
          690,
          266,
          140,
          71,
          444,
          853,
          887,
          219,
          494,
          68,
          581,
          347,
          147
         ],
         "yaxis": "y"
        },
        {
         "mode": "lines",
         "showlegend": false,
         "type": "scatter",
         "x": [
          311,
          357,
          325,
          263,
          268,
          319,
          368,
          369,
          417,
          307,
          246,
          174,
          116,
          51,
          63,
          10,
          247,
          148,
          31,
          462,
          496,
          578,
          583,
          561,
          662,
          622,
          653,
          660,
          759,
          782,
          765,
          593,
          524,
          909,
          947,
          992,
          928,
          972,
          904,
          917,
          888,
          871,
          801,
          769,
          754,
          957,
          645,
          2,
          311
         ],
         "y": [
          751,
          739,
          671,
          690,
          594,
          562,
          581,
          437,
          352,
          249,
          147,
          266,
          386,
          368,
          533,
          586,
          868,
          953,
          991,
          853,
          698,
          596,
          569,
          550,
          444,
          369,
          316,
          267,
          219,
          113,
          16,
          140,
          71,
          335,
          318,
          347,
          453,
          494,
          684,
          692,
          706,
          685,
          616,
          635,
          514,
          887,
          972,
          68,
          751
         ]
        }
       ],
       "layout": {
        "legend": {
         "tracegroupgap": 0
        },
        "template": {
         "data": {
          "bar": [
           {
            "error_x": {
             "color": "rgb(36,36,36)"
            },
            "error_y": {
             "color": "rgb(36,36,36)"
            },
            "marker": {
             "line": {
              "color": "white",
              "width": 0.5
             },
             "pattern": {
              "fillmode": "overlay",
              "size": 10,
              "solidity": 0.2
             }
            },
            "type": "bar"
           }
          ],
          "barpolar": [
           {
            "marker": {
             "line": {
              "color": "white",
              "width": 0.5
             },
             "pattern": {
              "fillmode": "overlay",
              "size": 10,
              "solidity": 0.2
             }
            },
            "type": "barpolar"
           }
          ],
          "carpet": [
           {
            "aaxis": {
             "endlinecolor": "rgb(36,36,36)",
             "gridcolor": "white",
             "linecolor": "white",
             "minorgridcolor": "white",
             "startlinecolor": "rgb(36,36,36)"
            },
            "baxis": {
             "endlinecolor": "rgb(36,36,36)",
             "gridcolor": "white",
             "linecolor": "white",
             "minorgridcolor": "white",
             "startlinecolor": "rgb(36,36,36)"
            },
            "type": "carpet"
           }
          ],
          "choropleth": [
           {
            "colorbar": {
             "outlinewidth": 1,
             "tickcolor": "rgb(36,36,36)",
             "ticks": "outside"
            },
            "type": "choropleth"
           }
          ],
          "contour": [
           {
            "colorbar": {
             "outlinewidth": 1,
             "tickcolor": "rgb(36,36,36)",
             "ticks": "outside"
            },
            "colorscale": [
             [
              0,
              "#440154"
             ],
             [
              0.1111111111111111,
              "#482878"
             ],
             [
              0.2222222222222222,
              "#3e4989"
             ],
             [
              0.3333333333333333,
              "#31688e"
             ],
             [
              0.4444444444444444,
              "#26828e"
             ],
             [
              0.5555555555555556,
              "#1f9e89"
             ],
             [
              0.6666666666666666,
              "#35b779"
             ],
             [
              0.7777777777777778,
              "#6ece58"
             ],
             [
              0.8888888888888888,
              "#b5de2b"
             ],
             [
              1,
              "#fde725"
             ]
            ],
            "type": "contour"
           }
          ],
          "contourcarpet": [
           {
            "colorbar": {
             "outlinewidth": 1,
             "tickcolor": "rgb(36,36,36)",
             "ticks": "outside"
            },
            "type": "contourcarpet"
           }
          ],
          "heatmap": [
           {
            "colorbar": {
             "outlinewidth": 1,
             "tickcolor": "rgb(36,36,36)",
             "ticks": "outside"
            },
            "colorscale": [
             [
              0,
              "#440154"
             ],
             [
              0.1111111111111111,
              "#482878"
             ],
             [
              0.2222222222222222,
              "#3e4989"
             ],
             [
              0.3333333333333333,
              "#31688e"
             ],
             [
              0.4444444444444444,
              "#26828e"
             ],
             [
              0.5555555555555556,
              "#1f9e89"
             ],
             [
              0.6666666666666666,
              "#35b779"
             ],
             [
              0.7777777777777778,
              "#6ece58"
             ],
             [
              0.8888888888888888,
              "#b5de2b"
             ],
             [
              1,
              "#fde725"
             ]
            ],
            "type": "heatmap"
           }
          ],
          "heatmapgl": [
           {
            "colorbar": {
             "outlinewidth": 1,
             "tickcolor": "rgb(36,36,36)",
             "ticks": "outside"
            },
            "colorscale": [
             [
              0,
              "#440154"
             ],
             [
              0.1111111111111111,
              "#482878"
             ],
             [
              0.2222222222222222,
              "#3e4989"
             ],
             [
              0.3333333333333333,
              "#31688e"
             ],
             [
              0.4444444444444444,
              "#26828e"
             ],
             [
              0.5555555555555556,
              "#1f9e89"
             ],
             [
              0.6666666666666666,
              "#35b779"
             ],
             [
              0.7777777777777778,
              "#6ece58"
             ],
             [
              0.8888888888888888,
              "#b5de2b"
             ],
             [
              1,
              "#fde725"
             ]
            ],
            "type": "heatmapgl"
           }
          ],
          "histogram": [
           {
            "marker": {
             "line": {
              "color": "white",
              "width": 0.6
             }
            },
            "type": "histogram"
           }
          ],
          "histogram2d": [
           {
            "colorbar": {
             "outlinewidth": 1,
             "tickcolor": "rgb(36,36,36)",
             "ticks": "outside"
            },
            "colorscale": [
             [
              0,
              "#440154"
             ],
             [
              0.1111111111111111,
              "#482878"
             ],
             [
              0.2222222222222222,
              "#3e4989"
             ],
             [
              0.3333333333333333,
              "#31688e"
             ],
             [
              0.4444444444444444,
              "#26828e"
             ],
             [
              0.5555555555555556,
              "#1f9e89"
             ],
             [
              0.6666666666666666,
              "#35b779"
             ],
             [
              0.7777777777777778,
              "#6ece58"
             ],
             [
              0.8888888888888888,
              "#b5de2b"
             ],
             [
              1,
              "#fde725"
             ]
            ],
            "type": "histogram2d"
           }
          ],
          "histogram2dcontour": [
           {
            "colorbar": {
             "outlinewidth": 1,
             "tickcolor": "rgb(36,36,36)",
             "ticks": "outside"
            },
            "colorscale": [
             [
              0,
              "#440154"
             ],
             [
              0.1111111111111111,
              "#482878"
             ],
             [
              0.2222222222222222,
              "#3e4989"
             ],
             [
              0.3333333333333333,
              "#31688e"
             ],
             [
              0.4444444444444444,
              "#26828e"
             ],
             [
              0.5555555555555556,
              "#1f9e89"
             ],
             [
              0.6666666666666666,
              "#35b779"
             ],
             [
              0.7777777777777778,
              "#6ece58"
             ],
             [
              0.8888888888888888,
              "#b5de2b"
             ],
             [
              1,
              "#fde725"
             ]
            ],
            "type": "histogram2dcontour"
           }
          ],
          "mesh3d": [
           {
            "colorbar": {
             "outlinewidth": 1,
             "tickcolor": "rgb(36,36,36)",
             "ticks": "outside"
            },
            "type": "mesh3d"
           }
          ],
          "parcoords": [
           {
            "line": {
             "colorbar": {
              "outlinewidth": 1,
              "tickcolor": "rgb(36,36,36)",
              "ticks": "outside"
             }
            },
            "type": "parcoords"
           }
          ],
          "pie": [
           {
            "automargin": true,
            "type": "pie"
           }
          ],
          "scatter": [
           {
            "fillpattern": {
             "fillmode": "overlay",
             "size": 10,
             "solidity": 0.2
            },
            "type": "scatter"
           }
          ],
          "scatter3d": [
           {
            "line": {
             "colorbar": {
              "outlinewidth": 1,
              "tickcolor": "rgb(36,36,36)",
              "ticks": "outside"
             }
            },
            "marker": {
             "colorbar": {
              "outlinewidth": 1,
              "tickcolor": "rgb(36,36,36)",
              "ticks": "outside"
             }
            },
            "type": "scatter3d"
           }
          ],
          "scattercarpet": [
           {
            "marker": {
             "colorbar": {
              "outlinewidth": 1,
              "tickcolor": "rgb(36,36,36)",
              "ticks": "outside"
             }
            },
            "type": "scattercarpet"
           }
          ],
          "scattergeo": [
           {
            "marker": {
             "colorbar": {
              "outlinewidth": 1,
              "tickcolor": "rgb(36,36,36)",
              "ticks": "outside"
             }
            },
            "type": "scattergeo"
           }
          ],
          "scattergl": [
           {
            "marker": {
             "colorbar": {
              "outlinewidth": 1,
              "tickcolor": "rgb(36,36,36)",
              "ticks": "outside"
             }
            },
            "type": "scattergl"
           }
          ],
          "scattermapbox": [
           {
            "marker": {
             "colorbar": {
              "outlinewidth": 1,
              "tickcolor": "rgb(36,36,36)",
              "ticks": "outside"
             }
            },
            "type": "scattermapbox"
           }
          ],
          "scatterpolar": [
           {
            "marker": {
             "colorbar": {
              "outlinewidth": 1,
              "tickcolor": "rgb(36,36,36)",
              "ticks": "outside"
             }
            },
            "type": "scatterpolar"
           }
          ],
          "scatterpolargl": [
           {
            "marker": {
             "colorbar": {
              "outlinewidth": 1,
              "tickcolor": "rgb(36,36,36)",
              "ticks": "outside"
             }
            },
            "type": "scatterpolargl"
           }
          ],
          "scatterternary": [
           {
            "marker": {
             "colorbar": {
              "outlinewidth": 1,
              "tickcolor": "rgb(36,36,36)",
              "ticks": "outside"
             }
            },
            "type": "scatterternary"
           }
          ],
          "surface": [
           {
            "colorbar": {
             "outlinewidth": 1,
             "tickcolor": "rgb(36,36,36)",
             "ticks": "outside"
            },
            "colorscale": [
             [
              0,
              "#440154"
             ],
             [
              0.1111111111111111,
              "#482878"
             ],
             [
              0.2222222222222222,
              "#3e4989"
             ],
             [
              0.3333333333333333,
              "#31688e"
             ],
             [
              0.4444444444444444,
              "#26828e"
             ],
             [
              0.5555555555555556,
              "#1f9e89"
             ],
             [
              0.6666666666666666,
              "#35b779"
             ],
             [
              0.7777777777777778,
              "#6ece58"
             ],
             [
              0.8888888888888888,
              "#b5de2b"
             ],
             [
              1,
              "#fde725"
             ]
            ],
            "type": "surface"
           }
          ],
          "table": [
           {
            "cells": {
             "fill": {
              "color": "rgb(237,237,237)"
             },
             "line": {
              "color": "white"
             }
            },
            "header": {
             "fill": {
              "color": "rgb(217,217,217)"
             },
             "line": {
              "color": "white"
             }
            },
            "type": "table"
           }
          ]
         },
         "layout": {
          "annotationdefaults": {
           "arrowhead": 0,
           "arrowwidth": 1
          },
          "autotypenumbers": "strict",
          "coloraxis": {
           "colorbar": {
            "outlinewidth": 1,
            "tickcolor": "rgb(36,36,36)",
            "ticks": "outside"
           }
          },
          "colorscale": {
           "diverging": [
            [
             0,
             "rgb(103,0,31)"
            ],
            [
             0.1,
             "rgb(178,24,43)"
            ],
            [
             0.2,
             "rgb(214,96,77)"
            ],
            [
             0.3,
             "rgb(244,165,130)"
            ],
            [
             0.4,
             "rgb(253,219,199)"
            ],
            [
             0.5,
             "rgb(247,247,247)"
            ],
            [
             0.6,
             "rgb(209,229,240)"
            ],
            [
             0.7,
             "rgb(146,197,222)"
            ],
            [
             0.8,
             "rgb(67,147,195)"
            ],
            [
             0.9,
             "rgb(33,102,172)"
            ],
            [
             1,
             "rgb(5,48,97)"
            ]
           ],
           "sequential": [
            [
             0,
             "#440154"
            ],
            [
             0.1111111111111111,
             "#482878"
            ],
            [
             0.2222222222222222,
             "#3e4989"
            ],
            [
             0.3333333333333333,
             "#31688e"
            ],
            [
             0.4444444444444444,
             "#26828e"
            ],
            [
             0.5555555555555556,
             "#1f9e89"
            ],
            [
             0.6666666666666666,
             "#35b779"
            ],
            [
             0.7777777777777778,
             "#6ece58"
            ],
            [
             0.8888888888888888,
             "#b5de2b"
            ],
            [
             1,
             "#fde725"
            ]
           ],
           "sequentialminus": [
            [
             0,
             "#440154"
            ],
            [
             0.1111111111111111,
             "#482878"
            ],
            [
             0.2222222222222222,
             "#3e4989"
            ],
            [
             0.3333333333333333,
             "#31688e"
            ],
            [
             0.4444444444444444,
             "#26828e"
            ],
            [
             0.5555555555555556,
             "#1f9e89"
            ],
            [
             0.6666666666666666,
             "#35b779"
            ],
            [
             0.7777777777777778,
             "#6ece58"
            ],
            [
             0.8888888888888888,
             "#b5de2b"
            ],
            [
             1,
             "#fde725"
            ]
           ]
          },
          "colorway": [
           "#1F77B4",
           "#FF7F0E",
           "#2CA02C",
           "#D62728",
           "#9467BD",
           "#8C564B",
           "#E377C2",
           "#7F7F7F",
           "#BCBD22",
           "#17BECF"
          ],
          "font": {
           "color": "rgb(36,36,36)"
          },
          "geo": {
           "bgcolor": "white",
           "lakecolor": "white",
           "landcolor": "white",
           "showlakes": true,
           "showland": true,
           "subunitcolor": "white"
          },
          "hoverlabel": {
           "align": "left"
          },
          "hovermode": "closest",
          "mapbox": {
           "style": "light"
          },
          "paper_bgcolor": "white",
          "plot_bgcolor": "white",
          "polar": {
           "angularaxis": {
            "gridcolor": "rgb(232,232,232)",
            "linecolor": "rgb(36,36,36)",
            "showgrid": false,
            "showline": true,
            "ticks": "outside"
           },
           "bgcolor": "white",
           "radialaxis": {
            "gridcolor": "rgb(232,232,232)",
            "linecolor": "rgb(36,36,36)",
            "showgrid": false,
            "showline": true,
            "ticks": "outside"
           }
          },
          "scene": {
           "xaxis": {
            "backgroundcolor": "white",
            "gridcolor": "rgb(232,232,232)",
            "gridwidth": 2,
            "linecolor": "rgb(36,36,36)",
            "showbackground": true,
            "showgrid": false,
            "showline": true,
            "ticks": "outside",
            "zeroline": false,
            "zerolinecolor": "rgb(36,36,36)"
           },
           "yaxis": {
            "backgroundcolor": "white",
            "gridcolor": "rgb(232,232,232)",
            "gridwidth": 2,
            "linecolor": "rgb(36,36,36)",
            "showbackground": true,
            "showgrid": false,
            "showline": true,
            "ticks": "outside",
            "zeroline": false,
            "zerolinecolor": "rgb(36,36,36)"
           },
           "zaxis": {
            "backgroundcolor": "white",
            "gridcolor": "rgb(232,232,232)",
            "gridwidth": 2,
            "linecolor": "rgb(36,36,36)",
            "showbackground": true,
            "showgrid": false,
            "showline": true,
            "ticks": "outside",
            "zeroline": false,
            "zerolinecolor": "rgb(36,36,36)"
           }
          },
          "shapedefaults": {
           "fillcolor": "black",
           "line": {
            "width": 0
           },
           "opacity": 0.3
          },
          "ternary": {
           "aaxis": {
            "gridcolor": "rgb(232,232,232)",
            "linecolor": "rgb(36,36,36)",
            "showgrid": false,
            "showline": true,
            "ticks": "outside"
           },
           "baxis": {
            "gridcolor": "rgb(232,232,232)",
            "linecolor": "rgb(36,36,36)",
            "showgrid": false,
            "showline": true,
            "ticks": "outside"
           },
           "bgcolor": "white",
           "caxis": {
            "gridcolor": "rgb(232,232,232)",
            "linecolor": "rgb(36,36,36)",
            "showgrid": false,
            "showline": true,
            "ticks": "outside"
           }
          },
          "title": {
           "x": 0.05
          },
          "xaxis": {
           "automargin": true,
           "gridcolor": "rgb(232,232,232)",
           "linecolor": "rgb(36,36,36)",
           "showgrid": false,
           "showline": true,
           "ticks": "outside",
           "title": {
            "standoff": 15
           },
           "zeroline": false,
           "zerolinecolor": "rgb(36,36,36)"
          },
          "yaxis": {
           "automargin": true,
           "gridcolor": "rgb(232,232,232)",
           "linecolor": "rgb(36,36,36)",
           "showgrid": false,
           "showline": true,
           "ticks": "outside",
           "title": {
            "standoff": 15
           },
           "zeroline": false,
           "zerolinecolor": "rgb(36,36,36)"
          }
         }
        },
        "title": {
         "text": "Shortest path found by the algorithm"
        },
        "xaxis": {
         "anchor": "y",
         "domain": [
          0,
          1
         ],
         "title": {
          "text": "x"
         },
         "visible": false,
         "zeroline": false
        },
        "yaxis": {
         "anchor": "x",
         "domain": [
          0,
          1
         ],
         "title": {
          "text": "y"
         },
         "visible": false,
         "zeroline": false
        }
       }
      }
     },
     "metadata": {},
     "output_type": "display_data"
    }
   ],
   "source": [
    "# Initialisation du dataframe\n",
    "data = init_random_df(nombre_de_villes)\n",
    "\n",
    "# Initialisation de la matrice des distances relatives\n",
    "mat_distance = matrice_distance(data)\n",
    "\n",
    "if choix_algo == 0:\n",
    "    chemin_initial,_,_ = src.algo_proche_voisin.plus_proche_voisin(\n",
    "        mat_distance)\n",
    "\n",
    "    # Lancement de l'algorithme 2-opt\n",
    "    df_res,_ = src.algo_2_opt.main(\n",
    "        mat_distance, chemin_initial)\n",
    "elif choix_algo == 1:\n",
    "    # Lancement de l'algorithme plus proche voisin\n",
    "    df_res,_ = src.algo_proche_voisin.main(mat_distance)\n",
    "elif choix_algo == 2:\n",
    "     # Lancement de l'algorithme génétique\n",
    "    df_res = src.algo_genetique.main(data, mat_distance)\n",
    "else: \n",
    "    #Lancement de l'algorithme de kohonen\n",
    "    df_res,_ = src.algo_kohonen.main(data, mat_distance) \n",
    "\n",
    "# La solution trouvée par l'algo choisi\n",
    "affichage(df_res, data).show()"
   ]
  }
 ],
 "metadata": {
  "kernelspec": {
   "display_name": "Python 3 (ipykernel)",
   "language": "python",
   "name": "python3"
  },
  "language_info": {
   "codemirror_mode": {
    "name": "ipython",
    "version": 3
   },
   "file_extension": ".py",
   "mimetype": "text/x-python",
   "name": "python",
   "nbconvert_exporter": "python",
   "pygments_lexer": "ipython3",
   "version": "3.11.0"
  },
  "vscode": {
   "interpreter": {
    "hash": "d667af14c94c865b46724da933a850b3d564154870f60130309ecd5dd505f9ea"
   }
  }
 },
 "nbformat": 4,
 "nbformat_minor": 4
}
