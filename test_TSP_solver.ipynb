{
 "cells": [
  {
   "attachments": {},
   "cell_type": "markdown",
   "metadata": {},
   "source": [
    "# Introduction\n",
    "\n",
    "En informatique, le problème du voyageur de commerce, ou TSP en anglais, est un problème d'optimisation qui consiste à déterminer, étant donné un ensemble de villes et les distances entre toutes les paires de villes, le plus court circuit qui passe par chaque ville une et une seule fois.\n",
    "\n",
    "On ne connaît pas d'algorithme permettant de trouver une solution exacte rapidement dans tous les cas. Plus précisément, on ne connaît pas d'algorithme en temps polynomial, et la version décisionnelle du problème du voyageur de commerce (pour une distance D, existe-t-il un chemin plus court que D passant par toutes les villes et qui termine dans la ville de départ ?) est un problème NP-complet, ce qui est un indice de sa difficulté.\n",
    "\n",
    "cf. https://fr.wikipedia.org/wiki/Problème_du_voyageur_de_commerce\n",
    "\n",
    "# Objectifs\n",
    "\n",
    "Ce Notebook a plusieurs objectifs et vocations. Il se veut un complément de mon [dashboard](https://github.com/Thomas-rnd/dash_TSP) de visualisation et de comparaison des algorithmes que j'ai pu implémenter. Ce notebook contrairement à mon dashboard permet de naviguer en détails et de passer en revu les possibilités et fonctionnalités de mon TSP Solver. De manière guidée nous pouvons pas à pas observer, les résultats retournés par un algorithme mais aussi les chemins explorés lors de la résolution par l'intermédiaire de gif."
   ]
  },
  {
   "attachments": {},
   "cell_type": "markdown",
   "metadata": {},
   "source": [
    "## Importation du code source\n",
    "\n",
    "Tous les fichiers permettant de résoudre le TSP sont disponible dans le dossier `src`\n"
   ]
  },
  {
   "cell_type": "code",
   "execution_count": 19,
   "metadata": {},
   "outputs": [
    {
     "name": "stdout",
     "output_type": "stream",
     "text": [
      "Setup complete\n"
     ]
    }
   ],
   "source": [
    "import random\n",
    "\n",
    "import pandas as pd\n",
    "\n",
    "import src.algo_2_opt\n",
    "import src.algo_genetique\n",
    "import src.algo_kohonen\n",
    "import src.algo_proche_voisin\n",
    "from src.affichage_resultats import (affichage, affichage_chemins_explores,\n",
    "                                     affichage_reseau_neurones, generation_gif,\n",
    "                                     representation_resultats,\n",
    "                                     representation_temps_calcul)\n",
    "from src.distance import matrice_distance\n",
    "from src.init_random_data import init_random_df\n",
    "from src.init_test_data import data_TSPLIB\n",
    "from src.test_algo import test_global, test_unitaire\n",
    "\n",
    "print(\"Setup complete\")"
   ]
  },
  {
   "attachments": {},
   "cell_type": "markdown",
   "metadata": {},
   "source": [
    "# Réalisation des tests globaux (avec visualisation)\n",
    "\n",
    "Les résultats des différents algorithmes sont accéssibles dans le dossier `/resultats/csv/`.\n",
    "\n",
    "Vous y trouverez en particulier des informations tel que :\n",
    "\n",
    "- le chemin final trouvé\n",
    "- la distance du chemin\n",
    "- le temps de calcul\n"
   ]
  },
  {
   "cell_type": "code",
   "execution_count": 20,
   "metadata": {},
   "outputs": [
    {
     "name": "stdout",
     "output_type": "stream",
     "text": [
      "Etape du test : 1/9\n",
      "Etape du test : 2/9\n",
      "Etape du test : 3/9\n",
      "Etape du test : 4/9\n",
      "Etape du test : 5/9\n",
      "Etape du test : 6/9\n",
      "Etape du test : 7/9\n",
      "Etape du test : 8/9\n",
      "Etape du test : 9/9\n"
     ]
    },
    {
     "data": {
      "text/html": [
       "<div>\n",
       "<style scoped>\n",
       "    .dataframe tbody tr th:only-of-type {\n",
       "        vertical-align: middle;\n",
       "    }\n",
       "\n",
       "    .dataframe tbody tr th {\n",
       "        vertical-align: top;\n",
       "    }\n",
       "\n",
       "    .dataframe thead th {\n",
       "        text-align: right;\n",
       "    }\n",
       "</style>\n",
       "<table border=\"1\" class=\"dataframe\">\n",
       "  <thead>\n",
       "    <tr style=\"text-align: right;\">\n",
       "      <th></th>\n",
       "      <th>Algorithme</th>\n",
       "      <th>Nom dataset</th>\n",
       "      <th>Nombre de villes</th>\n",
       "      <th>Solution</th>\n",
       "      <th>Distance</th>\n",
       "      <th>Temps de calcul (en s)</th>\n",
       "    </tr>\n",
       "  </thead>\n",
       "  <tbody>\n",
       "    <tr>\n",
       "      <th>0</th>\n",
       "      <td>plus_proche_voisin</td>\n",
       "      <td>dj38</td>\n",
       "      <td>38.0</td>\n",
       "      <td>[0, 1, 3, 2, 4, 6, 5, 7, 8, 12, 14, 19, 22, 24...</td>\n",
       "      <td>9748.946705</td>\n",
       "      <td>0.000836</td>\n",
       "    </tr>\n",
       "    <tr>\n",
       "      <th>1</th>\n",
       "      <td>plus_proche_voisin</td>\n",
       "      <td>xqf131</td>\n",
       "      <td>131.0</td>\n",
       "      <td>[0, 5, 11, 13, 14, 15, 16, 24, 17, 12, 4, 18, ...</td>\n",
       "      <td>709.521628</td>\n",
       "      <td>0.004633</td>\n",
       "    </tr>\n",
       "    <tr>\n",
       "      <th>2</th>\n",
       "      <td>plus_proche_voisin</td>\n",
       "      <td>qa194</td>\n",
       "      <td>194.0</td>\n",
       "      <td>[0, 5, 7, 15, 12, 13, 10, 16, 25, 23, 20, 17, ...</td>\n",
       "      <td>11892.888059</td>\n",
       "      <td>0.008397</td>\n",
       "    </tr>\n",
       "    <tr>\n",
       "      <th>3</th>\n",
       "      <td>plus_proche_voisin</td>\n",
       "      <td>xqg237</td>\n",
       "      <td>237.0</td>\n",
       "      <td>[0, 7, 8, 4, 5, 1, 9, 10, 11, 6, 2, 3, 12, 24,...</td>\n",
       "      <td>1327.178708</td>\n",
       "      <td>0.011821</td>\n",
       "    </tr>\n",
       "    <tr>\n",
       "      <th>4</th>\n",
       "      <td>plus_proche_voisin</td>\n",
       "      <td>pma343</td>\n",
       "      <td>343.0</td>\n",
       "      <td>[0, 13, 12, 11, 9, 22, 26, 31, 34, 32, 29, 28,...</td>\n",
       "      <td>2135.347948</td>\n",
       "      <td>0.023024</td>\n",
       "    </tr>\n",
       "  </tbody>\n",
       "</table>\n",
       "</div>"
      ],
      "text/plain": [
       "           Algorithme Nom dataset  Nombre de villes  \\\n",
       "0  plus_proche_voisin        dj38              38.0   \n",
       "1  plus_proche_voisin      xqf131             131.0   \n",
       "2  plus_proche_voisin       qa194             194.0   \n",
       "3  plus_proche_voisin      xqg237             237.0   \n",
       "4  plus_proche_voisin      pma343             343.0   \n",
       "\n",
       "                                            Solution      Distance  \\\n",
       "0  [0, 1, 3, 2, 4, 6, 5, 7, 8, 12, 14, 19, 22, 24...   9748.946705   \n",
       "1  [0, 5, 11, 13, 14, 15, 16, 24, 17, 12, 4, 18, ...    709.521628   \n",
       "2  [0, 5, 7, 15, 12, 13, 10, 16, 25, 23, 20, 17, ...  11892.888059   \n",
       "3  [0, 7, 8, 4, 5, 1, 9, 10, 11, 6, 2, 3, 12, 24,...   1327.178708   \n",
       "4  [0, 13, 12, 11, 9, 22, 26, 31, 34, 32, 29, 28,...   2135.347948   \n",
       "\n",
       "   Temps de calcul (en s)  \n",
       "0                0.000836  \n",
       "1                0.004633  \n",
       "2                0.008397  \n",
       "3                0.011821  \n",
       "4                0.023024  "
      ]
     },
     "execution_count": 20,
     "metadata": {},
     "output_type": "execute_result"
    }
   ],
   "source": [
    "# Test global algorithme plus proche voisin\n",
    "df_1 = test_global('plus_proche_voisin')\n",
    "\n",
    "# Sauvegarde du dataframe au format csv\n",
    "df_1.to_csv('resultats/csv/test_global_plus_proche_voisin.csv')\n",
    "\n",
    "# Affichage des 5 premières lignes du dataframe\n",
    "df_1.head()"
   ]
  },
  {
   "cell_type": "code",
   "execution_count": 21,
   "metadata": {},
   "outputs": [
    {
     "name": "stdout",
     "output_type": "stream",
     "text": [
      "Etape du test : 1/9\n",
      "Etape du test : 2/9\n",
      "Etape du test : 3/9\n",
      "Etape du test : 4/9\n",
      "Etape du test : 5/9\n",
      "Etape du test : 6/9\n",
      "Etape du test : 7/9\n",
      "Etape du test : 8/9\n",
      "Etape du test : 9/9\n"
     ]
    },
    {
     "data": {
      "text/html": [
       "<div>\n",
       "<style scoped>\n",
       "    .dataframe tbody tr th:only-of-type {\n",
       "        vertical-align: middle;\n",
       "    }\n",
       "\n",
       "    .dataframe tbody tr th {\n",
       "        vertical-align: top;\n",
       "    }\n",
       "\n",
       "    .dataframe thead th {\n",
       "        text-align: right;\n",
       "    }\n",
       "</style>\n",
       "<table border=\"1\" class=\"dataframe\">\n",
       "  <thead>\n",
       "    <tr style=\"text-align: right;\">\n",
       "      <th></th>\n",
       "      <th>Algorithme</th>\n",
       "      <th>Nom dataset</th>\n",
       "      <th>Nombre de villes</th>\n",
       "      <th>Solution</th>\n",
       "      <th>Distance</th>\n",
       "      <th>Temps de calcul (en s)</th>\n",
       "    </tr>\n",
       "  </thead>\n",
       "  <tbody>\n",
       "    <tr>\n",
       "      <th>0</th>\n",
       "      <td>2-opt</td>\n",
       "      <td>dj38</td>\n",
       "      <td>38.0</td>\n",
       "      <td>[0, 9, 13, 20, 28, 31, 34, 36, 37, 32, 33, 35,...</td>\n",
       "      <td>7245.045413</td>\n",
       "      <td>0.003522</td>\n",
       "    </tr>\n",
       "    <tr>\n",
       "      <th>1</th>\n",
       "      <td>2-opt</td>\n",
       "      <td>xqf131</td>\n",
       "      <td>131.0</td>\n",
       "      <td>[0, 4, 12, 17, 24, 52, 73, 88, 97, 111, 122, 1...</td>\n",
       "      <td>626.152216</td>\n",
       "      <td>0.031176</td>\n",
       "    </tr>\n",
       "    <tr>\n",
       "      <th>2</th>\n",
       "      <td>2-opt</td>\n",
       "      <td>qa194</td>\n",
       "      <td>194.0</td>\n",
       "      <td>[0, 5, 7, 15, 12, 22, 81, 61, 58, 35, 62, 19, ...</td>\n",
       "      <td>9888.965623</td>\n",
       "      <td>0.114396</td>\n",
       "    </tr>\n",
       "    <tr>\n",
       "      <th>3</th>\n",
       "      <td>2-opt</td>\n",
       "      <td>xqg237</td>\n",
       "      <td>237.0</td>\n",
       "      <td>[0, 7, 13, 23, 14, 15, 17, 22, 28, 30, 31, 32,...</td>\n",
       "      <td>1152.179452</td>\n",
       "      <td>0.242006</td>\n",
       "    </tr>\n",
       "    <tr>\n",
       "      <th>4</th>\n",
       "      <td>2-opt</td>\n",
       "      <td>pma343</td>\n",
       "      <td>343.0</td>\n",
       "      <td>[0, 1, 15, 24, 29, 28, 27, 21, 2, 3, 16, 17, 1...</td>\n",
       "      <td>1448.716966</td>\n",
       "      <td>0.587881</td>\n",
       "    </tr>\n",
       "  </tbody>\n",
       "</table>\n",
       "</div>"
      ],
      "text/plain": [
       "  Algorithme Nom dataset  Nombre de villes  \\\n",
       "0      2-opt        dj38              38.0   \n",
       "1      2-opt      xqf131             131.0   \n",
       "2      2-opt       qa194             194.0   \n",
       "3      2-opt      xqg237             237.0   \n",
       "4      2-opt      pma343             343.0   \n",
       "\n",
       "                                            Solution     Distance  \\\n",
       "0  [0, 9, 13, 20, 28, 31, 34, 36, 37, 32, 33, 35,...  7245.045413   \n",
       "1  [0, 4, 12, 17, 24, 52, 73, 88, 97, 111, 122, 1...   626.152216   \n",
       "2  [0, 5, 7, 15, 12, 22, 81, 61, 58, 35, 62, 19, ...  9888.965623   \n",
       "3  [0, 7, 13, 23, 14, 15, 17, 22, 28, 30, 31, 32,...  1152.179452   \n",
       "4  [0, 1, 15, 24, 29, 28, 27, 21, 2, 3, 16, 17, 1...  1448.716966   \n",
       "\n",
       "   Temps de calcul (en s)  \n",
       "0                0.003522  \n",
       "1                0.031176  \n",
       "2                0.114396  \n",
       "3                0.242006  \n",
       "4                0.587881  "
      ]
     },
     "execution_count": 21,
     "metadata": {},
     "output_type": "execute_result"
    }
   ],
   "source": [
    "# Test global algorithme 2-opt\n",
    "df_2 = test_global('2-opt')\n",
    "\n",
    "# Sauvegarde du dataframe au format csv\n",
    "df_2.to_csv('resultats/csv/test_global_2_opt.csv')\n",
    "\n",
    "# Affichage des 5 premières lignes du dataframe\n",
    "df_2.head()"
   ]
  },
  {
   "cell_type": "code",
   "execution_count": 22,
   "metadata": {},
   "outputs": [
    {
     "name": "stdout",
     "output_type": "stream",
     "text": [
      "Etape du test : 1/9\n",
      "Etape du test : 2/9\n",
      "Etape du test : 3/9\n",
      "Etape du test : 4/9\n",
      "Etape du test : 5/9\n",
      "Etape du test : 6/9\n",
      "Etape du test : 7/9\n",
      "Etape du test : 8/9\n",
      "Etape du test : 9/9\n"
     ]
    },
    {
     "data": {
      "text/html": [
       "<div>\n",
       "<style scoped>\n",
       "    .dataframe tbody tr th:only-of-type {\n",
       "        vertical-align: middle;\n",
       "    }\n",
       "\n",
       "    .dataframe tbody tr th {\n",
       "        vertical-align: top;\n",
       "    }\n",
       "\n",
       "    .dataframe thead th {\n",
       "        text-align: right;\n",
       "    }\n",
       "</style>\n",
       "<table border=\"1\" class=\"dataframe\">\n",
       "  <thead>\n",
       "    <tr style=\"text-align: right;\">\n",
       "      <th></th>\n",
       "      <th>Algorithme</th>\n",
       "      <th>Nom dataset</th>\n",
       "      <th>Nombre de villes</th>\n",
       "      <th>Solution</th>\n",
       "      <th>Distance</th>\n",
       "      <th>Temps de calcul (en s)</th>\n",
       "    </tr>\n",
       "  </thead>\n",
       "  <tbody>\n",
       "    <tr>\n",
       "      <th>0</th>\n",
       "      <td>genetique</td>\n",
       "      <td>dj38</td>\n",
       "      <td>38.0</td>\n",
       "      <td>[9, 25, 33, 37, 34, 28, 20, 13, 0, 19, 10, 11,...</td>\n",
       "      <td>13856.158812</td>\n",
       "      <td>1.209826</td>\n",
       "    </tr>\n",
       "    <tr>\n",
       "      <th>1</th>\n",
       "      <td>genetique</td>\n",
       "      <td>xqf131</td>\n",
       "      <td>131.0</td>\n",
       "      <td>[7, 6, 5, 0, 30, 63, 73, 74, 61, 84, 85, 75, 3...</td>\n",
       "      <td>2295.606560</td>\n",
       "      <td>2.260142</td>\n",
       "    </tr>\n",
       "    <tr>\n",
       "      <th>2</th>\n",
       "      <td>genetique</td>\n",
       "      <td>qa194</td>\n",
       "      <td>194.0</td>\n",
       "      <td>[190, 173, 174, 181, 160, 84, 19, 61, 148, 124...</td>\n",
       "      <td>48322.699199</td>\n",
       "      <td>2.986105</td>\n",
       "    </tr>\n",
       "    <tr>\n",
       "      <th>3</th>\n",
       "      <td>genetique</td>\n",
       "      <td>xqg237</td>\n",
       "      <td>237.0</td>\n",
       "      <td>[182, 183, 141, 145, 196, 193, 185, 163, 140, ...</td>\n",
       "      <td>6983.760625</td>\n",
       "      <td>3.394058</td>\n",
       "    </tr>\n",
       "    <tr>\n",
       "      <th>4</th>\n",
       "      <td>genetique</td>\n",
       "      <td>pma343</td>\n",
       "      <td>343.0</td>\n",
       "      <td>[171, 245, 196, 105, 122, 53, 40, 46, 117, 182...</td>\n",
       "      <td>18847.505119</td>\n",
       "      <td>4.671006</td>\n",
       "    </tr>\n",
       "  </tbody>\n",
       "</table>\n",
       "</div>"
      ],
      "text/plain": [
       "  Algorithme Nom dataset  Nombre de villes  \\\n",
       "0  genetique        dj38              38.0   \n",
       "1  genetique      xqf131             131.0   \n",
       "2  genetique       qa194             194.0   \n",
       "3  genetique      xqg237             237.0   \n",
       "4  genetique      pma343             343.0   \n",
       "\n",
       "                                            Solution      Distance  \\\n",
       "0  [9, 25, 33, 37, 34, 28, 20, 13, 0, 19, 10, 11,...  13856.158812   \n",
       "1  [7, 6, 5, 0, 30, 63, 73, 74, 61, 84, 85, 75, 3...   2295.606560   \n",
       "2  [190, 173, 174, 181, 160, 84, 19, 61, 148, 124...  48322.699199   \n",
       "3  [182, 183, 141, 145, 196, 193, 185, 163, 140, ...   6983.760625   \n",
       "4  [171, 245, 196, 105, 122, 53, 40, 46, 117, 182...  18847.505119   \n",
       "\n",
       "   Temps de calcul (en s)  \n",
       "0                1.209826  \n",
       "1                2.260142  \n",
       "2                2.986105  \n",
       "3                3.394058  \n",
       "4                4.671006  "
      ]
     },
     "execution_count": 22,
     "metadata": {},
     "output_type": "execute_result"
    }
   ],
   "source": [
    "# Test global algorithme génétique\n",
    "df_3 = test_global('genetique')\n",
    "\n",
    "# Sauvegarde du dataframe au format csv\n",
    "df_3.to_csv('resultats/csv/test_global_algo_genetique.csv')\n",
    "\n",
    "# Affichage des 5 premières lignes du dataframe\n",
    "df_3.head()"
   ]
  },
  {
   "cell_type": "code",
   "execution_count": 23,
   "metadata": {},
   "outputs": [
    {
     "name": "stdout",
     "output_type": "stream",
     "text": [
      "Etape du test : 1/9\n",
      "Etape du test : 2/9\n",
      "Etape du test : 3/9\n",
      "Etape du test : 4/9\n",
      "Etape du test : 5/9\n",
      "Etape du test : 6/9\n",
      "Etape du test : 7/9\n",
      "Etape du test : 8/9\n",
      "Etape du test : 9/9\n"
     ]
    },
    {
     "data": {
      "text/html": [
       "<div>\n",
       "<style scoped>\n",
       "    .dataframe tbody tr th:only-of-type {\n",
       "        vertical-align: middle;\n",
       "    }\n",
       "\n",
       "    .dataframe tbody tr th {\n",
       "        vertical-align: top;\n",
       "    }\n",
       "\n",
       "    .dataframe thead th {\n",
       "        text-align: right;\n",
       "    }\n",
       "</style>\n",
       "<table border=\"1\" class=\"dataframe\">\n",
       "  <thead>\n",
       "    <tr style=\"text-align: right;\">\n",
       "      <th></th>\n",
       "      <th>Algorithme</th>\n",
       "      <th>Nom dataset</th>\n",
       "      <th>Nombre de villes</th>\n",
       "      <th>Solution</th>\n",
       "      <th>Distance</th>\n",
       "      <th>Temps de calcul (en s)</th>\n",
       "    </tr>\n",
       "  </thead>\n",
       "  <tbody>\n",
       "    <tr>\n",
       "      <th>0</th>\n",
       "      <td>kohonen</td>\n",
       "      <td>dj38</td>\n",
       "      <td>38.0</td>\n",
       "      <td>[27, 23, 21, 24, 25, 22, 19, 14, 12, 15, 16, 1...</td>\n",
       "      <td>6659.431533</td>\n",
       "      <td>47.789983</td>\n",
       "    </tr>\n",
       "    <tr>\n",
       "      <th>1</th>\n",
       "      <td>kohonen</td>\n",
       "      <td>xqf131</td>\n",
       "      <td>131.0</td>\n",
       "      <td>[103, 102, 110, 116, 121, 128, 119, 115, 109, ...</td>\n",
       "      <td>589.329178</td>\n",
       "      <td>51.510499</td>\n",
       "    </tr>\n",
       "    <tr>\n",
       "      <th>2</th>\n",
       "      <td>kohonen</td>\n",
       "      <td>qa194</td>\n",
       "      <td>194.0</td>\n",
       "      <td>[167, 164, 158, 157, 161, 165, 159, 154, 150, ...</td>\n",
       "      <td>9957.417325</td>\n",
       "      <td>56.189725</td>\n",
       "    </tr>\n",
       "    <tr>\n",
       "      <th>3</th>\n",
       "      <td>kohonen</td>\n",
       "      <td>xqg237</td>\n",
       "      <td>237.0</td>\n",
       "      <td>[194, 195, 196, 185, 169, 168, 167, 156, 157, ...</td>\n",
       "      <td>1081.940898</td>\n",
       "      <td>58.654370</td>\n",
       "    </tr>\n",
       "    <tr>\n",
       "      <th>4</th>\n",
       "      <td>kohonen</td>\n",
       "      <td>pma343</td>\n",
       "      <td>343.0</td>\n",
       "      <td>[8, 10, 23, 25, 30, 33, 35, 40, 41, 42, 43, 47...</td>\n",
       "      <td>1507.887694</td>\n",
       "      <td>63.236313</td>\n",
       "    </tr>\n",
       "  </tbody>\n",
       "</table>\n",
       "</div>"
      ],
      "text/plain": [
       "  Algorithme Nom dataset  Nombre de villes  \\\n",
       "0    kohonen        dj38              38.0   \n",
       "1    kohonen      xqf131             131.0   \n",
       "2    kohonen       qa194             194.0   \n",
       "3    kohonen      xqg237             237.0   \n",
       "4    kohonen      pma343             343.0   \n",
       "\n",
       "                                            Solution     Distance  \\\n",
       "0  [27, 23, 21, 24, 25, 22, 19, 14, 12, 15, 16, 1...  6659.431533   \n",
       "1  [103, 102, 110, 116, 121, 128, 119, 115, 109, ...   589.329178   \n",
       "2  [167, 164, 158, 157, 161, 165, 159, 154, 150, ...  9957.417325   \n",
       "3  [194, 195, 196, 185, 169, 168, 167, 156, 157, ...  1081.940898   \n",
       "4  [8, 10, 23, 25, 30, 33, 35, 40, 41, 42, 43, 47...  1507.887694   \n",
       "\n",
       "   Temps de calcul (en s)  \n",
       "0               47.789983  \n",
       "1               51.510499  \n",
       "2               56.189725  \n",
       "3               58.654370  \n",
       "4               63.236313  "
      ]
     },
     "execution_count": 23,
     "metadata": {},
     "output_type": "execute_result"
    }
   ],
   "source": [
    "# Test global algorithme de kohonen\n",
    "df_4 = test_global('kohonen')\n",
    "\n",
    "# Sauvegarde du dataframe au format csv\n",
    "df_4.to_csv('resultats/csv/test_global_kohonen.csv')\n",
    "\n",
    "# Affichage des 5 premières lignes du dataframe\n",
    "df_4.head()"
   ]
  },
  {
   "attachments": {},
   "cell_type": "markdown",
   "metadata": {},
   "source": [
    "### Sauvegarde des données importantes pour analyser les algorithmes\n",
    "\n",
    "On va venir fusionner les dataframe précédemment crées. En effet, pour obtenir un dataframe global pour un algorithme les temps de calculs sont conséquents. Il est donc necessaire de créer un fichier de synthèse persistant pour réaliser les différentes analyses des algorithmes avec aisance.\n"
   ]
  },
  {
   "cell_type": "code",
   "execution_count": 24,
   "metadata": {},
   "outputs": [
    {
     "name": "stdout",
     "output_type": "stream",
     "text": [
      "Le fichier est accessible ici : '/resultats/csv/test_global_algos.csv'\n"
     ]
    }
   ],
   "source": [
    "# Concaténation dans un seul dataframe\n",
    "df = pd.concat([df_1, df_2, df_3, df_4], ignore_index=True)\n",
    "\n",
    "# Sauvegarde des résultats finaux\n",
    "df.to_csv('resultats/csv/test_global_algos.csv')\n",
    "\n",
    "# Affichage de 10 lignes aléatoires du dataframe global\n",
    "df.sample(10)\n",
    "\n",
    "print(f\"Le fichier est accessible ici : '/resultats/csv/test_global_algos.csv'\")"
   ]
  },
  {
   "attachments": {},
   "cell_type": "markdown",
   "metadata": {},
   "source": [
    "# Comparaison des algorithmes implémentés\n",
    "\n",
    "Dans cette partie nous passons à la comparaison et l'analyse des résultats issus des algorithmes implémentés. Deux graphiques sont proposées et disponible aux adresses :\n",
    "\n",
    "- `/resultats/figures/fig_distances.png`\n",
    "- `/resultats/figures/fig_temps_calcul.png`\n",
    "\n",
    "De plus une visualisation sous forme de GIF permettant de mieux comprendre l'évolution des états explorés par l'algorithme est disponible dans le dossier `/gif/`\n"
   ]
  },
  {
   "attachments": {},
   "cell_type": "markdown",
   "metadata": {},
   "source": [
    "### Création des visuels d'analyse des algorithmes\n"
   ]
  },
  {
   "cell_type": "code",
   "execution_count": 25,
   "metadata": {},
   "outputs": [
    {
     "data": {
      "application/vnd.plotly.v1+json": {
       "config": {
        "plotlyServerURL": "https://plot.ly"
       },
       "data": [
        {
         "alignmentgroup": "True",
         "boxpoints": "all",
         "hovertemplate": "Algorithm=%{x}<br>Distance=%{y}<extra></extra>",
         "legendgroup": "Nearest neighbor search",
         "marker": {
          "color": "#FFA15A"
         },
         "name": "Nearest neighbor search",
         "notched": false,
         "offsetgroup": "plus_proche_voisin",
         "orientation": "v",
         "showlegend": true,
         "type": "box",
         "x": [
          "plus_proche_voisin",
          "plus_proche_voisin",
          "plus_proche_voisin",
          "plus_proche_voisin",
          "plus_proche_voisin",
          "plus_proche_voisin",
          "plus_proche_voisin",
          "plus_proche_voisin",
          "plus_proche_voisin"
         ],
         "x0": " ",
         "xaxis": "x",
         "y": [
          9748.94670516838,
          709.5216278258143,
          11892.888058614652,
          1327.1787077467925,
          2135.347948093042,
          1663.2316452038583,
          1688.9586984743191,
          1838.478134243151,
          1910.2169395517565
         ],
         "y0": " ",
         "yaxis": "y"
        },
        {
         "alignmentgroup": "True",
         "boxpoints": "all",
         "hovertemplate": "Algorithm=%{x}<br>Distance=%{y}<extra></extra>",
         "legendgroup": "2-opt inversion",
         "marker": {
          "color": "#19d3f3"
         },
         "name": "2-opt inversion",
         "notched": false,
         "offsetgroup": "2-opt",
         "orientation": "v",
         "showlegend": true,
         "type": "box",
         "x": [
          "2-opt",
          "2-opt",
          "2-opt",
          "2-opt",
          "2-opt",
          "2-opt",
          "2-opt",
          "2-opt",
          "2-opt"
         ],
         "x0": " ",
         "xaxis": "x",
         "y": [
          7245.0454127315215,
          626.1522162332797,
          9888.96562290242,
          1152.1794521218,
          1448.7169662541864,
          1442.4263245121524,
          1420.0595257941015,
          1514.739008311432,
          1523.493922077205
         ],
         "y0": " ",
         "yaxis": "y"
        },
        {
         "alignmentgroup": "True",
         "boxpoints": "all",
         "hovertemplate": "Algorithm=%{x}<br>Distance=%{y}<extra></extra>",
         "legendgroup": "Genetic algorithm",
         "marker": {
          "color": "#FF6692"
         },
         "name": "Genetic algorithm",
         "notched": false,
         "offsetgroup": "genetique",
         "orientation": "v",
         "showlegend": true,
         "type": "box",
         "x": [
          "genetique",
          "genetique",
          "genetique",
          "genetique",
          "genetique",
          "genetique",
          "genetique",
          "genetique",
          "genetique"
         ],
         "x0": " ",
         "xaxis": "x",
         "y": [
          13856.158812020856,
          2295.606560475135,
          48322.69919923826,
          6983.760625207765,
          18847.50511942616,
          20214.850947987805,
          13537.724157858134,
          14582.47137934947,
          14883.925766990886
         ],
         "y0": " ",
         "yaxis": "y"
        },
        {
         "alignmentgroup": "True",
         "boxpoints": "all",
         "hovertemplate": "Algorithm=%{x}<br>Distance=%{y}<extra></extra>",
         "legendgroup": "Kohonen algorithm",
         "marker": {
          "color": "#B6E880"
         },
         "name": "Kohonen algorithm",
         "notched": false,
         "offsetgroup": "kohonen",
         "orientation": "v",
         "showlegend": true,
         "type": "box",
         "x": [
          "kohonen",
          "kohonen",
          "kohonen",
          "kohonen",
          "kohonen",
          "kohonen",
          "kohonen",
          "kohonen",
          "kohonen"
         ],
         "x0": " ",
         "xaxis": "x",
         "y": [
          6659.431532931466,
          589.3291777157581,
          9957.4173248115,
          1081.9408982831146,
          1507.8876935366377,
          1468.8964541342757,
          1423.0700424432089,
          1488.1642111673318,
          1586.314821196093
         ],
         "y0": " ",
         "yaxis": "y"
        }
       ],
       "layout": {
        "boxmode": "overlay",
        "legend": {
         "title": {
          "text": "Algorithm"
         },
         "tracegroupgap": 0
        },
        "template": {
         "data": {
          "bar": [
           {
            "error_x": {
             "color": "#2a3f5f"
            },
            "error_y": {
             "color": "#2a3f5f"
            },
            "marker": {
             "line": {
              "color": "white",
              "width": 0.5
             },
             "pattern": {
              "fillmode": "overlay",
              "size": 10,
              "solidity": 0.2
             }
            },
            "type": "bar"
           }
          ],
          "barpolar": [
           {
            "marker": {
             "line": {
              "color": "white",
              "width": 0.5
             },
             "pattern": {
              "fillmode": "overlay",
              "size": 10,
              "solidity": 0.2
             }
            },
            "type": "barpolar"
           }
          ],
          "carpet": [
           {
            "aaxis": {
             "endlinecolor": "#2a3f5f",
             "gridcolor": "#C8D4E3",
             "linecolor": "#C8D4E3",
             "minorgridcolor": "#C8D4E3",
             "startlinecolor": "#2a3f5f"
            },
            "baxis": {
             "endlinecolor": "#2a3f5f",
             "gridcolor": "#C8D4E3",
             "linecolor": "#C8D4E3",
             "minorgridcolor": "#C8D4E3",
             "startlinecolor": "#2a3f5f"
            },
            "type": "carpet"
           }
          ],
          "choropleth": [
           {
            "colorbar": {
             "outlinewidth": 0,
             "ticks": ""
            },
            "type": "choropleth"
           }
          ],
          "contour": [
           {
            "colorbar": {
             "outlinewidth": 0,
             "ticks": ""
            },
            "colorscale": [
             [
              0,
              "#0d0887"
             ],
             [
              0.1111111111111111,
              "#46039f"
             ],
             [
              0.2222222222222222,
              "#7201a8"
             ],
             [
              0.3333333333333333,
              "#9c179e"
             ],
             [
              0.4444444444444444,
              "#bd3786"
             ],
             [
              0.5555555555555556,
              "#d8576b"
             ],
             [
              0.6666666666666666,
              "#ed7953"
             ],
             [
              0.7777777777777778,
              "#fb9f3a"
             ],
             [
              0.8888888888888888,
              "#fdca26"
             ],
             [
              1,
              "#f0f921"
             ]
            ],
            "type": "contour"
           }
          ],
          "contourcarpet": [
           {
            "colorbar": {
             "outlinewidth": 0,
             "ticks": ""
            },
            "type": "contourcarpet"
           }
          ],
          "heatmap": [
           {
            "colorbar": {
             "outlinewidth": 0,
             "ticks": ""
            },
            "colorscale": [
             [
              0,
              "#0d0887"
             ],
             [
              0.1111111111111111,
              "#46039f"
             ],
             [
              0.2222222222222222,
              "#7201a8"
             ],
             [
              0.3333333333333333,
              "#9c179e"
             ],
             [
              0.4444444444444444,
              "#bd3786"
             ],
             [
              0.5555555555555556,
              "#d8576b"
             ],
             [
              0.6666666666666666,
              "#ed7953"
             ],
             [
              0.7777777777777778,
              "#fb9f3a"
             ],
             [
              0.8888888888888888,
              "#fdca26"
             ],
             [
              1,
              "#f0f921"
             ]
            ],
            "type": "heatmap"
           }
          ],
          "heatmapgl": [
           {
            "colorbar": {
             "outlinewidth": 0,
             "ticks": ""
            },
            "colorscale": [
             [
              0,
              "#0d0887"
             ],
             [
              0.1111111111111111,
              "#46039f"
             ],
             [
              0.2222222222222222,
              "#7201a8"
             ],
             [
              0.3333333333333333,
              "#9c179e"
             ],
             [
              0.4444444444444444,
              "#bd3786"
             ],
             [
              0.5555555555555556,
              "#d8576b"
             ],
             [
              0.6666666666666666,
              "#ed7953"
             ],
             [
              0.7777777777777778,
              "#fb9f3a"
             ],
             [
              0.8888888888888888,
              "#fdca26"
             ],
             [
              1,
              "#f0f921"
             ]
            ],
            "type": "heatmapgl"
           }
          ],
          "histogram": [
           {
            "marker": {
             "pattern": {
              "fillmode": "overlay",
              "size": 10,
              "solidity": 0.2
             }
            },
            "type": "histogram"
           }
          ],
          "histogram2d": [
           {
            "colorbar": {
             "outlinewidth": 0,
             "ticks": ""
            },
            "colorscale": [
             [
              0,
              "#0d0887"
             ],
             [
              0.1111111111111111,
              "#46039f"
             ],
             [
              0.2222222222222222,
              "#7201a8"
             ],
             [
              0.3333333333333333,
              "#9c179e"
             ],
             [
              0.4444444444444444,
              "#bd3786"
             ],
             [
              0.5555555555555556,
              "#d8576b"
             ],
             [
              0.6666666666666666,
              "#ed7953"
             ],
             [
              0.7777777777777778,
              "#fb9f3a"
             ],
             [
              0.8888888888888888,
              "#fdca26"
             ],
             [
              1,
              "#f0f921"
             ]
            ],
            "type": "histogram2d"
           }
          ],
          "histogram2dcontour": [
           {
            "colorbar": {
             "outlinewidth": 0,
             "ticks": ""
            },
            "colorscale": [
             [
              0,
              "#0d0887"
             ],
             [
              0.1111111111111111,
              "#46039f"
             ],
             [
              0.2222222222222222,
              "#7201a8"
             ],
             [
              0.3333333333333333,
              "#9c179e"
             ],
             [
              0.4444444444444444,
              "#bd3786"
             ],
             [
              0.5555555555555556,
              "#d8576b"
             ],
             [
              0.6666666666666666,
              "#ed7953"
             ],
             [
              0.7777777777777778,
              "#fb9f3a"
             ],
             [
              0.8888888888888888,
              "#fdca26"
             ],
             [
              1,
              "#f0f921"
             ]
            ],
            "type": "histogram2dcontour"
           }
          ],
          "mesh3d": [
           {
            "colorbar": {
             "outlinewidth": 0,
             "ticks": ""
            },
            "type": "mesh3d"
           }
          ],
          "parcoords": [
           {
            "line": {
             "colorbar": {
              "outlinewidth": 0,
              "ticks": ""
             }
            },
            "type": "parcoords"
           }
          ],
          "pie": [
           {
            "automargin": true,
            "type": "pie"
           }
          ],
          "scatter": [
           {
            "fillpattern": {
             "fillmode": "overlay",
             "size": 10,
             "solidity": 0.2
            },
            "type": "scatter"
           }
          ],
          "scatter3d": [
           {
            "line": {
             "colorbar": {
              "outlinewidth": 0,
              "ticks": ""
             }
            },
            "marker": {
             "colorbar": {
              "outlinewidth": 0,
              "ticks": ""
             }
            },
            "type": "scatter3d"
           }
          ],
          "scattercarpet": [
           {
            "marker": {
             "colorbar": {
              "outlinewidth": 0,
              "ticks": ""
             }
            },
            "type": "scattercarpet"
           }
          ],
          "scattergeo": [
           {
            "marker": {
             "colorbar": {
              "outlinewidth": 0,
              "ticks": ""
             }
            },
            "type": "scattergeo"
           }
          ],
          "scattergl": [
           {
            "marker": {
             "colorbar": {
              "outlinewidth": 0,
              "ticks": ""
             }
            },
            "type": "scattergl"
           }
          ],
          "scattermapbox": [
           {
            "marker": {
             "colorbar": {
              "outlinewidth": 0,
              "ticks": ""
             }
            },
            "type": "scattermapbox"
           }
          ],
          "scatterpolar": [
           {
            "marker": {
             "colorbar": {
              "outlinewidth": 0,
              "ticks": ""
             }
            },
            "type": "scatterpolar"
           }
          ],
          "scatterpolargl": [
           {
            "marker": {
             "colorbar": {
              "outlinewidth": 0,
              "ticks": ""
             }
            },
            "type": "scatterpolargl"
           }
          ],
          "scatterternary": [
           {
            "marker": {
             "colorbar": {
              "outlinewidth": 0,
              "ticks": ""
             }
            },
            "type": "scatterternary"
           }
          ],
          "surface": [
           {
            "colorbar": {
             "outlinewidth": 0,
             "ticks": ""
            },
            "colorscale": [
             [
              0,
              "#0d0887"
             ],
             [
              0.1111111111111111,
              "#46039f"
             ],
             [
              0.2222222222222222,
              "#7201a8"
             ],
             [
              0.3333333333333333,
              "#9c179e"
             ],
             [
              0.4444444444444444,
              "#bd3786"
             ],
             [
              0.5555555555555556,
              "#d8576b"
             ],
             [
              0.6666666666666666,
              "#ed7953"
             ],
             [
              0.7777777777777778,
              "#fb9f3a"
             ],
             [
              0.8888888888888888,
              "#fdca26"
             ],
             [
              1,
              "#f0f921"
             ]
            ],
            "type": "surface"
           }
          ],
          "table": [
           {
            "cells": {
             "fill": {
              "color": "#EBF0F8"
             },
             "line": {
              "color": "white"
             }
            },
            "header": {
             "fill": {
              "color": "#C8D4E3"
             },
             "line": {
              "color": "white"
             }
            },
            "type": "table"
           }
          ]
         },
         "layout": {
          "annotationdefaults": {
           "arrowcolor": "#2a3f5f",
           "arrowhead": 0,
           "arrowwidth": 1
          },
          "autotypenumbers": "strict",
          "coloraxis": {
           "colorbar": {
            "outlinewidth": 0,
            "ticks": ""
           }
          },
          "colorscale": {
           "diverging": [
            [
             0,
             "#8e0152"
            ],
            [
             0.1,
             "#c51b7d"
            ],
            [
             0.2,
             "#de77ae"
            ],
            [
             0.3,
             "#f1b6da"
            ],
            [
             0.4,
             "#fde0ef"
            ],
            [
             0.5,
             "#f7f7f7"
            ],
            [
             0.6,
             "#e6f5d0"
            ],
            [
             0.7,
             "#b8e186"
            ],
            [
             0.8,
             "#7fbc41"
            ],
            [
             0.9,
             "#4d9221"
            ],
            [
             1,
             "#276419"
            ]
           ],
           "sequential": [
            [
             0,
             "#0d0887"
            ],
            [
             0.1111111111111111,
             "#46039f"
            ],
            [
             0.2222222222222222,
             "#7201a8"
            ],
            [
             0.3333333333333333,
             "#9c179e"
            ],
            [
             0.4444444444444444,
             "#bd3786"
            ],
            [
             0.5555555555555556,
             "#d8576b"
            ],
            [
             0.6666666666666666,
             "#ed7953"
            ],
            [
             0.7777777777777778,
             "#fb9f3a"
            ],
            [
             0.8888888888888888,
             "#fdca26"
            ],
            [
             1,
             "#f0f921"
            ]
           ],
           "sequentialminus": [
            [
             0,
             "#0d0887"
            ],
            [
             0.1111111111111111,
             "#46039f"
            ],
            [
             0.2222222222222222,
             "#7201a8"
            ],
            [
             0.3333333333333333,
             "#9c179e"
            ],
            [
             0.4444444444444444,
             "#bd3786"
            ],
            [
             0.5555555555555556,
             "#d8576b"
            ],
            [
             0.6666666666666666,
             "#ed7953"
            ],
            [
             0.7777777777777778,
             "#fb9f3a"
            ],
            [
             0.8888888888888888,
             "#fdca26"
            ],
            [
             1,
             "#f0f921"
            ]
           ]
          },
          "colorway": [
           "#636efa",
           "#EF553B",
           "#00cc96",
           "#ab63fa",
           "#FFA15A",
           "#19d3f3",
           "#FF6692",
           "#B6E880",
           "#FF97FF",
           "#FECB52"
          ],
          "font": {
           "color": "#2a3f5f"
          },
          "geo": {
           "bgcolor": "white",
           "lakecolor": "white",
           "landcolor": "white",
           "showlakes": true,
           "showland": true,
           "subunitcolor": "#C8D4E3"
          },
          "hoverlabel": {
           "align": "left"
          },
          "hovermode": "closest",
          "mapbox": {
           "style": "light"
          },
          "paper_bgcolor": "white",
          "plot_bgcolor": "white",
          "polar": {
           "angularaxis": {
            "gridcolor": "#EBF0F8",
            "linecolor": "#EBF0F8",
            "ticks": ""
           },
           "bgcolor": "white",
           "radialaxis": {
            "gridcolor": "#EBF0F8",
            "linecolor": "#EBF0F8",
            "ticks": ""
           }
          },
          "scene": {
           "xaxis": {
            "backgroundcolor": "white",
            "gridcolor": "#DFE8F3",
            "gridwidth": 2,
            "linecolor": "#EBF0F8",
            "showbackground": true,
            "ticks": "",
            "zerolinecolor": "#EBF0F8"
           },
           "yaxis": {
            "backgroundcolor": "white",
            "gridcolor": "#DFE8F3",
            "gridwidth": 2,
            "linecolor": "#EBF0F8",
            "showbackground": true,
            "ticks": "",
            "zerolinecolor": "#EBF0F8"
           },
           "zaxis": {
            "backgroundcolor": "white",
            "gridcolor": "#DFE8F3",
            "gridwidth": 2,
            "linecolor": "#EBF0F8",
            "showbackground": true,
            "ticks": "",
            "zerolinecolor": "#EBF0F8"
           }
          },
          "shapedefaults": {
           "line": {
            "color": "#2a3f5f"
           }
          },
          "ternary": {
           "aaxis": {
            "gridcolor": "#DFE8F3",
            "linecolor": "#A2B1C6",
            "ticks": ""
           },
           "baxis": {
            "gridcolor": "#DFE8F3",
            "linecolor": "#A2B1C6",
            "ticks": ""
           },
           "bgcolor": "white",
           "caxis": {
            "gridcolor": "#DFE8F3",
            "linecolor": "#A2B1C6",
            "ticks": ""
           }
          },
          "title": {
           "x": 0.05
          },
          "xaxis": {
           "automargin": true,
           "gridcolor": "#EBF0F8",
           "linecolor": "#EBF0F8",
           "ticks": "",
           "title": {
            "standoff": 15
           },
           "zerolinecolor": "#EBF0F8",
           "zerolinewidth": 2
          },
          "yaxis": {
           "automargin": true,
           "gridcolor": "#EBF0F8",
           "linecolor": "#EBF0F8",
           "ticks": "",
           "title": {
            "standoff": 15
           },
           "zerolinecolor": "#EBF0F8",
           "zerolinewidth": 2
          }
         }
        },
        "title": {
         "text": "Distance of the path found according to the algorithm"
        },
        "xaxis": {
         "anchor": "y",
         "categoryarray": [
          "2-opt inversion",
          "Nearest neighbor search",
          "Genetic algorithm",
          "Kohonen algorithm",
          "plus_proche_voisin",
          "2-opt",
          "genetique",
          "kohonen"
         ],
         "categoryorder": "array",
         "domain": [
          0,
          1
         ],
         "title": {
          "text": "Algorithm"
         }
        },
        "yaxis": {
         "anchor": "x",
         "domain": [
          0,
          1
         ],
         "title": {
          "text": "Distance"
         }
        }
       }
      }
     },
     "metadata": {},
     "output_type": "display_data"
    },
    {
     "name": "stdout",
     "output_type": "stream",
     "text": [
      "La figure est accessible ici : '/resultats/figures/fig_distances.png'\n"
     ]
    },
    {
     "data": {
      "application/vnd.plotly.v1+json": {
       "config": {
        "plotlyServerURL": "https://plot.ly"
       },
       "data": [
        {
         "hovertemplate": "Algorithm=Nearest neighbor search<br>Number of cities=%{x}<br>Calculation time (in s)=%{y}<extra></extra>",
         "legendgroup": "Nearest neighbor search",
         "line": {
          "color": "#636efa",
          "dash": "solid"
         },
         "marker": {
          "symbol": "circle"
         },
         "mode": "markers+lines",
         "name": "Nearest neighbor search",
         "orientation": "v",
         "showlegend": true,
         "type": "scatter",
         "x": [
          38,
          131,
          194,
          237,
          343,
          379,
          395,
          411,
          423
         ],
         "xaxis": "x",
         "y": [
          0.00083589553833,
          0.0046327114105224,
          0.0083968639373779,
          0.0118207931518554,
          0.0230240821838378,
          0.0291969776153564,
          0.0302772521972656,
          0.0337312221527099,
          0.0339269638061523
         ],
         "yaxis": "y"
        },
        {
         "hovertemplate": "Algorithm=2-opt inversion<br>Number of cities=%{x}<br>Calculation time (in s)=%{y}<extra></extra>",
         "legendgroup": "2-opt inversion",
         "line": {
          "color": "#EF553B",
          "dash": "solid"
         },
         "marker": {
          "symbol": "circle"
         },
         "mode": "markers+lines",
         "name": "2-opt inversion",
         "orientation": "v",
         "showlegend": true,
         "type": "scatter",
         "x": [
          38,
          131,
          194,
          237,
          343,
          379,
          395,
          411,
          423
         ],
         "xaxis": "x",
         "y": [
          0.0035221576690673,
          0.0311763286590576,
          0.1143958568572998,
          0.2420060634613037,
          0.5878808498382568,
          0.3593301773071289,
          0.4915478229522705,
          0.7334868907928467,
          0.7837159633636475
         ],
         "yaxis": "y"
        },
        {
         "hovertemplate": "Algorithm=Genetic algorithm<br>Number of cities=%{x}<br>Calculation time (in s)=%{y}<extra></extra>",
         "legendgroup": "Genetic algorithm",
         "line": {
          "color": "#00cc96",
          "dash": "solid"
         },
         "marker": {
          "symbol": "circle"
         },
         "mode": "markers+lines",
         "name": "Genetic algorithm",
         "orientation": "v",
         "showlegend": true,
         "type": "scatter",
         "x": [
          38,
          131,
          194,
          237,
          343,
          379,
          395,
          411,
          423
         ],
         "xaxis": "x",
         "y": [
          1.2098257541656494,
          2.2601420879364014,
          2.986104726791382,
          3.3940579891204834,
          4.671005964279175,
          5.004220962524414,
          5.140503644943237,
          5.347303867340088,
          5.499825239181519
         ],
         "yaxis": "y"
        },
        {
         "hovertemplate": "Algorithm=Kohonen algorithm<br>Number of cities=%{x}<br>Calculation time (in s)=%{y}<extra></extra>",
         "legendgroup": "Kohonen algorithm",
         "line": {
          "color": "#ab63fa",
          "dash": "solid"
         },
         "marker": {
          "symbol": "circle"
         },
         "mode": "markers+lines",
         "name": "Kohonen algorithm",
         "orientation": "v",
         "showlegend": true,
         "type": "scatter",
         "x": [
          38,
          131,
          194,
          237,
          343,
          379,
          395,
          411,
          423
         ],
         "xaxis": "x",
         "y": [
          47.78998303413391,
          51.51049876213074,
          56.18972516059876,
          58.654369831085205,
          63.23631310462952,
          65.04929709434509,
          65.93774795532227,
          68.69927382469177,
          69.26876902580261
         ],
         "yaxis": "y"
        }
       ],
       "layout": {
        "legend": {
         "title": {
          "text": "Algorithm"
         },
         "tracegroupgap": 0
        },
        "template": {
         "data": {
          "bar": [
           {
            "error_x": {
             "color": "#2a3f5f"
            },
            "error_y": {
             "color": "#2a3f5f"
            },
            "marker": {
             "line": {
              "color": "white",
              "width": 0.5
             },
             "pattern": {
              "fillmode": "overlay",
              "size": 10,
              "solidity": 0.2
             }
            },
            "type": "bar"
           }
          ],
          "barpolar": [
           {
            "marker": {
             "line": {
              "color": "white",
              "width": 0.5
             },
             "pattern": {
              "fillmode": "overlay",
              "size": 10,
              "solidity": 0.2
             }
            },
            "type": "barpolar"
           }
          ],
          "carpet": [
           {
            "aaxis": {
             "endlinecolor": "#2a3f5f",
             "gridcolor": "#C8D4E3",
             "linecolor": "#C8D4E3",
             "minorgridcolor": "#C8D4E3",
             "startlinecolor": "#2a3f5f"
            },
            "baxis": {
             "endlinecolor": "#2a3f5f",
             "gridcolor": "#C8D4E3",
             "linecolor": "#C8D4E3",
             "minorgridcolor": "#C8D4E3",
             "startlinecolor": "#2a3f5f"
            },
            "type": "carpet"
           }
          ],
          "choropleth": [
           {
            "colorbar": {
             "outlinewidth": 0,
             "ticks": ""
            },
            "type": "choropleth"
           }
          ],
          "contour": [
           {
            "colorbar": {
             "outlinewidth": 0,
             "ticks": ""
            },
            "colorscale": [
             [
              0,
              "#0d0887"
             ],
             [
              0.1111111111111111,
              "#46039f"
             ],
             [
              0.2222222222222222,
              "#7201a8"
             ],
             [
              0.3333333333333333,
              "#9c179e"
             ],
             [
              0.4444444444444444,
              "#bd3786"
             ],
             [
              0.5555555555555556,
              "#d8576b"
             ],
             [
              0.6666666666666666,
              "#ed7953"
             ],
             [
              0.7777777777777778,
              "#fb9f3a"
             ],
             [
              0.8888888888888888,
              "#fdca26"
             ],
             [
              1,
              "#f0f921"
             ]
            ],
            "type": "contour"
           }
          ],
          "contourcarpet": [
           {
            "colorbar": {
             "outlinewidth": 0,
             "ticks": ""
            },
            "type": "contourcarpet"
           }
          ],
          "heatmap": [
           {
            "colorbar": {
             "outlinewidth": 0,
             "ticks": ""
            },
            "colorscale": [
             [
              0,
              "#0d0887"
             ],
             [
              0.1111111111111111,
              "#46039f"
             ],
             [
              0.2222222222222222,
              "#7201a8"
             ],
             [
              0.3333333333333333,
              "#9c179e"
             ],
             [
              0.4444444444444444,
              "#bd3786"
             ],
             [
              0.5555555555555556,
              "#d8576b"
             ],
             [
              0.6666666666666666,
              "#ed7953"
             ],
             [
              0.7777777777777778,
              "#fb9f3a"
             ],
             [
              0.8888888888888888,
              "#fdca26"
             ],
             [
              1,
              "#f0f921"
             ]
            ],
            "type": "heatmap"
           }
          ],
          "heatmapgl": [
           {
            "colorbar": {
             "outlinewidth": 0,
             "ticks": ""
            },
            "colorscale": [
             [
              0,
              "#0d0887"
             ],
             [
              0.1111111111111111,
              "#46039f"
             ],
             [
              0.2222222222222222,
              "#7201a8"
             ],
             [
              0.3333333333333333,
              "#9c179e"
             ],
             [
              0.4444444444444444,
              "#bd3786"
             ],
             [
              0.5555555555555556,
              "#d8576b"
             ],
             [
              0.6666666666666666,
              "#ed7953"
             ],
             [
              0.7777777777777778,
              "#fb9f3a"
             ],
             [
              0.8888888888888888,
              "#fdca26"
             ],
             [
              1,
              "#f0f921"
             ]
            ],
            "type": "heatmapgl"
           }
          ],
          "histogram": [
           {
            "marker": {
             "pattern": {
              "fillmode": "overlay",
              "size": 10,
              "solidity": 0.2
             }
            },
            "type": "histogram"
           }
          ],
          "histogram2d": [
           {
            "colorbar": {
             "outlinewidth": 0,
             "ticks": ""
            },
            "colorscale": [
             [
              0,
              "#0d0887"
             ],
             [
              0.1111111111111111,
              "#46039f"
             ],
             [
              0.2222222222222222,
              "#7201a8"
             ],
             [
              0.3333333333333333,
              "#9c179e"
             ],
             [
              0.4444444444444444,
              "#bd3786"
             ],
             [
              0.5555555555555556,
              "#d8576b"
             ],
             [
              0.6666666666666666,
              "#ed7953"
             ],
             [
              0.7777777777777778,
              "#fb9f3a"
             ],
             [
              0.8888888888888888,
              "#fdca26"
             ],
             [
              1,
              "#f0f921"
             ]
            ],
            "type": "histogram2d"
           }
          ],
          "histogram2dcontour": [
           {
            "colorbar": {
             "outlinewidth": 0,
             "ticks": ""
            },
            "colorscale": [
             [
              0,
              "#0d0887"
             ],
             [
              0.1111111111111111,
              "#46039f"
             ],
             [
              0.2222222222222222,
              "#7201a8"
             ],
             [
              0.3333333333333333,
              "#9c179e"
             ],
             [
              0.4444444444444444,
              "#bd3786"
             ],
             [
              0.5555555555555556,
              "#d8576b"
             ],
             [
              0.6666666666666666,
              "#ed7953"
             ],
             [
              0.7777777777777778,
              "#fb9f3a"
             ],
             [
              0.8888888888888888,
              "#fdca26"
             ],
             [
              1,
              "#f0f921"
             ]
            ],
            "type": "histogram2dcontour"
           }
          ],
          "mesh3d": [
           {
            "colorbar": {
             "outlinewidth": 0,
             "ticks": ""
            },
            "type": "mesh3d"
           }
          ],
          "parcoords": [
           {
            "line": {
             "colorbar": {
              "outlinewidth": 0,
              "ticks": ""
             }
            },
            "type": "parcoords"
           }
          ],
          "pie": [
           {
            "automargin": true,
            "type": "pie"
           }
          ],
          "scatter": [
           {
            "fillpattern": {
             "fillmode": "overlay",
             "size": 10,
             "solidity": 0.2
            },
            "type": "scatter"
           }
          ],
          "scatter3d": [
           {
            "line": {
             "colorbar": {
              "outlinewidth": 0,
              "ticks": ""
             }
            },
            "marker": {
             "colorbar": {
              "outlinewidth": 0,
              "ticks": ""
             }
            },
            "type": "scatter3d"
           }
          ],
          "scattercarpet": [
           {
            "marker": {
             "colorbar": {
              "outlinewidth": 0,
              "ticks": ""
             }
            },
            "type": "scattercarpet"
           }
          ],
          "scattergeo": [
           {
            "marker": {
             "colorbar": {
              "outlinewidth": 0,
              "ticks": ""
             }
            },
            "type": "scattergeo"
           }
          ],
          "scattergl": [
           {
            "marker": {
             "colorbar": {
              "outlinewidth": 0,
              "ticks": ""
             }
            },
            "type": "scattergl"
           }
          ],
          "scattermapbox": [
           {
            "marker": {
             "colorbar": {
              "outlinewidth": 0,
              "ticks": ""
             }
            },
            "type": "scattermapbox"
           }
          ],
          "scatterpolar": [
           {
            "marker": {
             "colorbar": {
              "outlinewidth": 0,
              "ticks": ""
             }
            },
            "type": "scatterpolar"
           }
          ],
          "scatterpolargl": [
           {
            "marker": {
             "colorbar": {
              "outlinewidth": 0,
              "ticks": ""
             }
            },
            "type": "scatterpolargl"
           }
          ],
          "scatterternary": [
           {
            "marker": {
             "colorbar": {
              "outlinewidth": 0,
              "ticks": ""
             }
            },
            "type": "scatterternary"
           }
          ],
          "surface": [
           {
            "colorbar": {
             "outlinewidth": 0,
             "ticks": ""
            },
            "colorscale": [
             [
              0,
              "#0d0887"
             ],
             [
              0.1111111111111111,
              "#46039f"
             ],
             [
              0.2222222222222222,
              "#7201a8"
             ],
             [
              0.3333333333333333,
              "#9c179e"
             ],
             [
              0.4444444444444444,
              "#bd3786"
             ],
             [
              0.5555555555555556,
              "#d8576b"
             ],
             [
              0.6666666666666666,
              "#ed7953"
             ],
             [
              0.7777777777777778,
              "#fb9f3a"
             ],
             [
              0.8888888888888888,
              "#fdca26"
             ],
             [
              1,
              "#f0f921"
             ]
            ],
            "type": "surface"
           }
          ],
          "table": [
           {
            "cells": {
             "fill": {
              "color": "#EBF0F8"
             },
             "line": {
              "color": "white"
             }
            },
            "header": {
             "fill": {
              "color": "#C8D4E3"
             },
             "line": {
              "color": "white"
             }
            },
            "type": "table"
           }
          ]
         },
         "layout": {
          "annotationdefaults": {
           "arrowcolor": "#2a3f5f",
           "arrowhead": 0,
           "arrowwidth": 1
          },
          "autotypenumbers": "strict",
          "coloraxis": {
           "colorbar": {
            "outlinewidth": 0,
            "ticks": ""
           }
          },
          "colorscale": {
           "diverging": [
            [
             0,
             "#8e0152"
            ],
            [
             0.1,
             "#c51b7d"
            ],
            [
             0.2,
             "#de77ae"
            ],
            [
             0.3,
             "#f1b6da"
            ],
            [
             0.4,
             "#fde0ef"
            ],
            [
             0.5,
             "#f7f7f7"
            ],
            [
             0.6,
             "#e6f5d0"
            ],
            [
             0.7,
             "#b8e186"
            ],
            [
             0.8,
             "#7fbc41"
            ],
            [
             0.9,
             "#4d9221"
            ],
            [
             1,
             "#276419"
            ]
           ],
           "sequential": [
            [
             0,
             "#0d0887"
            ],
            [
             0.1111111111111111,
             "#46039f"
            ],
            [
             0.2222222222222222,
             "#7201a8"
            ],
            [
             0.3333333333333333,
             "#9c179e"
            ],
            [
             0.4444444444444444,
             "#bd3786"
            ],
            [
             0.5555555555555556,
             "#d8576b"
            ],
            [
             0.6666666666666666,
             "#ed7953"
            ],
            [
             0.7777777777777778,
             "#fb9f3a"
            ],
            [
             0.8888888888888888,
             "#fdca26"
            ],
            [
             1,
             "#f0f921"
            ]
           ],
           "sequentialminus": [
            [
             0,
             "#0d0887"
            ],
            [
             0.1111111111111111,
             "#46039f"
            ],
            [
             0.2222222222222222,
             "#7201a8"
            ],
            [
             0.3333333333333333,
             "#9c179e"
            ],
            [
             0.4444444444444444,
             "#bd3786"
            ],
            [
             0.5555555555555556,
             "#d8576b"
            ],
            [
             0.6666666666666666,
             "#ed7953"
            ],
            [
             0.7777777777777778,
             "#fb9f3a"
            ],
            [
             0.8888888888888888,
             "#fdca26"
            ],
            [
             1,
             "#f0f921"
            ]
           ]
          },
          "colorway": [
           "#636efa",
           "#EF553B",
           "#00cc96",
           "#ab63fa",
           "#FFA15A",
           "#19d3f3",
           "#FF6692",
           "#B6E880",
           "#FF97FF",
           "#FECB52"
          ],
          "font": {
           "color": "#2a3f5f"
          },
          "geo": {
           "bgcolor": "white",
           "lakecolor": "white",
           "landcolor": "white",
           "showlakes": true,
           "showland": true,
           "subunitcolor": "#C8D4E3"
          },
          "hoverlabel": {
           "align": "left"
          },
          "hovermode": "closest",
          "mapbox": {
           "style": "light"
          },
          "paper_bgcolor": "white",
          "plot_bgcolor": "white",
          "polar": {
           "angularaxis": {
            "gridcolor": "#EBF0F8",
            "linecolor": "#EBF0F8",
            "ticks": ""
           },
           "bgcolor": "white",
           "radialaxis": {
            "gridcolor": "#EBF0F8",
            "linecolor": "#EBF0F8",
            "ticks": ""
           }
          },
          "scene": {
           "xaxis": {
            "backgroundcolor": "white",
            "gridcolor": "#DFE8F3",
            "gridwidth": 2,
            "linecolor": "#EBF0F8",
            "showbackground": true,
            "ticks": "",
            "zerolinecolor": "#EBF0F8"
           },
           "yaxis": {
            "backgroundcolor": "white",
            "gridcolor": "#DFE8F3",
            "gridwidth": 2,
            "linecolor": "#EBF0F8",
            "showbackground": true,
            "ticks": "",
            "zerolinecolor": "#EBF0F8"
           },
           "zaxis": {
            "backgroundcolor": "white",
            "gridcolor": "#DFE8F3",
            "gridwidth": 2,
            "linecolor": "#EBF0F8",
            "showbackground": true,
            "ticks": "",
            "zerolinecolor": "#EBF0F8"
           }
          },
          "shapedefaults": {
           "line": {
            "color": "#2a3f5f"
           }
          },
          "ternary": {
           "aaxis": {
            "gridcolor": "#DFE8F3",
            "linecolor": "#A2B1C6",
            "ticks": ""
           },
           "baxis": {
            "gridcolor": "#DFE8F3",
            "linecolor": "#A2B1C6",
            "ticks": ""
           },
           "bgcolor": "white",
           "caxis": {
            "gridcolor": "#DFE8F3",
            "linecolor": "#A2B1C6",
            "ticks": ""
           }
          },
          "title": {
           "x": 0.05
          },
          "xaxis": {
           "automargin": true,
           "gridcolor": "#EBF0F8",
           "linecolor": "#EBF0F8",
           "ticks": "",
           "title": {
            "standoff": 15
           },
           "zerolinecolor": "#EBF0F8",
           "zerolinewidth": 2
          },
          "yaxis": {
           "automargin": true,
           "gridcolor": "#EBF0F8",
           "linecolor": "#EBF0F8",
           "ticks": "",
           "title": {
            "standoff": 15
           },
           "zerolinecolor": "#EBF0F8",
           "zerolinewidth": 2
          }
         }
        },
        "title": {
         "text": "Representation of the calculation time according to the number of cities to explore"
        },
        "xaxis": {
         "anchor": "y",
         "domain": [
          0,
          1
         ],
         "title": {
          "text": "Number of cities"
         }
        },
        "yaxis": {
         "anchor": "x",
         "domain": [
          0,
          1
         ],
         "title": {
          "text": "Calculation time (in s)"
         },
         "type": "log"
        }
       }
      }
     },
     "metadata": {},
     "output_type": "display_data"
    },
    {
     "name": "stdout",
     "output_type": "stream",
     "text": [
      "La figure est accessible ici : '/resultats/figures/fig_temps_calcul.png'\n"
     ]
    }
   ],
   "source": [
    "fig_analyse_distance = representation_resultats(\n",
    "    'resultats/csv/test_global_algos.csv')\n",
    "fig_analyse_distance.show()\n",
    "print(f\"La figure est accessible ici : '/resultats/figures/fig_distances.png'\")\n",
    "\n",
    "fig_analyse_temps_cacul = representation_temps_calcul(\n",
    "    'resultats/csv/test_global_algos.csv')\n",
    "fig_analyse_temps_cacul.show()\n",
    "print(f\"La figure est accessible ici : '/resultats/figures/fig_temps_calcul.png'\")"
   ]
  },
  {
   "attachments": {},
   "cell_type": "markdown",
   "metadata": {},
   "source": [
    "### Création d'un gif des chemins explorés"
   ]
  },
  {
   "attachments": {},
   "cell_type": "markdown",
   "metadata": {},
   "source": [
    "#### Initialisation du dataset et de l'algorithme de test\n"
   ]
  },
  {
   "cell_type": "code",
   "execution_count": 26,
   "metadata": {},
   "outputs": [
    {
     "name": "stdout",
     "output_type": "stream",
     "text": [
      "Les tests vont se réaliser sur le fichier 'pbn423' en utilisant l'algorithme '2-opt'\n"
     ]
    }
   ],
   "source": [
    "# Nom des dataset de test\n",
    "ENSEMBLE_TEST = ['dj38', 'xqf131', 'qa194', 'xqg237',\n",
    "                 'pma343', 'pka379', 'pbl395', 'pbk411', 'pbn423']\n",
    "# Nom des algorithmes dont on peut explorer la méthode d'exploration\n",
    "ENSEMBLE_ALGOS = ['2-opt', 'plus_proche_voisin']\n",
    "\n",
    "choix_data_test = random.randint(0, len(ENSEMBLE_TEST)-1)\n",
    "choix_algo_test = random.randint(0, len(ENSEMBLE_ALGOS)-1)\n",
    "print(\n",
    "    f\"Les tests vont se réaliser sur le fichier '{ENSEMBLE_TEST[choix_data_test]}' en utilisant l'algorithme '{ENSEMBLE_ALGOS[choix_algo_test]}'\")"
   ]
  },
  {
   "attachments": {},
   "cell_type": "markdown",
   "metadata": {},
   "source": [
    "#### Création des images indépendantes et fusion dans un fichier .gif\n"
   ]
  },
  {
   "cell_type": "code",
   "execution_count": 27,
   "metadata": {},
   "outputs": [
    {
     "name": "stdout",
     "output_type": "stream",
     "text": [
      "Vous venez de créer le fichier '2-opt_pbn423.gif' dans le dossier gif à la racine du projet\n"
     ]
    }
   ],
   "source": [
    "# Il n'y a pas de stratégie d'exploration pour l'algorithme génétique donc pas de gif possible et le gif pour\n",
    "# l'algorithme de kohonen est différent\n",
    "assert ENSEMBLE_ALGOS[choix_algo_test] not in ['genetique', 'kohonen'] and ENSEMBLE_TEST[choix_data_test] != '', \\\n",
    "    print(\"Pas d'affichage possible pour cet algorithme\")\n",
    "\n",
    "# Génération du dataframe de résultat\n",
    "df, exploration = test_unitaire(\n",
    "    choix_data_test, ENSEMBLE_ALGOS[choix_algo_test])\n",
    "# Création des images représentantes chacunes un chemin exploré\n",
    "affichage_chemins_explores(\n",
    "    exploration, ENSEMBLE_ALGOS[choix_algo_test], ENSEMBLE_TEST[choix_data_test])  # type:ignore\n",
    "\n",
    "# Création du .gif\n",
    "generation_gif(ENSEMBLE_ALGOS[choix_algo_test], ENSEMBLE_TEST[choix_data_test])"
   ]
  },
  {
   "attachments": {},
   "cell_type": "markdown",
   "metadata": {},
   "source": [
    "![gif](gif/2-opt_pbk411.gif)"
   ]
  },
  {
   "attachments": {},
   "cell_type": "markdown",
   "metadata": {},
   "source": [
    "### Création d'un gif de l'évolution du réseau de neurones"
   ]
  },
  {
   "attachments": {},
   "cell_type": "markdown",
   "metadata": {},
   "source": [
    "#### Initialisation du dataset de test\n"
   ]
  },
  {
   "cell_type": "code",
   "execution_count": 28,
   "metadata": {},
   "outputs": [
    {
     "name": "stdout",
     "output_type": "stream",
     "text": [
      "Les tests vont se réaliser sur le fichier 'xqg237' en utilisant l'algorithme 'kohonen'\n"
     ]
    }
   ],
   "source": [
    "# Nom des dataset de test\n",
    "ENSEMBLE_TEST = ['dj38', 'xqf131', 'qa194', 'xqg237',\n",
    "                 'pma343', 'pka379', 'pbl395', 'pbk411', 'pbn423']\n",
    "\n",
    "choix_data_test = random.randint(0, len(ENSEMBLE_TEST)-1)\n",
    "choix_algo_test = 'kohonen'\n",
    "print(\n",
    "    f\"Les tests vont se réaliser sur le fichier '{ENSEMBLE_TEST[choix_data_test]}' en utilisant l'algorithme '{choix_algo_test}'\")"
   ]
  },
  {
   "attachments": {},
   "cell_type": "markdown",
   "metadata": {},
   "source": [
    "#### Création des images indépendantes et fusion dans un fichier .gif\n"
   ]
  },
  {
   "cell_type": "code",
   "execution_count": 29,
   "metadata": {},
   "outputs": [
    {
     "name": "stdout",
     "output_type": "stream",
     "text": [
      "Vous venez de créer le fichier 'kohonen_xqg237.gif' dans le dossier gif à la racine du projet\n"
     ]
    }
   ],
   "source": [
    "assert choix_algo_test == 'kohonen' and ENSEMBLE_TEST[choix_data_test] != '', \\\n",
    "    print(\"L'évolution du réseau de neuronnes est spécifique à kohonen\")\n",
    "\n",
    "# Génération du dataframe de résultat\n",
    "df, exploration = test_unitaire(\n",
    "    choix_data_test, choix_algo_test)\n",
    "# Création des images représentantes chacunes un état du reseau de neurones\n",
    "affichage_reseau_neurones(\n",
    "    exploration, choix_algo_test, ENSEMBLE_TEST[choix_data_test])  # type:ignore\n",
    "\n",
    "# Création du .gif\n",
    "generation_gif(choix_algo_test, ENSEMBLE_TEST[choix_data_test])"
   ]
  },
  {
   "attachments": {},
   "cell_type": "markdown",
   "metadata": {},
   "source": [
    "![gif](gif/kohonen_pka379.gif)"
   ]
  },
  {
   "attachments": {},
   "cell_type": "markdown",
   "metadata": {},
   "source": [
    "# Réalisation d'un test unitaire (avec visualisation)\n",
    "\n",
    "Cette partie est dédiée à l'observation du chemin trouvé par un algorithme et un dataset tous deux sélectionnés de manière aléatoire. Toutes les figures sont disponibles dans le dossier `/resultats/figures/{nom_algo}/chemin_{nom_dataset}`\n"
   ]
  },
  {
   "attachments": {},
   "cell_type": "markdown",
   "metadata": {},
   "source": [
    "### Initialisation du dataset et de l'algorithme de test\n"
   ]
  },
  {
   "cell_type": "code",
   "execution_count": 34,
   "metadata": {},
   "outputs": [
    {
     "name": "stdout",
     "output_type": "stream",
     "text": [
      "Les tests vont se réaliser sur le fichier 'dj38' en utilisant l'algorithme '2-opt'\n"
     ]
    }
   ],
   "source": [
    "# Nom des dataset de test\n",
    "ENSEMBLE_TEST = ['dj38', 'xqf131', 'qa194', 'xqg237',\n",
    "                 'pma343', 'pka379', 'pbl395', 'pbk411', 'pbn423']\n",
    "# Nom des algorithmes implémentés\n",
    "ENSEMBLE_ALGOS = ['2-opt', 'plus_proche_voisin', 'genetique', 'kohonen']\n",
    "\n",
    "choix_data_test = random.randint(0, len(ENSEMBLE_TEST)-1)\n",
    "choix_algo_test = random.randint(0, len(ENSEMBLE_ALGOS)-1)\n",
    "print(\n",
    "    f\"Les tests vont se réaliser sur le fichier '{ENSEMBLE_TEST[choix_data_test]}' en utilisant l'algorithme '{ENSEMBLE_ALGOS[choix_algo_test]}'\")"
   ]
  },
  {
   "attachments": {},
   "cell_type": "markdown",
   "metadata": {},
   "source": [
    "### Lancement du test unitaire afin d'observer le chemin final trouvé\n"
   ]
  },
  {
   "cell_type": "code",
   "execution_count": 35,
   "metadata": {},
   "outputs": [
    {
     "data": {
      "application/vnd.plotly.v1+json": {
       "config": {
        "plotlyServerURL": "https://plot.ly"
       },
       "data": [
        {
         "hovertemplate": "x=%{x}<br>y=%{y}<extra></extra>",
         "legendgroup": "",
         "marker": {
          "color": "#1F77B4",
          "symbol": "circle"
         },
         "mode": "markers",
         "name": "",
         "orientation": "v",
         "showlegend": false,
         "type": "scatter",
         "x": [
          11003.6111,
          11108.6111,
          11133.3333,
          11155.8333,
          11183.3333,
          11297.5,
          11310.2778,
          11416.6667,
          11423.8889,
          11438.3333,
          11461.1111,
          11485.5556,
          11503.0556,
          11511.3889,
          11522.2222,
          11569.4444,
          11583.3333,
          11595,
          11600,
          11690.5556,
          11715.8333,
          11751.1111,
          11770.2778,
          11785.2778,
          11822.7778,
          11846.9444,
          11963.0556,
          11973.0556,
          12058.3333,
          12149.4444,
          12286.9444,
          12300,
          12355.8333,
          12363.3333,
          12372.7778,
          12386.6667,
          12421.6667,
          12645
         ],
         "xaxis": "x",
         "y": [
          42102.5,
          42373.8889,
          42885.8333,
          42712.5,
          42933.3333,
          42853.3333,
          42929.4444,
          42983.3333,
          43000.2778,
          42057.2222,
          43252.7778,
          43187.2222,
          42855.2778,
          42106.3889,
          42841.9444,
          43136.6667,
          43150,
          43148.0556,
          43150,
          42686.6667,
          41836.1111,
          42814.4444,
          42651.9444,
          42884.4444,
          42673.6111,
          42660.5556,
          43290.5556,
          43026.1111,
          42195.5556,
          42477.5,
          43355.5556,
          42433.3333,
          43156.3889,
          43189.1667,
          42711.3889,
          43334.7222,
          42895.5556,
          42973.3333
         ],
         "yaxis": "y"
        },
        {
         "mode": "lines",
         "showlegend": false,
         "type": "scatter",
         "x": [
          11003.6111,
          11438.3333,
          11511.3889,
          11715.8333,
          12058.3333,
          12300,
          12372.7778,
          12421.6667,
          12645,
          12355.8333,
          12363.3333,
          12386.6667,
          12286.9444,
          11963.0556,
          11973.0556,
          12149.4444,
          11846.9444,
          11822.7778,
          11770.2778,
          11690.5556,
          11751.1111,
          11785.2778,
          11522.2222,
          11503.0556,
          11600,
          11595,
          11583.3333,
          11569.4444,
          11485.5556,
          11461.1111,
          11423.8889,
          11416.6667,
          11310.2778,
          11297.5,
          11183.3333,
          11133.3333,
          11155.8333,
          11108.6111,
          11003.6111
         ],
         "y": [
          42102.5,
          42057.2222,
          42106.3889,
          41836.1111,
          42195.5556,
          42433.3333,
          42711.3889,
          42895.5556,
          42973.3333,
          43156.3889,
          43189.1667,
          43334.7222,
          43355.5556,
          43290.5556,
          43026.1111,
          42477.5,
          42660.5556,
          42673.6111,
          42651.9444,
          42686.6667,
          42814.4444,
          42884.4444,
          42841.9444,
          42855.2778,
          43150,
          43148.0556,
          43150,
          43136.6667,
          43187.2222,
          43252.7778,
          43000.2778,
          42983.3333,
          42929.4444,
          42853.3333,
          42933.3333,
          42885.8333,
          42712.5,
          42373.8889,
          42102.5
         ]
        }
       ],
       "layout": {
        "legend": {
         "tracegroupgap": 0
        },
        "template": {
         "data": {
          "bar": [
           {
            "error_x": {
             "color": "rgb(36,36,36)"
            },
            "error_y": {
             "color": "rgb(36,36,36)"
            },
            "marker": {
             "line": {
              "color": "white",
              "width": 0.5
             },
             "pattern": {
              "fillmode": "overlay",
              "size": 10,
              "solidity": 0.2
             }
            },
            "type": "bar"
           }
          ],
          "barpolar": [
           {
            "marker": {
             "line": {
              "color": "white",
              "width": 0.5
             },
             "pattern": {
              "fillmode": "overlay",
              "size": 10,
              "solidity": 0.2
             }
            },
            "type": "barpolar"
           }
          ],
          "carpet": [
           {
            "aaxis": {
             "endlinecolor": "rgb(36,36,36)",
             "gridcolor": "white",
             "linecolor": "white",
             "minorgridcolor": "white",
             "startlinecolor": "rgb(36,36,36)"
            },
            "baxis": {
             "endlinecolor": "rgb(36,36,36)",
             "gridcolor": "white",
             "linecolor": "white",
             "minorgridcolor": "white",
             "startlinecolor": "rgb(36,36,36)"
            },
            "type": "carpet"
           }
          ],
          "choropleth": [
           {
            "colorbar": {
             "outlinewidth": 1,
             "tickcolor": "rgb(36,36,36)",
             "ticks": "outside"
            },
            "type": "choropleth"
           }
          ],
          "contour": [
           {
            "colorbar": {
             "outlinewidth": 1,
             "tickcolor": "rgb(36,36,36)",
             "ticks": "outside"
            },
            "colorscale": [
             [
              0,
              "#440154"
             ],
             [
              0.1111111111111111,
              "#482878"
             ],
             [
              0.2222222222222222,
              "#3e4989"
             ],
             [
              0.3333333333333333,
              "#31688e"
             ],
             [
              0.4444444444444444,
              "#26828e"
             ],
             [
              0.5555555555555556,
              "#1f9e89"
             ],
             [
              0.6666666666666666,
              "#35b779"
             ],
             [
              0.7777777777777778,
              "#6ece58"
             ],
             [
              0.8888888888888888,
              "#b5de2b"
             ],
             [
              1,
              "#fde725"
             ]
            ],
            "type": "contour"
           }
          ],
          "contourcarpet": [
           {
            "colorbar": {
             "outlinewidth": 1,
             "tickcolor": "rgb(36,36,36)",
             "ticks": "outside"
            },
            "type": "contourcarpet"
           }
          ],
          "heatmap": [
           {
            "colorbar": {
             "outlinewidth": 1,
             "tickcolor": "rgb(36,36,36)",
             "ticks": "outside"
            },
            "colorscale": [
             [
              0,
              "#440154"
             ],
             [
              0.1111111111111111,
              "#482878"
             ],
             [
              0.2222222222222222,
              "#3e4989"
             ],
             [
              0.3333333333333333,
              "#31688e"
             ],
             [
              0.4444444444444444,
              "#26828e"
             ],
             [
              0.5555555555555556,
              "#1f9e89"
             ],
             [
              0.6666666666666666,
              "#35b779"
             ],
             [
              0.7777777777777778,
              "#6ece58"
             ],
             [
              0.8888888888888888,
              "#b5de2b"
             ],
             [
              1,
              "#fde725"
             ]
            ],
            "type": "heatmap"
           }
          ],
          "heatmapgl": [
           {
            "colorbar": {
             "outlinewidth": 1,
             "tickcolor": "rgb(36,36,36)",
             "ticks": "outside"
            },
            "colorscale": [
             [
              0,
              "#440154"
             ],
             [
              0.1111111111111111,
              "#482878"
             ],
             [
              0.2222222222222222,
              "#3e4989"
             ],
             [
              0.3333333333333333,
              "#31688e"
             ],
             [
              0.4444444444444444,
              "#26828e"
             ],
             [
              0.5555555555555556,
              "#1f9e89"
             ],
             [
              0.6666666666666666,
              "#35b779"
             ],
             [
              0.7777777777777778,
              "#6ece58"
             ],
             [
              0.8888888888888888,
              "#b5de2b"
             ],
             [
              1,
              "#fde725"
             ]
            ],
            "type": "heatmapgl"
           }
          ],
          "histogram": [
           {
            "marker": {
             "line": {
              "color": "white",
              "width": 0.6
             }
            },
            "type": "histogram"
           }
          ],
          "histogram2d": [
           {
            "colorbar": {
             "outlinewidth": 1,
             "tickcolor": "rgb(36,36,36)",
             "ticks": "outside"
            },
            "colorscale": [
             [
              0,
              "#440154"
             ],
             [
              0.1111111111111111,
              "#482878"
             ],
             [
              0.2222222222222222,
              "#3e4989"
             ],
             [
              0.3333333333333333,
              "#31688e"
             ],
             [
              0.4444444444444444,
              "#26828e"
             ],
             [
              0.5555555555555556,
              "#1f9e89"
             ],
             [
              0.6666666666666666,
              "#35b779"
             ],
             [
              0.7777777777777778,
              "#6ece58"
             ],
             [
              0.8888888888888888,
              "#b5de2b"
             ],
             [
              1,
              "#fde725"
             ]
            ],
            "type": "histogram2d"
           }
          ],
          "histogram2dcontour": [
           {
            "colorbar": {
             "outlinewidth": 1,
             "tickcolor": "rgb(36,36,36)",
             "ticks": "outside"
            },
            "colorscale": [
             [
              0,
              "#440154"
             ],
             [
              0.1111111111111111,
              "#482878"
             ],
             [
              0.2222222222222222,
              "#3e4989"
             ],
             [
              0.3333333333333333,
              "#31688e"
             ],
             [
              0.4444444444444444,
              "#26828e"
             ],
             [
              0.5555555555555556,
              "#1f9e89"
             ],
             [
              0.6666666666666666,
              "#35b779"
             ],
             [
              0.7777777777777778,
              "#6ece58"
             ],
             [
              0.8888888888888888,
              "#b5de2b"
             ],
             [
              1,
              "#fde725"
             ]
            ],
            "type": "histogram2dcontour"
           }
          ],
          "mesh3d": [
           {
            "colorbar": {
             "outlinewidth": 1,
             "tickcolor": "rgb(36,36,36)",
             "ticks": "outside"
            },
            "type": "mesh3d"
           }
          ],
          "parcoords": [
           {
            "line": {
             "colorbar": {
              "outlinewidth": 1,
              "tickcolor": "rgb(36,36,36)",
              "ticks": "outside"
             }
            },
            "type": "parcoords"
           }
          ],
          "pie": [
           {
            "automargin": true,
            "type": "pie"
           }
          ],
          "scatter": [
           {
            "fillpattern": {
             "fillmode": "overlay",
             "size": 10,
             "solidity": 0.2
            },
            "type": "scatter"
           }
          ],
          "scatter3d": [
           {
            "line": {
             "colorbar": {
              "outlinewidth": 1,
              "tickcolor": "rgb(36,36,36)",
              "ticks": "outside"
             }
            },
            "marker": {
             "colorbar": {
              "outlinewidth": 1,
              "tickcolor": "rgb(36,36,36)",
              "ticks": "outside"
             }
            },
            "type": "scatter3d"
           }
          ],
          "scattercarpet": [
           {
            "marker": {
             "colorbar": {
              "outlinewidth": 1,
              "tickcolor": "rgb(36,36,36)",
              "ticks": "outside"
             }
            },
            "type": "scattercarpet"
           }
          ],
          "scattergeo": [
           {
            "marker": {
             "colorbar": {
              "outlinewidth": 1,
              "tickcolor": "rgb(36,36,36)",
              "ticks": "outside"
             }
            },
            "type": "scattergeo"
           }
          ],
          "scattergl": [
           {
            "marker": {
             "colorbar": {
              "outlinewidth": 1,
              "tickcolor": "rgb(36,36,36)",
              "ticks": "outside"
             }
            },
            "type": "scattergl"
           }
          ],
          "scattermapbox": [
           {
            "marker": {
             "colorbar": {
              "outlinewidth": 1,
              "tickcolor": "rgb(36,36,36)",
              "ticks": "outside"
             }
            },
            "type": "scattermapbox"
           }
          ],
          "scatterpolar": [
           {
            "marker": {
             "colorbar": {
              "outlinewidth": 1,
              "tickcolor": "rgb(36,36,36)",
              "ticks": "outside"
             }
            },
            "type": "scatterpolar"
           }
          ],
          "scatterpolargl": [
           {
            "marker": {
             "colorbar": {
              "outlinewidth": 1,
              "tickcolor": "rgb(36,36,36)",
              "ticks": "outside"
             }
            },
            "type": "scatterpolargl"
           }
          ],
          "scatterternary": [
           {
            "marker": {
             "colorbar": {
              "outlinewidth": 1,
              "tickcolor": "rgb(36,36,36)",
              "ticks": "outside"
             }
            },
            "type": "scatterternary"
           }
          ],
          "surface": [
           {
            "colorbar": {
             "outlinewidth": 1,
             "tickcolor": "rgb(36,36,36)",
             "ticks": "outside"
            },
            "colorscale": [
             [
              0,
              "#440154"
             ],
             [
              0.1111111111111111,
              "#482878"
             ],
             [
              0.2222222222222222,
              "#3e4989"
             ],
             [
              0.3333333333333333,
              "#31688e"
             ],
             [
              0.4444444444444444,
              "#26828e"
             ],
             [
              0.5555555555555556,
              "#1f9e89"
             ],
             [
              0.6666666666666666,
              "#35b779"
             ],
             [
              0.7777777777777778,
              "#6ece58"
             ],
             [
              0.8888888888888888,
              "#b5de2b"
             ],
             [
              1,
              "#fde725"
             ]
            ],
            "type": "surface"
           }
          ],
          "table": [
           {
            "cells": {
             "fill": {
              "color": "rgb(237,237,237)"
             },
             "line": {
              "color": "white"
             }
            },
            "header": {
             "fill": {
              "color": "rgb(217,217,217)"
             },
             "line": {
              "color": "white"
             }
            },
            "type": "table"
           }
          ]
         },
         "layout": {
          "annotationdefaults": {
           "arrowhead": 0,
           "arrowwidth": 1
          },
          "autotypenumbers": "strict",
          "coloraxis": {
           "colorbar": {
            "outlinewidth": 1,
            "tickcolor": "rgb(36,36,36)",
            "ticks": "outside"
           }
          },
          "colorscale": {
           "diverging": [
            [
             0,
             "rgb(103,0,31)"
            ],
            [
             0.1,
             "rgb(178,24,43)"
            ],
            [
             0.2,
             "rgb(214,96,77)"
            ],
            [
             0.3,
             "rgb(244,165,130)"
            ],
            [
             0.4,
             "rgb(253,219,199)"
            ],
            [
             0.5,
             "rgb(247,247,247)"
            ],
            [
             0.6,
             "rgb(209,229,240)"
            ],
            [
             0.7,
             "rgb(146,197,222)"
            ],
            [
             0.8,
             "rgb(67,147,195)"
            ],
            [
             0.9,
             "rgb(33,102,172)"
            ],
            [
             1,
             "rgb(5,48,97)"
            ]
           ],
           "sequential": [
            [
             0,
             "#440154"
            ],
            [
             0.1111111111111111,
             "#482878"
            ],
            [
             0.2222222222222222,
             "#3e4989"
            ],
            [
             0.3333333333333333,
             "#31688e"
            ],
            [
             0.4444444444444444,
             "#26828e"
            ],
            [
             0.5555555555555556,
             "#1f9e89"
            ],
            [
             0.6666666666666666,
             "#35b779"
            ],
            [
             0.7777777777777778,
             "#6ece58"
            ],
            [
             0.8888888888888888,
             "#b5de2b"
            ],
            [
             1,
             "#fde725"
            ]
           ],
           "sequentialminus": [
            [
             0,
             "#440154"
            ],
            [
             0.1111111111111111,
             "#482878"
            ],
            [
             0.2222222222222222,
             "#3e4989"
            ],
            [
             0.3333333333333333,
             "#31688e"
            ],
            [
             0.4444444444444444,
             "#26828e"
            ],
            [
             0.5555555555555556,
             "#1f9e89"
            ],
            [
             0.6666666666666666,
             "#35b779"
            ],
            [
             0.7777777777777778,
             "#6ece58"
            ],
            [
             0.8888888888888888,
             "#b5de2b"
            ],
            [
             1,
             "#fde725"
            ]
           ]
          },
          "colorway": [
           "#1F77B4",
           "#FF7F0E",
           "#2CA02C",
           "#D62728",
           "#9467BD",
           "#8C564B",
           "#E377C2",
           "#7F7F7F",
           "#BCBD22",
           "#17BECF"
          ],
          "font": {
           "color": "rgb(36,36,36)"
          },
          "geo": {
           "bgcolor": "white",
           "lakecolor": "white",
           "landcolor": "white",
           "showlakes": true,
           "showland": true,
           "subunitcolor": "white"
          },
          "hoverlabel": {
           "align": "left"
          },
          "hovermode": "closest",
          "mapbox": {
           "style": "light"
          },
          "paper_bgcolor": "white",
          "plot_bgcolor": "white",
          "polar": {
           "angularaxis": {
            "gridcolor": "rgb(232,232,232)",
            "linecolor": "rgb(36,36,36)",
            "showgrid": false,
            "showline": true,
            "ticks": "outside"
           },
           "bgcolor": "white",
           "radialaxis": {
            "gridcolor": "rgb(232,232,232)",
            "linecolor": "rgb(36,36,36)",
            "showgrid": false,
            "showline": true,
            "ticks": "outside"
           }
          },
          "scene": {
           "xaxis": {
            "backgroundcolor": "white",
            "gridcolor": "rgb(232,232,232)",
            "gridwidth": 2,
            "linecolor": "rgb(36,36,36)",
            "showbackground": true,
            "showgrid": false,
            "showline": true,
            "ticks": "outside",
            "zeroline": false,
            "zerolinecolor": "rgb(36,36,36)"
           },
           "yaxis": {
            "backgroundcolor": "white",
            "gridcolor": "rgb(232,232,232)",
            "gridwidth": 2,
            "linecolor": "rgb(36,36,36)",
            "showbackground": true,
            "showgrid": false,
            "showline": true,
            "ticks": "outside",
            "zeroline": false,
            "zerolinecolor": "rgb(36,36,36)"
           },
           "zaxis": {
            "backgroundcolor": "white",
            "gridcolor": "rgb(232,232,232)",
            "gridwidth": 2,
            "linecolor": "rgb(36,36,36)",
            "showbackground": true,
            "showgrid": false,
            "showline": true,
            "ticks": "outside",
            "zeroline": false,
            "zerolinecolor": "rgb(36,36,36)"
           }
          },
          "shapedefaults": {
           "fillcolor": "black",
           "line": {
            "width": 0
           },
           "opacity": 0.3
          },
          "ternary": {
           "aaxis": {
            "gridcolor": "rgb(232,232,232)",
            "linecolor": "rgb(36,36,36)",
            "showgrid": false,
            "showline": true,
            "ticks": "outside"
           },
           "baxis": {
            "gridcolor": "rgb(232,232,232)",
            "linecolor": "rgb(36,36,36)",
            "showgrid": false,
            "showline": true,
            "ticks": "outside"
           },
           "bgcolor": "white",
           "caxis": {
            "gridcolor": "rgb(232,232,232)",
            "linecolor": "rgb(36,36,36)",
            "showgrid": false,
            "showline": true,
            "ticks": "outside"
           }
          },
          "title": {
           "x": 0.05
          },
          "xaxis": {
           "automargin": true,
           "gridcolor": "rgb(232,232,232)",
           "linecolor": "rgb(36,36,36)",
           "showgrid": false,
           "showline": true,
           "ticks": "outside",
           "title": {
            "standoff": 15
           },
           "zeroline": false,
           "zerolinecolor": "rgb(36,36,36)"
          },
          "yaxis": {
           "automargin": true,
           "gridcolor": "rgb(232,232,232)",
           "linecolor": "rgb(36,36,36)",
           "showgrid": false,
           "showline": true,
           "ticks": "outside",
           "title": {
            "standoff": 15
           },
           "zeroline": false,
           "zerolinecolor": "rgb(36,36,36)"
          }
         }
        },
        "title": {
         "text": "Shortest path found by the algorithm"
        },
        "xaxis": {
         "anchor": "y",
         "domain": [
          0,
          1
         ],
         "title": {
          "text": "x"
         },
         "visible": false,
         "zeroline": false
        },
        "yaxis": {
         "anchor": "x",
         "domain": [
          0,
          1
         ],
         "title": {
          "text": "y"
         },
         "visible": false,
         "zeroline": false
        }
       }
      }
     },
     "metadata": {},
     "output_type": "display_data"
    },
    {
     "name": "stdout",
     "output_type": "stream",
     "text": [
      "La figure est accessible ici : '/resultats/figures/2-opt/chemin_dj38.png'\n"
     ]
    }
   ],
   "source": [
    "# Chargement des données étudiées\n",
    "data = data_TSPLIB(f'data/{ENSEMBLE_TEST[choix_data_test]}.tsp')\n",
    "\n",
    "# Résolution du TSP\n",
    "df, _ = test_unitaire(choix_data_test, ENSEMBLE_ALGOS[choix_algo_test])\n",
    "\n",
    "# Affichage du chemin final\n",
    "fig_chemin_final = affichage(df, data)\n",
    "fig_chemin_final.show()\n",
    "print(\n",
    "    f\"La figure est accessible ici : '/resultats/figures/{ENSEMBLE_ALGOS[choix_algo_test]}/chemin_{ENSEMBLE_TEST[choix_data_test]}.png'\")"
   ]
  },
  {
   "attachments": {},
   "cell_type": "markdown",
   "metadata": {},
   "source": [
    "# Test sur des données aléatoires (avec visualisation)\n"
   ]
  },
  {
   "attachments": {},
   "cell_type": "markdown",
   "metadata": {},
   "source": [
    "### Initialisation du nombre de villes et de l'algorithme choisi\n"
   ]
  },
  {
   "cell_type": "code",
   "execution_count": 32,
   "metadata": {},
   "outputs": [
    {
     "name": "stdout",
     "output_type": "stream",
     "text": [
      "Nombre de villes : 21\n",
      "Algorithme choisi : Plus proche voisin\n"
     ]
    }
   ],
   "source": [
    "# Initialisation d'un nombre de ville\n",
    "NOMBRE_MAX = 100\n",
    "NOMBRE_MIN = 10\n",
    "nombre_de_villes = random.randint(NOMBRE_MIN, NOMBRE_MAX)\n",
    "print(f\"Nombre de villes : {nombre_de_villes}\")\n",
    "\n",
    "ENSEMBLE_ALGOS = ['2-opt', 'Plus proche voisin', 'Génétique']\n",
    "choix_algo = random.randint(0, len(ENSEMBLE_ALGOS)-1)\n",
    "print(f\"Algorithme choisi : {ENSEMBLE_ALGOS[choix_algo]}\")"
   ]
  },
  {
   "attachments": {},
   "cell_type": "markdown",
   "metadata": {},
   "source": [
    "### Lancement du test et affichage du chemin parcouru\n"
   ]
  },
  {
   "cell_type": "code",
   "execution_count": 33,
   "metadata": {},
   "outputs": [
    {
     "data": {
      "application/vnd.plotly.v1+json": {
       "config": {
        "plotlyServerURL": "https://plot.ly"
       },
       "data": [
        {
         "hovertemplate": "x=%{x}<br>y=%{y}<extra></extra>",
         "legendgroup": "",
         "marker": {
          "color": "#1F77B4",
          "symbol": "circle"
         },
         "mode": "markers",
         "name": "",
         "orientation": "v",
         "showlegend": false,
         "type": "scatter",
         "x": [
          568,
          262,
          37,
          272,
          206,
          661,
          241,
          698,
          912,
          522,
          695,
          70,
          202,
          112,
          881,
          216,
          486,
          240,
          822,
          598,
          837
         ],
         "xaxis": "x",
         "y": [
          192,
          386,
          482,
          371,
          150,
          133,
          406,
          702,
          64,
          512,
          570,
          193,
          250,
          834,
          722,
          357,
          491,
          933,
          96,
          918,
          240
         ],
         "yaxis": "y"
        },
        {
         "mode": "lines",
         "showlegend": false,
         "type": "scatter",
         "x": [
          568,
          661,
          822,
          912,
          837,
          695,
          698,
          881,
          598,
          240,
          112,
          37,
          241,
          262,
          272,
          216,
          202,
          206,
          70,
          486,
          522,
          568
         ],
         "y": [
          192,
          133,
          96,
          64,
          240,
          570,
          702,
          722,
          918,
          933,
          834,
          482,
          406,
          386,
          371,
          357,
          250,
          150,
          193,
          491,
          512,
          192
         ]
        }
       ],
       "layout": {
        "legend": {
         "tracegroupgap": 0
        },
        "template": {
         "data": {
          "bar": [
           {
            "error_x": {
             "color": "rgb(36,36,36)"
            },
            "error_y": {
             "color": "rgb(36,36,36)"
            },
            "marker": {
             "line": {
              "color": "white",
              "width": 0.5
             },
             "pattern": {
              "fillmode": "overlay",
              "size": 10,
              "solidity": 0.2
             }
            },
            "type": "bar"
           }
          ],
          "barpolar": [
           {
            "marker": {
             "line": {
              "color": "white",
              "width": 0.5
             },
             "pattern": {
              "fillmode": "overlay",
              "size": 10,
              "solidity": 0.2
             }
            },
            "type": "barpolar"
           }
          ],
          "carpet": [
           {
            "aaxis": {
             "endlinecolor": "rgb(36,36,36)",
             "gridcolor": "white",
             "linecolor": "white",
             "minorgridcolor": "white",
             "startlinecolor": "rgb(36,36,36)"
            },
            "baxis": {
             "endlinecolor": "rgb(36,36,36)",
             "gridcolor": "white",
             "linecolor": "white",
             "minorgridcolor": "white",
             "startlinecolor": "rgb(36,36,36)"
            },
            "type": "carpet"
           }
          ],
          "choropleth": [
           {
            "colorbar": {
             "outlinewidth": 1,
             "tickcolor": "rgb(36,36,36)",
             "ticks": "outside"
            },
            "type": "choropleth"
           }
          ],
          "contour": [
           {
            "colorbar": {
             "outlinewidth": 1,
             "tickcolor": "rgb(36,36,36)",
             "ticks": "outside"
            },
            "colorscale": [
             [
              0,
              "#440154"
             ],
             [
              0.1111111111111111,
              "#482878"
             ],
             [
              0.2222222222222222,
              "#3e4989"
             ],
             [
              0.3333333333333333,
              "#31688e"
             ],
             [
              0.4444444444444444,
              "#26828e"
             ],
             [
              0.5555555555555556,
              "#1f9e89"
             ],
             [
              0.6666666666666666,
              "#35b779"
             ],
             [
              0.7777777777777778,
              "#6ece58"
             ],
             [
              0.8888888888888888,
              "#b5de2b"
             ],
             [
              1,
              "#fde725"
             ]
            ],
            "type": "contour"
           }
          ],
          "contourcarpet": [
           {
            "colorbar": {
             "outlinewidth": 1,
             "tickcolor": "rgb(36,36,36)",
             "ticks": "outside"
            },
            "type": "contourcarpet"
           }
          ],
          "heatmap": [
           {
            "colorbar": {
             "outlinewidth": 1,
             "tickcolor": "rgb(36,36,36)",
             "ticks": "outside"
            },
            "colorscale": [
             [
              0,
              "#440154"
             ],
             [
              0.1111111111111111,
              "#482878"
             ],
             [
              0.2222222222222222,
              "#3e4989"
             ],
             [
              0.3333333333333333,
              "#31688e"
             ],
             [
              0.4444444444444444,
              "#26828e"
             ],
             [
              0.5555555555555556,
              "#1f9e89"
             ],
             [
              0.6666666666666666,
              "#35b779"
             ],
             [
              0.7777777777777778,
              "#6ece58"
             ],
             [
              0.8888888888888888,
              "#b5de2b"
             ],
             [
              1,
              "#fde725"
             ]
            ],
            "type": "heatmap"
           }
          ],
          "heatmapgl": [
           {
            "colorbar": {
             "outlinewidth": 1,
             "tickcolor": "rgb(36,36,36)",
             "ticks": "outside"
            },
            "colorscale": [
             [
              0,
              "#440154"
             ],
             [
              0.1111111111111111,
              "#482878"
             ],
             [
              0.2222222222222222,
              "#3e4989"
             ],
             [
              0.3333333333333333,
              "#31688e"
             ],
             [
              0.4444444444444444,
              "#26828e"
             ],
             [
              0.5555555555555556,
              "#1f9e89"
             ],
             [
              0.6666666666666666,
              "#35b779"
             ],
             [
              0.7777777777777778,
              "#6ece58"
             ],
             [
              0.8888888888888888,
              "#b5de2b"
             ],
             [
              1,
              "#fde725"
             ]
            ],
            "type": "heatmapgl"
           }
          ],
          "histogram": [
           {
            "marker": {
             "line": {
              "color": "white",
              "width": 0.6
             }
            },
            "type": "histogram"
           }
          ],
          "histogram2d": [
           {
            "colorbar": {
             "outlinewidth": 1,
             "tickcolor": "rgb(36,36,36)",
             "ticks": "outside"
            },
            "colorscale": [
             [
              0,
              "#440154"
             ],
             [
              0.1111111111111111,
              "#482878"
             ],
             [
              0.2222222222222222,
              "#3e4989"
             ],
             [
              0.3333333333333333,
              "#31688e"
             ],
             [
              0.4444444444444444,
              "#26828e"
             ],
             [
              0.5555555555555556,
              "#1f9e89"
             ],
             [
              0.6666666666666666,
              "#35b779"
             ],
             [
              0.7777777777777778,
              "#6ece58"
             ],
             [
              0.8888888888888888,
              "#b5de2b"
             ],
             [
              1,
              "#fde725"
             ]
            ],
            "type": "histogram2d"
           }
          ],
          "histogram2dcontour": [
           {
            "colorbar": {
             "outlinewidth": 1,
             "tickcolor": "rgb(36,36,36)",
             "ticks": "outside"
            },
            "colorscale": [
             [
              0,
              "#440154"
             ],
             [
              0.1111111111111111,
              "#482878"
             ],
             [
              0.2222222222222222,
              "#3e4989"
             ],
             [
              0.3333333333333333,
              "#31688e"
             ],
             [
              0.4444444444444444,
              "#26828e"
             ],
             [
              0.5555555555555556,
              "#1f9e89"
             ],
             [
              0.6666666666666666,
              "#35b779"
             ],
             [
              0.7777777777777778,
              "#6ece58"
             ],
             [
              0.8888888888888888,
              "#b5de2b"
             ],
             [
              1,
              "#fde725"
             ]
            ],
            "type": "histogram2dcontour"
           }
          ],
          "mesh3d": [
           {
            "colorbar": {
             "outlinewidth": 1,
             "tickcolor": "rgb(36,36,36)",
             "ticks": "outside"
            },
            "type": "mesh3d"
           }
          ],
          "parcoords": [
           {
            "line": {
             "colorbar": {
              "outlinewidth": 1,
              "tickcolor": "rgb(36,36,36)",
              "ticks": "outside"
             }
            },
            "type": "parcoords"
           }
          ],
          "pie": [
           {
            "automargin": true,
            "type": "pie"
           }
          ],
          "scatter": [
           {
            "fillpattern": {
             "fillmode": "overlay",
             "size": 10,
             "solidity": 0.2
            },
            "type": "scatter"
           }
          ],
          "scatter3d": [
           {
            "line": {
             "colorbar": {
              "outlinewidth": 1,
              "tickcolor": "rgb(36,36,36)",
              "ticks": "outside"
             }
            },
            "marker": {
             "colorbar": {
              "outlinewidth": 1,
              "tickcolor": "rgb(36,36,36)",
              "ticks": "outside"
             }
            },
            "type": "scatter3d"
           }
          ],
          "scattercarpet": [
           {
            "marker": {
             "colorbar": {
              "outlinewidth": 1,
              "tickcolor": "rgb(36,36,36)",
              "ticks": "outside"
             }
            },
            "type": "scattercarpet"
           }
          ],
          "scattergeo": [
           {
            "marker": {
             "colorbar": {
              "outlinewidth": 1,
              "tickcolor": "rgb(36,36,36)",
              "ticks": "outside"
             }
            },
            "type": "scattergeo"
           }
          ],
          "scattergl": [
           {
            "marker": {
             "colorbar": {
              "outlinewidth": 1,
              "tickcolor": "rgb(36,36,36)",
              "ticks": "outside"
             }
            },
            "type": "scattergl"
           }
          ],
          "scattermapbox": [
           {
            "marker": {
             "colorbar": {
              "outlinewidth": 1,
              "tickcolor": "rgb(36,36,36)",
              "ticks": "outside"
             }
            },
            "type": "scattermapbox"
           }
          ],
          "scatterpolar": [
           {
            "marker": {
             "colorbar": {
              "outlinewidth": 1,
              "tickcolor": "rgb(36,36,36)",
              "ticks": "outside"
             }
            },
            "type": "scatterpolar"
           }
          ],
          "scatterpolargl": [
           {
            "marker": {
             "colorbar": {
              "outlinewidth": 1,
              "tickcolor": "rgb(36,36,36)",
              "ticks": "outside"
             }
            },
            "type": "scatterpolargl"
           }
          ],
          "scatterternary": [
           {
            "marker": {
             "colorbar": {
              "outlinewidth": 1,
              "tickcolor": "rgb(36,36,36)",
              "ticks": "outside"
             }
            },
            "type": "scatterternary"
           }
          ],
          "surface": [
           {
            "colorbar": {
             "outlinewidth": 1,
             "tickcolor": "rgb(36,36,36)",
             "ticks": "outside"
            },
            "colorscale": [
             [
              0,
              "#440154"
             ],
             [
              0.1111111111111111,
              "#482878"
             ],
             [
              0.2222222222222222,
              "#3e4989"
             ],
             [
              0.3333333333333333,
              "#31688e"
             ],
             [
              0.4444444444444444,
              "#26828e"
             ],
             [
              0.5555555555555556,
              "#1f9e89"
             ],
             [
              0.6666666666666666,
              "#35b779"
             ],
             [
              0.7777777777777778,
              "#6ece58"
             ],
             [
              0.8888888888888888,
              "#b5de2b"
             ],
             [
              1,
              "#fde725"
             ]
            ],
            "type": "surface"
           }
          ],
          "table": [
           {
            "cells": {
             "fill": {
              "color": "rgb(237,237,237)"
             },
             "line": {
              "color": "white"
             }
            },
            "header": {
             "fill": {
              "color": "rgb(217,217,217)"
             },
             "line": {
              "color": "white"
             }
            },
            "type": "table"
           }
          ]
         },
         "layout": {
          "annotationdefaults": {
           "arrowhead": 0,
           "arrowwidth": 1
          },
          "autotypenumbers": "strict",
          "coloraxis": {
           "colorbar": {
            "outlinewidth": 1,
            "tickcolor": "rgb(36,36,36)",
            "ticks": "outside"
           }
          },
          "colorscale": {
           "diverging": [
            [
             0,
             "rgb(103,0,31)"
            ],
            [
             0.1,
             "rgb(178,24,43)"
            ],
            [
             0.2,
             "rgb(214,96,77)"
            ],
            [
             0.3,
             "rgb(244,165,130)"
            ],
            [
             0.4,
             "rgb(253,219,199)"
            ],
            [
             0.5,
             "rgb(247,247,247)"
            ],
            [
             0.6,
             "rgb(209,229,240)"
            ],
            [
             0.7,
             "rgb(146,197,222)"
            ],
            [
             0.8,
             "rgb(67,147,195)"
            ],
            [
             0.9,
             "rgb(33,102,172)"
            ],
            [
             1,
             "rgb(5,48,97)"
            ]
           ],
           "sequential": [
            [
             0,
             "#440154"
            ],
            [
             0.1111111111111111,
             "#482878"
            ],
            [
             0.2222222222222222,
             "#3e4989"
            ],
            [
             0.3333333333333333,
             "#31688e"
            ],
            [
             0.4444444444444444,
             "#26828e"
            ],
            [
             0.5555555555555556,
             "#1f9e89"
            ],
            [
             0.6666666666666666,
             "#35b779"
            ],
            [
             0.7777777777777778,
             "#6ece58"
            ],
            [
             0.8888888888888888,
             "#b5de2b"
            ],
            [
             1,
             "#fde725"
            ]
           ],
           "sequentialminus": [
            [
             0,
             "#440154"
            ],
            [
             0.1111111111111111,
             "#482878"
            ],
            [
             0.2222222222222222,
             "#3e4989"
            ],
            [
             0.3333333333333333,
             "#31688e"
            ],
            [
             0.4444444444444444,
             "#26828e"
            ],
            [
             0.5555555555555556,
             "#1f9e89"
            ],
            [
             0.6666666666666666,
             "#35b779"
            ],
            [
             0.7777777777777778,
             "#6ece58"
            ],
            [
             0.8888888888888888,
             "#b5de2b"
            ],
            [
             1,
             "#fde725"
            ]
           ]
          },
          "colorway": [
           "#1F77B4",
           "#FF7F0E",
           "#2CA02C",
           "#D62728",
           "#9467BD",
           "#8C564B",
           "#E377C2",
           "#7F7F7F",
           "#BCBD22",
           "#17BECF"
          ],
          "font": {
           "color": "rgb(36,36,36)"
          },
          "geo": {
           "bgcolor": "white",
           "lakecolor": "white",
           "landcolor": "white",
           "showlakes": true,
           "showland": true,
           "subunitcolor": "white"
          },
          "hoverlabel": {
           "align": "left"
          },
          "hovermode": "closest",
          "mapbox": {
           "style": "light"
          },
          "paper_bgcolor": "white",
          "plot_bgcolor": "white",
          "polar": {
           "angularaxis": {
            "gridcolor": "rgb(232,232,232)",
            "linecolor": "rgb(36,36,36)",
            "showgrid": false,
            "showline": true,
            "ticks": "outside"
           },
           "bgcolor": "white",
           "radialaxis": {
            "gridcolor": "rgb(232,232,232)",
            "linecolor": "rgb(36,36,36)",
            "showgrid": false,
            "showline": true,
            "ticks": "outside"
           }
          },
          "scene": {
           "xaxis": {
            "backgroundcolor": "white",
            "gridcolor": "rgb(232,232,232)",
            "gridwidth": 2,
            "linecolor": "rgb(36,36,36)",
            "showbackground": true,
            "showgrid": false,
            "showline": true,
            "ticks": "outside",
            "zeroline": false,
            "zerolinecolor": "rgb(36,36,36)"
           },
           "yaxis": {
            "backgroundcolor": "white",
            "gridcolor": "rgb(232,232,232)",
            "gridwidth": 2,
            "linecolor": "rgb(36,36,36)",
            "showbackground": true,
            "showgrid": false,
            "showline": true,
            "ticks": "outside",
            "zeroline": false,
            "zerolinecolor": "rgb(36,36,36)"
           },
           "zaxis": {
            "backgroundcolor": "white",
            "gridcolor": "rgb(232,232,232)",
            "gridwidth": 2,
            "linecolor": "rgb(36,36,36)",
            "showbackground": true,
            "showgrid": false,
            "showline": true,
            "ticks": "outside",
            "zeroline": false,
            "zerolinecolor": "rgb(36,36,36)"
           }
          },
          "shapedefaults": {
           "fillcolor": "black",
           "line": {
            "width": 0
           },
           "opacity": 0.3
          },
          "ternary": {
           "aaxis": {
            "gridcolor": "rgb(232,232,232)",
            "linecolor": "rgb(36,36,36)",
            "showgrid": false,
            "showline": true,
            "ticks": "outside"
           },
           "baxis": {
            "gridcolor": "rgb(232,232,232)",
            "linecolor": "rgb(36,36,36)",
            "showgrid": false,
            "showline": true,
            "ticks": "outside"
           },
           "bgcolor": "white",
           "caxis": {
            "gridcolor": "rgb(232,232,232)",
            "linecolor": "rgb(36,36,36)",
            "showgrid": false,
            "showline": true,
            "ticks": "outside"
           }
          },
          "title": {
           "x": 0.05
          },
          "xaxis": {
           "automargin": true,
           "gridcolor": "rgb(232,232,232)",
           "linecolor": "rgb(36,36,36)",
           "showgrid": false,
           "showline": true,
           "ticks": "outside",
           "title": {
            "standoff": 15
           },
           "zeroline": false,
           "zerolinecolor": "rgb(36,36,36)"
          },
          "yaxis": {
           "automargin": true,
           "gridcolor": "rgb(232,232,232)",
           "linecolor": "rgb(36,36,36)",
           "showgrid": false,
           "showline": true,
           "ticks": "outside",
           "title": {
            "standoff": 15
           },
           "zeroline": false,
           "zerolinecolor": "rgb(36,36,36)"
          }
         }
        },
        "title": {
         "text": "Shortest path found by the algorithm"
        },
        "xaxis": {
         "anchor": "y",
         "domain": [
          0,
          1
         ],
         "title": {
          "text": "x"
         },
         "visible": false,
         "zeroline": false
        },
        "yaxis": {
         "anchor": "x",
         "domain": [
          0,
          1
         ],
         "title": {
          "text": "y"
         },
         "visible": false,
         "zeroline": false
        }
       }
      }
     },
     "metadata": {},
     "output_type": "display_data"
    }
   ],
   "source": [
    "# Initialisation du dataframe\n",
    "data = init_random_df(nombre_de_villes)\n",
    "\n",
    "# Initialisation de la matrice des distances relatives\n",
    "mat_distance = matrice_distance(data)\n",
    "\n",
    "if choix_algo == 0:\n",
    "    chemin_initial, _, _ = src.algo_proche_voisin.plus_proche_voisin(\n",
    "        mat_distance)\n",
    "\n",
    "    # Lancement de l'algorithme 2-opt\n",
    "    df_res, _ = src.algo_2_opt.main(\n",
    "        mat_distance, chemin_initial)\n",
    "elif choix_algo == 1:\n",
    "    # Lancement de l'algorithme plus proche voisin\n",
    "    df_res, _ = src.algo_proche_voisin.main(mat_distance)\n",
    "elif choix_algo == 2:\n",
    "    # Lancement de l'algorithme génétique\n",
    "    df_res = src.algo_genetique.main(data, mat_distance)\n",
    "else:\n",
    "    # Lancement de l'algorithme de kohonen\n",
    "    df_res, _ = src.algo_kohonen.main(data, mat_distance)\n",
    "\n",
    "# La solution trouvée par l'algo choisi\n",
    "affichage(df_res, data).show()"
   ]
  }
 ],
 "metadata": {
  "kernelspec": {
   "display_name": "Python 3 (ipykernel)",
   "language": "python",
   "name": "python3"
  },
  "language_info": {
   "codemirror_mode": {
    "name": "ipython",
    "version": 3
   },
   "file_extension": ".py",
   "mimetype": "text/x-python",
   "name": "python",
   "nbconvert_exporter": "python",
   "pygments_lexer": "ipython3",
   "version": "3.11.0"
  },
  "vscode": {
   "interpreter": {
    "hash": "d667af14c94c865b46724da933a850b3d564154870f60130309ecd5dd505f9ea"
   }
  }
 },
 "nbformat": 4,
 "nbformat_minor": 4
}
